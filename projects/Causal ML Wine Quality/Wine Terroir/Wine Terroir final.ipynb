{
 "cells": [
  {
   "cell_type": "markdown",
   "id": "4ce6c0b3",
   "metadata": {},
   "source": [
    "# Analysis on Wine Terroir\n",
    "\n",
    "**Andrew Lemke**\n",
    "\n",
    "**Causal Machine Learning Summer 2022**"
   ]
  },
  {
   "cell_type": "code",
   "execution_count": 1,
   "id": "0f9cdcf7",
   "metadata": {},
   "outputs": [],
   "source": [
    "# data processing\n",
    "import pandas as pd\n",
    "import numpy as np\n",
    "import re\n",
    "import math\n",
    "import scipy.stats\n",
    "from scipy import stats\n",
    "\n",
    "# causal modeling\n",
    "import dowhy\n",
    "from dowhy import CausalModel\n",
    "from dowhy import gcm\n",
    "\n",
    "# making and drawing graphs\n",
    "import graphviz\n",
    "import networkx as nx\n",
    "import matplotlib.pyplot as plt\n",
    "\n",
    "# double ml estimation\n",
    "import econml\n",
    "from sklearn.preprocessing import PolynomialFeatures\n",
    "from sklearn.linear_model import LassoCV\n",
    "from sklearn.ensemble import GradientBoostingRegressor\n",
    "\n",
    "\n",
    "from sklearn.ensemble import RandomForestRegressor,RandomForestClassifier"
   ]
  },
  {
   "cell_type": "markdown",
   "id": "b3adb44a",
   "metadata": {},
   "source": [
    "## Wine Terroir\n",
    "\n",
    "Terroir (tear - waar) is the word in winemaking to describe the conditions that surround the grapes. There's a reason why places like California and Argentina make wine and Kansas and Colombia don't. Many factors contribute to depthless complexity of wine--soil, sunlight, temperature range, growing and pruning practices.\n",
    "\n",
    "The data available includes information from the region of production, the weather, scientific measures of the wine, an expert assigned recommendation level, and a description of the tasting qualities of the wine, which indicates if a wine is flat or not. \n",
    "\n",
    "This dataset also contains records for the fixed and volatile acidity in the wines. Fixed acidity comes from the grapes and the way they are grown, volatile acidity is a product of the production. Both have an effect on the wine's taste and thus its quality.\n",
    "\n",
    "**The Causal Question:  What will be the change in expected value for the wine's recommendation if we intervene on the fixed acid?**\n"
   ]
  },
  {
   "cell_type": "markdown",
   "id": "55aeeb2e",
   "metadata": {},
   "source": [
    "## Data\n",
    "\n",
    "The data processing was performed in another notebook. Consult the data processing if you wish, but it is not necessary. Here, we load the pickled processed dataframe.\n",
    "\n",
    "\n"
   ]
  },
  {
   "cell_type": "code",
   "execution_count": 2,
   "id": "3db3765e",
   "metadata": {},
   "outputs": [],
   "source": [
    "data = pd.read_pickle(r'../data/processed_wine_terroir.pickle')"
   ]
  },
  {
   "cell_type": "code",
   "execution_count": 3,
   "id": "c3c1f923",
   "metadata": {},
   "outputs": [
    {
     "data": {
      "text/html": [
       "<div>\n",
       "<style scoped>\n",
       "    .dataframe tbody tr th:only-of-type {\n",
       "        vertical-align: middle;\n",
       "    }\n",
       "\n",
       "    .dataframe tbody tr th {\n",
       "        vertical-align: top;\n",
       "    }\n",
       "\n",
       "    .dataframe thead th {\n",
       "        text-align: right;\n",
       "    }\n",
       "</style>\n",
       "<table border=\"1\" class=\"dataframe\">\n",
       "  <thead>\n",
       "    <tr style=\"text-align: right;\">\n",
       "      <th></th>\n",
       "      <th>Table.No.</th>\n",
       "      <th>Cultivar</th>\n",
       "      <th>Color</th>\n",
       "      <th>Recommend</th>\n",
       "      <th>Reg</th>\n",
       "      <th>Harvest date</th>\n",
       "      <th>Brix</th>\n",
       "      <th>Must.Tacid</th>\n",
       "      <th>pH</th>\n",
       "      <th>Alcohol</th>\n",
       "      <th>...</th>\n",
       "      <th>RegionYearKey</th>\n",
       "      <th>Year</th>\n",
       "      <th>GST</th>\n",
       "      <th>WI</th>\n",
       "      <th>HI</th>\n",
       "      <th>Vacid</th>\n",
       "      <th>Flat</th>\n",
       "      <th>RecommendNum</th>\n",
       "      <th>Outsider</th>\n",
       "      <th>RegNum</th>\n",
       "    </tr>\n",
       "  </thead>\n",
       "  <tbody>\n",
       "    <tr>\n",
       "      <th>0</th>\n",
       "      <td>9</td>\n",
       "      <td>Chardony</td>\n",
       "      <td>White</td>\n",
       "      <td>Particularly recommended</td>\n",
       "      <td>3</td>\n",
       "      <td>1936-09-08</td>\n",
       "      <td>27.2</td>\n",
       "      <td>0.54</td>\n",
       "      <td>3.88</td>\n",
       "      <td>15.6</td>\n",
       "      <td>...</td>\n",
       "      <td>(3, 1936)</td>\n",
       "      <td>1936.0</td>\n",
       "      <td>19.786041</td>\n",
       "      <td>2094.212862</td>\n",
       "      <td>1863.399599</td>\n",
       "      <td>0.12</td>\n",
       "      <td>0</td>\n",
       "      <td>3</td>\n",
       "      <td>0</td>\n",
       "      <td>3</td>\n",
       "    </tr>\n",
       "    <tr>\n",
       "      <th>1</th>\n",
       "      <td>9</td>\n",
       "      <td>Chardony</td>\n",
       "      <td>White</td>\n",
       "      <td>Particularly recommended</td>\n",
       "      <td>1</td>\n",
       "      <td>1937-10-01</td>\n",
       "      <td>22.1</td>\n",
       "      <td>0.72</td>\n",
       "      <td>3.38</td>\n",
       "      <td>12.0</td>\n",
       "      <td>...</td>\n",
       "      <td>(1, 1937)</td>\n",
       "      <td>1937.0</td>\n",
       "      <td>17.749533</td>\n",
       "      <td>1659.250000</td>\n",
       "      <td>1442.339476</td>\n",
       "      <td>0.20</td>\n",
       "      <td>0</td>\n",
       "      <td>3</td>\n",
       "      <td>0</td>\n",
       "      <td>1</td>\n",
       "    </tr>\n",
       "    <tr>\n",
       "      <th>2</th>\n",
       "      <td>9</td>\n",
       "      <td>Chardony</td>\n",
       "      <td>White</td>\n",
       "      <td>Particularly recommended</td>\n",
       "      <td>3</td>\n",
       "      <td>1937-09-11</td>\n",
       "      <td>24.6</td>\n",
       "      <td>0.63</td>\n",
       "      <td>3.69</td>\n",
       "      <td>12.8</td>\n",
       "      <td>...</td>\n",
       "      <td>(3, 1937)</td>\n",
       "      <td>1937.0</td>\n",
       "      <td>19.207009</td>\n",
       "      <td>1970.550000</td>\n",
       "      <td>1746.845970</td>\n",
       "      <td>0.14</td>\n",
       "      <td>1</td>\n",
       "      <td>3</td>\n",
       "      <td>0</td>\n",
       "      <td>3</td>\n",
       "    </tr>\n",
       "    <tr>\n",
       "      <th>3</th>\n",
       "      <td>9</td>\n",
       "      <td>Chardony</td>\n",
       "      <td>White</td>\n",
       "      <td>Particularly recommended</td>\n",
       "      <td>1</td>\n",
       "      <td>1938-09-14</td>\n",
       "      <td>19.8</td>\n",
       "      <td>0.78</td>\n",
       "      <td>3.19</td>\n",
       "      <td>10.5</td>\n",
       "      <td>...</td>\n",
       "      <td>(1, 1938)</td>\n",
       "      <td>1938.0</td>\n",
       "      <td>16.971930</td>\n",
       "      <td>1492.843091</td>\n",
       "      <td>1320.823747</td>\n",
       "      <td>0.10</td>\n",
       "      <td>0</td>\n",
       "      <td>3</td>\n",
       "      <td>0</td>\n",
       "      <td>1</td>\n",
       "    </tr>\n",
       "    <tr>\n",
       "      <th>4</th>\n",
       "      <td>9</td>\n",
       "      <td>Chardony</td>\n",
       "      <td>White</td>\n",
       "      <td>Particularly recommended</td>\n",
       "      <td>3</td>\n",
       "      <td>1938-09-25</td>\n",
       "      <td>25.2</td>\n",
       "      <td>0.62</td>\n",
       "      <td>3.34</td>\n",
       "      <td>14.8</td>\n",
       "      <td>...</td>\n",
       "      <td>(3, 1938)</td>\n",
       "      <td>1938.0</td>\n",
       "      <td>18.348832</td>\n",
       "      <td>1788.550000</td>\n",
       "      <td>1635.055914</td>\n",
       "      <td>0.03</td>\n",
       "      <td>0</td>\n",
       "      <td>3</td>\n",
       "      <td>0</td>\n",
       "      <td>3</td>\n",
       "    </tr>\n",
       "  </tbody>\n",
       "</table>\n",
       "<p>5 rows × 23 columns</p>\n",
       "</div>"
      ],
      "text/plain": [
       "   Table.No.  Cultivar  Color                 Recommend Reg Harvest date  \\\n",
       "0          9  Chardony  White  Particularly recommended   3   1936-09-08   \n",
       "1          9  Chardony  White  Particularly recommended   1   1937-10-01   \n",
       "2          9  Chardony  White  Particularly recommended   3   1937-09-11   \n",
       "3          9  Chardony  White  Particularly recommended   1   1938-09-14   \n",
       "4          9  Chardony  White  Particularly recommended   3   1938-09-25   \n",
       "\n",
       "   Brix  Must.Tacid    pH  Alcohol  ...  RegionYearKey    Year        GST  \\\n",
       "0  27.2        0.54  3.88     15.6  ...      (3, 1936)  1936.0  19.786041   \n",
       "1  22.1        0.72  3.38     12.0  ...      (1, 1937)  1937.0  17.749533   \n",
       "2  24.6        0.63  3.69     12.8  ...      (3, 1937)  1937.0  19.207009   \n",
       "3  19.8        0.78  3.19     10.5  ...      (1, 1938)  1938.0  16.971930   \n",
       "4  25.2        0.62  3.34     14.8  ...      (3, 1938)  1938.0  18.348832   \n",
       "\n",
       "            WI           HI  Vacid  Flat  RecommendNum  Outsider  RegNum  \n",
       "0  2094.212862  1863.399599   0.12     0             3         0       3  \n",
       "1  1659.250000  1442.339476   0.20     0             3         0       1  \n",
       "2  1970.550000  1746.845970   0.14     1             3         0       3  \n",
       "3  1492.843091  1320.823747   0.10     0             3         0       1  \n",
       "4  1788.550000  1635.055914   0.03     0             3         0       3  \n",
       "\n",
       "[5 rows x 23 columns]"
      ]
     },
     "execution_count": 3,
     "metadata": {},
     "output_type": "execute_result"
    }
   ],
   "source": [
    "data.head()"
   ]
  },
  {
   "cell_type": "code",
   "execution_count": 4,
   "id": "01eb0321",
   "metadata": {},
   "outputs": [
    {
     "name": "stdout",
     "output_type": "stream",
     "text": [
      "1055\n"
     ]
    }
   ],
   "source": [
    "n = len(data)\n",
    "print(n)"
   ]
  },
  {
   "cell_type": "markdown",
   "id": "62eb4d85",
   "metadata": {},
   "source": [
    "## Model\n",
    "\n",
    "The three weather indices cover the same information, the temperature. We will select just the Huglin Index to represent this variable.\n",
    "\n",
    "\n"
   ]
  },
  {
   "cell_type": "code",
   "execution_count": 5,
   "id": "447d437a",
   "metadata": {},
   "outputs": [
    {
     "data": {
      "image/svg+xml": [
       "<?xml version=\"1.0\" encoding=\"UTF-8\" standalone=\"no\"?>\r\n",
       "<!DOCTYPE svg PUBLIC \"-//W3C//DTD SVG 1.1//EN\"\r\n",
       " \"http://www.w3.org/Graphics/SVG/1.1/DTD/svg11.dtd\">\r\n",
       "<!-- Generated by graphviz version 2.50.0 (0)\r\n",
       " -->\r\n",
       "<!-- Title: DAG Pages: 1 -->\r\n",
       "<svg width=\"479pt\" height=\"332pt\"\r\n",
       " viewBox=\"0.00 0.00 478.72 332.00\" xmlns=\"http://www.w3.org/2000/svg\" xmlns:xlink=\"http://www.w3.org/1999/xlink\">\r\n",
       "<g id=\"graph0\" class=\"graph\" transform=\"scale(1 1) rotate(0) translate(4 328)\">\r\n",
       "<title>DAG</title>\r\n",
       "<polygon fill=\"white\" stroke=\"transparent\" points=\"-4,4 -4,-328 474.72,-328 474.72,4 -4,4\"/>\r\n",
       "<!-- Cultivar -->\r\n",
       "<g id=\"node1\" class=\"node\">\r\n",
       "<title>Cultivar</title>\r\n",
       "<ellipse fill=\"none\" stroke=\"black\" cx=\"65.82\" cy=\"-234\" rx=\"39.79\" ry=\"18\"/>\r\n",
       "<text text-anchor=\"middle\" x=\"65.82\" y=\"-230.3\" font-family=\"Times New Roman,serif\" font-size=\"14.00\">Cultivar</text>\r\n",
       "</g>\r\n",
       "<!-- RecommendNum -->\r\n",
       "<g id=\"node2\" class=\"node\">\r\n",
       "<title>RecommendNum</title>\r\n",
       "<ellipse fill=\"none\" stroke=\"black\" cx=\"214.82\" cy=\"-18\" rx=\"97.48\" ry=\"18\"/>\r\n",
       "<text text-anchor=\"middle\" x=\"214.82\" y=\"-14.3\" font-family=\"Times New Roman,serif\" font-size=\"14.00\">Recommendation Status</text>\r\n",
       "</g>\r\n",
       "<!-- Cultivar&#45;&gt;RecommendNum -->\r\n",
       "<g id=\"edge9\" class=\"edge\">\r\n",
       "<title>Cultivar&#45;&gt;RecommendNum</title>\r\n",
       "<path fill=\"none\" stroke=\"black\" d=\"M47.07,-217.96C36.63,-208.34 24.6,-194.91 18.82,-180 1.48,-135.24 -11.38,-110.1 17.82,-72 31.95,-53.56 83.32,-40.11 130.06,-31.37\"/>\r\n",
       "<polygon fill=\"black\" stroke=\"black\" points=\"130.73,-34.8 139.95,-29.57 129.48,-27.91 130.73,-34.8\"/>\r\n",
       "</g>\r\n",
       "<!-- Facid -->\r\n",
       "<g id=\"node5\" class=\"node\">\r\n",
       "<title>Facid</title>\r\n",
       "<ellipse fill=\"none\" stroke=\"black\" cx=\"164.82\" cy=\"-162\" rx=\"50.09\" ry=\"18\"/>\r\n",
       "<text text-anchor=\"middle\" x=\"164.82\" y=\"-158.3\" font-family=\"Times New Roman,serif\" font-size=\"14.00\">Fixed Acid</text>\r\n",
       "</g>\r\n",
       "<!-- Cultivar&#45;&gt;Facid -->\r\n",
       "<g id=\"edge8\" class=\"edge\">\r\n",
       "<title>Cultivar&#45;&gt;Facid</title>\r\n",
       "<path fill=\"none\" stroke=\"black\" d=\"M86.33,-218.5C100.29,-208.63 118.99,-195.41 134.63,-184.35\"/>\r\n",
       "<polygon fill=\"black\" stroke=\"black\" points=\"136.82,-187.09 142.96,-178.46 132.78,-181.37 136.82,-187.09\"/>\r\n",
       "</g>\r\n",
       "<!-- Alcohol -->\r\n",
       "<g id=\"node7\" class=\"node\">\r\n",
       "<title>Alcohol</title>\r\n",
       "<ellipse fill=\"none\" stroke=\"black\" cx=\"65.82\" cy=\"-90\" rx=\"38.99\" ry=\"18\"/>\r\n",
       "<text text-anchor=\"middle\" x=\"65.82\" y=\"-86.3\" font-family=\"Times New Roman,serif\" font-size=\"14.00\">Alcohol</text>\r\n",
       "</g>\r\n",
       "<!-- Cultivar&#45;&gt;Alcohol -->\r\n",
       "<g id=\"edge10\" class=\"edge\">\r\n",
       "<title>Cultivar&#45;&gt;Alcohol</title>\r\n",
       "<path fill=\"none\" stroke=\"black\" d=\"M49.75,-217.45C40.82,-207.66 30.58,-194.21 25.82,-180 20.74,-164.83 20.74,-159.17 25.82,-144 29.43,-133.23 36.18,-122.9 43.13,-114.27\"/>\r\n",
       "<polygon fill=\"black\" stroke=\"black\" points=\"45.89,-116.42 49.75,-106.55 40.58,-111.86 45.89,-116.42\"/>\r\n",
       "</g>\r\n",
       "<!-- Brix -->\r\n",
       "<g id=\"node8\" class=\"node\">\r\n",
       "<title>Brix</title>\r\n",
       "<ellipse fill=\"none\" stroke=\"black\" cx=\"65.82\" cy=\"-162\" rx=\"31.4\" ry=\"18\"/>\r\n",
       "<text text-anchor=\"middle\" x=\"65.82\" y=\"-158.3\" font-family=\"Times New Roman,serif\" font-size=\"14.00\">Sugar</text>\r\n",
       "</g>\r\n",
       "<!-- Cultivar&#45;&gt;Brix -->\r\n",
       "<g id=\"edge12\" class=\"edge\">\r\n",
       "<title>Cultivar&#45;&gt;Brix</title>\r\n",
       "<path fill=\"none\" stroke=\"black\" d=\"M65.82,-215.7C65.82,-207.98 65.82,-198.71 65.82,-190.11\"/>\r\n",
       "<polygon fill=\"black\" stroke=\"black\" points=\"69.32,-190.1 65.82,-180.1 62.32,-190.1 69.32,-190.1\"/>\r\n",
       "</g>\r\n",
       "<!-- Tannin -->\r\n",
       "<g id=\"node9\" class=\"node\">\r\n",
       "<title>Tannin</title>\r\n",
       "<ellipse fill=\"none\" stroke=\"black\" cx=\"267.82\" cy=\"-162\" rx=\"35.19\" ry=\"18\"/>\r\n",
       "<text text-anchor=\"middle\" x=\"267.82\" y=\"-158.3\" font-family=\"Times New Roman,serif\" font-size=\"14.00\">Tannin</text>\r\n",
       "</g>\r\n",
       "<!-- Cultivar&#45;&gt;Tannin -->\r\n",
       "<g id=\"edge7\" class=\"edge\">\r\n",
       "<title>Cultivar&#45;&gt;Tannin</title>\r\n",
       "<path fill=\"none\" stroke=\"black\" d=\"M96.38,-222.32C102.48,-220.21 108.85,-218.02 114.82,-216 163.14,-199.64 175.79,-197.2 223.82,-180 226.34,-179.1 228.93,-178.15 231.53,-177.18\"/>\r\n",
       "<polygon fill=\"black\" stroke=\"black\" points=\"232.79,-180.45 240.91,-173.64 230.32,-173.9 232.79,-180.45\"/>\r\n",
       "</g>\r\n",
       "<!-- RegNum -->\r\n",
       "<g id=\"node3\" class=\"node\">\r\n",
       "<title>RegNum</title>\r\n",
       "<ellipse fill=\"none\" stroke=\"black\" cx=\"267.82\" cy=\"-306\" rx=\"36.29\" ry=\"18\"/>\r\n",
       "<text text-anchor=\"middle\" x=\"267.82\" y=\"-302.3\" font-family=\"Times New Roman,serif\" font-size=\"14.00\">Region</text>\r\n",
       "</g>\r\n",
       "<!-- RegNum&#45;&gt;RecommendNum -->\r\n",
       "<g id=\"edge21\" class=\"edge\">\r\n",
       "<title>RegNum&#45;&gt;RecommendNum</title>\r\n",
       "<path fill=\"none\" stroke=\"black\" d=\"M278.64,-288.8C296.78,-259.54 329.66,-196.09 311.82,-144 297.93,-103.43 264.91,-65.86 241.26,-42.71\"/>\r\n",
       "<polygon fill=\"black\" stroke=\"black\" points=\"243.59,-40.1 233.94,-35.72 238.75,-45.16 243.59,-40.1\"/>\r\n",
       "</g>\r\n",
       "<!-- HI -->\r\n",
       "<g id=\"node4\" class=\"node\">\r\n",
       "<title>HI</title>\r\n",
       "<ellipse fill=\"none\" stroke=\"black\" cx=\"181.82\" cy=\"-234\" rx=\"57.69\" ry=\"18\"/>\r\n",
       "<text text-anchor=\"middle\" x=\"181.82\" y=\"-230.3\" font-family=\"Times New Roman,serif\" font-size=\"14.00\">Huglin Index</text>\r\n",
       "</g>\r\n",
       "<!-- RegNum&#45;&gt;HI -->\r\n",
       "<g id=\"edge1\" class=\"edge\">\r\n",
       "<title>RegNum&#45;&gt;HI</title>\r\n",
       "<path fill=\"none\" stroke=\"black\" d=\"M249.58,-290.15C237.9,-280.65 222.53,-268.14 209.38,-257.43\"/>\r\n",
       "<polygon fill=\"black\" stroke=\"black\" points=\"211.5,-254.64 201.53,-251.04 207.08,-260.07 211.5,-254.64\"/>\r\n",
       "</g>\r\n",
       "<!-- RegNum&#45;&gt;Tannin -->\r\n",
       "<g id=\"edge2\" class=\"edge\">\r\n",
       "<title>RegNum&#45;&gt;Tannin</title>\r\n",
       "<path fill=\"none\" stroke=\"black\" d=\"M267.82,-287.87C267.82,-263.67 267.82,-219.21 267.82,-190.39\"/>\r\n",
       "<polygon fill=\"black\" stroke=\"black\" points=\"271.32,-190.19 267.82,-180.19 264.32,-190.19 271.32,-190.19\"/>\r\n",
       "</g>\r\n",
       "<!-- HI&#45;&gt;Facid -->\r\n",
       "<g id=\"edge4\" class=\"edge\">\r\n",
       "<title>HI&#45;&gt;Facid</title>\r\n",
       "<path fill=\"none\" stroke=\"black\" d=\"M177.62,-215.7C175.72,-207.9 173.44,-198.51 171.34,-189.83\"/>\r\n",
       "<polygon fill=\"black\" stroke=\"black\" points=\"174.74,-189 168.97,-180.1 167.93,-190.65 174.74,-189\"/>\r\n",
       "</g>\r\n",
       "<!-- HI&#45;&gt;Brix -->\r\n",
       "<g id=\"edge14\" class=\"edge\">\r\n",
       "<title>HI&#45;&gt;Brix</title>\r\n",
       "<path fill=\"none\" stroke=\"black\" d=\"M156.36,-217.64C138.37,-206.78 114.19,-192.19 95.35,-180.82\"/>\r\n",
       "<polygon fill=\"black\" stroke=\"black\" points=\"96.95,-177.69 86.58,-175.52 93.33,-183.69 96.95,-177.69\"/>\r\n",
       "</g>\r\n",
       "<!-- HI&#45;&gt;Tannin -->\r\n",
       "<g id=\"edge20\" class=\"edge\">\r\n",
       "<title>HI&#45;&gt;Tannin</title>\r\n",
       "<path fill=\"none\" stroke=\"black\" d=\"M201.77,-216.76C213.65,-207.09 228.87,-194.7 241.71,-184.25\"/>\r\n",
       "<polygon fill=\"black\" stroke=\"black\" points=\"244.19,-186.74 249.74,-177.72 239.78,-181.32 244.19,-186.74\"/>\r\n",
       "</g>\r\n",
       "<!-- Facid&#45;&gt;RecommendNum -->\r\n",
       "<g id=\"edge3\" class=\"edge\">\r\n",
       "<title>Facid&#45;&gt;RecommendNum</title>\r\n",
       "<path fill=\"none\" stroke=\"black\" d=\"M170.85,-143.87C179.45,-119.46 195.3,-74.43 205.44,-45.64\"/>\r\n",
       "<polygon fill=\"black\" stroke=\"black\" points=\"208.75,-46.78 208.77,-36.19 202.15,-44.46 208.75,-46.78\"/>\r\n",
       "</g>\r\n",
       "<!-- pH -->\r\n",
       "<g id=\"node11\" class=\"node\">\r\n",
       "<title>pH</title>\r\n",
       "<ellipse fill=\"none\" stroke=\"black\" cx=\"362.82\" cy=\"-90\" rx=\"27\" ry=\"18\"/>\r\n",
       "<text text-anchor=\"middle\" x=\"362.82\" y=\"-86.3\" font-family=\"Times New Roman,serif\" font-size=\"14.00\">pH</text>\r\n",
       "</g>\r\n",
       "<!-- Facid&#45;&gt;pH -->\r\n",
       "<g id=\"edge16\" class=\"edge\">\r\n",
       "<title>Facid&#45;&gt;pH</title>\r\n",
       "<path fill=\"none\" stroke=\"black\" d=\"M199.31,-148.81C236.07,-135.81 293.86,-115.38 329.98,-102.61\"/>\r\n",
       "<polygon fill=\"black\" stroke=\"black\" points=\"331.29,-105.86 339.56,-99.22 328.96,-99.26 331.29,-105.86\"/>\r\n",
       "</g>\r\n",
       "<!-- Vacid -->\r\n",
       "<g id=\"node6\" class=\"node\">\r\n",
       "<title>Vacid</title>\r\n",
       "<ellipse fill=\"none\" stroke=\"black\" cx=\"414.82\" cy=\"-162\" rx=\"55.79\" ry=\"18\"/>\r\n",
       "<text text-anchor=\"middle\" x=\"414.82\" y=\"-158.3\" font-family=\"Times New Roman,serif\" font-size=\"14.00\">Volitile Acid</text>\r\n",
       "</g>\r\n",
       "<!-- Vacid&#45;&gt;RecommendNum -->\r\n",
       "<g id=\"edge5\" class=\"edge\">\r\n",
       "<title>Vacid&#45;&gt;RecommendNum</title>\r\n",
       "<path fill=\"none\" stroke=\"black\" d=\"M416.69,-143.97C417.87,-124.18 416.6,-91.7 398.82,-72 384.25,-55.86 336.53,-42.37 293.34,-33.05\"/>\r\n",
       "<polygon fill=\"black\" stroke=\"black\" points=\"293.86,-29.58 283.35,-30.94 292.41,-36.43 293.86,-29.58\"/>\r\n",
       "</g>\r\n",
       "<!-- Vacid&#45;&gt;pH -->\r\n",
       "<g id=\"edge17\" class=\"edge\">\r\n",
       "<title>Vacid&#45;&gt;pH</title>\r\n",
       "<path fill=\"none\" stroke=\"black\" d=\"M402.5,-144.41C395.9,-135.53 387.66,-124.44 380.4,-114.67\"/>\r\n",
       "<polygon fill=\"black\" stroke=\"black\" points=\"383.12,-112.45 374.34,-106.51 377.5,-116.63 383.12,-112.45\"/>\r\n",
       "</g>\r\n",
       "<!-- Alcohol&#45;&gt;RecommendNum -->\r\n",
       "<g id=\"edge11\" class=\"edge\">\r\n",
       "<title>Alcohol&#45;&gt;RecommendNum</title>\r\n",
       "<path fill=\"none\" stroke=\"black\" d=\"M92.12,-76.65C114.14,-66.3 146.02,-51.32 171.76,-39.23\"/>\r\n",
       "<polygon fill=\"black\" stroke=\"black\" points=\"173.37,-42.34 180.93,-34.92 170.4,-36 173.37,-42.34\"/>\r\n",
       "</g>\r\n",
       "<!-- Brix&#45;&gt;RecommendNum -->\r\n",
       "<g id=\"edge13\" class=\"edge\">\r\n",
       "<title>Brix&#45;&gt;RecommendNum</title>\r\n",
       "<path fill=\"none\" stroke=\"black\" d=\"M81.21,-146.34C106.84,-121.91 158.54,-72.64 189.58,-43.06\"/>\r\n",
       "<polygon fill=\"black\" stroke=\"black\" points=\"192.17,-45.42 196.99,-35.99 187.34,-40.35 192.17,-45.42\"/>\r\n",
       "</g>\r\n",
       "<!-- Brix&#45;&gt;Alcohol -->\r\n",
       "<g id=\"edge15\" class=\"edge\">\r\n",
       "<title>Brix&#45;&gt;Alcohol</title>\r\n",
       "<path fill=\"none\" stroke=\"black\" d=\"M65.82,-143.7C65.82,-135.98 65.82,-126.71 65.82,-118.11\"/>\r\n",
       "<polygon fill=\"black\" stroke=\"black\" points=\"69.32,-118.1 65.82,-108.1 62.32,-118.1 69.32,-118.1\"/>\r\n",
       "</g>\r\n",
       "<!-- Tannin&#45;&gt;RecommendNum -->\r\n",
       "<g id=\"edge6\" class=\"edge\">\r\n",
       "<title>Tannin&#45;&gt;RecommendNum</title>\r\n",
       "<path fill=\"none\" stroke=\"black\" d=\"M261.53,-144.15C252.46,-119.84 235.6,-74.66 224.81,-45.75\"/>\r\n",
       "<polygon fill=\"black\" stroke=\"black\" points=\"228.04,-44.41 221.27,-36.27 221.48,-46.86 228.04,-44.41\"/>\r\n",
       "</g>\r\n",
       "<!-- Flat -->\r\n",
       "<g id=\"node10\" class=\"node\">\r\n",
       "<title>Flat</title>\r\n",
       "<ellipse fill=\"none\" stroke=\"black\" cx=\"362.82\" cy=\"-18\" rx=\"27\" ry=\"18\"/>\r\n",
       "<text text-anchor=\"middle\" x=\"362.82\" y=\"-14.3\" font-family=\"Times New Roman,serif\" font-size=\"14.00\">Flat</text>\r\n",
       "</g>\r\n",
       "<!-- pH&#45;&gt;RecommendNum -->\r\n",
       "<g id=\"edge18\" class=\"edge\">\r\n",
       "<title>pH&#45;&gt;RecommendNum</title>\r\n",
       "<path fill=\"none\" stroke=\"black\" d=\"M341.3,-78.82C319.57,-68.54 285.4,-52.38 258.05,-39.45\"/>\r\n",
       "<polygon fill=\"black\" stroke=\"black\" points=\"259.23,-36.13 248.7,-35.02 256.24,-42.46 259.23,-36.13\"/>\r\n",
       "</g>\r\n",
       "<!-- pH&#45;&gt;Flat -->\r\n",
       "<g id=\"edge19\" class=\"edge\">\r\n",
       "<title>pH&#45;&gt;Flat</title>\r\n",
       "<path fill=\"none\" stroke=\"black\" d=\"M362.82,-71.7C362.82,-63.98 362.82,-54.71 362.82,-46.11\"/>\r\n",
       "<polygon fill=\"black\" stroke=\"black\" points=\"366.32,-46.1 362.82,-36.1 359.32,-46.1 366.32,-46.1\"/>\r\n",
       "</g>\r\n",
       "</g>\r\n",
       "</svg>\r\n"
      ],
      "text/plain": [
       "<graphviz.dot.Digraph at 0x281ea0a5310>"
      ]
     },
     "execution_count": 5,
     "metadata": {},
     "output_type": "execute_result"
    }
   ],
   "source": [
    "dot_bin = graphviz.Digraph('DAG')\n",
    "\n",
    "dot_bin.node('Cultivar')\n",
    "dot_bin.node('RecommendNum', 'Recommendation Status')\n",
    "dot_bin.node('RegNum', 'Region')\n",
    "#dot_bin.node('GST', 'Growing Ssn Avg Temp')\n",
    "#dot_bin.node('WI', 'Winkler Index')\n",
    "dot_bin.node('HI', 'Huglin Index')\n",
    "dot_bin.node('Facid', 'Fixed Acid')\n",
    "dot_bin.node('Vacid', 'Volitile Acid')\n",
    "dot_bin.node('Alcohol')\n",
    "dot_bin.node('Brix', 'Sugar')\n",
    "#dot.node('Extract')  # not relivant for taste\n",
    "dot_bin.node('Tannin')\n",
    "dot_bin.node('Flat')\n",
    "dot_bin.node('pH')\n",
    "\n",
    "\n",
    "dot_bin.edges([\n",
    "           #('RegNum', 'GST'),\n",
    "           #('RegNum', 'WI'), \n",
    "           ('RegNum', 'HI'),\n",
    "           ('RegNum', 'Tannin'),\n",
    "           ('Facid', 'RecommendNum'), \n",
    "           #('WI', 'Vacid'),\n",
    "           #('GST', 'Vacid'), \n",
    "           ('HI', 'Facid'),\n",
    "           ('Vacid', 'RecommendNum'),\n",
    "           ('Tannin', 'RecommendNum'), \n",
    "           ('Cultivar', 'Tannin'),\n",
    "           ('Cultivar', 'Facid'), \n",
    "           ('Cultivar', 'RecommendNum'),\n",
    "           ('Cultivar', 'Alcohol'),\n",
    "           ('Alcohol', 'RecommendNum'), \n",
    "           ('Cultivar', 'Brix'), \n",
    "           ('Brix', 'RecommendNum'),\n",
    "           #('WI', 'Brix'),\n",
    "           #('GST', 'Brix'), \n",
    "           ('HI', 'Brix'),\n",
    "           ('Brix', 'Alcohol'),\n",
    "           ('Facid', 'pH'),\n",
    "           ('Vacid', 'pH'),\n",
    "           ('pH', 'RecommendNum'),\n",
    "           ('pH', 'Flat'),\n",
    "           #('WI', 'Tannin'),\n",
    "           #('GST', 'Tannin'), \n",
    "           ('HI', 'Tannin'),\n",
    "           ('RegNum', 'RecommendNum')\n",
    "           ])\n",
    "\n",
    "dot_bin"
   ]
  },
  {
   "cell_type": "markdown",
   "id": "e0397da9",
   "metadata": {},
   "source": [
    "DoWhy's causal model takes in a modified dot format. The from the text of the source, \"DAG\" needs to be removed. In addition, all newlines need to be replaced with semicolons except for the newline after the opening brace. Tabs must be removed too."
   ]
  },
  {
   "cell_type": "code",
   "execution_count": 6,
   "id": "69baf94e",
   "metadata": {},
   "outputs": [],
   "source": [
    "modified_dot_bin = dot_bin.source.replace(' DAG', '').replace('\\n', ';').replace('\\t', '').replace('{;C', '{C')"
   ]
  },
  {
   "cell_type": "code",
   "execution_count": 7,
   "id": "d9398d7d",
   "metadata": {},
   "outputs": [],
   "source": [
    "# simplify data by removing unneeded columns\n",
    "roots = ['Cultivar', 'RegNum']\n",
    "non_roots = ['RecommendNum', 'Flat', 'Brix', 'pH', 'Alcohol', 'Facid', 'Vacid', 'Tannin', 'HI']\n",
    "data_for_model = data[roots + non_roots]\n",
    "#data_for_model['HI'] = (data_for_model['HI'] > 1875).astype(int)"
   ]
  },
  {
   "cell_type": "code",
   "execution_count": 8,
   "id": "7bb7b800",
   "metadata": {},
   "outputs": [],
   "source": [
    "model_recommend_bin = CausalModel(\n",
    "    data=data_for_model,\n",
    "    treatment='Facid',\n",
    "    outcome='RecommendNum',\n",
    "    graph=modified_dot_bin\n",
    ")"
   ]
  },
  {
   "cell_type": "markdown",
   "id": "d91ebd00",
   "metadata": {},
   "source": [
    "### Why not just look at fixed acid and recommendation level?\n",
    "\n",
    "It seems like an easy answer to our question. We can easily calculate the fixed acid for the highly rated and poorly rated wines."
   ]
  },
  {
   "cell_type": "code",
   "execution_count": 9,
   "id": "f9156132",
   "metadata": {},
   "outputs": [
    {
     "data": {
      "image/png": "[encoded data removed]",
      "text/latex": [
       "$\\displaystyle 0.521426533523539$"
      ],
      "text/plain": [
       "0.5214265335235387"
      ]
     },
     "execution_count": 9,
     "metadata": {},
     "output_type": "execute_result"
    }
   ],
   "source": [
    "data['Facid'].loc[data['RecommendNum'] >= 2].mean()"
   ]
  },
  {
   "cell_type": "code",
   "execution_count": 10,
   "id": "50cb61a6",
   "metadata": {},
   "outputs": [
    {
     "data": {
      "image/png": "[encoded data removed]",
      "text/latex": [
       "$\\displaystyle 0.452062146892655$"
      ],
      "text/plain": [
       "0.45206214689265506"
      ]
     },
     "execution_count": 10,
     "metadata": {},
     "output_type": "execute_result"
    }
   ],
   "source": [
    "data['Facid'].loc[data['RecommendNum'] < 2].mean()"
   ]
  },
  {
   "cell_type": "markdown",
   "id": "40cc78d4",
   "metadata": {},
   "source": [
    "One could see this as evidence that higher fixed acid leads to more highly recommended wines. This is not allowed, however. Looking at the graph, we can see many paths for association to propagate between fixed acidity and recommendation level. Could the cultivar be the true causal source, where good grapes just happen to have high fixed acid, and this fixed acid is irrelevant compared to the impact of the grape? **We cannot isolate the effect of fixed acid without an intervention.**"
   ]
  },
  {
   "cell_type": "markdown",
   "id": "0cb3bce5",
   "metadata": {},
   "source": [
    "## **2. Identify**\n",
    "\n",
    "Identification by hand is possible, but DoWhy has an automated identifier that tells us if we can compute the causal effect by looking at the DAG. Gives results for backdoor, front door and IV identification.\n",
    "\n",
    "We can see from the graph that there are several common causes for fixed acid and the recommendation level, so we know we can use the back door. Unfortunately, IV is closed off, and no mediators exist. In complicated and densely connected graphs, backdoor is usually the only option.\n"
   ]
  },
  {
   "cell_type": "code",
   "execution_count": 11,
   "id": "232360d0",
   "metadata": {},
   "outputs": [
    {
     "name": "stdout",
     "output_type": "stream",
     "text": [
      "Estimand type: nonparametric-ate\n",
      "\n",
      "### Estimand : 1\n",
      "Estimand name: backdoor\n",
      "Estimand expression:\n",
      "   d                                 \n",
      "────────(E[RecommendNum|HI,Cultivar])\n",
      "d[Facid]                             \n",
      "Estimand assumption 1, Unconfoundedness: If U→{Facid} and U→RecommendNum then P(RecommendNum|Facid,HI,Cultivar,U) = P(RecommendNum|Facid,HI,Cultivar)\n",
      "\n",
      "### Estimand : 2\n",
      "Estimand name: iv\n",
      "No such variable(s) found!\n",
      "\n",
      "### Estimand : 3\n",
      "Estimand name: frontdoor\n",
      "No such variable(s) found!\n",
      "\n"
     ]
    }
   ],
   "source": [
    "identified_estimand_regbin = model_recommend_bin.identify_effect(proceed_when_unidentifiable=True)\n",
    "print(identified_estimand_regbin)"
   ]
  },
  {
   "cell_type": "markdown",
   "id": "7b6e9d33",
   "metadata": {},
   "source": [
    "## **3. Estimate**\n",
    "\n",
    "\n",
    "### Estimations for recommendation as the output\n",
    "\n",
    "Double ML is a very strong option here. It can handle the complexity of the situation well. We have many continuous or higher level categorical variables, but ML models can perform well on accuracy and compute time."
   ]
  },
  {
   "cell_type": "code",
   "execution_count": 12,
   "id": "4fe31be1",
   "metadata": {},
   "outputs": [],
   "source": [
    "model = model_recommend_bin\n",
    "identified_estimand = identified_estimand_regbin"
   ]
  },
  {
   "cell_type": "code",
   "execution_count": 13,
   "id": "87e47dc9",
   "metadata": {},
   "outputs": [
    {
     "name": "stderr",
     "output_type": "stream",
     "text": [
      "A column-vector y was passed when a 1d array was expected. Please change the shape of y to (n_samples, ), for example using ravel().\n",
      "A column-vector y was passed when a 1d array was expected. Please change the shape of y to (n_samples, ), for example using ravel().\n"
     ]
    },
    {
     "name": "stdout",
     "output_type": "stream",
     "text": [
      "*** Causal Estimate ***\n",
      "\n",
      "## Identified estimand\n",
      "Estimand type: nonparametric-ate\n",
      "\n",
      "### Estimand : 1\n",
      "Estimand name: backdoor\n",
      "Estimand expression:\n",
      "   d                                 \n",
      "────────(E[RecommendNum|HI,Cultivar])\n",
      "d[Facid]                             \n",
      "Estimand assumption 1, Unconfoundedness: If U→{Facid} and U→RecommendNum then P(RecommendNum|Facid,HI,Cultivar,U) = P(RecommendNum|Facid,HI,Cultivar)\n",
      "\n",
      "## Realized estimand\n",
      "b: RecommendNum~Facid+HI+Cultivar | Tannin,Vacid,Brix,Alcohol\n",
      "Target units: ate\n",
      "\n",
      "## Estimate\n",
      "Mean value: 0.10411681708203059\n",
      "Effect estimates: [0.12395548 0.10071383 0.1121068  ... 0.09934667 0.10344814 0.08020649]\n",
      "\n",
      "The causal effect estimate is 0.1041\n"
     ]
    }
   ],
   "source": [
    "rs = 1\n",
    "\n",
    "dml_estimate_recreg = model.estimate_effect(\n",
    "    identified_estimand,\n",
    "    method_name=\"backdoor.econml.dml.DML\",\n",
    "    control_value = .40,\n",
    "    treatment_value = .54,\n",
    "    method_params={\n",
    "        \"init_params\":{\n",
    "            'model_y':GradientBoostingRegressor(n_estimators=1000, max_depth=10, min_impurity_decrease=0.05, random_state=rs),\n",
    "            'model_t': GradientBoostingRegressor(n_estimators=1000, max_depth=10, min_impurity_decrease=0.05, random_state=rs),\n",
    "            \"model_final\":LassoCV(fit_intercept=False, tol=0.003, max_iter=100000, random_state=rs),\n",
    "            'featurizer':PolynomialFeatures(degree=1, include_bias=False)\n",
    "        },\n",
    "        \"fit_params\":{}\n",
    "    }\n",
    ")\n",
    "\n",
    "print(dml_estimate_recreg)\n",
    "print(\"The causal effect estimate is \" + str(round(dml_estimate_recreg.value, 4)))"
   ]
  },
  {
   "cell_type": "markdown",
   "id": "662bca0b",
   "metadata": {},
   "source": [
    "Our result is a causal effect 0.1041*. This value is the expectation of the wine output when using the treatment value minus our expectation with the control. In this case, we see that higher fixed acidity causes higher ratings in wine.\n",
    "\n",
    "\\* will vary on subsequent runs"
   ]
  },
  {
   "cell_type": "markdown",
   "id": "07d25d3a",
   "metadata": {},
   "source": [
    "## **4. Refutation**\n",
    "\n",
    "As mentioned when describing the four-step process, refutation helps us ensure our model is robust. \n",
    "\n",
    "\n",
    "### Random common cause\n",
    "\n",
    "Adding a random common cause should not change the effect we have calculated."
   ]
  },
  {
   "cell_type": "code",
   "execution_count": 14,
   "id": "9d645100",
   "metadata": {},
   "outputs": [],
   "source": [
    "# Avoiding unnecessary log messges and warnings\n",
    "import logging\n",
    "logging.getLogger(\"dowhy\").setLevel(logging.WARNING)\n",
    "import warnings\n",
    "from sklearn.exceptions import DataConversionWarning\n",
    "warnings.filterwarnings(action='ignore', category=DataConversionWarning)"
   ]
  },
  {
   "cell_type": "code",
   "execution_count": 15,
   "id": "4d9b2e14",
   "metadata": {},
   "outputs": [
    {
     "name": "stdout",
     "output_type": "stream",
     "text": [
      "Refute: Add a random common cause\n",
      "Estimated effect:0.10411681708203059\n",
      "New effect:0.10885718259662194\n",
      "p value:0.3007541645223958\n",
      "\n"
     ]
    }
   ],
   "source": [
    "\n",
    "res_random = model.refute_estimate(\n",
    "    identified_estimand_regbin, \n",
    "    dml_estimate_recreg, \n",
    "    method_name=\"random_common_cause\",\n",
    "    num_simulations=5\n",
    ")\n",
    "print(res_random)"
   ]
  },
  {
   "cell_type": "markdown",
   "id": "04fb0d44",
   "metadata": {},
   "source": [
    "### Placebo refutation"
   ]
  },
  {
   "cell_type": "code",
   "execution_count": 16,
   "id": "d37f2e31",
   "metadata": {},
   "outputs": [
    {
     "name": "stdout",
     "output_type": "stream",
     "text": [
      "Refute: Use a Placebo Treatment\n",
      "Estimated effect:0.10411681708203059\n",
      "New effect:-0.0005904564633562816\n",
      "p value:0.4802432028433161\n",
      "\n"
     ]
    }
   ],
   "source": [
    "res_placebo=model.refute_estimate(\n",
    "    identified_estimand_regbin,\n",
    "    dml_estimate_recreg,\n",
    "    method_name=\"placebo_treatment_refuter\",\n",
    "    placebo_type=\"permute\",\n",
    "    num_simulations=20\n",
    ")\n",
    "print(res_placebo)"
   ]
  },
  {
   "cell_type": "markdown",
   "id": "5a37598f",
   "metadata": {},
   "source": [
    "We see that the difference between the estimated and new effect is low, just .004, supporting our model. In the placebo refutation, the new effect is 0.001, meaning our model's estimated effect is 0 when our treatment variable is set randomly. These both support that our model is solid, even though it does not encapsulate every variable in wine making. When modeling, we know we must make certain assumptions. In this case, these assumptions are forced by the limits of the data. We used all available and relevant features, but more would have been nice. The limit both in quantity of instances and features is likely due to cost.\n",
    "\n"
   ]
  },
  {
   "cell_type": "markdown",
   "id": "a67596c8",
   "metadata": {},
   "source": [
    "## Conclusion\n",
    "\n",
    "Wine quality is increased due to higher fixed acid amounts. We used a causal model, which was created by domain knowledge, to model the data generation process. Using this causal generative model, we performed an intervention using the double ML estimator to find that the expectation for a wine's quality increases by .104 when using a treatment value of 0.54 g/100cc compared to a control value of 0.40 g/100cc for fixed acid. The wine quality scale is from 0 to 3. Refutation confirms the validity of our model.\n",
    "\n",
    "Simple association is not enough to determine causality; you must use a causal model instead. Constructing one and performing the 4 steps necessary to ask causal questions leads to more important conclusions that naturally mesh with human though, which works in cause and effect, not \"statistical association.\"\n"
   ]
  },
  {
   "cell_type": "markdown",
   "id": "fa3e51ff",
   "metadata": {},
   "source": [
    "# References\n",
    "\n",
    "* Drawing software for DAGs in explaination sections\n",
    "  + http://dagitty.net/dags.html#\n",
    "\n",
    "* Wine Terroir Dataset\n",
    "  + article: https://www.nature.com/articles/s41597-022-01367-6\n",
    "  + data download: https://figshare.com/articles/dataset/data/19807777/1\n",
    "\n",
    "* Wine research\n",
    "  + https://www.compoundchem.com/2014/05/28/redwinechemicals/#:~:text=In%20general%2C%20red%20wine%20is,different%20compounds%20to%20over%201000.\n",
    "  + https://www.hospitalitynet.org/opinion/4094843.html#:~:text=As%20part%20of%20a%20process,alcohol%20levels%20in%20the%20wine.\n",
    "  + https://www.goldmedalwineclub.com/blog/post/the-gritty-truth-why-is-there-sediment-in-my-wine#:~:text=Sediment%20is%20a%20byproduct%20of,%2C%20and%20crystal%2Dlike%20tartrates.\n",
    "  + https://www.nature.com/articles/s41597-022-01367-6#ref-CR29\n",
    "  + https://daily.sevenfifty.com/the-science-of-tannins-in-wine/\n",
    "  + https://usualwines.com/blogs/knowledge-base/is-wine-acidic#:~:text=Low%2Dacid%20reds%20such%20as,acidity%20naturally%20in%20the%20bottle.\n",
    "  + https://winemakermag.com/article/cellar-dwellers-4#:~:text=White%20grapes%20are%20generally%20harvested,of%2012.1%E2%80%9314.3%25%20ABV.\n",
    "  + https://coolmaterial.com/food-drink/climate-change-whiskey-wine-beer/#:~:text=Climate%20change%20is%20also%20causing,the%20wine%2C%20making%20more%20alcohol.\n",
    "  + https://waterhouse.ucdavis.edu/whats-in-wine/fixed-acidity#:~:text=The%20predominant%20fixed%20acids%20found,2%2C000%20mg%2FL%20succinic%20acid.\n",
    "  + https://www.webmd.com/diet/what-to-know-sulfites-in-wine\n",
    "  + https://link.springer.com/article/10.1007/s00706-019-02454-y\n",
    "\n",
    "* Documentation from\n",
    "  + Pandas\n",
    "  + DoWhy\n",
    "  + Sklearn\n",
    "  + Graphviz"
   ]
  }
 ],
 "metadata": {
  "kernelspec": {
   "display_name": "Python 3 (ipykernel)",
   "language": "python",
   "name": "python3"
  },
  "language_info": {
   "codemirror_mode": {
    "name": "ipython",
    "version": 3
   },
   "file_extension": ".py",
   "mimetype": "text/x-python",
   "name": "python",
   "nbconvert_exporter": "python",
   "pygments_lexer": "ipython3",
   "version": "3.9.12"
  }
 },
 "nbformat": 4,
 "nbformat_minor": 5
}
