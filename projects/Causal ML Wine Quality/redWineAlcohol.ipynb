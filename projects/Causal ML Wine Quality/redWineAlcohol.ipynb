{
  "nbformat": 4,
  "nbformat_minor": 0,
  "metadata": {
    "colab": {
      "name": "redWineAlcohol.ipynb",
      "provenance": [],
      "collapsed_sections": []
    },
    "kernelspec": {
      "name": "python3",
      "display_name": "Python 3"
    },
    "language_info": {
      "name": "python"
    }
  },
  "cells": [
    {
      "cell_type": "markdown",
      "source": [
        "# Analysing Causal Effects for Red Wine Quality\n",
        "### Causal Question: What is the Causal Effect of Alcohol on Quality?\n",
        "### **Causal ML Summer 2022 NEU**\n",
        "\n",
        "**Darshil Patel**"
      ],
      "metadata": {
        "id": "DoTdGf0KvSxX"
      }
    },
    {
      "cell_type": "code",
      "execution_count": null,
      "metadata": {
        "colab": {
          "base_uri": "https://localhost:8080/"
        },
        "id": "BUvqFGSMLeOV",
        "outputId": "30926114-8afc-4493-ea59-f37d973d1a8e"
      },
      "outputs": [
        {
          "output_type": "stream",
          "name": "stdout",
          "text": [
            "Looking in indexes: https://pypi.org/simple, https://us-python.pkg.dev/colab-wheels/public/simple/\n",
            "Requirement already satisfied: dowhy in /usr/local/lib/python3.7/dist-packages (0.7.1)\n",
            "Requirement already satisfied: igraph in /usr/local/lib/python3.7/dist-packages (0.9.11)\n",
            "Collecting factor_analyzer\n",
            "  Using cached factor_analyzer-0.4.0-py3-none-any.whl\n",
            "Requirement already satisfied: lingam in /usr/local/lib/python3.7/dist-packages (1.6.0)\n",
            "Collecting econml\n",
            "  Using cached econml-0.13.1-cp37-cp37m-manylinux_2_17_x86_64.manylinux2014_x86_64.whl (3.3 MB)\n",
            "Requirement already satisfied: statsmodels in /usr/local/lib/python3.7/dist-packages (from dowhy) (0.12.2)\n",
            "Requirement already satisfied: scipy in /usr/local/lib/python3.7/dist-packages (from dowhy) (1.7.3)\n",
            "Requirement already satisfied: networkx>=2.0 in /usr/local/lib/python3.7/dist-packages (from dowhy) (2.6.3)\n",
            "Requirement already satisfied: sympy>=1.4 in /usr/local/lib/python3.7/dist-packages (from dowhy) (1.7.1)\n",
            "Requirement already satisfied: pydot>=1.4 in /usr/local/lib/python3.7/dist-packages (from dowhy) (1.4.2)\n",
            "Requirement already satisfied: numpy>=1.15 in /usr/local/lib/python3.7/dist-packages (from dowhy) (1.21.6)\n",
            "Requirement already satisfied: scikit-learn in /usr/local/lib/python3.7/dist-packages (from dowhy) (1.0.2)\n",
            "Requirement already satisfied: pandas>=0.24 in /usr/local/lib/python3.7/dist-packages (from dowhy) (1.3.5)\n",
            "Requirement already satisfied: python-dateutil>=2.7.3 in /usr/local/lib/python3.7/dist-packages (from pandas>=0.24->dowhy) (2.8.2)\n",
            "Requirement already satisfied: pytz>=2017.3 in /usr/local/lib/python3.7/dist-packages (from pandas>=0.24->dowhy) (2022.2.1)\n",
            "Requirement already satisfied: pyparsing>=2.1.4 in /usr/local/lib/python3.7/dist-packages (from pydot>=1.4->dowhy) (3.0.9)\n",
            "Requirement already satisfied: six>=1.5 in /usr/local/lib/python3.7/dist-packages (from python-dateutil>=2.7.3->pandas>=0.24->dowhy) (1.15.0)\n",
            "Requirement already satisfied: mpmath>=0.19 in /usr/local/lib/python3.7/dist-packages (from sympy>=1.4->dowhy) (1.2.1)\n",
            "Requirement already satisfied: texttable>=1.6.2 in /usr/local/lib/python3.7/dist-packages (from igraph) (1.6.4)\n",
            "Requirement already satisfied: graphviz in /usr/local/lib/python3.7/dist-packages (from lingam) (0.10.1)\n",
            "Requirement already satisfied: shap<0.41.0,>=0.38.1 in /usr/local/lib/python3.7/dist-packages (from econml) (0.40.0)\n",
            "Requirement already satisfied: sparse in /usr/local/lib/python3.7/dist-packages (from econml) (0.13.0)\n",
            "Requirement already satisfied: lightgbm in /usr/local/lib/python3.7/dist-packages (from econml) (2.2.3)\n",
            "Requirement already satisfied: joblib>=0.13.0 in /usr/local/lib/python3.7/dist-packages (from econml) (1.1.0)\n",
            "Requirement already satisfied: threadpoolctl>=2.0.0 in /usr/local/lib/python3.7/dist-packages (from scikit-learn->dowhy) (3.1.0)\n",
            "Requirement already satisfied: numba in /usr/local/lib/python3.7/dist-packages (from shap<0.41.0,>=0.38.1->econml) (0.56.0)\n",
            "Requirement already satisfied: cloudpickle in /usr/local/lib/python3.7/dist-packages (from shap<0.41.0,>=0.38.1->econml) (1.5.0)\n",
            "Requirement already satisfied: packaging>20.9 in /usr/local/lib/python3.7/dist-packages (from shap<0.41.0,>=0.38.1->econml) (21.3)\n",
            "Requirement already satisfied: slicer==0.0.7 in /usr/local/lib/python3.7/dist-packages (from shap<0.41.0,>=0.38.1->econml) (0.0.7)\n",
            "Requirement already satisfied: tqdm>4.25.0 in /usr/local/lib/python3.7/dist-packages (from shap<0.41.0,>=0.38.1->econml) (4.64.0)\n",
            "Requirement already satisfied: patsy>=0.5 in /usr/local/lib/python3.7/dist-packages (from statsmodels->dowhy) (0.5.2)\n",
            "Requirement already satisfied: setuptools in /usr/local/lib/python3.7/dist-packages (from numba->shap<0.41.0,>=0.38.1->econml) (57.4.0)\n",
            "Requirement already satisfied: llvmlite<0.40,>=0.39.0dev0 in /usr/local/lib/python3.7/dist-packages (from numba->shap<0.41.0,>=0.38.1->econml) (0.39.0)\n",
            "Requirement already satisfied: importlib-metadata in /usr/local/lib/python3.7/dist-packages (from numba->shap<0.41.0,>=0.38.1->econml) (4.12.0)\n",
            "Requirement already satisfied: typing-extensions>=3.6.4 in /usr/local/lib/python3.7/dist-packages (from importlib-metadata->numba->shap<0.41.0,>=0.38.1->econml) (4.1.1)\n",
            "Requirement already satisfied: zipp>=0.5 in /usr/local/lib/python3.7/dist-packages (from importlib-metadata->numba->shap<0.41.0,>=0.38.1->econml) (3.8.1)\n",
            "Installing collected packages: factor-analyzer, econml\n",
            "Successfully installed econml-0.13.1 factor-analyzer-0.4.0\n"
          ]
        }
      ],
      "source": [
        "!pip install dowhy igraph factor_analyzer lingam econml"
      ]
    },
    {
      "cell_type": "code",
      "source": [
        "import numpy as np\n",
        "import pandas as pd\n",
        "\n",
        "from dowhy import CausalModel\n",
        "import dowhy.causal_refuters as causal_refuters\n",
        "import dowhy.datasets\n",
        "import dowhy.api\n",
        "\n",
        "# making and drawing graphs\n",
        "import graphviz\n",
        "import networkx as nx\n",
        "import matplotlib.pyplot as plt\n",
        "from statsmodels.api import OLS\n",
        "\n",
        "import matplotlib.pyplot as plt\n",
        "\n",
        "import warnings\n",
        "warnings.simplefilter('ignore')\n",
        "\n",
        "# Avoiding unnecessary log messges and warnings\n",
        "import logging\n",
        "logging.getLogger(\"dowhy\").setLevel(logging.WARNING)\n",
        "import warnings\n",
        "from sklearn.exceptions import DataConversionWarning\n",
        "warnings.filterwarnings(action='ignore', category=DataConversionWarning)"
      ],
      "metadata": {
        "id": "1DlAg5Z4L6uz"
      },
      "execution_count": null,
      "outputs": []
    },
    {
      "cell_type": "markdown",
      "source": [
        "## The Data\n",
        "\n",
        "For this example, we will be using a wine quality dataset from CMU that includes essential ground truth causal information. This dataset contains 12 features inclusing the output feature.\n",
        "\n",
        "1.  fixed acidity\n",
        "2.  volatile acidity\n",
        "3.  citric acid\n",
        "4.  residual sugar\n",
        "5.  chlorides\n",
        "6.  free sulfur dioxide\n",
        "7.  total sulfur dioxide\n",
        "8.  density\n",
        "9.  pH\n",
        "10.  sulphates\n",
        "11.  alcohol\n",
        "12.  quality (score between 0 and 10) **Output variable**\n",
        "\n",
        "We know from external sources that the ground truth DAG must have at least edges from both `alcohol` and `total_sulfur_dioxide` to quality. We also know that edges between the features are possible."
      ],
      "metadata": {
        "id": "5VXGwaNHJOY6"
      }
    },
    {
      "cell_type": "code",
      "source": [
        "# Read in the Red Wine Quality data set from repo\n",
        "red_data = pd.read_csv(\"https://raw.githubusercontent.com/zygmuntz/wine-quality/master/winequality/winequality-red.csv\", sep=None)\n",
        "\n",
        "# Display the first 5 elements of the data\n",
        "red_data.head(5)"
      ],
      "metadata": {
        "colab": {
          "base_uri": "https://localhost:8080/",
          "height": 206
        },
        "id": "3VdZUS4lL9n6",
        "outputId": "71561329-a8d6-4e4a-ad47-80929494d4ff"
      },
      "execution_count": null,
      "outputs": [
        {
          "output_type": "execute_result",
          "data": {
            "text/plain": [
              "   fixed acidity  volatile acidity  citric acid  residual sugar  chlorides  \\\n",
              "0            7.4              0.70         0.00             1.9      0.076   \n",
              "1            7.8              0.88         0.00             2.6      0.098   \n",
              "2            7.8              0.76         0.04             2.3      0.092   \n",
              "3           11.2              0.28         0.56             1.9      0.075   \n",
              "4            7.4              0.70         0.00             1.9      0.076   \n",
              "\n",
              "   free sulfur dioxide  total sulfur dioxide  density    pH  sulphates  \\\n",
              "0                 11.0                  34.0   0.9978  3.51       0.56   \n",
              "1                 25.0                  67.0   0.9968  3.20       0.68   \n",
              "2                 15.0                  54.0   0.9970  3.26       0.65   \n",
              "3                 17.0                  60.0   0.9980  3.16       0.58   \n",
              "4                 11.0                  34.0   0.9978  3.51       0.56   \n",
              "\n",
              "   alcohol  quality  \n",
              "0      9.4        5  \n",
              "1      9.8        5  \n",
              "2      9.8        5  \n",
              "3      9.8        6  \n",
              "4      9.4        5  "
            ],
            "text/html": [
              "\n",
              "  <div id=\"df-a481a02e-87c8-41a6-8bfc-9f360bd1fe6f\">\n",
              "    <div class=\"colab-df-container\">\n",
              "      <div>\n",
              "<style scoped>\n",
              "    .dataframe tbody tr th:only-of-type {\n",
              "        vertical-align: middle;\n",
              "    }\n",
              "\n",
              "    .dataframe tbody tr th {\n",
              "        vertical-align: top;\n",
              "    }\n",
              "\n",
              "    .dataframe thead th {\n",
              "        text-align: right;\n",
              "    }\n",
              "</style>\n",
              "<table border=\"1\" class=\"dataframe\">\n",
              "  <thead>\n",
              "    <tr style=\"text-align: right;\">\n",
              "      <th></th>\n",
              "      <th>fixed acidity</th>\n",
              "      <th>volatile acidity</th>\n",
              "      <th>citric acid</th>\n",
              "      <th>residual sugar</th>\n",
              "      <th>chlorides</th>\n",
              "      <th>free sulfur dioxide</th>\n",
              "      <th>total sulfur dioxide</th>\n",
              "      <th>density</th>\n",
              "      <th>pH</th>\n",
              "      <th>sulphates</th>\n",
              "      <th>alcohol</th>\n",
              "      <th>quality</th>\n",
              "    </tr>\n",
              "  </thead>\n",
              "  <tbody>\n",
              "    <tr>\n",
              "      <th>0</th>\n",
              "      <td>7.4</td>\n",
              "      <td>0.70</td>\n",
              "      <td>0.00</td>\n",
              "      <td>1.9</td>\n",
              "      <td>0.076</td>\n",
              "      <td>11.0</td>\n",
              "      <td>34.0</td>\n",
              "      <td>0.9978</td>\n",
              "      <td>3.51</td>\n",
              "      <td>0.56</td>\n",
              "      <td>9.4</td>\n",
              "      <td>5</td>\n",
              "    </tr>\n",
              "    <tr>\n",
              "      <th>1</th>\n",
              "      <td>7.8</td>\n",
              "      <td>0.88</td>\n",
              "      <td>0.00</td>\n",
              "      <td>2.6</td>\n",
              "      <td>0.098</td>\n",
              "      <td>25.0</td>\n",
              "      <td>67.0</td>\n",
              "      <td>0.9968</td>\n",
              "      <td>3.20</td>\n",
              "      <td>0.68</td>\n",
              "      <td>9.8</td>\n",
              "      <td>5</td>\n",
              "    </tr>\n",
              "    <tr>\n",
              "      <th>2</th>\n",
              "      <td>7.8</td>\n",
              "      <td>0.76</td>\n",
              "      <td>0.04</td>\n",
              "      <td>2.3</td>\n",
              "      <td>0.092</td>\n",
              "      <td>15.0</td>\n",
              "      <td>54.0</td>\n",
              "      <td>0.9970</td>\n",
              "      <td>3.26</td>\n",
              "      <td>0.65</td>\n",
              "      <td>9.8</td>\n",
              "      <td>5</td>\n",
              "    </tr>\n",
              "    <tr>\n",
              "      <th>3</th>\n",
              "      <td>11.2</td>\n",
              "      <td>0.28</td>\n",
              "      <td>0.56</td>\n",
              "      <td>1.9</td>\n",
              "      <td>0.075</td>\n",
              "      <td>17.0</td>\n",
              "      <td>60.0</td>\n",
              "      <td>0.9980</td>\n",
              "      <td>3.16</td>\n",
              "      <td>0.58</td>\n",
              "      <td>9.8</td>\n",
              "      <td>6</td>\n",
              "    </tr>\n",
              "    <tr>\n",
              "      <th>4</th>\n",
              "      <td>7.4</td>\n",
              "      <td>0.70</td>\n",
              "      <td>0.00</td>\n",
              "      <td>1.9</td>\n",
              "      <td>0.076</td>\n",
              "      <td>11.0</td>\n",
              "      <td>34.0</td>\n",
              "      <td>0.9978</td>\n",
              "      <td>3.51</td>\n",
              "      <td>0.56</td>\n",
              "      <td>9.4</td>\n",
              "      <td>5</td>\n",
              "    </tr>\n",
              "  </tbody>\n",
              "</table>\n",
              "</div>\n",
              "      <button class=\"colab-df-convert\" onclick=\"convertToInteractive('df-a481a02e-87c8-41a6-8bfc-9f360bd1fe6f')\"\n",
              "              title=\"Convert this dataframe to an interactive table.\"\n",
              "              style=\"display:none;\">\n",
              "        \n",
              "  <svg xmlns=\"http://www.w3.org/2000/svg\" height=\"24px\"viewBox=\"0 0 24 24\"\n",
              "       width=\"24px\">\n",
              "    <path d=\"M0 0h24v24H0V0z\" fill=\"none\"/>\n",
              "    <path d=\"M18.56 5.44l.94 2.06.94-2.06 2.06-.94-2.06-.94-.94-2.06-.94 2.06-2.06.94zm-11 1L8.5 8.5l.94-2.06 2.06-.94-2.06-.94L8.5 2.5l-.94 2.06-2.06.94zm10 10l.94 2.06.94-2.06 2.06-.94-2.06-.94-.94-2.06-.94 2.06-2.06.94z\"/><path d=\"M17.41 7.96l-1.37-1.37c-.4-.4-.92-.59-1.43-.59-.52 0-1.04.2-1.43.59L10.3 9.45l-7.72 7.72c-.78.78-.78 2.05 0 2.83L4 21.41c.39.39.9.59 1.41.59.51 0 1.02-.2 1.41-.59l7.78-7.78 2.81-2.81c.8-.78.8-2.07 0-2.86zM5.41 20L4 18.59l7.72-7.72 1.47 1.35L5.41 20z\"/>\n",
              "  </svg>\n",
              "      </button>\n",
              "      \n",
              "  <style>\n",
              "    .colab-df-container {\n",
              "      display:flex;\n",
              "      flex-wrap:wrap;\n",
              "      gap: 12px;\n",
              "    }\n",
              "\n",
              "    .colab-df-convert {\n",
              "      background-color: #E8F0FE;\n",
              "      border: none;\n",
              "      border-radius: 50%;\n",
              "      cursor: pointer;\n",
              "      display: none;\n",
              "      fill: #1967D2;\n",
              "      height: 32px;\n",
              "      padding: 0 0 0 0;\n",
              "      width: 32px;\n",
              "    }\n",
              "\n",
              "    .colab-df-convert:hover {\n",
              "      background-color: #E2EBFA;\n",
              "      box-shadow: 0px 1px 2px rgba(60, 64, 67, 0.3), 0px 1px 3px 1px rgba(60, 64, 67, 0.15);\n",
              "      fill: #174EA6;\n",
              "    }\n",
              "\n",
              "    [theme=dark] .colab-df-convert {\n",
              "      background-color: #3B4455;\n",
              "      fill: #D2E3FC;\n",
              "    }\n",
              "\n",
              "    [theme=dark] .colab-df-convert:hover {\n",
              "      background-color: #434B5C;\n",
              "      box-shadow: 0px 1px 3px 1px rgba(0, 0, 0, 0.15);\n",
              "      filter: drop-shadow(0px 1px 2px rgba(0, 0, 0, 0.3));\n",
              "      fill: #FFFFFF;\n",
              "    }\n",
              "  </style>\n",
              "\n",
              "      <script>\n",
              "        const buttonEl =\n",
              "          document.querySelector('#df-a481a02e-87c8-41a6-8bfc-9f360bd1fe6f button.colab-df-convert');\n",
              "        buttonEl.style.display =\n",
              "          google.colab.kernel.accessAllowed ? 'block' : 'none';\n",
              "\n",
              "        async function convertToInteractive(key) {\n",
              "          const element = document.querySelector('#df-a481a02e-87c8-41a6-8bfc-9f360bd1fe6f');\n",
              "          const dataTable =\n",
              "            await google.colab.kernel.invokeFunction('convertToInteractive',\n",
              "                                                     [key], {});\n",
              "          if (!dataTable) return;\n",
              "\n",
              "          const docLinkHtml = 'Like what you see? Visit the ' +\n",
              "            '<a target=\"_blank\" href=https://colab.research.google.com/notebooks/data_table.ipynb>data table notebook</a>'\n",
              "            + ' to learn more about interactive tables.';\n",
              "          element.innerHTML = '';\n",
              "          dataTable['output_type'] = 'display_data';\n",
              "          await google.colab.output.renderOutput(dataTable, element);\n",
              "          const docLink = document.createElement('div');\n",
              "          docLink.innerHTML = docLinkHtml;\n",
              "          element.appendChild(docLink);\n",
              "        }\n",
              "      </script>\n",
              "    </div>\n",
              "  </div>\n",
              "  "
            ]
          },
          "metadata": {},
          "execution_count": 35
        }
      ]
    },
    {
      "cell_type": "markdown",
      "source": [
        "### 1. Modeling\n",
        "\n",
        "First we run a causal discovery algorithm to get an idea of the causal relationships in our data generating process, then we make our custom causal dag to model our data."
      ],
      "metadata": {
        "id": "a2ojy4P0Ow9Z"
      }
    },
    {
      "cell_type": "code",
      "source": [
        "import graphviz\n",
        "import lingam\n",
        "from lingam.utils import make_prior_knowledge\n",
        "\n",
        "def make_graph(adjacency_matrix, labels=None):\n",
        "    idx = np.abs(adjacency_matrix) > 0.01\n",
        "    dirs = np.where(idx)\n",
        "    d = graphviz.Digraph(engine='dot')\n",
        "    names = labels if labels else [f'x{i}' for i in range(len(adjacency_matrix))]\n",
        "    for to, from_, coef in zip(dirs[0], dirs[1], adjacency_matrix[idx]):\n",
        "        d.edge(names[from_], names[to], label=f'{coef:.2f}')\n",
        "    return d\n",
        "\n",
        "pk = make_prior_knowledge(\n",
        "    n_variables=len(red_data.columns),\n",
        "    sink_variables=[11])\n",
        "\n",
        "model = lingam.DirectLiNGAM(prior_knowledge=pk)\n",
        "model.fit(red_data)\n",
        "labels = [f'{i}. {col}' for i, col in enumerate(red_data.columns)]\n",
        "graph = make_graph(model.adjacency_matrix_, labels)\n",
        "graph"
      ],
      "metadata": {
        "colab": {
          "base_uri": "https://localhost:8080/",
          "height": 776
        },
        "id": "tQsg-ENfMoZL",
        "outputId": "5f699ba9-786e-4ce6-be42-ef24e6cc9017"
      },
      "execution_count": null,
      "outputs": [
        {
          "output_type": "execute_result",
          "data": {
            "text/plain": [
              "<graphviz.dot.Digraph at 0x7fba2c941390>"
            ],
            "image/svg+xml": "<?xml version=\"1.0\" encoding=\"UTF-8\" standalone=\"no\"?>\n<!DOCTYPE svg PUBLIC \"-//W3C//DTD SVG 1.1//EN\"\n \"http://www.w3.org/Graphics/SVG/1.1/DTD/svg11.dtd\">\n<!-- Generated by graphviz version 2.40.1 (20161225.0304)\n -->\n<!-- Title: %3 Pages: 1 -->\n<svg width=\"1107pt\" height=\"566pt\"\n viewBox=\"0.00 0.00 1107.00 566.00\" xmlns=\"http://www.w3.org/2000/svg\" xmlns:xlink=\"http://www.w3.org/1999/xlink\">\n<g id=\"graph0\" class=\"graph\" transform=\"scale(1 1) rotate(0) translate(4 562)\">\n<title>%3</title>\n<polygon fill=\"#ffffff\" stroke=\"transparent\" points=\"-4,4 -4,-562 1103,-562 1103,4 -4,4\"/>\n<!-- 2. citric acid -->\n<g id=\"node1\" class=\"node\">\n<title>2. citric acid</title>\n<ellipse fill=\"none\" stroke=\"#000000\" cx=\"443\" cy=\"-366\" rx=\"55.7903\" ry=\"18\"/>\n<text text-anchor=\"middle\" x=\"443\" y=\"-362.3\" font-family=\"Times,serif\" font-size=\"14.00\" fill=\"#000000\">2. citric acid</text>\n</g>\n<!-- 1. volatile acidity -->\n<g id=\"node2\" class=\"node\">\n<title>1. volatile acidity</title>\n<ellipse fill=\"none\" stroke=\"#000000\" cx=\"208\" cy=\"-279\" rx=\"75.2868\" ry=\"18\"/>\n<text text-anchor=\"middle\" x=\"208\" y=\"-275.3\" font-family=\"Times,serif\" font-size=\"14.00\" fill=\"#000000\">1. volatile acidity</text>\n</g>\n<!-- 2. citric acid&#45;&gt;1. volatile acidity -->\n<g id=\"edge1\" class=\"edge\">\n<title>2. citric acid&#45;&gt;1. volatile acidity</title>\n<path fill=\"none\" stroke=\"#000000\" d=\"M400.6281,-354.1637C391.5604,-351.8954 382.0008,-349.7009 373,-348 340.6617,-341.8891 251.6591,-350.6087 226,-330 218.8967,-324.2949 214.5922,-315.5877 211.9853,-306.9739\"/>\n<polygon fill=\"#000000\" stroke=\"#000000\" points=\"215.3542,-306.0115 209.6389,-297.0904 208.5435,-307.6285 215.3542,-306.0115\"/>\n<text text-anchor=\"middle\" x=\"241.5\" y=\"-318.8\" font-family=\"Times,serif\" font-size=\"14.00\" fill=\"#000000\">&#45;0.67</text>\n</g>\n<!-- 8. pH -->\n<g id=\"node9\" class=\"node\">\n<title>8. pH</title>\n<ellipse fill=\"none\" stroke=\"#000000\" cx=\"452\" cy=\"-105\" rx=\"32.4942\" ry=\"18\"/>\n<text text-anchor=\"middle\" x=\"452\" y=\"-101.3\" font-family=\"Times,serif\" font-size=\"14.00\" fill=\"#000000\">8. pH</text>\n</g>\n<!-- 2. citric acid&#45;&gt;8. pH -->\n<g id=\"edge16\" class=\"edge\">\n<title>2. citric acid&#45;&gt;8. pH</title>\n<path fill=\"none\" stroke=\"#000000\" d=\"M482.7052,-353.2494C522.7858,-339.4718 580.5059,-316.8249 593,-297 634.8967,-230.5207 536.9253,-156.9552 483.6306,-123.4452\"/>\n<polygon fill=\"#000000\" stroke=\"#000000\" points=\"485.2144,-120.3099 474.8655,-118.0407 481.5405,-126.2684 485.2144,-120.3099\"/>\n<text text-anchor=\"middle\" x=\"615.5\" y=\"-231.8\" font-family=\"Times,serif\" font-size=\"14.00\" fill=\"#000000\">&#45;0.03</text>\n</g>\n<!-- 9. sulphates -->\n<g id=\"node10\" class=\"node\">\n<title>9. sulphates</title>\n<ellipse fill=\"none\" stroke=\"#000000\" cx=\"395\" cy=\"-192\" rx=\"54.6905\" ry=\"18\"/>\n<text text-anchor=\"middle\" x=\"395\" y=\"-188.3\" font-family=\"Times,serif\" font-size=\"14.00\" fill=\"#000000\">9. sulphates</text>\n</g>\n<!-- 2. citric acid&#45;&gt;9. sulphates -->\n<g id=\"edge24\" class=\"edge\">\n<title>2. citric acid&#45;&gt;9. sulphates</title>\n<path fill=\"none\" stroke=\"#000000\" d=\"M432.2221,-348.2164C424.5136,-334.6597 414.5558,-315.2709 409,-297 401.3107,-271.7126 397.8426,-241.725 396.2795,-220.2844\"/>\n<polygon fill=\"#000000\" stroke=\"#000000\" points=\"399.7667,-219.9708 395.6392,-210.213 392.7808,-220.415 399.7667,-219.9708\"/>\n<text text-anchor=\"middle\" x=\"422.5\" y=\"-275.3\" font-family=\"Times,serif\" font-size=\"14.00\" fill=\"#000000\">0.04</text>\n</g>\n<!-- 10. alcohol -->\n<g id=\"node11\" class=\"node\">\n<title>10. alcohol</title>\n<ellipse fill=\"none\" stroke=\"#000000\" cx=\"531\" cy=\"-279\" rx=\"52.7911\" ry=\"18\"/>\n<text text-anchor=\"middle\" x=\"531\" y=\"-275.3\" font-family=\"Times,serif\" font-size=\"14.00\" fill=\"#000000\">10. alcohol</text>\n</g>\n<!-- 2. citric acid&#45;&gt;10. alcohol -->\n<g id=\"edge30\" class=\"edge\">\n<title>2. citric acid&#45;&gt;10. alcohol</title>\n<path fill=\"none\" stroke=\"#000000\" d=\"M460.386,-348.8116C473.5235,-335.8233 491.7316,-317.8221 506.3678,-303.3523\"/>\n<polygon fill=\"#000000\" stroke=\"#000000\" points=\"508.9995,-305.6723 513.6501,-296.1527 504.0781,-300.6943 508.9995,-305.6723\"/>\n<text text-anchor=\"middle\" x=\"506.5\" y=\"-318.8\" font-family=\"Times,serif\" font-size=\"14.00\" fill=\"#000000\">0.93</text>\n</g>\n<!-- 1. volatile acidity&#45;&gt;8. pH -->\n<g id=\"edge15\" class=\"edge\">\n<title>1. volatile acidity&#45;&gt;8. pH</title>\n<path fill=\"none\" stroke=\"#000000\" d=\"M218.5499,-260.693C224.7727,-250.5824 233.1475,-238.0703 242,-228 301.3831,-160.4476 333.6909,-161.4513 415,-123 416.0009,-122.5266 417.0163,-122.0446 418.0407,-121.5567\"/>\n<polygon fill=\"#000000\" stroke=\"#000000\" points=\"419.8585,-124.5665 427.3574,-117.082 416.8278,-118.2566 419.8585,-124.5665\"/>\n<text text-anchor=\"middle\" x=\"315.5\" y=\"-188.3\" font-family=\"Times,serif\" font-size=\"14.00\" fill=\"#000000\">0.02</text>\n</g>\n<!-- 1. volatile acidity&#45;&gt;9. sulphates -->\n<g id=\"edge23\" class=\"edge\">\n<title>1. volatile acidity&#45;&gt;9. sulphates</title>\n<path fill=\"none\" stroke=\"#000000\" d=\"M224.1999,-261.1253C235.053,-250.1341 250.2038,-236.5621 266,-228 287.6352,-216.273 313.4303,-208.0894 336.2477,-202.5236\"/>\n<polygon fill=\"#000000\" stroke=\"#000000\" points=\"337.2098,-205.8934 346.1586,-200.2217 335.626,-199.0749 337.2098,-205.8934\"/>\n<text text-anchor=\"middle\" x=\"281.5\" y=\"-231.8\" font-family=\"Times,serif\" font-size=\"14.00\" fill=\"#000000\">&#45;0.23</text>\n</g>\n<!-- 11. quality -->\n<g id=\"node12\" class=\"node\">\n<title>11. quality</title>\n<ellipse fill=\"none\" stroke=\"#000000\" cx=\"375\" cy=\"-18\" rx=\"50.8918\" ry=\"18\"/>\n<text text-anchor=\"middle\" x=\"375\" y=\"-14.3\" font-family=\"Times,serif\" font-size=\"14.00\" fill=\"#000000\">11. quality</text>\n</g>\n<!-- 1. volatile acidity&#45;&gt;11. quality -->\n<g id=\"edge34\" class=\"edge\">\n<title>1. volatile acidity&#45;&gt;11. quality</title>\n<path fill=\"none\" stroke=\"#000000\" d=\"M179.9263,-262.2651C140.8369,-236.7676 77.9093,-186.3595 107,-141 153.2369,-68.9052 253.4987,-38.5094 317.4263,-26.1011\"/>\n<polygon fill=\"#000000\" stroke=\"#000000\" points=\"318.1655,-29.5238 327.3605,-24.2605 316.8902,-22.641 318.1655,-29.5238\"/>\n<text text-anchor=\"middle\" x=\"122.5\" y=\"-144.8\" font-family=\"Times,serif\" font-size=\"14.00\" fill=\"#000000\">&#45;1.03</text>\n</g>\n<!-- 4. chlorides -->\n<g id=\"node3\" class=\"node\">\n<title>4. chlorides</title>\n<ellipse fill=\"none\" stroke=\"#000000\" cx=\"186\" cy=\"-453\" rx=\"53.8905\" ry=\"18\"/>\n<text text-anchor=\"middle\" x=\"186\" y=\"-449.3\" font-family=\"Times,serif\" font-size=\"14.00\" fill=\"#000000\">4. chlorides</text>\n</g>\n<!-- 4. chlorides&#45;&gt;2. citric acid -->\n<g id=\"edge6\" class=\"edge\">\n<title>4. chlorides&#45;&gt;2. citric acid</title>\n<path fill=\"none\" stroke=\"#000000\" d=\"M234.2945,-444.7554C262.1427,-439.0072 297.3927,-430.0072 327,-417 338.1733,-412.0913 339.1393,-407.5664 350,-402 364.1557,-394.7449 380.1291,-388.0605 394.7924,-382.4716\"/>\n<polygon fill=\"#000000\" stroke=\"#000000\" points=\"396.0592,-385.7348 404.2068,-378.9622 393.6141,-379.1757 396.0592,-385.7348\"/>\n<text text-anchor=\"middle\" x=\"363.5\" y=\"-405.8\" font-family=\"Times,serif\" font-size=\"14.00\" fill=\"#000000\">0.70</text>\n</g>\n<!-- 4. chlorides&#45;&gt;1. volatile acidity -->\n<g id=\"edge2\" class=\"edge\">\n<title>4. chlorides&#45;&gt;1. volatile acidity</title>\n<path fill=\"none\" stroke=\"#000000\" d=\"M182.6185,-434.9885C179.245,-413.9328 175.3152,-378.1281 181,-348 183.6913,-333.7369 189.2555,-318.6422 194.6372,-306.22\"/>\n<polygon fill=\"#000000\" stroke=\"#000000\" points=\"197.9218,-307.4511 198.8558,-296.8975 191.5443,-304.5652 197.9218,-307.4511\"/>\n<text text-anchor=\"middle\" x=\"194.5\" y=\"-362.3\" font-family=\"Times,serif\" font-size=\"14.00\" fill=\"#000000\">0.60</text>\n</g>\n<!-- 4. chlorides&#45;&gt;8. pH -->\n<g id=\"edge18\" class=\"edge\">\n<title>4. chlorides&#45;&gt;8. pH</title>\n<path fill=\"none\" stroke=\"#000000\" d=\"M166.3476,-436.0411C129.2562,-401.9183 55.8511,-322.9372 93,-261 154.9551,-157.7043 221.2037,-177.4726 336,-141 370.3204,-130.0959 381.0313,-134.9549 415,-123 416.3898,-122.5109 417.7958,-121.9837 419.2064,-121.4279\"/>\n<polygon fill=\"#000000\" stroke=\"#000000\" points=\"420.6602,-124.6126 428.459,-117.4412 417.8903,-118.1839 420.6602,-124.6126\"/>\n<text text-anchor=\"middle\" x=\"108.5\" y=\"-275.3\" font-family=\"Times,serif\" font-size=\"14.00\" fill=\"#000000\">&#45;0.51</text>\n</g>\n<!-- 4. chlorides&#45;&gt;9. sulphates -->\n<g id=\"edge26\" class=\"edge\">\n<title>4. chlorides&#45;&gt;9. sulphates</title>\n<path fill=\"none\" stroke=\"#000000\" d=\"M194.679,-435.2014C205.4806,-413.7289 225.0725,-376.9133 246,-348 263.8975,-323.2729 273.6341,-321.3813 292,-297 313.741,-268.1381 309.2346,-253.3342 335,-228 340.9077,-222.1911 347.9263,-216.9222 355.0446,-212.3178\"/>\n<polygon fill=\"#000000\" stroke=\"#000000\" points=\"357.3114,-215.0358 364.0382,-206.8504 353.6751,-209.0544 357.3114,-215.0358\"/>\n<text text-anchor=\"middle\" x=\"290.5\" y=\"-318.8\" font-family=\"Times,serif\" font-size=\"14.00\" fill=\"#000000\">1.42</text>\n</g>\n<!-- 4. chlorides&#45;&gt;10. alcohol -->\n<g id=\"edge32\" class=\"edge\">\n<title>4. chlorides&#45;&gt;10. alcohol</title>\n<path fill=\"none\" stroke=\"#000000\" d=\"M216.1063,-437.8362C241.0079,-424.7955 276.882,-404.8402 306,-384 325.7195,-369.8865 326.1966,-360.4606 347,-348 388.6442,-323.0564 440.8369,-304.525 478.988,-292.9835\"/>\n<polygon fill=\"#000000\" stroke=\"#000000\" points=\"480.2685,-296.2545 488.8617,-290.0572 478.2794,-289.5431 480.2685,-296.2545\"/>\n<text text-anchor=\"middle\" x=\"362.5\" y=\"-362.3\" font-family=\"Times,serif\" font-size=\"14.00\" fill=\"#000000\">&#45;2.77</text>\n</g>\n<!-- 4. chlorides&#45;&gt;11. quality -->\n<g id=\"edge35\" class=\"edge\">\n<title>4. chlorides&#45;&gt;11. quality</title>\n<path fill=\"none\" stroke=\"#000000\" d=\"M156.2296,-437.9152C135.5633,-425.9719 108.9731,-407.4185 93,-384 53.3415,-325.8559 38,-305.8813 38,-235.5 38,-235.5 38,-235.5 38,-105 38,-48.594 217.2363,-28.1885 314.2797,-21.2742\"/>\n<polygon fill=\"#000000\" stroke=\"#000000\" points=\"314.8102,-24.7462 324.5477,-20.5711 314.3319,-17.7626 314.8102,-24.7462\"/>\n<text text-anchor=\"middle\" x=\"54.5\" y=\"-231.8\" font-family=\"Times,serif\" font-size=\"14.00\" fill=\"#000000\">&#45;1.41</text>\n</g>\n<!-- 7. density -->\n<g id=\"node4\" class=\"node\">\n<title>7. density</title>\n<ellipse fill=\"none\" stroke=\"#000000\" cx=\"227\" cy=\"-540\" rx=\"47.3916\" ry=\"18\"/>\n<text text-anchor=\"middle\" x=\"227\" y=\"-536.3\" font-family=\"Times,serif\" font-size=\"14.00\" fill=\"#000000\">7. density</text>\n</g>\n<!-- 7. density&#45;&gt;2. citric acid -->\n<g id=\"edge7\" class=\"edge\">\n<title>7. density&#45;&gt;2. citric acid</title>\n<path fill=\"none\" stroke=\"#000000\" d=\"M252.1062,-524.5343C261.6526,-518.4045 272.5093,-511.1269 282,-504 331.6632,-466.7065 385.7891,-418.6354 416.9284,-390.1872\"/>\n<polygon fill=\"#000000\" stroke=\"#000000\" points=\"419.3291,-392.7346 424.3332,-383.3959 414.5977,-387.5757 419.3291,-392.7346\"/>\n<text text-anchor=\"middle\" x=\"384.5\" y=\"-449.3\" font-family=\"Times,serif\" font-size=\"14.00\" fill=\"#000000\">&#45;29.64</text>\n</g>\n<!-- 7. density&#45;&gt;1. volatile acidity -->\n<g id=\"edge3\" class=\"edge\">\n<title>7. density&#45;&gt;1. volatile acidity</title>\n<path fill=\"none\" stroke=\"#000000\" d=\"M192.6626,-527.4956C168.3849,-516.633 137.651,-498.3027 123,-471 91.8618,-412.9728 146.9969,-341.2321 182.1507,-304.0277\"/>\n<polygon fill=\"#000000\" stroke=\"#000000\" points=\"184.8708,-306.2499 189.3107,-296.6302 179.8409,-301.3816 184.8708,-306.2499\"/>\n<text text-anchor=\"middle\" x=\"136\" y=\"-405.8\" font-family=\"Times,serif\" font-size=\"14.00\" fill=\"#000000\">19.19</text>\n</g>\n<!-- 7. density&#45;&gt;4. chlorides -->\n<g id=\"edge9\" class=\"edge\">\n<title>7. density&#45;&gt;4. chlorides</title>\n<path fill=\"none\" stroke=\"#000000\" d=\"M218.5048,-521.9735C212.8425,-509.9585 205.2936,-493.9401 198.8959,-480.3646\"/>\n<polygon fill=\"#000000\" stroke=\"#000000\" points=\"201.9134,-478.5571 194.4843,-471.0034 195.5813,-481.5413 201.9134,-478.5571\"/>\n<text text-anchor=\"middle\" x=\"222\" y=\"-492.8\" font-family=\"Times,serif\" font-size=\"14.00\" fill=\"#000000\">4.11</text>\n</g>\n<!-- 7. density&#45;&gt;8. pH -->\n<g id=\"edge19\" class=\"edge\">\n<title>7. density&#45;&gt;8. pH</title>\n<path fill=\"none\" stroke=\"#000000\" d=\"M183.7687,-532.5426C117.9067,-519.9373 0,-491.9341 0,-453 0,-453 0,-453 0,-322.5 0,-174.9429 132.7155,-166.7975 278,-141 338.4664,-130.2633 356.1822,-140.6615 415,-123 416.4111,-122.5763 417.835,-122.104 419.2604,-121.5937\"/>\n<polygon fill=\"#000000\" stroke=\"#000000\" points=\"420.6399,-124.811 428.5717,-117.787 417.9909,-118.3316 420.6399,-124.811\"/>\n<text text-anchor=\"middle\" x=\"17\" y=\"-318.8\" font-family=\"Times,serif\" font-size=\"14.00\" fill=\"#000000\">64.61</text>\n</g>\n<!-- 7. density&#45;&gt;9. sulphates -->\n<g id=\"edge27\" class=\"edge\">\n<title>7. density&#45;&gt;9. sulphates</title>\n<path fill=\"none\" stroke=\"#000000\" d=\"M233.0791,-522.0865C235.0061,-516.3227 237.1227,-509.9014 239,-504 243.6458,-489.3959 245.5995,-485.9433 249,-471 261.2736,-417.0638 234.4976,-392.0153 268,-348 279.8074,-332.4876 293.2869,-342.7896 308,-330 343.6822,-298.9825 369.8224,-249.7375 383.6924,-219.2258\"/>\n<polygon fill=\"#000000\" stroke=\"#000000\" points=\"386.9179,-220.5858 387.7611,-210.0246 380.5159,-217.7549 386.9179,-220.5858\"/>\n<text text-anchor=\"middle\" x=\"285\" y=\"-362.3\" font-family=\"Times,serif\" font-size=\"14.00\" fill=\"#000000\">33.55</text>\n</g>\n<!-- 7. density&#45;&gt;10. alcohol -->\n<g id=\"edge33\" class=\"edge\">\n<title>7. density&#45;&gt;10. alcohol</title>\n<path fill=\"none\" stroke=\"#000000\" d=\"M271.4886,-533.5512C336.3813,-523.2423 452.398,-501.1049 481,-471 502.6159,-448.2482 474.083,-424.4618 496,-402 519.6385,-377.774 549.0847,-410.6126 570,-384 588.6211,-360.3064 570.4064,-326.8218 553.1292,-304.0825\"/>\n<polygon fill=\"#000000\" stroke=\"#000000\" points=\"555.8432,-301.8722 546.8763,-296.2291 550.367,-306.2324 555.8432,-301.8722\"/>\n<text text-anchor=\"middle\" x=\"519\" y=\"-405.8\" font-family=\"Times,serif\" font-size=\"14.00\" fill=\"#000000\">&#45;499.12</text>\n</g>\n<!-- 0. fixed acidity -->\n<g id=\"node5\" class=\"node\">\n<title>0. fixed acidity</title>\n<ellipse fill=\"none\" stroke=\"#000000\" cx=\"669\" cy=\"-540\" rx=\"66.8882\" ry=\"18\"/>\n<text text-anchor=\"middle\" x=\"669\" y=\"-536.3\" font-family=\"Times,serif\" font-size=\"14.00\" fill=\"#000000\">0. fixed acidity</text>\n</g>\n<!-- 0. fixed acidity&#45;&gt;2. citric acid -->\n<g id=\"edge4\" class=\"edge\">\n<title>0. fixed acidity&#45;&gt;2. citric acid</title>\n<path fill=\"none\" stroke=\"#000000\" d=\"M609.8091,-531.5892C586.3924,-526.2959 560.0911,-517.7463 539,-504 497.564,-476.9937 468.9184,-425.2677 454.2874,-393.3852\"/>\n<polygon fill=\"#000000\" stroke=\"#000000\" points=\"457.4556,-391.8957 450.1981,-384.177 451.0581,-394.7369 457.4556,-391.8957\"/>\n<text text-anchor=\"middle\" x=\"515.5\" y=\"-449.3\" font-family=\"Times,serif\" font-size=\"14.00\" fill=\"#000000\">0.09</text>\n</g>\n<!-- 3. residual sugar -->\n<g id=\"node6\" class=\"node\">\n<title>3. residual sugar</title>\n<ellipse fill=\"none\" stroke=\"#000000\" cx=\"735\" cy=\"-453\" rx=\"71.4873\" ry=\"18\"/>\n<text text-anchor=\"middle\" x=\"735\" y=\"-449.3\" font-family=\"Times,serif\" font-size=\"14.00\" fill=\"#000000\">3. residual sugar</text>\n</g>\n<!-- 0. fixed acidity&#45;&gt;3. residual sugar -->\n<g id=\"edge8\" class=\"edge\">\n<title>0. fixed acidity&#45;&gt;3. residual sugar</title>\n<path fill=\"none\" stroke=\"#000000\" d=\"M682.6752,-521.9735C692.1181,-509.5261 704.8206,-492.782 715.3451,-478.9087\"/>\n<polygon fill=\"#000000\" stroke=\"#000000\" points=\"718.3126,-480.788 721.5681,-470.7057 712.7358,-476.5573 718.3126,-480.788\"/>\n<text text-anchor=\"middle\" x=\"718.5\" y=\"-492.8\" font-family=\"Times,serif\" font-size=\"14.00\" fill=\"#000000\">0.09</text>\n</g>\n<!-- 5. free sulfur dioxide -->\n<g id=\"node7\" class=\"node\">\n<title>5. free sulfur dioxide</title>\n<ellipse fill=\"none\" stroke=\"#000000\" cx=\"951\" cy=\"-366\" rx=\"89.0842\" ry=\"18\"/>\n<text text-anchor=\"middle\" x=\"951\" y=\"-362.3\" font-family=\"Times,serif\" font-size=\"14.00\" fill=\"#000000\">5. free sulfur dioxide</text>\n</g>\n<!-- 0. fixed acidity&#45;&gt;5. free sulfur dioxide -->\n<g id=\"edge10\" class=\"edge\">\n<title>0. fixed acidity&#45;&gt;5. free sulfur dioxide</title>\n<path fill=\"none\" stroke=\"#000000\" d=\"M706.3313,-524.9132C753.7856,-504.6682 836.8768,-465.573 898,-417 907.8973,-409.1349 918.0659,-399.7258 926.8158,-391.1432\"/>\n<polygon fill=\"#000000\" stroke=\"#000000\" points=\"929.4935,-393.4155 934.0974,-383.8732 924.5477,-388.4618 929.4935,-393.4155\"/>\n<text text-anchor=\"middle\" x=\"887.5\" y=\"-449.3\" font-family=\"Times,serif\" font-size=\"14.00\" fill=\"#000000\">&#45;1.07</text>\n</g>\n<!-- 0. fixed acidity&#45;&gt;8. pH -->\n<g id=\"edge14\" class=\"edge\">\n<title>0. fixed acidity&#45;&gt;8. pH</title>\n<path fill=\"none\" stroke=\"#000000\" d=\"M730.906,-532.8411C842.9776,-519.0362 1068,-487.0755 1068,-453 1068,-453 1068,-453 1068,-192 1068,-134.0393 634.8944,-112.1103 495.0071,-106.5392\"/>\n<polygon fill=\"#000000\" stroke=\"#000000\" points=\"494.8127,-103.0291 484.6839,-106.1367 494.5399,-110.0237 494.8127,-103.0291\"/>\n<text text-anchor=\"middle\" x=\"1083.5\" y=\"-318.8\" font-family=\"Times,serif\" font-size=\"14.00\" fill=\"#000000\">&#45;0.10</text>\n</g>\n<!-- 0. fixed acidity&#45;&gt;9. sulphates -->\n<g id=\"edge22\" class=\"edge\">\n<title>0. fixed acidity&#45;&gt;9. sulphates</title>\n<path fill=\"none\" stroke=\"#000000\" d=\"M654.175,-522.1161C615.8797,-475.9468 516.0729,-355.8049 508,-348 498.6678,-338.9776 493.7749,-339.5653 485,-330 467.9603,-311.4253 431.7235,-253.0151 410.7999,-218.4254\"/>\n<polygon fill=\"#000000\" stroke=\"#000000\" points=\"413.7419,-216.5263 405.582,-209.7685 407.7467,-220.1399 413.7419,-216.5263\"/>\n<text text-anchor=\"middle\" x=\"553.5\" y=\"-362.3\" font-family=\"Times,serif\" font-size=\"14.00\" fill=\"#000000\">&#45;0.01</text>\n</g>\n<!-- 0. fixed acidity&#45;&gt;10. alcohol -->\n<g id=\"edge29\" class=\"edge\">\n<title>0. fixed acidity&#45;&gt;10. alcohol</title>\n<path fill=\"none\" stroke=\"#000000\" d=\"M664.9628,-521.6695C653.6546,-470.9102 621.6087,-331.1863 608,-315 600.8746,-306.525 591.3115,-299.9254 581.3518,-294.83\"/>\n<polygon fill=\"#000000\" stroke=\"#000000\" points=\"582.6964,-291.5955 572.1521,-290.5626 579.7509,-297.9456 582.6964,-291.5955\"/>\n<text text-anchor=\"middle\" x=\"652.5\" y=\"-405.8\" font-family=\"Times,serif\" font-size=\"14.00\" fill=\"#000000\">0.23</text>\n</g>\n<!-- 3. residual sugar&#45;&gt;2. citric acid -->\n<g id=\"edge5\" class=\"edge\">\n<title>3. residual sugar&#45;&gt;2. citric acid</title>\n<path fill=\"none\" stroke=\"#000000\" d=\"M680.8672,-441.2253C652.6933,-434.7467 617.7921,-426.1718 587,-417 568.4131,-411.4636 524.0657,-395.6081 489.4575,-383.0307\"/>\n<polygon fill=\"#000000\" stroke=\"#000000\" points=\"490.5779,-379.7139 479.9839,-379.5815 488.183,-386.2915 490.5779,-379.7139\"/>\n<text text-anchor=\"middle\" x=\"600.5\" y=\"-405.8\" font-family=\"Times,serif\" font-size=\"14.00\" fill=\"#000000\">0.02</text>\n</g>\n<!-- 3. residual sugar&#45;&gt;5. free sulfur dioxide -->\n<g id=\"edge11\" class=\"edge\">\n<title>3. residual sugar&#45;&gt;5. free sulfur dioxide</title>\n<path fill=\"none\" stroke=\"#000000\" d=\"M775.7883,-438.1461C792.9063,-431.7979 812.9843,-424.2024 831,-417 855.2604,-407.301 882.0377,-395.9808 904.1307,-386.4729\"/>\n<polygon fill=\"#000000\" stroke=\"#000000\" points=\"905.8138,-389.5586 913.6078,-382.382 903.0395,-383.1318 905.8138,-389.5586\"/>\n<text text-anchor=\"middle\" x=\"880.5\" y=\"-405.8\" font-family=\"Times,serif\" font-size=\"14.00\" fill=\"#000000\">1.54</text>\n</g>\n<!-- 6. total sulfur dioxide -->\n<g id=\"node8\" class=\"node\">\n<title>6. total sulfur dioxide</title>\n<ellipse fill=\"none\" stroke=\"#000000\" cx=\"930\" cy=\"-279\" rx=\"90.9839\" ry=\"18\"/>\n<text text-anchor=\"middle\" x=\"930\" y=\"-275.3\" font-family=\"Times,serif\" font-size=\"14.00\" fill=\"#000000\">6. total sulfur dioxide</text>\n</g>\n<!-- 3. residual sugar&#45;&gt;6. total sulfur dioxide -->\n<g id=\"edge12\" class=\"edge\">\n<title>3. residual sugar&#45;&gt;6. total sulfur dioxide</title>\n<path fill=\"none\" stroke=\"#000000\" d=\"M762.3452,-436.359C770.208,-430.8024 778.4261,-424.1785 785,-417 809.0916,-390.6925 801.4098,-373.8421 826,-348 843.8254,-329.2671 867.6323,-313.0049 887.9701,-300.9808\"/>\n<polygon fill=\"#000000\" stroke=\"#000000\" points=\"889.8235,-303.9524 896.7404,-295.9269 886.3285,-297.8873 889.8235,-303.9524\"/>\n<text text-anchor=\"middle\" x=\"839.5\" y=\"-362.3\" font-family=\"Times,serif\" font-size=\"14.00\" fill=\"#000000\">1.44</text>\n</g>\n<!-- 3. residual sugar&#45;&gt;8. pH -->\n<g id=\"edge17\" class=\"edge\">\n<title>3. residual sugar&#45;&gt;8. pH</title>\n<path fill=\"none\" stroke=\"#000000\" d=\"M747.188,-435.2188C757.6318,-418.2283 771,-391.5001 771,-366 771,-366 771,-366 771,-192 771,-135.3207 581.1876,-114.3167 494.3968,-107.6752\"/>\n<polygon fill=\"#000000\" stroke=\"#000000\" points=\"494.5729,-104.1788 484.3429,-106.935 494.0589,-111.1599 494.5729,-104.1788\"/>\n<text text-anchor=\"middle\" x=\"786.5\" y=\"-275.3\" font-family=\"Times,serif\" font-size=\"14.00\" fill=\"#000000\">&#45;0.03</text>\n</g>\n<!-- 3. residual sugar&#45;&gt;9. sulphates -->\n<g id=\"edge25\" class=\"edge\">\n<title>3. residual sugar&#45;&gt;9. sulphates</title>\n<path fill=\"none\" stroke=\"#000000\" d=\"M734.727,-434.8852C733.8485,-413.4221 730.5871,-376.9286 719,-348 694.7937,-287.5659 690.8199,-261.5017 635,-228 606.5924,-210.9504 519.7231,-215.1842 487,-210 475.4376,-208.1682 463.1096,-205.9448 451.359,-203.6944\"/>\n<polygon fill=\"#000000\" stroke=\"#000000\" points=\"451.6997,-200.195 441.2151,-201.7189 450.3616,-207.066 451.6997,-200.195\"/>\n<text text-anchor=\"middle\" x=\"726.5\" y=\"-318.8\" font-family=\"Times,serif\" font-size=\"14.00\" fill=\"#000000\">&#45;0.02</text>\n</g>\n<!-- 3. residual sugar&#45;&gt;10. alcohol -->\n<g id=\"edge31\" class=\"edge\">\n<title>3. residual sugar&#45;&gt;10. alcohol</title>\n<path fill=\"none\" stroke=\"#000000\" d=\"M723.8871,-435.0663C701.2786,-398.6807 651.5858,-319.2524 646,-315 629.4815,-302.4247 608.4894,-294.1892 588.9739,-288.8187\"/>\n<polygon fill=\"#000000\" stroke=\"#000000\" points=\"589.7925,-285.4155 579.2377,-286.3348 588.0621,-292.1982 589.7925,-285.4155\"/>\n<text text-anchor=\"middle\" x=\"704.5\" y=\"-362.3\" font-family=\"Times,serif\" font-size=\"14.00\" fill=\"#000000\">0.25</text>\n</g>\n<!-- 5. free sulfur dioxide&#45;&gt;6. total sulfur dioxide -->\n<g id=\"edge13\" class=\"edge\">\n<title>5. free sulfur dioxide&#45;&gt;6. total sulfur dioxide</title>\n<path fill=\"none\" stroke=\"#000000\" d=\"M946.6488,-347.9735C943.7768,-336.0751 939.9571,-320.2508 936.7008,-306.7606\"/>\n<polygon fill=\"#000000\" stroke=\"#000000\" points=\"940.0944,-305.9029 934.3456,-297.0034 933.2898,-307.5455 940.0944,-305.9029\"/>\n<text text-anchor=\"middle\" x=\"954.5\" y=\"-318.8\" font-family=\"Times,serif\" font-size=\"14.00\" fill=\"#000000\">1.99</text>\n</g>\n<!-- 8. pH&#45;&gt;11. quality -->\n<g id=\"edge36\" class=\"edge\">\n<title>8. pH&#45;&gt;11. quality</title>\n<path fill=\"none\" stroke=\"#000000\" d=\"M437.5169,-88.636C426.1221,-75.7613 410.0538,-57.6063 397.061,-42.9261\"/>\n<polygon fill=\"#000000\" stroke=\"#000000\" points=\"399.457,-40.3522 390.2084,-35.1835 394.2151,-44.9915 399.457,-40.3522\"/>\n<text text-anchor=\"middle\" x=\"434.5\" y=\"-57.8\" font-family=\"Times,serif\" font-size=\"14.00\" fill=\"#000000\">&#45;0.29</text>\n</g>\n<!-- 9. sulphates&#45;&gt;8. pH -->\n<g id=\"edge20\" class=\"edge\">\n<title>9. sulphates&#45;&gt;8. pH</title>\n<path fill=\"none\" stroke=\"#000000\" d=\"M406.5348,-174.3943C414.7538,-161.8494 425.9325,-144.7873 435.1484,-130.7209\"/>\n<polygon fill=\"#000000\" stroke=\"#000000\" points=\"438.3176,-132.2702 440.8703,-121.9875 432.4624,-128.434 438.3176,-132.2702\"/>\n<text text-anchor=\"middle\" x=\"442.5\" y=\"-144.8\" font-family=\"Times,serif\" font-size=\"14.00\" fill=\"#000000\">&#45;0.08</text>\n</g>\n<!-- 9. sulphates&#45;&gt;11. quality -->\n<g id=\"edge37\" class=\"edge\">\n<title>9. sulphates&#45;&gt;11. quality</title>\n<path fill=\"none\" stroke=\"#000000\" d=\"M391.7445,-173.8911C389.3375,-160.0032 386.1223,-140.3384 384,-123 380.8388,-97.1738 378.4124,-67.6389 376.88,-46.4854\"/>\n<polygon fill=\"#000000\" stroke=\"#000000\" points=\"380.3533,-45.9817 376.161,-36.2516 373.3705,-46.4723 380.3533,-45.9817\"/>\n<text text-anchor=\"middle\" x=\"397.5\" y=\"-101.3\" font-family=\"Times,serif\" font-size=\"14.00\" fill=\"#000000\">0.76</text>\n</g>\n<!-- 10. alcohol&#45;&gt;8. pH -->\n<g id=\"edge21\" class=\"edge\">\n<title>10. alcohol&#45;&gt;8. pH</title>\n<path fill=\"none\" stroke=\"#000000\" d=\"M526.1032,-260.7984C523.2509,-250.9469 519.3607,-238.6485 515,-228 500.9532,-193.6985 480.9162,-156.002 467.2348,-131.5006\"/>\n<polygon fill=\"#000000\" stroke=\"#000000\" points=\"470.1099,-129.4733 462.1513,-122.4797 464.0116,-132.91 470.1099,-129.4733\"/>\n<text text-anchor=\"middle\" x=\"520.5\" y=\"-188.3\" font-family=\"Times,serif\" font-size=\"14.00\" fill=\"#000000\">0.07</text>\n</g>\n<!-- 10. alcohol&#45;&gt;9. sulphates -->\n<g id=\"edge28\" class=\"edge\">\n<title>10. alcohol&#45;&gt;9. sulphates</title>\n<path fill=\"none\" stroke=\"#000000\" d=\"M510.8288,-262.2113C497.8561,-251.7807 480.413,-238.4223 464,-228 454.924,-222.2368 444.824,-216.5782 435.2133,-211.5161\"/>\n<polygon fill=\"#000000\" stroke=\"#000000\" points=\"436.6895,-208.3394 426.1982,-206.8615 433.4781,-214.5593 436.6895,-208.3394\"/>\n<text text-anchor=\"middle\" x=\"498.5\" y=\"-231.8\" font-family=\"Times,serif\" font-size=\"14.00\" fill=\"#000000\">0.05</text>\n</g>\n<!-- 10. alcohol&#45;&gt;11. quality -->\n<g id=\"edge38\" class=\"edge\">\n<title>10. alcohol&#45;&gt;11. quality</title>\n<path fill=\"none\" stroke=\"#000000\" d=\"M581.0316,-273.3504C612.7755,-267.1709 645.9744,-254.3627 635,-228 592.1153,-124.9823 548.2503,-113.738 454,-54 443.0508,-47.0601 430.5417,-40.7199 418.7567,-35.3598\"/>\n<polygon fill=\"#000000\" stroke=\"#000000\" points=\"420.0662,-32.1121 409.5042,-31.2785 417.2411,-38.5167 420.0662,-32.1121\"/>\n<text text-anchor=\"middle\" x=\"606.5\" y=\"-144.8\" font-family=\"Times,serif\" font-size=\"14.00\" fill=\"#000000\">0.28</text>\n</g>\n</g>\n</svg>\n"
          },
          "metadata": {},
          "execution_count": 37
        }
      ]
    },
    {
      "cell_type": "code",
      "source": [
        "# Create the Causal DAG\n",
        "causal_dag = graphviz.Digraph('DAG')\n",
        "\n",
        "causal_dag.node('quality')\n",
        "causal_dag.node('chlorides')\n",
        "causal_dag.node('density')\n",
        "causal_dag.node('volatile acidity')\n",
        "causal_dag.node('alcohol')\n",
        "causal_dag.node('residual sugar')\n",
        "causal_dag.node('fixed acidity')\n",
        "causal_dag.node('citric acid')\n",
        "causal_dag.node('pH')\n",
        "\n",
        "\n",
        "causal_dag.edges([\n",
        "           ('fixed acidity', 'pH'),\n",
        "           ('volatile acidity', 'pH'),\n",
        "           ('citric acid', 'pH'),\n",
        "           ('pH', 'alcohol'),\n",
        "           ('density', 'alcohol'),\n",
        "           ('chlorides', 'quality'),\n",
        "           ('pH', 'quality'),\n",
        "           ('residual sugar', 'quality'),\n",
        "           ('alcohol', 'quality'),\n",
        "           ])\n",
        "\n",
        "causal_dag"
      ],
      "metadata": {
        "colab": {
          "base_uri": "https://localhost:8080/",
          "height": 368
        },
        "id": "b0IgshgTxGP7",
        "outputId": "a00f195d-2054-4f5c-8f8f-01c1f22244b5"
      },
      "execution_count": 170,
      "outputs": [
        {
          "output_type": "execute_result",
          "data": {
            "text/plain": [
              "<graphviz.dot.Digraph at 0x7fba2c29e810>"
            ],
            "image/svg+xml": "<?xml version=\"1.0\" encoding=\"UTF-8\" standalone=\"no\"?>\n<!DOCTYPE svg PUBLIC \"-//W3C//DTD SVG 1.1//EN\"\n \"http://www.w3.org/Graphics/SVG/1.1/DTD/svg11.dtd\">\n<!-- Generated by graphviz version 2.40.1 (20161225.0304)\n -->\n<!-- Title: DAG Pages: 1 -->\n<svg width=\"386pt\" height=\"260pt\"\n viewBox=\"0.00 0.00 386.34 260.00\" xmlns=\"http://www.w3.org/2000/svg\" xmlns:xlink=\"http://www.w3.org/1999/xlink\">\n<g id=\"graph0\" class=\"graph\" transform=\"scale(1 1) rotate(0) translate(4 256)\">\n<title>DAG</title>\n<polygon fill=\"#ffffff\" stroke=\"transparent\" points=\"-4,4 -4,-256 382.342,-256 382.342,4 -4,4\"/>\n<!-- quality -->\n<g id=\"node1\" class=\"node\">\n<title>quality</title>\n<ellipse fill=\"none\" stroke=\"#000000\" cx=\"178.1961\" cy=\"-18\" rx=\"36.2938\" ry=\"18\"/>\n<text text-anchor=\"middle\" x=\"178.1961\" y=\"-14.3\" font-family=\"Times,serif\" font-size=\"14.00\" fill=\"#000000\">quality</text>\n</g>\n<!-- chlorides -->\n<g id=\"node2\" class=\"node\">\n<title>chlorides</title>\n<ellipse fill=\"none\" stroke=\"#000000\" cx=\"44.1961\" cy=\"-90\" rx=\"44.393\" ry=\"18\"/>\n<text text-anchor=\"middle\" x=\"44.1961\" y=\"-86.3\" font-family=\"Times,serif\" font-size=\"14.00\" fill=\"#000000\">chlorides</text>\n</g>\n<!-- chlorides&#45;&gt;quality -->\n<g id=\"edge6\" class=\"edge\">\n<title>chlorides&#45;&gt;quality</title>\n<path fill=\"none\" stroke=\"#000000\" d=\"M70.9909,-75.6028C92.069,-64.2773 121.5714,-48.4252 144.2926,-36.2168\"/>\n<polygon fill=\"#000000\" stroke=\"#000000\" points=\"146.1057,-39.2159 153.258,-31.3996 142.7924,-33.0496 146.1057,-39.2159\"/>\n</g>\n<!-- density -->\n<g id=\"node3\" class=\"node\">\n<title>density</title>\n<ellipse fill=\"none\" stroke=\"#000000\" cx=\"128.1961\" cy=\"-162\" rx=\"37.8943\" ry=\"18\"/>\n<text text-anchor=\"middle\" x=\"128.1961\" y=\"-158.3\" font-family=\"Times,serif\" font-size=\"14.00\" fill=\"#000000\">density</text>\n</g>\n<!-- alcohol -->\n<g id=\"node5\" class=\"node\">\n<title>alcohol</title>\n<ellipse fill=\"none\" stroke=\"#000000\" cx=\"145.1961\" cy=\"-90\" rx=\"38.1938\" ry=\"18\"/>\n<text text-anchor=\"middle\" x=\"145.1961\" y=\"-86.3\" font-family=\"Times,serif\" font-size=\"14.00\" fill=\"#000000\">alcohol</text>\n</g>\n<!-- density&#45;&gt;alcohol -->\n<g id=\"edge5\" class=\"edge\">\n<title>density&#45;&gt;alcohol</title>\n<path fill=\"none\" stroke=\"#000000\" d=\"M132.4859,-143.8314C134.3523,-135.9266 136.581,-126.4872 138.6472,-117.7365\"/>\n<polygon fill=\"#000000\" stroke=\"#000000\" points=\"142.0749,-118.4501 140.9665,-107.9134 135.2622,-116.8415 142.0749,-118.4501\"/>\n</g>\n<!-- volatile acidity -->\n<g id=\"node4\" class=\"node\">\n<title>volatile acidity</title>\n<ellipse fill=\"none\" stroke=\"#000000\" cx=\"70.1961\" cy=\"-234\" rx=\"65.7887\" ry=\"18\"/>\n<text text-anchor=\"middle\" x=\"70.1961\" y=\"-230.3\" font-family=\"Times,serif\" font-size=\"14.00\" fill=\"#000000\">volatile acidity</text>\n</g>\n<!-- pH -->\n<g id=\"node9\" class=\"node\">\n<title>pH</title>\n<ellipse fill=\"none\" stroke=\"#000000\" cx=\"211.1961\" cy=\"-162\" rx=\"27\" ry=\"18\"/>\n<text text-anchor=\"middle\" x=\"211.1961\" y=\"-158.3\" font-family=\"Times,serif\" font-size=\"14.00\" fill=\"#000000\">pH</text>\n</g>\n<!-- volatile acidity&#45;&gt;pH -->\n<g id=\"edge2\" class=\"edge\">\n<title>volatile acidity&#45;&gt;pH</title>\n<path fill=\"none\" stroke=\"#000000\" d=\"M101.4885,-218.0209C125.0201,-206.0048 157.0966,-189.6252 180.4857,-177.6819\"/>\n<polygon fill=\"#000000\" stroke=\"#000000\" points=\"182.299,-180.6859 189.6133,-173.021 179.1155,-174.4517 182.299,-180.6859\"/>\n</g>\n<!-- alcohol&#45;&gt;quality -->\n<g id=\"edge9\" class=\"edge\">\n<title>alcohol&#45;&gt;quality</title>\n<path fill=\"none\" stroke=\"#000000\" d=\"M153.3534,-72.2022C157.1498,-63.9192 161.7458,-53.8915 165.9472,-44.7248\"/>\n<polygon fill=\"#000000\" stroke=\"#000000\" points=\"169.1477,-46.142 170.1326,-35.593 162.7843,-43.2254 169.1477,-46.142\"/>\n</g>\n<!-- residual sugar -->\n<g id=\"node6\" class=\"node\">\n<title>residual sugar</title>\n<ellipse fill=\"none\" stroke=\"#000000\" cx=\"301.1961\" cy=\"-90\" rx=\"61.99\" ry=\"18\"/>\n<text text-anchor=\"middle\" x=\"301.1961\" y=\"-86.3\" font-family=\"Times,serif\" font-size=\"14.00\" fill=\"#000000\">residual sugar</text>\n</g>\n<!-- residual sugar&#45;&gt;quality -->\n<g id=\"edge8\" class=\"edge\">\n<title>residual sugar&#45;&gt;quality</title>\n<path fill=\"none\" stroke=\"#000000\" d=\"M273.5925,-73.8418C255.0043,-62.9609 230.4081,-48.5631 210.8467,-37.1125\"/>\n<polygon fill=\"#000000\" stroke=\"#000000\" points=\"212.3738,-33.9509 201.9755,-31.9197 208.8375,-39.992 212.3738,-33.9509\"/>\n</g>\n<!-- fixed acidity -->\n<g id=\"node7\" class=\"node\">\n<title>fixed acidity</title>\n<ellipse fill=\"none\" stroke=\"#000000\" cx=\"211.1961\" cy=\"-234\" rx=\"57.3905\" ry=\"18\"/>\n<text text-anchor=\"middle\" x=\"211.1961\" y=\"-230.3\" font-family=\"Times,serif\" font-size=\"14.00\" fill=\"#000000\">fixed acidity</text>\n</g>\n<!-- fixed acidity&#45;&gt;pH -->\n<g id=\"edge1\" class=\"edge\">\n<title>fixed acidity&#45;&gt;pH</title>\n<path fill=\"none\" stroke=\"#000000\" d=\"M211.1961,-215.8314C211.1961,-208.131 211.1961,-198.9743 211.1961,-190.4166\"/>\n<polygon fill=\"#000000\" stroke=\"#000000\" points=\"214.6962,-190.4132 211.1961,-180.4133 207.6962,-190.4133 214.6962,-190.4132\"/>\n</g>\n<!-- citric acid -->\n<g id=\"node8\" class=\"node\">\n<title>citric acid</title>\n<ellipse fill=\"none\" stroke=\"#000000\" cx=\"332.1961\" cy=\"-234\" rx=\"46.2923\" ry=\"18\"/>\n<text text-anchor=\"middle\" x=\"332.1961\" y=\"-230.3\" font-family=\"Times,serif\" font-size=\"14.00\" fill=\"#000000\">citric acid</text>\n</g>\n<!-- citric acid&#45;&gt;pH -->\n<g id=\"edge3\" class=\"edge\">\n<title>citric acid&#45;&gt;pH</title>\n<path fill=\"none\" stroke=\"#000000\" d=\"M306.8305,-218.9064C287.4799,-207.392 260.7907,-191.5108 240.5232,-179.4509\"/>\n<polygon fill=\"#000000\" stroke=\"#000000\" points=\"242.0959,-176.3139 231.7124,-174.2081 238.5164,-182.3295 242.0959,-176.3139\"/>\n</g>\n<!-- pH&#45;&gt;quality -->\n<g id=\"edge7\" class=\"edge\">\n<title>pH&#45;&gt;quality</title>\n<path fill=\"none\" stroke=\"#000000\" d=\"M207.6509,-144.0168C204.0029,-125.8111 198.0427,-96.8731 192.1961,-72 190.1794,-63.4205 187.8275,-54.1172 185.6334,-45.6887\"/>\n<polygon fill=\"#000000\" stroke=\"#000000\" points=\"188.9999,-44.7281 183.0686,-35.9491 182.2306,-46.5108 188.9999,-44.7281\"/>\n</g>\n<!-- pH&#45;&gt;alcohol -->\n<g id=\"edge4\" class=\"edge\">\n<title>pH&#45;&gt;alcohol</title>\n<path fill=\"none\" stroke=\"#000000\" d=\"M196.8751,-146.3771C188.2109,-136.9253 176.9853,-124.6792 167.211,-114.0163\"/>\n<polygon fill=\"#000000\" stroke=\"#000000\" points=\"169.7451,-111.601 160.4077,-106.5945 164.585,-116.3311 169.7451,-111.601\"/>\n</g>\n</g>\n</svg>\n"
          },
          "metadata": {},
          "execution_count": 170
        }
      ]
    },
    {
      "cell_type": "code",
      "source": [
        "is_treatment = False\n",
        "\n",
        "causal_dag_final = causal_dag.source.replace('DAG', '').replace('\\n', ';').replace('\\t', '').replace('{;q', '{q')\n",
        "\n",
        "model = CausalModel(\n",
        "    data = red_data,\n",
        "    graph=causal_dag_final,\n",
        "    treatment = ['alcohol'],\n",
        "    outcome = ['quality'])"
      ],
      "metadata": {
        "colab": {
          "base_uri": "https://localhost:8080/"
        },
        "id": "o1zyMNRzif9Z",
        "outputId": "dfdad28d-acec-4c5a-d83c-43adfd17cdc1"
      },
      "execution_count": 171,
      "outputs": [
        {
          "output_type": "stream",
          "name": "stderr",
          "text": [
            "ERROR:dowhy.causal_graph:Error: Pygraphviz cannot be loaded. No module named 'pygraphviz'\n",
            "Trying pydot ...\n"
          ]
        }
      ]
    },
    {
      "cell_type": "markdown",
      "source": [
        "### 2. Identify\n",
        "\n",
        "Check whether the target quantity can be estimated given the observed variables.\n"
      ],
      "metadata": {
        "id": "grcH1gBJOoIb"
      }
    },
    {
      "cell_type": "code",
      "source": [
        "identified_estimand = model.identify_effect(proceed_when_unidentifiable=True)\n",
        "print(identified_estimand)"
      ],
      "metadata": {
        "colab": {
          "base_uri": "https://localhost:8080/"
        },
        "id": "eac3l-WPNR4e",
        "outputId": "f906657c-1fc7-4a00-fba8-db80d85460a1"
      },
      "execution_count": 172,
      "outputs": [
        {
          "output_type": "stream",
          "name": "stdout",
          "text": [
            "Estimand type: nonparametric-ate\n",
            "\n",
            "### Estimand : 1\n",
            "Estimand name: backdoor\n",
            "Estimand expression:\n",
            "    d                              \n",
            "──────────(Expectation(quality|pH))\n",
            "d[alcohol]                         \n",
            "Estimand assumption 1, Unconfoundedness: If U→{alcohol} and U→quality then P(quality|alcohol,pH,U) = P(quality|alcohol,pH)\n",
            "\n",
            "### Estimand : 2\n",
            "Estimand name: iv\n",
            "Estimand expression:\n",
            "Expectation(Derivative(quality, [density])*Derivative([alcohol], [density])**(\n",
            "-1))\n",
            "Estimand assumption 1, As-if-random: If U→→quality then ¬(U →→{density})\n",
            "Estimand assumption 2, Exclusion: If we remove {density}→{alcohol}, then ¬({density}→quality)\n",
            "\n",
            "### Estimand : 3\n",
            "Estimand name: frontdoor\n",
            "No such variable(s) found!\n",
            "\n"
          ]
        }
      ]
    },
    {
      "cell_type": "markdown",
      "source": [
        "### 3. Estimation"
      ],
      "metadata": {
        "id": "DMLD0Z7RO_t3"
      }
    },
    {
      "cell_type": "code",
      "source": [
        "estimate = model.estimate_effect(identified_estimand,\n",
        "                                 method_name=\"backdoor.linear_regression\")\n",
        "\n",
        "print(estimate)"
      ],
      "metadata": {
        "colab": {
          "base_uri": "https://localhost:8080/"
        },
        "id": "d9BVKPS9PFeR",
        "outputId": "c8d74bd8-0679-4b73-9881-34f30ad574e8"
      },
      "execution_count": 173,
      "outputs": [
        {
          "output_type": "stream",
          "name": "stdout",
          "text": [
            "linear_regression\n",
            "{'control_value': 0, 'treatment_value': 1, 'test_significance': None, 'evaluate_effect_strength': False, 'confidence_intervals': False, 'target_units': 'ate', 'effect_modifiers': ['chlorides', 'residual sugar']}\n",
            "*** Causal Estimate ***\n",
            "\n",
            "## Identified estimand\n",
            "Estimand type: nonparametric-ate\n",
            "\n",
            "### Estimand : 1\n",
            "Estimand name: backdoor\n",
            "Estimand expression:\n",
            "    d                              \n",
            "──────────(Expectation(quality|pH))\n",
            "d[alcohol]                         \n",
            "Estimand assumption 1, Unconfoundedness: If U→{alcohol} and U→quality then P(quality|alcohol,pH,U) = P(quality|alcohol,pH)\n",
            "\n",
            "## Realized estimand\n",
            "b: quality~alcohol+pH+alcohol*chlorides+alcohol*residual sugar\n",
            "Target units: ate\n",
            "\n",
            "## Estimate\n",
            "Mean value: 0.37762785614028926\n",
            "### Conditional Estimates\n",
            "__categorical__chlorides  __categorical__residual sugar\n",
            "(0.011, 0.067]            (0.899, 1.8]                     0.382635\n",
            "                          (1.8, 2.1]                       0.381675\n",
            "                          (2.1, 2.3]                       0.381414\n",
            "                          (2.3, 2.7]                       0.381149\n",
            "                          (2.7, 15.5]                      0.377024\n",
            "(0.067, 0.076]            (0.899, 1.8]                     0.380652\n",
            "                          (1.8, 2.1]                       0.380120\n",
            "                          (2.1, 2.3]                       0.379823\n",
            "                          (2.3, 2.7]                       0.379431\n",
            "                          (2.7, 15.5]                      0.375673\n",
            "(0.076, 0.082]            (0.899, 1.8]                     0.379818\n",
            "                          (1.8, 2.1]                       0.379340\n",
            "                          (2.1, 2.3]                       0.378984\n",
            "                          (2.3, 2.7]                       0.378599\n",
            "                          (2.7, 15.5]                      0.376886\n",
            "(0.082, 0.094]            (0.899, 1.8]                     0.378887\n",
            "                          (1.8, 2.1]                       0.378475\n",
            "                          (2.1, 2.3]                       0.378051\n",
            "                          (2.3, 2.7]                       0.377546\n",
            "                          (2.7, 15.5]                      0.375676\n",
            "(0.094, 0.611]            (0.899, 1.8]                     0.366504\n",
            "                          (1.8, 2.1]                       0.372425\n",
            "                          (2.1, 2.3]                       0.373770\n",
            "                          (2.3, 2.7]                       0.373148\n",
            "                          (2.7, 15.5]                      0.370188\n",
            "dtype: float64\n"
          ]
        }
      ]
    },
    {
      "cell_type": "markdown",
      "source": [
        "### 4. Refutation\n",
        "\n",
        "Adding a random cause should not change the effect of the treatment.\n",
        "\n",
        "Using a placebo should cause the treatment to have close to no effect."
      ],
      "metadata": {
        "id": "U2NSSJAuPf_a"
      }
    },
    {
      "cell_type": "code",
      "source": [
        "refute_results_random = model.refute_estimate(identified_estimand, estimate,\n",
        "                                       method_name=\"random_common_cause\")\n",
        "print(refute_results_random)"
      ],
      "metadata": {
        "colab": {
          "base_uri": "https://localhost:8080/"
        },
        "id": "7I-hpQsOPkV-",
        "outputId": "a4aff369-5335-440e-8b3c-43fc36101bd5"
      },
      "execution_count": 174,
      "outputs": [
        {
          "output_type": "stream",
          "name": "stdout",
          "text": [
            "{'control_value': 0, 'treatment_value': 1, 'test_significance': False, 'evaluate_effect_strength': False, 'confidence_intervals': False, 'target_units': 'ate', 'effect_modifiers': ['chlorides', 'residual sugar']}\n",
            "{'control_value': 0, 'treatment_value': 1, 'test_significance': False, 'evaluate_effect_strength': False, 'confidence_intervals': False, 'target_units': 'ate', 'effect_modifiers': ['chlorides', 'residual sugar']}\n",
            "{'control_value': 0, 'treatment_value': 1, 'test_significance': False, 'evaluate_effect_strength': False, 'confidence_intervals': False, 'target_units': 'ate', 'effect_modifiers': ['chlorides', 'residual sugar']}\n",
            "{'control_value': 0, 'treatment_value': 1, 'test_significance': False, 'evaluate_effect_strength': False, 'confidence_intervals': False, 'target_units': 'ate', 'effect_modifiers': ['chlorides', 'residual sugar']}\n",
            "{'control_value': 0, 'treatment_value': 1, 'test_significance': False, 'evaluate_effect_strength': False, 'confidence_intervals': False, 'target_units': 'ate', 'effect_modifiers': ['chlorides', 'residual sugar']}\n",
            "{'control_value': 0, 'treatment_value': 1, 'test_significance': False, 'evaluate_effect_strength': False, 'confidence_intervals': False, 'target_units': 'ate', 'effect_modifiers': ['chlorides', 'residual sugar']}\n",
            "{'control_value': 0, 'treatment_value': 1, 'test_significance': False, 'evaluate_effect_strength': False, 'confidence_intervals': False, 'target_units': 'ate', 'effect_modifiers': ['chlorides', 'residual sugar']}\n",
            "{'control_value': 0, 'treatment_value': 1, 'test_significance': False, 'evaluate_effect_strength': False, 'confidence_intervals': False, 'target_units': 'ate', 'effect_modifiers': ['chlorides', 'residual sugar']}\n",
            "{'control_value': 0, 'treatment_value': 1, 'test_significance': False, 'evaluate_effect_strength': False, 'confidence_intervals': False, 'target_units': 'ate', 'effect_modifiers': ['chlorides', 'residual sugar']}\n",
            "{'control_value': 0, 'treatment_value': 1, 'test_significance': False, 'evaluate_effect_strength': False, 'confidence_intervals': False, 'target_units': 'ate', 'effect_modifiers': ['chlorides', 'residual sugar']}\n",
            "{'control_value': 0, 'treatment_value': 1, 'test_significance': False, 'evaluate_effect_strength': False, 'confidence_intervals': False, 'target_units': 'ate', 'effect_modifiers': ['chlorides', 'residual sugar']}\n",
            "{'control_value': 0, 'treatment_value': 1, 'test_significance': False, 'evaluate_effect_strength': False, 'confidence_intervals': False, 'target_units': 'ate', 'effect_modifiers': ['chlorides', 'residual sugar']}\n",
            "{'control_value': 0, 'treatment_value': 1, 'test_significance': False, 'evaluate_effect_strength': False, 'confidence_intervals': False, 'target_units': 'ate', 'effect_modifiers': ['chlorides', 'residual sugar']}\n",
            "{'control_value': 0, 'treatment_value': 1, 'test_significance': False, 'evaluate_effect_strength': False, 'confidence_intervals': False, 'target_units': 'ate', 'effect_modifiers': ['chlorides', 'residual sugar']}\n",
            "{'control_value': 0, 'treatment_value': 1, 'test_significance': False, 'evaluate_effect_strength': False, 'confidence_intervals': False, 'target_units': 'ate', 'effect_modifiers': ['chlorides', 'residual sugar']}\n",
            "{'control_value': 0, 'treatment_value': 1, 'test_significance': False, 'evaluate_effect_strength': False, 'confidence_intervals': False, 'target_units': 'ate', 'effect_modifiers': ['chlorides', 'residual sugar']}\n",
            "{'control_value': 0, 'treatment_value': 1, 'test_significance': False, 'evaluate_effect_strength': False, 'confidence_intervals': False, 'target_units': 'ate', 'effect_modifiers': ['chlorides', 'residual sugar']}\n",
            "{'control_value': 0, 'treatment_value': 1, 'test_significance': False, 'evaluate_effect_strength': False, 'confidence_intervals': False, 'target_units': 'ate', 'effect_modifiers': ['chlorides', 'residual sugar']}\n",
            "{'control_value': 0, 'treatment_value': 1, 'test_significance': False, 'evaluate_effect_strength': False, 'confidence_intervals': False, 'target_units': 'ate', 'effect_modifiers': ['chlorides', 'residual sugar']}\n",
            "{'control_value': 0, 'treatment_value': 1, 'test_significance': False, 'evaluate_effect_strength': False, 'confidence_intervals': False, 'target_units': 'ate', 'effect_modifiers': ['chlorides', 'residual sugar']}\n",
            "{'control_value': 0, 'treatment_value': 1, 'test_significance': False, 'evaluate_effect_strength': False, 'confidence_intervals': False, 'target_units': 'ate', 'effect_modifiers': ['chlorides', 'residual sugar']}\n",
            "{'control_value': 0, 'treatment_value': 1, 'test_significance': False, 'evaluate_effect_strength': False, 'confidence_intervals': False, 'target_units': 'ate', 'effect_modifiers': ['chlorides', 'residual sugar']}\n",
            "{'control_value': 0, 'treatment_value': 1, 'test_significance': False, 'evaluate_effect_strength': False, 'confidence_intervals': False, 'target_units': 'ate', 'effect_modifiers': ['chlorides', 'residual sugar']}\n",
            "{'control_value': 0, 'treatment_value': 1, 'test_significance': False, 'evaluate_effect_strength': False, 'confidence_intervals': False, 'target_units': 'ate', 'effect_modifiers': ['chlorides', 'residual sugar']}\n",
            "{'control_value': 0, 'treatment_value': 1, 'test_significance': False, 'evaluate_effect_strength': False, 'confidence_intervals': False, 'target_units': 'ate', 'effect_modifiers': ['chlorides', 'residual sugar']}\n",
            "{'control_value': 0, 'treatment_value': 1, 'test_significance': False, 'evaluate_effect_strength': False, 'confidence_intervals': False, 'target_units': 'ate', 'effect_modifiers': ['chlorides', 'residual sugar']}\n",
            "{'control_value': 0, 'treatment_value': 1, 'test_significance': False, 'evaluate_effect_strength': False, 'confidence_intervals': False, 'target_units': 'ate', 'effect_modifiers': ['chlorides', 'residual sugar']}\n",
            "{'control_value': 0, 'treatment_value': 1, 'test_significance': False, 'evaluate_effect_strength': False, 'confidence_intervals': False, 'target_units': 'ate', 'effect_modifiers': ['chlorides', 'residual sugar']}\n",
            "{'control_value': 0, 'treatment_value': 1, 'test_significance': False, 'evaluate_effect_strength': False, 'confidence_intervals': False, 'target_units': 'ate', 'effect_modifiers': ['chlorides', 'residual sugar']}\n",
            "{'control_value': 0, 'treatment_value': 1, 'test_significance': False, 'evaluate_effect_strength': False, 'confidence_intervals': False, 'target_units': 'ate', 'effect_modifiers': ['chlorides', 'residual sugar']}\n",
            "{'control_value': 0, 'treatment_value': 1, 'test_significance': False, 'evaluate_effect_strength': False, 'confidence_intervals': False, 'target_units': 'ate', 'effect_modifiers': ['chlorides', 'residual sugar']}\n",
            "{'control_value': 0, 'treatment_value': 1, 'test_significance': False, 'evaluate_effect_strength': False, 'confidence_intervals': False, 'target_units': 'ate', 'effect_modifiers': ['chlorides', 'residual sugar']}\n",
            "{'control_value': 0, 'treatment_value': 1, 'test_significance': False, 'evaluate_effect_strength': False, 'confidence_intervals': False, 'target_units': 'ate', 'effect_modifiers': ['chlorides', 'residual sugar']}\n",
            "{'control_value': 0, 'treatment_value': 1, 'test_significance': False, 'evaluate_effect_strength': False, 'confidence_intervals': False, 'target_units': 'ate', 'effect_modifiers': ['chlorides', 'residual sugar']}\n",
            "{'control_value': 0, 'treatment_value': 1, 'test_significance': False, 'evaluate_effect_strength': False, 'confidence_intervals': False, 'target_units': 'ate', 'effect_modifiers': ['chlorides', 'residual sugar']}\n",
            "{'control_value': 0, 'treatment_value': 1, 'test_significance': False, 'evaluate_effect_strength': False, 'confidence_intervals': False, 'target_units': 'ate', 'effect_modifiers': ['chlorides', 'residual sugar']}\n",
            "{'control_value': 0, 'treatment_value': 1, 'test_significance': False, 'evaluate_effect_strength': False, 'confidence_intervals': False, 'target_units': 'ate', 'effect_modifiers': ['chlorides', 'residual sugar']}\n",
            "{'control_value': 0, 'treatment_value': 1, 'test_significance': False, 'evaluate_effect_strength': False, 'confidence_intervals': False, 'target_units': 'ate', 'effect_modifiers': ['chlorides', 'residual sugar']}\n",
            "{'control_value': 0, 'treatment_value': 1, 'test_significance': False, 'evaluate_effect_strength': False, 'confidence_intervals': False, 'target_units': 'ate', 'effect_modifiers': ['chlorides', 'residual sugar']}\n",
            "{'control_value': 0, 'treatment_value': 1, 'test_significance': False, 'evaluate_effect_strength': False, 'confidence_intervals': False, 'target_units': 'ate', 'effect_modifiers': ['chlorides', 'residual sugar']}\n",
            "{'control_value': 0, 'treatment_value': 1, 'test_significance': False, 'evaluate_effect_strength': False, 'confidence_intervals': False, 'target_units': 'ate', 'effect_modifiers': ['chlorides', 'residual sugar']}\n",
            "{'control_value': 0, 'treatment_value': 1, 'test_significance': False, 'evaluate_effect_strength': False, 'confidence_intervals': False, 'target_units': 'ate', 'effect_modifiers': ['chlorides', 'residual sugar']}\n",
            "{'control_value': 0, 'treatment_value': 1, 'test_significance': False, 'evaluate_effect_strength': False, 'confidence_intervals': False, 'target_units': 'ate', 'effect_modifiers': ['chlorides', 'residual sugar']}\n",
            "{'control_value': 0, 'treatment_value': 1, 'test_significance': False, 'evaluate_effect_strength': False, 'confidence_intervals': False, 'target_units': 'ate', 'effect_modifiers': ['chlorides', 'residual sugar']}\n",
            "{'control_value': 0, 'treatment_value': 1, 'test_significance': False, 'evaluate_effect_strength': False, 'confidence_intervals': False, 'target_units': 'ate', 'effect_modifiers': ['chlorides', 'residual sugar']}\n",
            "{'control_value': 0, 'treatment_value': 1, 'test_significance': False, 'evaluate_effect_strength': False, 'confidence_intervals': False, 'target_units': 'ate', 'effect_modifiers': ['chlorides', 'residual sugar']}\n",
            "{'control_value': 0, 'treatment_value': 1, 'test_significance': False, 'evaluate_effect_strength': False, 'confidence_intervals': False, 'target_units': 'ate', 'effect_modifiers': ['chlorides', 'residual sugar']}\n",
            "{'control_value': 0, 'treatment_value': 1, 'test_significance': False, 'evaluate_effect_strength': False, 'confidence_intervals': False, 'target_units': 'ate', 'effect_modifiers': ['chlorides', 'residual sugar']}\n",
            "{'control_value': 0, 'treatment_value': 1, 'test_significance': False, 'evaluate_effect_strength': False, 'confidence_intervals': False, 'target_units': 'ate', 'effect_modifiers': ['chlorides', 'residual sugar']}\n",
            "{'control_value': 0, 'treatment_value': 1, 'test_significance': False, 'evaluate_effect_strength': False, 'confidence_intervals': False, 'target_units': 'ate', 'effect_modifiers': ['chlorides', 'residual sugar']}\n",
            "{'control_value': 0, 'treatment_value': 1, 'test_significance': False, 'evaluate_effect_strength': False, 'confidence_intervals': False, 'target_units': 'ate', 'effect_modifiers': ['chlorides', 'residual sugar']}\n",
            "{'control_value': 0, 'treatment_value': 1, 'test_significance': False, 'evaluate_effect_strength': False, 'confidence_intervals': False, 'target_units': 'ate', 'effect_modifiers': ['chlorides', 'residual sugar']}\n",
            "{'control_value': 0, 'treatment_value': 1, 'test_significance': False, 'evaluate_effect_strength': False, 'confidence_intervals': False, 'target_units': 'ate', 'effect_modifiers': ['chlorides', 'residual sugar']}\n",
            "{'control_value': 0, 'treatment_value': 1, 'test_significance': False, 'evaluate_effect_strength': False, 'confidence_intervals': False, 'target_units': 'ate', 'effect_modifiers': ['chlorides', 'residual sugar']}\n",
            "{'control_value': 0, 'treatment_value': 1, 'test_significance': False, 'evaluate_effect_strength': False, 'confidence_intervals': False, 'target_units': 'ate', 'effect_modifiers': ['chlorides', 'residual sugar']}\n",
            "{'control_value': 0, 'treatment_value': 1, 'test_significance': False, 'evaluate_effect_strength': False, 'confidence_intervals': False, 'target_units': 'ate', 'effect_modifiers': ['chlorides', 'residual sugar']}\n",
            "{'control_value': 0, 'treatment_value': 1, 'test_significance': False, 'evaluate_effect_strength': False, 'confidence_intervals': False, 'target_units': 'ate', 'effect_modifiers': ['chlorides', 'residual sugar']}\n",
            "{'control_value': 0, 'treatment_value': 1, 'test_significance': False, 'evaluate_effect_strength': False, 'confidence_intervals': False, 'target_units': 'ate', 'effect_modifiers': ['chlorides', 'residual sugar']}\n",
            "{'control_value': 0, 'treatment_value': 1, 'test_significance': False, 'evaluate_effect_strength': False, 'confidence_intervals': False, 'target_units': 'ate', 'effect_modifiers': ['chlorides', 'residual sugar']}\n",
            "{'control_value': 0, 'treatment_value': 1, 'test_significance': False, 'evaluate_effect_strength': False, 'confidence_intervals': False, 'target_units': 'ate', 'effect_modifiers': ['chlorides', 'residual sugar']}\n",
            "{'control_value': 0, 'treatment_value': 1, 'test_significance': False, 'evaluate_effect_strength': False, 'confidence_intervals': False, 'target_units': 'ate', 'effect_modifiers': ['chlorides', 'residual sugar']}\n",
            "{'control_value': 0, 'treatment_value': 1, 'test_significance': False, 'evaluate_effect_strength': False, 'confidence_intervals': False, 'target_units': 'ate', 'effect_modifiers': ['chlorides', 'residual sugar']}\n",
            "{'control_value': 0, 'treatment_value': 1, 'test_significance': False, 'evaluate_effect_strength': False, 'confidence_intervals': False, 'target_units': 'ate', 'effect_modifiers': ['chlorides', 'residual sugar']}\n",
            "{'control_value': 0, 'treatment_value': 1, 'test_significance': False, 'evaluate_effect_strength': False, 'confidence_intervals': False, 'target_units': 'ate', 'effect_modifiers': ['chlorides', 'residual sugar']}\n",
            "{'control_value': 0, 'treatment_value': 1, 'test_significance': False, 'evaluate_effect_strength': False, 'confidence_intervals': False, 'target_units': 'ate', 'effect_modifiers': ['chlorides', 'residual sugar']}\n",
            "{'control_value': 0, 'treatment_value': 1, 'test_significance': False, 'evaluate_effect_strength': False, 'confidence_intervals': False, 'target_units': 'ate', 'effect_modifiers': ['chlorides', 'residual sugar']}\n",
            "{'control_value': 0, 'treatment_value': 1, 'test_significance': False, 'evaluate_effect_strength': False, 'confidence_intervals': False, 'target_units': 'ate', 'effect_modifiers': ['chlorides', 'residual sugar']}\n",
            "{'control_value': 0, 'treatment_value': 1, 'test_significance': False, 'evaluate_effect_strength': False, 'confidence_intervals': False, 'target_units': 'ate', 'effect_modifiers': ['chlorides', 'residual sugar']}\n",
            "{'control_value': 0, 'treatment_value': 1, 'test_significance': False, 'evaluate_effect_strength': False, 'confidence_intervals': False, 'target_units': 'ate', 'effect_modifiers': ['chlorides', 'residual sugar']}\n",
            "{'control_value': 0, 'treatment_value': 1, 'test_significance': False, 'evaluate_effect_strength': False, 'confidence_intervals': False, 'target_units': 'ate', 'effect_modifiers': ['chlorides', 'residual sugar']}\n",
            "{'control_value': 0, 'treatment_value': 1, 'test_significance': False, 'evaluate_effect_strength': False, 'confidence_intervals': False, 'target_units': 'ate', 'effect_modifiers': ['chlorides', 'residual sugar']}\n",
            "{'control_value': 0, 'treatment_value': 1, 'test_significance': False, 'evaluate_effect_strength': False, 'confidence_intervals': False, 'target_units': 'ate', 'effect_modifiers': ['chlorides', 'residual sugar']}\n",
            "{'control_value': 0, 'treatment_value': 1, 'test_significance': False, 'evaluate_effect_strength': False, 'confidence_intervals': False, 'target_units': 'ate', 'effect_modifiers': ['chlorides', 'residual sugar']}\n",
            "{'control_value': 0, 'treatment_value': 1, 'test_significance': False, 'evaluate_effect_strength': False, 'confidence_intervals': False, 'target_units': 'ate', 'effect_modifiers': ['chlorides', 'residual sugar']}\n",
            "{'control_value': 0, 'treatment_value': 1, 'test_significance': False, 'evaluate_effect_strength': False, 'confidence_intervals': False, 'target_units': 'ate', 'effect_modifiers': ['chlorides', 'residual sugar']}\n",
            "{'control_value': 0, 'treatment_value': 1, 'test_significance': False, 'evaluate_effect_strength': False, 'confidence_intervals': False, 'target_units': 'ate', 'effect_modifiers': ['chlorides', 'residual sugar']}\n",
            "{'control_value': 0, 'treatment_value': 1, 'test_significance': False, 'evaluate_effect_strength': False, 'confidence_intervals': False, 'target_units': 'ate', 'effect_modifiers': ['chlorides', 'residual sugar']}\n",
            "{'control_value': 0, 'treatment_value': 1, 'test_significance': False, 'evaluate_effect_strength': False, 'confidence_intervals': False, 'target_units': 'ate', 'effect_modifiers': ['chlorides', 'residual sugar']}\n",
            "{'control_value': 0, 'treatment_value': 1, 'test_significance': False, 'evaluate_effect_strength': False, 'confidence_intervals': False, 'target_units': 'ate', 'effect_modifiers': ['chlorides', 'residual sugar']}\n",
            "{'control_value': 0, 'treatment_value': 1, 'test_significance': False, 'evaluate_effect_strength': False, 'confidence_intervals': False, 'target_units': 'ate', 'effect_modifiers': ['chlorides', 'residual sugar']}\n",
            "{'control_value': 0, 'treatment_value': 1, 'test_significance': False, 'evaluate_effect_strength': False, 'confidence_intervals': False, 'target_units': 'ate', 'effect_modifiers': ['chlorides', 'residual sugar']}\n",
            "{'control_value': 0, 'treatment_value': 1, 'test_significance': False, 'evaluate_effect_strength': False, 'confidence_intervals': False, 'target_units': 'ate', 'effect_modifiers': ['chlorides', 'residual sugar']}\n",
            "{'control_value': 0, 'treatment_value': 1, 'test_significance': False, 'evaluate_effect_strength': False, 'confidence_intervals': False, 'target_units': 'ate', 'effect_modifiers': ['chlorides', 'residual sugar']}\n",
            "{'control_value': 0, 'treatment_value': 1, 'test_significance': False, 'evaluate_effect_strength': False, 'confidence_intervals': False, 'target_units': 'ate', 'effect_modifiers': ['chlorides', 'residual sugar']}\n",
            "{'control_value': 0, 'treatment_value': 1, 'test_significance': False, 'evaluate_effect_strength': False, 'confidence_intervals': False, 'target_units': 'ate', 'effect_modifiers': ['chlorides', 'residual sugar']}\n",
            "{'control_value': 0, 'treatment_value': 1, 'test_significance': False, 'evaluate_effect_strength': False, 'confidence_intervals': False, 'target_units': 'ate', 'effect_modifiers': ['chlorides', 'residual sugar']}\n",
            "{'control_value': 0, 'treatment_value': 1, 'test_significance': False, 'evaluate_effect_strength': False, 'confidence_intervals': False, 'target_units': 'ate', 'effect_modifiers': ['chlorides', 'residual sugar']}\n",
            "{'control_value': 0, 'treatment_value': 1, 'test_significance': False, 'evaluate_effect_strength': False, 'confidence_intervals': False, 'target_units': 'ate', 'effect_modifiers': ['chlorides', 'residual sugar']}\n",
            "{'control_value': 0, 'treatment_value': 1, 'test_significance': False, 'evaluate_effect_strength': False, 'confidence_intervals': False, 'target_units': 'ate', 'effect_modifiers': ['chlorides', 'residual sugar']}\n",
            "{'control_value': 0, 'treatment_value': 1, 'test_significance': False, 'evaluate_effect_strength': False, 'confidence_intervals': False, 'target_units': 'ate', 'effect_modifiers': ['chlorides', 'residual sugar']}\n",
            "{'control_value': 0, 'treatment_value': 1, 'test_significance': False, 'evaluate_effect_strength': False, 'confidence_intervals': False, 'target_units': 'ate', 'effect_modifiers': ['chlorides', 'residual sugar']}\n",
            "{'control_value': 0, 'treatment_value': 1, 'test_significance': False, 'evaluate_effect_strength': False, 'confidence_intervals': False, 'target_units': 'ate', 'effect_modifiers': ['chlorides', 'residual sugar']}\n",
            "{'control_value': 0, 'treatment_value': 1, 'test_significance': False, 'evaluate_effect_strength': False, 'confidence_intervals': False, 'target_units': 'ate', 'effect_modifiers': ['chlorides', 'residual sugar']}\n",
            "{'control_value': 0, 'treatment_value': 1, 'test_significance': False, 'evaluate_effect_strength': False, 'confidence_intervals': False, 'target_units': 'ate', 'effect_modifiers': ['chlorides', 'residual sugar']}\n",
            "{'control_value': 0, 'treatment_value': 1, 'test_significance': False, 'evaluate_effect_strength': False, 'confidence_intervals': False, 'target_units': 'ate', 'effect_modifiers': ['chlorides', 'residual sugar']}\n",
            "{'control_value': 0, 'treatment_value': 1, 'test_significance': False, 'evaluate_effect_strength': False, 'confidence_intervals': False, 'target_units': 'ate', 'effect_modifiers': ['chlorides', 'residual sugar']}\n",
            "{'control_value': 0, 'treatment_value': 1, 'test_significance': False, 'evaluate_effect_strength': False, 'confidence_intervals': False, 'target_units': 'ate', 'effect_modifiers': ['chlorides', 'residual sugar']}\n",
            "{'control_value': 0, 'treatment_value': 1, 'test_significance': False, 'evaluate_effect_strength': False, 'confidence_intervals': False, 'target_units': 'ate', 'effect_modifiers': ['chlorides', 'residual sugar']}\n",
            "{'control_value': 0, 'treatment_value': 1, 'test_significance': False, 'evaluate_effect_strength': False, 'confidence_intervals': False, 'target_units': 'ate', 'effect_modifiers': ['chlorides', 'residual sugar']}\n",
            "{'control_value': 0, 'treatment_value': 1, 'test_significance': False, 'evaluate_effect_strength': False, 'confidence_intervals': False, 'target_units': 'ate', 'effect_modifiers': ['chlorides', 'residual sugar']}\n",
            "Refute: Add a random common cause\n",
            "Estimated effect:0.37762785614028926\n",
            "New effect:0.37766036017170507\n",
            "p value:0.44\n",
            "\n"
          ]
        }
      ]
    },
    {
      "cell_type": "code",
      "source": [
        "refute_results_placebo = model.refute_estimate(identified_estimand, estimate,\n",
        "                                       method_name=\"placebo_treatment_refuter\")\n",
        "print(refute_results_placebo)"
      ],
      "metadata": {
        "colab": {
          "base_uri": "https://localhost:8080/"
        },
        "id": "8551K5HEpJF5",
        "outputId": "209e9aee-bdc1-438b-b522-fb2b0b0965a8"
      },
      "execution_count": 175,
      "outputs": [
        {
          "output_type": "stream",
          "name": "stdout",
          "text": [
            "{'control_value': 0, 'treatment_value': 1, 'test_significance': False, 'evaluate_effect_strength': False, 'confidence_intervals': False, 'target_units': 'ate', 'effect_modifiers': ['chlorides', 'residual sugar']}\n",
            "{'control_value': 0, 'treatment_value': 1, 'test_significance': False, 'evaluate_effect_strength': False, 'confidence_intervals': False, 'target_units': 'ate', 'effect_modifiers': ['chlorides', 'residual sugar']}\n",
            "{'control_value': 0, 'treatment_value': 1, 'test_significance': False, 'evaluate_effect_strength': False, 'confidence_intervals': False, 'target_units': 'ate', 'effect_modifiers': ['chlorides', 'residual sugar']}\n",
            "{'control_value': 0, 'treatment_value': 1, 'test_significance': False, 'evaluate_effect_strength': False, 'confidence_intervals': False, 'target_units': 'ate', 'effect_modifiers': ['chlorides', 'residual sugar']}\n",
            "{'control_value': 0, 'treatment_value': 1, 'test_significance': False, 'evaluate_effect_strength': False, 'confidence_intervals': False, 'target_units': 'ate', 'effect_modifiers': ['chlorides', 'residual sugar']}\n",
            "{'control_value': 0, 'treatment_value': 1, 'test_significance': False, 'evaluate_effect_strength': False, 'confidence_intervals': False, 'target_units': 'ate', 'effect_modifiers': ['chlorides', 'residual sugar']}\n",
            "{'control_value': 0, 'treatment_value': 1, 'test_significance': False, 'evaluate_effect_strength': False, 'confidence_intervals': False, 'target_units': 'ate', 'effect_modifiers': ['chlorides', 'residual sugar']}\n",
            "{'control_value': 0, 'treatment_value': 1, 'test_significance': False, 'evaluate_effect_strength': False, 'confidence_intervals': False, 'target_units': 'ate', 'effect_modifiers': ['chlorides', 'residual sugar']}\n",
            "{'control_value': 0, 'treatment_value': 1, 'test_significance': False, 'evaluate_effect_strength': False, 'confidence_intervals': False, 'target_units': 'ate', 'effect_modifiers': ['chlorides', 'residual sugar']}\n",
            "{'control_value': 0, 'treatment_value': 1, 'test_significance': False, 'evaluate_effect_strength': False, 'confidence_intervals': False, 'target_units': 'ate', 'effect_modifiers': ['chlorides', 'residual sugar']}\n",
            "{'control_value': 0, 'treatment_value': 1, 'test_significance': False, 'evaluate_effect_strength': False, 'confidence_intervals': False, 'target_units': 'ate', 'effect_modifiers': ['chlorides', 'residual sugar']}\n",
            "{'control_value': 0, 'treatment_value': 1, 'test_significance': False, 'evaluate_effect_strength': False, 'confidence_intervals': False, 'target_units': 'ate', 'effect_modifiers': ['chlorides', 'residual sugar']}\n",
            "{'control_value': 0, 'treatment_value': 1, 'test_significance': False, 'evaluate_effect_strength': False, 'confidence_intervals': False, 'target_units': 'ate', 'effect_modifiers': ['chlorides', 'residual sugar']}\n",
            "{'control_value': 0, 'treatment_value': 1, 'test_significance': False, 'evaluate_effect_strength': False, 'confidence_intervals': False, 'target_units': 'ate', 'effect_modifiers': ['chlorides', 'residual sugar']}\n",
            "{'control_value': 0, 'treatment_value': 1, 'test_significance': False, 'evaluate_effect_strength': False, 'confidence_intervals': False, 'target_units': 'ate', 'effect_modifiers': ['chlorides', 'residual sugar']}\n",
            "{'control_value': 0, 'treatment_value': 1, 'test_significance': False, 'evaluate_effect_strength': False, 'confidence_intervals': False, 'target_units': 'ate', 'effect_modifiers': ['chlorides', 'residual sugar']}\n",
            "{'control_value': 0, 'treatment_value': 1, 'test_significance': False, 'evaluate_effect_strength': False, 'confidence_intervals': False, 'target_units': 'ate', 'effect_modifiers': ['chlorides', 'residual sugar']}\n",
            "{'control_value': 0, 'treatment_value': 1, 'test_significance': False, 'evaluate_effect_strength': False, 'confidence_intervals': False, 'target_units': 'ate', 'effect_modifiers': ['chlorides', 'residual sugar']}\n",
            "{'control_value': 0, 'treatment_value': 1, 'test_significance': False, 'evaluate_effect_strength': False, 'confidence_intervals': False, 'target_units': 'ate', 'effect_modifiers': ['chlorides', 'residual sugar']}\n",
            "{'control_value': 0, 'treatment_value': 1, 'test_significance': False, 'evaluate_effect_strength': False, 'confidence_intervals': False, 'target_units': 'ate', 'effect_modifiers': ['chlorides', 'residual sugar']}\n",
            "{'control_value': 0, 'treatment_value': 1, 'test_significance': False, 'evaluate_effect_strength': False, 'confidence_intervals': False, 'target_units': 'ate', 'effect_modifiers': ['chlorides', 'residual sugar']}\n",
            "{'control_value': 0, 'treatment_value': 1, 'test_significance': False, 'evaluate_effect_strength': False, 'confidence_intervals': False, 'target_units': 'ate', 'effect_modifiers': ['chlorides', 'residual sugar']}\n",
            "{'control_value': 0, 'treatment_value': 1, 'test_significance': False, 'evaluate_effect_strength': False, 'confidence_intervals': False, 'target_units': 'ate', 'effect_modifiers': ['chlorides', 'residual sugar']}\n",
            "{'control_value': 0, 'treatment_value': 1, 'test_significance': False, 'evaluate_effect_strength': False, 'confidence_intervals': False, 'target_units': 'ate', 'effect_modifiers': ['chlorides', 'residual sugar']}\n",
            "{'control_value': 0, 'treatment_value': 1, 'test_significance': False, 'evaluate_effect_strength': False, 'confidence_intervals': False, 'target_units': 'ate', 'effect_modifiers': ['chlorides', 'residual sugar']}\n",
            "{'control_value': 0, 'treatment_value': 1, 'test_significance': False, 'evaluate_effect_strength': False, 'confidence_intervals': False, 'target_units': 'ate', 'effect_modifiers': ['chlorides', 'residual sugar']}\n",
            "{'control_value': 0, 'treatment_value': 1, 'test_significance': False, 'evaluate_effect_strength': False, 'confidence_intervals': False, 'target_units': 'ate', 'effect_modifiers': ['chlorides', 'residual sugar']}\n",
            "{'control_value': 0, 'treatment_value': 1, 'test_significance': False, 'evaluate_effect_strength': False, 'confidence_intervals': False, 'target_units': 'ate', 'effect_modifiers': ['chlorides', 'residual sugar']}\n",
            "{'control_value': 0, 'treatment_value': 1, 'test_significance': False, 'evaluate_effect_strength': False, 'confidence_intervals': False, 'target_units': 'ate', 'effect_modifiers': ['chlorides', 'residual sugar']}\n",
            "{'control_value': 0, 'treatment_value': 1, 'test_significance': False, 'evaluate_effect_strength': False, 'confidence_intervals': False, 'target_units': 'ate', 'effect_modifiers': ['chlorides', 'residual sugar']}\n",
            "{'control_value': 0, 'treatment_value': 1, 'test_significance': False, 'evaluate_effect_strength': False, 'confidence_intervals': False, 'target_units': 'ate', 'effect_modifiers': ['chlorides', 'residual sugar']}\n",
            "{'control_value': 0, 'treatment_value': 1, 'test_significance': False, 'evaluate_effect_strength': False, 'confidence_intervals': False, 'target_units': 'ate', 'effect_modifiers': ['chlorides', 'residual sugar']}\n",
            "{'control_value': 0, 'treatment_value': 1, 'test_significance': False, 'evaluate_effect_strength': False, 'confidence_intervals': False, 'target_units': 'ate', 'effect_modifiers': ['chlorides', 'residual sugar']}\n",
            "{'control_value': 0, 'treatment_value': 1, 'test_significance': False, 'evaluate_effect_strength': False, 'confidence_intervals': False, 'target_units': 'ate', 'effect_modifiers': ['chlorides', 'residual sugar']}\n",
            "{'control_value': 0, 'treatment_value': 1, 'test_significance': False, 'evaluate_effect_strength': False, 'confidence_intervals': False, 'target_units': 'ate', 'effect_modifiers': ['chlorides', 'residual sugar']}\n",
            "{'control_value': 0, 'treatment_value': 1, 'test_significance': False, 'evaluate_effect_strength': False, 'confidence_intervals': False, 'target_units': 'ate', 'effect_modifiers': ['chlorides', 'residual sugar']}\n",
            "{'control_value': 0, 'treatment_value': 1, 'test_significance': False, 'evaluate_effect_strength': False, 'confidence_intervals': False, 'target_units': 'ate', 'effect_modifiers': ['chlorides', 'residual sugar']}\n",
            "{'control_value': 0, 'treatment_value': 1, 'test_significance': False, 'evaluate_effect_strength': False, 'confidence_intervals': False, 'target_units': 'ate', 'effect_modifiers': ['chlorides', 'residual sugar']}\n",
            "{'control_value': 0, 'treatment_value': 1, 'test_significance': False, 'evaluate_effect_strength': False, 'confidence_intervals': False, 'target_units': 'ate', 'effect_modifiers': ['chlorides', 'residual sugar']}\n",
            "{'control_value': 0, 'treatment_value': 1, 'test_significance': False, 'evaluate_effect_strength': False, 'confidence_intervals': False, 'target_units': 'ate', 'effect_modifiers': ['chlorides', 'residual sugar']}\n",
            "{'control_value': 0, 'treatment_value': 1, 'test_significance': False, 'evaluate_effect_strength': False, 'confidence_intervals': False, 'target_units': 'ate', 'effect_modifiers': ['chlorides', 'residual sugar']}\n",
            "{'control_value': 0, 'treatment_value': 1, 'test_significance': False, 'evaluate_effect_strength': False, 'confidence_intervals': False, 'target_units': 'ate', 'effect_modifiers': ['chlorides', 'residual sugar']}\n",
            "{'control_value': 0, 'treatment_value': 1, 'test_significance': False, 'evaluate_effect_strength': False, 'confidence_intervals': False, 'target_units': 'ate', 'effect_modifiers': ['chlorides', 'residual sugar']}\n",
            "{'control_value': 0, 'treatment_value': 1, 'test_significance': False, 'evaluate_effect_strength': False, 'confidence_intervals': False, 'target_units': 'ate', 'effect_modifiers': ['chlorides', 'residual sugar']}\n",
            "{'control_value': 0, 'treatment_value': 1, 'test_significance': False, 'evaluate_effect_strength': False, 'confidence_intervals': False, 'target_units': 'ate', 'effect_modifiers': ['chlorides', 'residual sugar']}\n",
            "{'control_value': 0, 'treatment_value': 1, 'test_significance': False, 'evaluate_effect_strength': False, 'confidence_intervals': False, 'target_units': 'ate', 'effect_modifiers': ['chlorides', 'residual sugar']}\n",
            "{'control_value': 0, 'treatment_value': 1, 'test_significance': False, 'evaluate_effect_strength': False, 'confidence_intervals': False, 'target_units': 'ate', 'effect_modifiers': ['chlorides', 'residual sugar']}\n",
            "{'control_value': 0, 'treatment_value': 1, 'test_significance': False, 'evaluate_effect_strength': False, 'confidence_intervals': False, 'target_units': 'ate', 'effect_modifiers': ['chlorides', 'residual sugar']}\n",
            "{'control_value': 0, 'treatment_value': 1, 'test_significance': False, 'evaluate_effect_strength': False, 'confidence_intervals': False, 'target_units': 'ate', 'effect_modifiers': ['chlorides', 'residual sugar']}\n",
            "{'control_value': 0, 'treatment_value': 1, 'test_significance': False, 'evaluate_effect_strength': False, 'confidence_intervals': False, 'target_units': 'ate', 'effect_modifiers': ['chlorides', 'residual sugar']}\n",
            "{'control_value': 0, 'treatment_value': 1, 'test_significance': False, 'evaluate_effect_strength': False, 'confidence_intervals': False, 'target_units': 'ate', 'effect_modifiers': ['chlorides', 'residual sugar']}\n",
            "{'control_value': 0, 'treatment_value': 1, 'test_significance': False, 'evaluate_effect_strength': False, 'confidence_intervals': False, 'target_units': 'ate', 'effect_modifiers': ['chlorides', 'residual sugar']}\n",
            "{'control_value': 0, 'treatment_value': 1, 'test_significance': False, 'evaluate_effect_strength': False, 'confidence_intervals': False, 'target_units': 'ate', 'effect_modifiers': ['chlorides', 'residual sugar']}\n",
            "{'control_value': 0, 'treatment_value': 1, 'test_significance': False, 'evaluate_effect_strength': False, 'confidence_intervals': False, 'target_units': 'ate', 'effect_modifiers': ['chlorides', 'residual sugar']}\n",
            "{'control_value': 0, 'treatment_value': 1, 'test_significance': False, 'evaluate_effect_strength': False, 'confidence_intervals': False, 'target_units': 'ate', 'effect_modifiers': ['chlorides', 'residual sugar']}\n",
            "{'control_value': 0, 'treatment_value': 1, 'test_significance': False, 'evaluate_effect_strength': False, 'confidence_intervals': False, 'target_units': 'ate', 'effect_modifiers': ['chlorides', 'residual sugar']}\n",
            "{'control_value': 0, 'treatment_value': 1, 'test_significance': False, 'evaluate_effect_strength': False, 'confidence_intervals': False, 'target_units': 'ate', 'effect_modifiers': ['chlorides', 'residual sugar']}\n",
            "{'control_value': 0, 'treatment_value': 1, 'test_significance': False, 'evaluate_effect_strength': False, 'confidence_intervals': False, 'target_units': 'ate', 'effect_modifiers': ['chlorides', 'residual sugar']}\n",
            "{'control_value': 0, 'treatment_value': 1, 'test_significance': False, 'evaluate_effect_strength': False, 'confidence_intervals': False, 'target_units': 'ate', 'effect_modifiers': ['chlorides', 'residual sugar']}\n",
            "{'control_value': 0, 'treatment_value': 1, 'test_significance': False, 'evaluate_effect_strength': False, 'confidence_intervals': False, 'target_units': 'ate', 'effect_modifiers': ['chlorides', 'residual sugar']}\n",
            "{'control_value': 0, 'treatment_value': 1, 'test_significance': False, 'evaluate_effect_strength': False, 'confidence_intervals': False, 'target_units': 'ate', 'effect_modifiers': ['chlorides', 'residual sugar']}\n",
            "{'control_value': 0, 'treatment_value': 1, 'test_significance': False, 'evaluate_effect_strength': False, 'confidence_intervals': False, 'target_units': 'ate', 'effect_modifiers': ['chlorides', 'residual sugar']}\n",
            "{'control_value': 0, 'treatment_value': 1, 'test_significance': False, 'evaluate_effect_strength': False, 'confidence_intervals': False, 'target_units': 'ate', 'effect_modifiers': ['chlorides', 'residual sugar']}\n",
            "{'control_value': 0, 'treatment_value': 1, 'test_significance': False, 'evaluate_effect_strength': False, 'confidence_intervals': False, 'target_units': 'ate', 'effect_modifiers': ['chlorides', 'residual sugar']}\n",
            "{'control_value': 0, 'treatment_value': 1, 'test_significance': False, 'evaluate_effect_strength': False, 'confidence_intervals': False, 'target_units': 'ate', 'effect_modifiers': ['chlorides', 'residual sugar']}\n",
            "{'control_value': 0, 'treatment_value': 1, 'test_significance': False, 'evaluate_effect_strength': False, 'confidence_intervals': False, 'target_units': 'ate', 'effect_modifiers': ['chlorides', 'residual sugar']}\n",
            "{'control_value': 0, 'treatment_value': 1, 'test_significance': False, 'evaluate_effect_strength': False, 'confidence_intervals': False, 'target_units': 'ate', 'effect_modifiers': ['chlorides', 'residual sugar']}\n",
            "{'control_value': 0, 'treatment_value': 1, 'test_significance': False, 'evaluate_effect_strength': False, 'confidence_intervals': False, 'target_units': 'ate', 'effect_modifiers': ['chlorides', 'residual sugar']}\n",
            "{'control_value': 0, 'treatment_value': 1, 'test_significance': False, 'evaluate_effect_strength': False, 'confidence_intervals': False, 'target_units': 'ate', 'effect_modifiers': ['chlorides', 'residual sugar']}\n",
            "{'control_value': 0, 'treatment_value': 1, 'test_significance': False, 'evaluate_effect_strength': False, 'confidence_intervals': False, 'target_units': 'ate', 'effect_modifiers': ['chlorides', 'residual sugar']}\n",
            "{'control_value': 0, 'treatment_value': 1, 'test_significance': False, 'evaluate_effect_strength': False, 'confidence_intervals': False, 'target_units': 'ate', 'effect_modifiers': ['chlorides', 'residual sugar']}\n",
            "{'control_value': 0, 'treatment_value': 1, 'test_significance': False, 'evaluate_effect_strength': False, 'confidence_intervals': False, 'target_units': 'ate', 'effect_modifiers': ['chlorides', 'residual sugar']}\n",
            "{'control_value': 0, 'treatment_value': 1, 'test_significance': False, 'evaluate_effect_strength': False, 'confidence_intervals': False, 'target_units': 'ate', 'effect_modifiers': ['chlorides', 'residual sugar']}\n",
            "{'control_value': 0, 'treatment_value': 1, 'test_significance': False, 'evaluate_effect_strength': False, 'confidence_intervals': False, 'target_units': 'ate', 'effect_modifiers': ['chlorides', 'residual sugar']}\n",
            "{'control_value': 0, 'treatment_value': 1, 'test_significance': False, 'evaluate_effect_strength': False, 'confidence_intervals': False, 'target_units': 'ate', 'effect_modifiers': ['chlorides', 'residual sugar']}\n",
            "{'control_value': 0, 'treatment_value': 1, 'test_significance': False, 'evaluate_effect_strength': False, 'confidence_intervals': False, 'target_units': 'ate', 'effect_modifiers': ['chlorides', 'residual sugar']}\n",
            "{'control_value': 0, 'treatment_value': 1, 'test_significance': False, 'evaluate_effect_strength': False, 'confidence_intervals': False, 'target_units': 'ate', 'effect_modifiers': ['chlorides', 'residual sugar']}\n",
            "{'control_value': 0, 'treatment_value': 1, 'test_significance': False, 'evaluate_effect_strength': False, 'confidence_intervals': False, 'target_units': 'ate', 'effect_modifiers': ['chlorides', 'residual sugar']}\n",
            "{'control_value': 0, 'treatment_value': 1, 'test_significance': False, 'evaluate_effect_strength': False, 'confidence_intervals': False, 'target_units': 'ate', 'effect_modifiers': ['chlorides', 'residual sugar']}\n",
            "{'control_value': 0, 'treatment_value': 1, 'test_significance': False, 'evaluate_effect_strength': False, 'confidence_intervals': False, 'target_units': 'ate', 'effect_modifiers': ['chlorides', 'residual sugar']}\n",
            "{'control_value': 0, 'treatment_value': 1, 'test_significance': False, 'evaluate_effect_strength': False, 'confidence_intervals': False, 'target_units': 'ate', 'effect_modifiers': ['chlorides', 'residual sugar']}\n",
            "{'control_value': 0, 'treatment_value': 1, 'test_significance': False, 'evaluate_effect_strength': False, 'confidence_intervals': False, 'target_units': 'ate', 'effect_modifiers': ['chlorides', 'residual sugar']}\n",
            "{'control_value': 0, 'treatment_value': 1, 'test_significance': False, 'evaluate_effect_strength': False, 'confidence_intervals': False, 'target_units': 'ate', 'effect_modifiers': ['chlorides', 'residual sugar']}\n",
            "{'control_value': 0, 'treatment_value': 1, 'test_significance': False, 'evaluate_effect_strength': False, 'confidence_intervals': False, 'target_units': 'ate', 'effect_modifiers': ['chlorides', 'residual sugar']}\n",
            "{'control_value': 0, 'treatment_value': 1, 'test_significance': False, 'evaluate_effect_strength': False, 'confidence_intervals': False, 'target_units': 'ate', 'effect_modifiers': ['chlorides', 'residual sugar']}\n",
            "{'control_value': 0, 'treatment_value': 1, 'test_significance': False, 'evaluate_effect_strength': False, 'confidence_intervals': False, 'target_units': 'ate', 'effect_modifiers': ['chlorides', 'residual sugar']}\n",
            "{'control_value': 0, 'treatment_value': 1, 'test_significance': False, 'evaluate_effect_strength': False, 'confidence_intervals': False, 'target_units': 'ate', 'effect_modifiers': ['chlorides', 'residual sugar']}\n",
            "{'control_value': 0, 'treatment_value': 1, 'test_significance': False, 'evaluate_effect_strength': False, 'confidence_intervals': False, 'target_units': 'ate', 'effect_modifiers': ['chlorides', 'residual sugar']}\n",
            "{'control_value': 0, 'treatment_value': 1, 'test_significance': False, 'evaluate_effect_strength': False, 'confidence_intervals': False, 'target_units': 'ate', 'effect_modifiers': ['chlorides', 'residual sugar']}\n",
            "{'control_value': 0, 'treatment_value': 1, 'test_significance': False, 'evaluate_effect_strength': False, 'confidence_intervals': False, 'target_units': 'ate', 'effect_modifiers': ['chlorides', 'residual sugar']}\n",
            "{'control_value': 0, 'treatment_value': 1, 'test_significance': False, 'evaluate_effect_strength': False, 'confidence_intervals': False, 'target_units': 'ate', 'effect_modifiers': ['chlorides', 'residual sugar']}\n",
            "{'control_value': 0, 'treatment_value': 1, 'test_significance': False, 'evaluate_effect_strength': False, 'confidence_intervals': False, 'target_units': 'ate', 'effect_modifiers': ['chlorides', 'residual sugar']}\n",
            "{'control_value': 0, 'treatment_value': 1, 'test_significance': False, 'evaluate_effect_strength': False, 'confidence_intervals': False, 'target_units': 'ate', 'effect_modifiers': ['chlorides', 'residual sugar']}\n",
            "{'control_value': 0, 'treatment_value': 1, 'test_significance': False, 'evaluate_effect_strength': False, 'confidence_intervals': False, 'target_units': 'ate', 'effect_modifiers': ['chlorides', 'residual sugar']}\n",
            "{'control_value': 0, 'treatment_value': 1, 'test_significance': False, 'evaluate_effect_strength': False, 'confidence_intervals': False, 'target_units': 'ate', 'effect_modifiers': ['chlorides', 'residual sugar']}\n",
            "{'control_value': 0, 'treatment_value': 1, 'test_significance': False, 'evaluate_effect_strength': False, 'confidence_intervals': False, 'target_units': 'ate', 'effect_modifiers': ['chlorides', 'residual sugar']}\n",
            "{'control_value': 0, 'treatment_value': 1, 'test_significance': False, 'evaluate_effect_strength': False, 'confidence_intervals': False, 'target_units': 'ate', 'effect_modifiers': ['chlorides', 'residual sugar']}\n",
            "{'control_value': 0, 'treatment_value': 1, 'test_significance': False, 'evaluate_effect_strength': False, 'confidence_intervals': False, 'target_units': 'ate', 'effect_modifiers': ['chlorides', 'residual sugar']}\n",
            "{'control_value': 0, 'treatment_value': 1, 'test_significance': False, 'evaluate_effect_strength': False, 'confidence_intervals': False, 'target_units': 'ate', 'effect_modifiers': ['chlorides', 'residual sugar']}\n",
            "{'control_value': 0, 'treatment_value': 1, 'test_significance': False, 'evaluate_effect_strength': False, 'confidence_intervals': False, 'target_units': 'ate', 'effect_modifiers': ['chlorides', 'residual sugar']}\n",
            "Refute: Use a Placebo Treatment\n",
            "Estimated effect:0.37762785614028926\n",
            "New effect:0.0\n",
            "p value:1.0\n",
            "\n"
          ]
        }
      ]
    },
    {
      "cell_type": "markdown",
      "source": [
        "# Conclusion\n",
        "\n",
        "From our observations of causal effects on alcohol for our quality outcome, we found that acidity had a measurable effect. We find that the quality wine changes by approx 0.377 due to the alcohol content. This causal relationship is tested for robustness by our refutation tests for a random cause and placebo which both succeeded in validating the model."
      ],
      "metadata": {
        "id": "6_AdjHvNrxht"
      }
    }
  ]
}