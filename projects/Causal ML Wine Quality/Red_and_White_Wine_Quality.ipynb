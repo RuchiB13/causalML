{
  "nbformat": 4,
  "nbformat_minor": 0,
  "metadata": {
    "colab": {
      "name": "Red and White Wine Quality.ipynb",
      "provenance": []
    },
    "kernelspec": {
      "name": "python3",
      "display_name": "Python 3"
    },
    "language_info": {
      "name": "python"
    }
  },
  "cells": [
    {
      "cell_type": "markdown",
      "source": [
        "# **Red and White Wine Quality**\n",
        "\n",
        "## The Data\n",
        "For this example, we will be using a wine quality dataset from CMU that includes essential ground truth causal information. This dataset contains 12 features inclusing the output feature.\n",
        "\n",
        "1.  fixed acidity\n",
        "2.  volatile acidity\n",
        "3.  citric acid\n",
        "4.  residual sugar\n",
        "5.  chlorides\n",
        "6.  free sulfur dioxide\n",
        "7.  total sulfur dioxide\n",
        "8.  density\n",
        "9.  pH\n",
        "10.  sulphates\n",
        "11.  alcohol\n",
        "12.  quality (score between 0 and 10) **Output variable**\n",
        "\n",
        "We know from external sources that the ground truth DAG must have at least edges from both `alcohol` and `total_sulfur_dioxide` to quality. We also know that edges between the features are possible."
      ],
      "metadata": {
        "id": "gQrgTHAzsTM1"
      }
    },
    {
      "cell_type": "code",
      "execution_count": 1,
      "metadata": {
        "colab": {
          "base_uri": "https://localhost:8080/"
        },
        "id": "o4_OKztvsHP8",
        "outputId": "c53f7842-f9fc-43d1-8659-65b4b05e6c4e"
      },
      "outputs": [
        {
          "output_type": "stream",
          "name": "stdout",
          "text": [
            "Looking in indexes: https://pypi.org/simple, https://us-python.pkg.dev/colab-wheels/public/simple/\n",
            "Collecting dowhy\n",
            "  Downloading dowhy-0.8-py3-none-any.whl (287 kB)\n",
            "\u001b[K     |████████████████████████████████| 287 kB 10.8 MB/s \n",
            "\u001b[?25hRequirement already satisfied: pandas>=0.24 in /usr/local/lib/python3.7/dist-packages (from dowhy) (1.3.5)\n",
            "Requirement already satisfied: networkx>=2.0 in /usr/local/lib/python3.7/dist-packages (from dowhy) (2.6.3)\n",
            "Collecting pydot>=1.4\n",
            "  Downloading pydot-1.4.2-py2.py3-none-any.whl (21 kB)\n",
            "Requirement already satisfied: sympy>=1.4 in /usr/local/lib/python3.7/dist-packages (from dowhy) (1.7.1)\n",
            "Requirement already satisfied: statsmodels in /usr/local/lib/python3.7/dist-packages (from dowhy) (0.12.2)\n",
            "Requirement already satisfied: scipy in /usr/local/lib/python3.7/dist-packages (from dowhy) (1.7.3)\n",
            "Requirement already satisfied: scikit-learn in /usr/local/lib/python3.7/dist-packages (from dowhy) (1.0.2)\n",
            "Requirement already satisfied: numpy>=1.15 in /usr/local/lib/python3.7/dist-packages (from dowhy) (1.21.6)\n",
            "Requirement already satisfied: pytz>=2017.3 in /usr/local/lib/python3.7/dist-packages (from pandas>=0.24->dowhy) (2022.2.1)\n",
            "Requirement already satisfied: python-dateutil>=2.7.3 in /usr/local/lib/python3.7/dist-packages (from pandas>=0.24->dowhy) (2.8.2)\n",
            "Requirement already satisfied: pyparsing>=2.1.4 in /usr/local/lib/python3.7/dist-packages (from pydot>=1.4->dowhy) (3.0.9)\n",
            "Requirement already satisfied: six>=1.5 in /usr/local/lib/python3.7/dist-packages (from python-dateutil>=2.7.3->pandas>=0.24->dowhy) (1.15.0)\n",
            "Requirement already satisfied: mpmath>=0.19 in /usr/local/lib/python3.7/dist-packages (from sympy>=1.4->dowhy) (1.2.1)\n",
            "Requirement already satisfied: threadpoolctl>=2.0.0 in /usr/local/lib/python3.7/dist-packages (from scikit-learn->dowhy) (3.1.0)\n",
            "Requirement already satisfied: joblib>=0.11 in /usr/local/lib/python3.7/dist-packages (from scikit-learn->dowhy) (1.1.0)\n",
            "Requirement already satisfied: patsy>=0.5 in /usr/local/lib/python3.7/dist-packages (from statsmodels->dowhy) (0.5.2)\n",
            "Installing collected packages: pydot, dowhy\n",
            "  Attempting uninstall: pydot\n",
            "    Found existing installation: pydot 1.3.0\n",
            "    Uninstalling pydot-1.3.0:\n",
            "      Successfully uninstalled pydot-1.3.0\n",
            "Successfully installed dowhy-0.8 pydot-1.4.2\n",
            "Looking in indexes: https://pypi.org/simple, https://us-python.pkg.dev/colab-wheels/public/simple/\n",
            "Collecting lingam\n",
            "  Downloading lingam-1.6.0-py3-none-any.whl (79 kB)\n",
            "\u001b[K     |████████████████████████████████| 79 kB 5.3 MB/s \n",
            "\u001b[?25hRequirement already satisfied: scipy in /usr/local/lib/python3.7/dist-packages (from lingam) (1.7.3)\n",
            "Requirement already satisfied: scikit-learn in /usr/local/lib/python3.7/dist-packages (from lingam) (1.0.2)\n",
            "Requirement already satisfied: graphviz in /usr/local/lib/python3.7/dist-packages (from lingam) (0.10.1)\n",
            "Requirement already satisfied: numpy in /usr/local/lib/python3.7/dist-packages (from lingam) (1.21.6)\n",
            "Requirement already satisfied: statsmodels in /usr/local/lib/python3.7/dist-packages (from lingam) (0.12.2)\n",
            "Requirement already satisfied: threadpoolctl>=2.0.0 in /usr/local/lib/python3.7/dist-packages (from scikit-learn->lingam) (3.1.0)\n",
            "Requirement already satisfied: joblib>=0.11 in /usr/local/lib/python3.7/dist-packages (from scikit-learn->lingam) (1.1.0)\n",
            "Requirement already satisfied: pandas>=0.21 in /usr/local/lib/python3.7/dist-packages (from statsmodels->lingam) (1.3.5)\n",
            "Requirement already satisfied: patsy>=0.5 in /usr/local/lib/python3.7/dist-packages (from statsmodels->lingam) (0.5.2)\n",
            "Requirement already satisfied: pytz>=2017.3 in /usr/local/lib/python3.7/dist-packages (from pandas>=0.21->statsmodels->lingam) (2022.2.1)\n",
            "Requirement already satisfied: python-dateutil>=2.7.3 in /usr/local/lib/python3.7/dist-packages (from pandas>=0.21->statsmodels->lingam) (2.8.2)\n",
            "Requirement already satisfied: six in /usr/local/lib/python3.7/dist-packages (from patsy>=0.5->statsmodels->lingam) (1.15.0)\n",
            "Installing collected packages: lingam\n",
            "Successfully installed lingam-1.6.0\n",
            "Looking in indexes: https://pypi.org/simple, https://us-python.pkg.dev/colab-wheels/public/simple/\n",
            "Collecting igraph\n",
            "  Downloading igraph-0.9.11-cp37-cp37m-manylinux_2_17_x86_64.manylinux2014_x86_64.whl (3.1 MB)\n",
            "\u001b[K     |████████████████████████████████| 3.1 MB 8.5 MB/s \n",
            "\u001b[?25hCollecting texttable>=1.6.2\n",
            "  Downloading texttable-1.6.4-py2.py3-none-any.whl (10 kB)\n",
            "Installing collected packages: texttable, igraph\n",
            "Successfully installed igraph-0.9.11 texttable-1.6.4\n",
            "Looking in indexes: https://pypi.org/simple, https://us-python.pkg.dev/colab-wheels/public/simple/\n",
            "Collecting factor_analyzer\n",
            "  Downloading factor_analyzer-0.4.0.tar.gz (41 kB)\n",
            "\u001b[K     |████████████████████████████████| 41 kB 575 kB/s \n",
            "\u001b[?25hRequirement already satisfied: pandas in /usr/local/lib/python3.7/dist-packages (from factor_analyzer) (1.3.5)\n",
            "Requirement already satisfied: scipy in /usr/local/lib/python3.7/dist-packages (from factor_analyzer) (1.7.3)\n",
            "Requirement already satisfied: numpy in /usr/local/lib/python3.7/dist-packages (from factor_analyzer) (1.21.6)\n",
            "Requirement already satisfied: scikit-learn in /usr/local/lib/python3.7/dist-packages (from factor_analyzer) (1.0.2)\n",
            "Requirement already satisfied: pytz>=2017.3 in /usr/local/lib/python3.7/dist-packages (from pandas->factor_analyzer) (2022.2.1)\n",
            "Requirement already satisfied: python-dateutil>=2.7.3 in /usr/local/lib/python3.7/dist-packages (from pandas->factor_analyzer) (2.8.2)\n",
            "Requirement already satisfied: six>=1.5 in /usr/local/lib/python3.7/dist-packages (from python-dateutil>=2.7.3->pandas->factor_analyzer) (1.15.0)\n",
            "Requirement already satisfied: threadpoolctl>=2.0.0 in /usr/local/lib/python3.7/dist-packages (from scikit-learn->factor_analyzer) (3.1.0)\n",
            "Requirement already satisfied: joblib>=0.11 in /usr/local/lib/python3.7/dist-packages (from scikit-learn->factor_analyzer) (1.1.0)\n",
            "Building wheels for collected packages: factor-analyzer\n",
            "  Building wheel for factor-analyzer (setup.py) ... \u001b[?25l\u001b[?25hdone\n",
            "  Created wheel for factor-analyzer: filename=factor_analyzer-0.4.0-py3-none-any.whl size=41455 sha256=81f5e11017d1d1de9464d85d82db423d198479e0934a8cc999bd17cf0dd8eee0\n",
            "  Stored in directory: /root/.cache/pip/wheels/ac/00/37/1f0e8a5039f9e9f207c4405bbce0796f07701eb377bfc6cc76\n",
            "Successfully built factor-analyzer\n",
            "Installing collected packages: factor-analyzer\n",
            "Successfully installed factor-analyzer-0.4.0\n",
            "Looking in indexes: https://pypi.org/simple, https://us-python.pkg.dev/colab-wheels/public/simple/\n",
            "Collecting econml\n",
            "  Downloading econml-0.13.1-cp37-cp37m-manylinux_2_17_x86_64.manylinux2014_x86_64.whl (3.3 MB)\n",
            "\u001b[K     |████████████████████████████████| 3.3 MB 8.2 MB/s \n",
            "\u001b[?25hCollecting dowhy<0.8\n",
            "  Downloading dowhy-0.7.1-py3-none-any.whl (164 kB)\n",
            "\u001b[K     |████████████████████████████████| 164 kB 67.9 MB/s \n",
            "\u001b[?25hRequirement already satisfied: pandas in /usr/local/lib/python3.7/dist-packages (from econml) (1.3.5)\n",
            "Requirement already satisfied: joblib>=0.13.0 in /usr/local/lib/python3.7/dist-packages (from econml) (1.1.0)\n",
            "Requirement already satisfied: scikit-learn<1.2,>0.22.0 in /usr/local/lib/python3.7/dist-packages (from econml) (1.0.2)\n",
            "Requirement already satisfied: scipy>1.4.0 in /usr/local/lib/python3.7/dist-packages (from econml) (1.7.3)\n",
            "Collecting shap<0.41.0,>=0.38.1\n",
            "  Downloading shap-0.40.0-cp37-cp37m-manylinux2010_x86_64.whl (564 kB)\n",
            "\u001b[K     |████████████████████████████████| 564 kB 65.7 MB/s \n",
            "\u001b[?25hRequirement already satisfied: numpy in /usr/local/lib/python3.7/dist-packages (from econml) (1.21.6)\n",
            "Requirement already satisfied: statsmodels>=0.10 in /usr/local/lib/python3.7/dist-packages (from econml) (0.12.2)\n",
            "Requirement already satisfied: lightgbm in /usr/local/lib/python3.7/dist-packages (from econml) (2.2.3)\n",
            "Collecting sparse\n",
            "  Downloading sparse-0.13.0-py2.py3-none-any.whl (77 kB)\n",
            "\u001b[K     |████████████████████████████████| 77 kB 7.2 MB/s \n",
            "\u001b[?25hRequirement already satisfied: networkx>=2.0 in /usr/local/lib/python3.7/dist-packages (from dowhy<0.8->econml) (2.6.3)\n",
            "Requirement already satisfied: pydot>=1.4 in /usr/local/lib/python3.7/dist-packages (from dowhy<0.8->econml) (1.4.2)\n",
            "Requirement already satisfied: sympy>=1.4 in /usr/local/lib/python3.7/dist-packages (from dowhy<0.8->econml) (1.7.1)\n",
            "Requirement already satisfied: python-dateutil>=2.7.3 in /usr/local/lib/python3.7/dist-packages (from pandas->econml) (2.8.2)\n",
            "Requirement already satisfied: pytz>=2017.3 in /usr/local/lib/python3.7/dist-packages (from pandas->econml) (2022.2.1)\n",
            "Requirement already satisfied: pyparsing>=2.1.4 in /usr/local/lib/python3.7/dist-packages (from pydot>=1.4->dowhy<0.8->econml) (3.0.9)\n",
            "Requirement already satisfied: six>=1.5 in /usr/local/lib/python3.7/dist-packages (from python-dateutil>=2.7.3->pandas->econml) (1.15.0)\n",
            "Requirement already satisfied: threadpoolctl>=2.0.0 in /usr/local/lib/python3.7/dist-packages (from scikit-learn<1.2,>0.22.0->econml) (3.1.0)\n",
            "Requirement already satisfied: packaging>20.9 in /usr/local/lib/python3.7/dist-packages (from shap<0.41.0,>=0.38.1->econml) (21.3)\n",
            "Collecting slicer==0.0.7\n",
            "  Downloading slicer-0.0.7-py3-none-any.whl (14 kB)\n",
            "Requirement already satisfied: tqdm>4.25.0 in /usr/local/lib/python3.7/dist-packages (from shap<0.41.0,>=0.38.1->econml) (4.64.0)\n",
            "Requirement already satisfied: numba in /usr/local/lib/python3.7/dist-packages (from shap<0.41.0,>=0.38.1->econml) (0.56.0)\n",
            "Requirement already satisfied: cloudpickle in /usr/local/lib/python3.7/dist-packages (from shap<0.41.0,>=0.38.1->econml) (1.5.0)\n",
            "Requirement already satisfied: patsy>=0.5 in /usr/local/lib/python3.7/dist-packages (from statsmodels>=0.10->econml) (0.5.2)\n",
            "Requirement already satisfied: mpmath>=0.19 in /usr/local/lib/python3.7/dist-packages (from sympy>=1.4->dowhy<0.8->econml) (1.2.1)\n",
            "Requirement already satisfied: importlib-metadata in /usr/local/lib/python3.7/dist-packages (from numba->shap<0.41.0,>=0.38.1->econml) (4.12.0)\n",
            "Requirement already satisfied: llvmlite<0.40,>=0.39.0dev0 in /usr/local/lib/python3.7/dist-packages (from numba->shap<0.41.0,>=0.38.1->econml) (0.39.0)\n",
            "Requirement already satisfied: setuptools in /usr/local/lib/python3.7/dist-packages (from numba->shap<0.41.0,>=0.38.1->econml) (57.4.0)\n",
            "Requirement already satisfied: typing-extensions>=3.6.4 in /usr/local/lib/python3.7/dist-packages (from importlib-metadata->numba->shap<0.41.0,>=0.38.1->econml) (4.1.1)\n",
            "Requirement already satisfied: zipp>=0.5 in /usr/local/lib/python3.7/dist-packages (from importlib-metadata->numba->shap<0.41.0,>=0.38.1->econml) (3.8.1)\n",
            "Installing collected packages: slicer, sparse, shap, dowhy, econml\n",
            "  Attempting uninstall: dowhy\n",
            "    Found existing installation: dowhy 0.8\n",
            "    Uninstalling dowhy-0.8:\n",
            "      Successfully uninstalled dowhy-0.8\n",
            "Successfully installed dowhy-0.7.1 econml-0.13.1 shap-0.40.0 slicer-0.0.7 sparse-0.13.0\n"
          ]
        }
      ],
      "source": [
        "!pip install dowhy\n",
        "!pip install lingam\n",
        "!pip install igraph\n",
        "!pip install factor_analyzer\n",
        "!pip install econml"
      ]
    },
    {
      "cell_type": "code",
      "source": [
        "import numpy as np\n",
        "import pandas as pd\n",
        "\n",
        "from dowhy import CausalModel\n",
        "import dowhy.causal_refuters as causal_refuters\n",
        "import dowhy.datasets\n",
        "import dowhy.api\n",
        "\n",
        "from sklearn.preprocessing import PolynomialFeatures\n",
        "from sklearn.linear_model import LassoCV\n",
        "from sklearn.ensemble import GradientBoostingRegressor\n",
        "\n",
        "from statsmodels.api import OLS\n",
        "\n",
        "import matplotlib.pyplot as plt\n",
        "\n",
        "import warnings\n",
        "warnings.simplefilter('ignore')\n",
        "import graphviz\n",
        "import lingam\n",
        "from lingam.utils import make_prior_knowledge"
      ],
      "metadata": {
        "id": "VLi5NYDCsxyj"
      },
      "execution_count": 2,
      "outputs": []
    },
    {
      "cell_type": "code",
      "source": [
        "# Read in the Red and White Wine Quality data set from repo\n",
        "red_data = pd.read_csv(\"https://raw.githubusercontent.com/zygmuntz/wine-quality/master/winequality/winequality-red.csv\", sep=None)\n",
        "white_data = pd.read_csv(\"https://raw.githubusercontent.com/shrikant-temburwar/Wine-Quality-Dataset/master/winequality-white.csv\", sep=None)\n",
        "\n",
        "# Display the first 5 elements of the data\n",
        "red_data.head(5)"
      ],
      "metadata": {
        "colab": {
          "base_uri": "https://localhost:8080/",
          "height": 206
        },
        "id": "lcuuLL-Csx1C",
        "outputId": "97560844-c98c-415e-9ed0-1102ee28cf61"
      },
      "execution_count": 3,
      "outputs": [
        {
          "output_type": "execute_result",
          "data": {
            "text/plain": [
              "   fixed acidity  volatile acidity  citric acid  residual sugar  chlorides  \\\n",
              "0            7.4              0.70         0.00             1.9      0.076   \n",
              "1            7.8              0.88         0.00             2.6      0.098   \n",
              "2            7.8              0.76         0.04             2.3      0.092   \n",
              "3           11.2              0.28         0.56             1.9      0.075   \n",
              "4            7.4              0.70         0.00             1.9      0.076   \n",
              "\n",
              "   free sulfur dioxide  total sulfur dioxide  density    pH  sulphates  \\\n",
              "0                 11.0                  34.0   0.9978  3.51       0.56   \n",
              "1                 25.0                  67.0   0.9968  3.20       0.68   \n",
              "2                 15.0                  54.0   0.9970  3.26       0.65   \n",
              "3                 17.0                  60.0   0.9980  3.16       0.58   \n",
              "4                 11.0                  34.0   0.9978  3.51       0.56   \n",
              "\n",
              "   alcohol  quality  \n",
              "0      9.4        5  \n",
              "1      9.8        5  \n",
              "2      9.8        5  \n",
              "3      9.8        6  \n",
              "4      9.4        5  "
            ],
            "text/html": [
              "\n",
              "  <div id=\"df-cea7e060-f0f8-4758-b22d-cea8f229d3a4\">\n",
              "    <div class=\"colab-df-container\">\n",
              "      <div>\n",
              "<style scoped>\n",
              "    .dataframe tbody tr th:only-of-type {\n",
              "        vertical-align: middle;\n",
              "    }\n",
              "\n",
              "    .dataframe tbody tr th {\n",
              "        vertical-align: top;\n",
              "    }\n",
              "\n",
              "    .dataframe thead th {\n",
              "        text-align: right;\n",
              "    }\n",
              "</style>\n",
              "<table border=\"1\" class=\"dataframe\">\n",
              "  <thead>\n",
              "    <tr style=\"text-align: right;\">\n",
              "      <th></th>\n",
              "      <th>fixed acidity</th>\n",
              "      <th>volatile acidity</th>\n",
              "      <th>citric acid</th>\n",
              "      <th>residual sugar</th>\n",
              "      <th>chlorides</th>\n",
              "      <th>free sulfur dioxide</th>\n",
              "      <th>total sulfur dioxide</th>\n",
              "      <th>density</th>\n",
              "      <th>pH</th>\n",
              "      <th>sulphates</th>\n",
              "      <th>alcohol</th>\n",
              "      <th>quality</th>\n",
              "    </tr>\n",
              "  </thead>\n",
              "  <tbody>\n",
              "    <tr>\n",
              "      <th>0</th>\n",
              "      <td>7.4</td>\n",
              "      <td>0.70</td>\n",
              "      <td>0.00</td>\n",
              "      <td>1.9</td>\n",
              "      <td>0.076</td>\n",
              "      <td>11.0</td>\n",
              "      <td>34.0</td>\n",
              "      <td>0.9978</td>\n",
              "      <td>3.51</td>\n",
              "      <td>0.56</td>\n",
              "      <td>9.4</td>\n",
              "      <td>5</td>\n",
              "    </tr>\n",
              "    <tr>\n",
              "      <th>1</th>\n",
              "      <td>7.8</td>\n",
              "      <td>0.88</td>\n",
              "      <td>0.00</td>\n",
              "      <td>2.6</td>\n",
              "      <td>0.098</td>\n",
              "      <td>25.0</td>\n",
              "      <td>67.0</td>\n",
              "      <td>0.9968</td>\n",
              "      <td>3.20</td>\n",
              "      <td>0.68</td>\n",
              "      <td>9.8</td>\n",
              "      <td>5</td>\n",
              "    </tr>\n",
              "    <tr>\n",
              "      <th>2</th>\n",
              "      <td>7.8</td>\n",
              "      <td>0.76</td>\n",
              "      <td>0.04</td>\n",
              "      <td>2.3</td>\n",
              "      <td>0.092</td>\n",
              "      <td>15.0</td>\n",
              "      <td>54.0</td>\n",
              "      <td>0.9970</td>\n",
              "      <td>3.26</td>\n",
              "      <td>0.65</td>\n",
              "      <td>9.8</td>\n",
              "      <td>5</td>\n",
              "    </tr>\n",
              "    <tr>\n",
              "      <th>3</th>\n",
              "      <td>11.2</td>\n",
              "      <td>0.28</td>\n",
              "      <td>0.56</td>\n",
              "      <td>1.9</td>\n",
              "      <td>0.075</td>\n",
              "      <td>17.0</td>\n",
              "      <td>60.0</td>\n",
              "      <td>0.9980</td>\n",
              "      <td>3.16</td>\n",
              "      <td>0.58</td>\n",
              "      <td>9.8</td>\n",
              "      <td>6</td>\n",
              "    </tr>\n",
              "    <tr>\n",
              "      <th>4</th>\n",
              "      <td>7.4</td>\n",
              "      <td>0.70</td>\n",
              "      <td>0.00</td>\n",
              "      <td>1.9</td>\n",
              "      <td>0.076</td>\n",
              "      <td>11.0</td>\n",
              "      <td>34.0</td>\n",
              "      <td>0.9978</td>\n",
              "      <td>3.51</td>\n",
              "      <td>0.56</td>\n",
              "      <td>9.4</td>\n",
              "      <td>5</td>\n",
              "    </tr>\n",
              "  </tbody>\n",
              "</table>\n",
              "</div>\n",
              "      <button class=\"colab-df-convert\" onclick=\"convertToInteractive('df-cea7e060-f0f8-4758-b22d-cea8f229d3a4')\"\n",
              "              title=\"Convert this dataframe to an interactive table.\"\n",
              "              style=\"display:none;\">\n",
              "        \n",
              "  <svg xmlns=\"http://www.w3.org/2000/svg\" height=\"24px\"viewBox=\"0 0 24 24\"\n",
              "       width=\"24px\">\n",
              "    <path d=\"M0 0h24v24H0V0z\" fill=\"none\"/>\n",
              "    <path d=\"M18.56 5.44l.94 2.06.94-2.06 2.06-.94-2.06-.94-.94-2.06-.94 2.06-2.06.94zm-11 1L8.5 8.5l.94-2.06 2.06-.94-2.06-.94L8.5 2.5l-.94 2.06-2.06.94zm10 10l.94 2.06.94-2.06 2.06-.94-2.06-.94-.94-2.06-.94 2.06-2.06.94z\"/><path d=\"M17.41 7.96l-1.37-1.37c-.4-.4-.92-.59-1.43-.59-.52 0-1.04.2-1.43.59L10.3 9.45l-7.72 7.72c-.78.78-.78 2.05 0 2.83L4 21.41c.39.39.9.59 1.41.59.51 0 1.02-.2 1.41-.59l7.78-7.78 2.81-2.81c.8-.78.8-2.07 0-2.86zM5.41 20L4 18.59l7.72-7.72 1.47 1.35L5.41 20z\"/>\n",
              "  </svg>\n",
              "      </button>\n",
              "      \n",
              "  <style>\n",
              "    .colab-df-container {\n",
              "      display:flex;\n",
              "      flex-wrap:wrap;\n",
              "      gap: 12px;\n",
              "    }\n",
              "\n",
              "    .colab-df-convert {\n",
              "      background-color: #E8F0FE;\n",
              "      border: none;\n",
              "      border-radius: 50%;\n",
              "      cursor: pointer;\n",
              "      display: none;\n",
              "      fill: #1967D2;\n",
              "      height: 32px;\n",
              "      padding: 0 0 0 0;\n",
              "      width: 32px;\n",
              "    }\n",
              "\n",
              "    .colab-df-convert:hover {\n",
              "      background-color: #E2EBFA;\n",
              "      box-shadow: 0px 1px 2px rgba(60, 64, 67, 0.3), 0px 1px 3px 1px rgba(60, 64, 67, 0.15);\n",
              "      fill: #174EA6;\n",
              "    }\n",
              "\n",
              "    [theme=dark] .colab-df-convert {\n",
              "      background-color: #3B4455;\n",
              "      fill: #D2E3FC;\n",
              "    }\n",
              "\n",
              "    [theme=dark] .colab-df-convert:hover {\n",
              "      background-color: #434B5C;\n",
              "      box-shadow: 0px 1px 3px 1px rgba(0, 0, 0, 0.15);\n",
              "      filter: drop-shadow(0px 1px 2px rgba(0, 0, 0, 0.3));\n",
              "      fill: #FFFFFF;\n",
              "    }\n",
              "  </style>\n",
              "\n",
              "      <script>\n",
              "        const buttonEl =\n",
              "          document.querySelector('#df-cea7e060-f0f8-4758-b22d-cea8f229d3a4 button.colab-df-convert');\n",
              "        buttonEl.style.display =\n",
              "          google.colab.kernel.accessAllowed ? 'block' : 'none';\n",
              "\n",
              "        async function convertToInteractive(key) {\n",
              "          const element = document.querySelector('#df-cea7e060-f0f8-4758-b22d-cea8f229d3a4');\n",
              "          const dataTable =\n",
              "            await google.colab.kernel.invokeFunction('convertToInteractive',\n",
              "                                                     [key], {});\n",
              "          if (!dataTable) return;\n",
              "\n",
              "          const docLinkHtml = 'Like what you see? Visit the ' +\n",
              "            '<a target=\"_blank\" href=https://colab.research.google.com/notebooks/data_table.ipynb>data table notebook</a>'\n",
              "            + ' to learn more about interactive tables.';\n",
              "          element.innerHTML = '';\n",
              "          dataTable['output_type'] = 'display_data';\n",
              "          await google.colab.output.renderOutput(dataTable, element);\n",
              "          const docLink = document.createElement('div');\n",
              "          docLink.innerHTML = docLinkHtml;\n",
              "          element.appendChild(docLink);\n",
              "        }\n",
              "      </script>\n",
              "    </div>\n",
              "  </div>\n",
              "  "
            ]
          },
          "metadata": {},
          "execution_count": 3
        }
      ]
    },
    {
      "cell_type": "code",
      "source": [
        "# Display the first 5 elements of the data\n",
        "white_data.head(5)"
      ],
      "metadata": {
        "colab": {
          "base_uri": "https://localhost:8080/",
          "height": 206
        },
        "id": "PNfY86S2sx3v",
        "outputId": "c78a4d57-50ec-4408-9d16-cbbe9260cd12"
      },
      "execution_count": 4,
      "outputs": [
        {
          "output_type": "execute_result",
          "data": {
            "text/plain": [
              "   fixed acidity  volatile acidity  citric acid  residual sugar  chlorides  \\\n",
              "0            7.0              0.27         0.36            20.7      0.045   \n",
              "1            6.3              0.30         0.34             1.6      0.049   \n",
              "2            8.1              0.28         0.40             6.9      0.050   \n",
              "3            7.2              0.23         0.32             8.5      0.058   \n",
              "4            7.2              0.23         0.32             8.5      0.058   \n",
              "\n",
              "   free sulfur dioxide  total sulfur dioxide  density    pH  sulphates  \\\n",
              "0                 45.0                 170.0   1.0010  3.00       0.45   \n",
              "1                 14.0                 132.0   0.9940  3.30       0.49   \n",
              "2                 30.0                  97.0   0.9951  3.26       0.44   \n",
              "3                 47.0                 186.0   0.9956  3.19       0.40   \n",
              "4                 47.0                 186.0   0.9956  3.19       0.40   \n",
              "\n",
              "   alcohol  quality  \n",
              "0      8.8        6  \n",
              "1      9.5        6  \n",
              "2     10.1        6  \n",
              "3      9.9        6  \n",
              "4      9.9        6  "
            ],
            "text/html": [
              "\n",
              "  <div id=\"df-561aeb5d-8861-468b-a43f-641d69402462\">\n",
              "    <div class=\"colab-df-container\">\n",
              "      <div>\n",
              "<style scoped>\n",
              "    .dataframe tbody tr th:only-of-type {\n",
              "        vertical-align: middle;\n",
              "    }\n",
              "\n",
              "    .dataframe tbody tr th {\n",
              "        vertical-align: top;\n",
              "    }\n",
              "\n",
              "    .dataframe thead th {\n",
              "        text-align: right;\n",
              "    }\n",
              "</style>\n",
              "<table border=\"1\" class=\"dataframe\">\n",
              "  <thead>\n",
              "    <tr style=\"text-align: right;\">\n",
              "      <th></th>\n",
              "      <th>fixed acidity</th>\n",
              "      <th>volatile acidity</th>\n",
              "      <th>citric acid</th>\n",
              "      <th>residual sugar</th>\n",
              "      <th>chlorides</th>\n",
              "      <th>free sulfur dioxide</th>\n",
              "      <th>total sulfur dioxide</th>\n",
              "      <th>density</th>\n",
              "      <th>pH</th>\n",
              "      <th>sulphates</th>\n",
              "      <th>alcohol</th>\n",
              "      <th>quality</th>\n",
              "    </tr>\n",
              "  </thead>\n",
              "  <tbody>\n",
              "    <tr>\n",
              "      <th>0</th>\n",
              "      <td>7.0</td>\n",
              "      <td>0.27</td>\n",
              "      <td>0.36</td>\n",
              "      <td>20.7</td>\n",
              "      <td>0.045</td>\n",
              "      <td>45.0</td>\n",
              "      <td>170.0</td>\n",
              "      <td>1.0010</td>\n",
              "      <td>3.00</td>\n",
              "      <td>0.45</td>\n",
              "      <td>8.8</td>\n",
              "      <td>6</td>\n",
              "    </tr>\n",
              "    <tr>\n",
              "      <th>1</th>\n",
              "      <td>6.3</td>\n",
              "      <td>0.30</td>\n",
              "      <td>0.34</td>\n",
              "      <td>1.6</td>\n",
              "      <td>0.049</td>\n",
              "      <td>14.0</td>\n",
              "      <td>132.0</td>\n",
              "      <td>0.9940</td>\n",
              "      <td>3.30</td>\n",
              "      <td>0.49</td>\n",
              "      <td>9.5</td>\n",
              "      <td>6</td>\n",
              "    </tr>\n",
              "    <tr>\n",
              "      <th>2</th>\n",
              "      <td>8.1</td>\n",
              "      <td>0.28</td>\n",
              "      <td>0.40</td>\n",
              "      <td>6.9</td>\n",
              "      <td>0.050</td>\n",
              "      <td>30.0</td>\n",
              "      <td>97.0</td>\n",
              "      <td>0.9951</td>\n",
              "      <td>3.26</td>\n",
              "      <td>0.44</td>\n",
              "      <td>10.1</td>\n",
              "      <td>6</td>\n",
              "    </tr>\n",
              "    <tr>\n",
              "      <th>3</th>\n",
              "      <td>7.2</td>\n",
              "      <td>0.23</td>\n",
              "      <td>0.32</td>\n",
              "      <td>8.5</td>\n",
              "      <td>0.058</td>\n",
              "      <td>47.0</td>\n",
              "      <td>186.0</td>\n",
              "      <td>0.9956</td>\n",
              "      <td>3.19</td>\n",
              "      <td>0.40</td>\n",
              "      <td>9.9</td>\n",
              "      <td>6</td>\n",
              "    </tr>\n",
              "    <tr>\n",
              "      <th>4</th>\n",
              "      <td>7.2</td>\n",
              "      <td>0.23</td>\n",
              "      <td>0.32</td>\n",
              "      <td>8.5</td>\n",
              "      <td>0.058</td>\n",
              "      <td>47.0</td>\n",
              "      <td>186.0</td>\n",
              "      <td>0.9956</td>\n",
              "      <td>3.19</td>\n",
              "      <td>0.40</td>\n",
              "      <td>9.9</td>\n",
              "      <td>6</td>\n",
              "    </tr>\n",
              "  </tbody>\n",
              "</table>\n",
              "</div>\n",
              "      <button class=\"colab-df-convert\" onclick=\"convertToInteractive('df-561aeb5d-8861-468b-a43f-641d69402462')\"\n",
              "              title=\"Convert this dataframe to an interactive table.\"\n",
              "              style=\"display:none;\">\n",
              "        \n",
              "  <svg xmlns=\"http://www.w3.org/2000/svg\" height=\"24px\"viewBox=\"0 0 24 24\"\n",
              "       width=\"24px\">\n",
              "    <path d=\"M0 0h24v24H0V0z\" fill=\"none\"/>\n",
              "    <path d=\"M18.56 5.44l.94 2.06.94-2.06 2.06-.94-2.06-.94-.94-2.06-.94 2.06-2.06.94zm-11 1L8.5 8.5l.94-2.06 2.06-.94-2.06-.94L8.5 2.5l-.94 2.06-2.06.94zm10 10l.94 2.06.94-2.06 2.06-.94-2.06-.94-.94-2.06-.94 2.06-2.06.94z\"/><path d=\"M17.41 7.96l-1.37-1.37c-.4-.4-.92-.59-1.43-.59-.52 0-1.04.2-1.43.59L10.3 9.45l-7.72 7.72c-.78.78-.78 2.05 0 2.83L4 21.41c.39.39.9.59 1.41.59.51 0 1.02-.2 1.41-.59l7.78-7.78 2.81-2.81c.8-.78.8-2.07 0-2.86zM5.41 20L4 18.59l7.72-7.72 1.47 1.35L5.41 20z\"/>\n",
              "  </svg>\n",
              "      </button>\n",
              "      \n",
              "  <style>\n",
              "    .colab-df-container {\n",
              "      display:flex;\n",
              "      flex-wrap:wrap;\n",
              "      gap: 12px;\n",
              "    }\n",
              "\n",
              "    .colab-df-convert {\n",
              "      background-color: #E8F0FE;\n",
              "      border: none;\n",
              "      border-radius: 50%;\n",
              "      cursor: pointer;\n",
              "      display: none;\n",
              "      fill: #1967D2;\n",
              "      height: 32px;\n",
              "      padding: 0 0 0 0;\n",
              "      width: 32px;\n",
              "    }\n",
              "\n",
              "    .colab-df-convert:hover {\n",
              "      background-color: #E2EBFA;\n",
              "      box-shadow: 0px 1px 2px rgba(60, 64, 67, 0.3), 0px 1px 3px 1px rgba(60, 64, 67, 0.15);\n",
              "      fill: #174EA6;\n",
              "    }\n",
              "\n",
              "    [theme=dark] .colab-df-convert {\n",
              "      background-color: #3B4455;\n",
              "      fill: #D2E3FC;\n",
              "    }\n",
              "\n",
              "    [theme=dark] .colab-df-convert:hover {\n",
              "      background-color: #434B5C;\n",
              "      box-shadow: 0px 1px 3px 1px rgba(0, 0, 0, 0.15);\n",
              "      filter: drop-shadow(0px 1px 2px rgba(0, 0, 0, 0.3));\n",
              "      fill: #FFFFFF;\n",
              "    }\n",
              "  </style>\n",
              "\n",
              "      <script>\n",
              "        const buttonEl =\n",
              "          document.querySelector('#df-561aeb5d-8861-468b-a43f-641d69402462 button.colab-df-convert');\n",
              "        buttonEl.style.display =\n",
              "          google.colab.kernel.accessAllowed ? 'block' : 'none';\n",
              "\n",
              "        async function convertToInteractive(key) {\n",
              "          const element = document.querySelector('#df-561aeb5d-8861-468b-a43f-641d69402462');\n",
              "          const dataTable =\n",
              "            await google.colab.kernel.invokeFunction('convertToInteractive',\n",
              "                                                     [key], {});\n",
              "          if (!dataTable) return;\n",
              "\n",
              "          const docLinkHtml = 'Like what you see? Visit the ' +\n",
              "            '<a target=\"_blank\" href=https://colab.research.google.com/notebooks/data_table.ipynb>data table notebook</a>'\n",
              "            + ' to learn more about interactive tables.';\n",
              "          element.innerHTML = '';\n",
              "          dataTable['output_type'] = 'display_data';\n",
              "          await google.colab.output.renderOutput(dataTable, element);\n",
              "          const docLink = document.createElement('div');\n",
              "          docLink.innerHTML = docLinkHtml;\n",
              "          element.appendChild(docLink);\n",
              "        }\n",
              "      </script>\n",
              "    </div>\n",
              "  </div>\n",
              "  "
            ]
          },
          "metadata": {},
          "execution_count": 4
        }
      ]
    },
    {
      "cell_type": "markdown",
      "source": [
        "If you recall, our domain knowedge tells us that there are two edges we know to exist in real life. while the causal discovery algorithm certainly helps"
      ],
      "metadata": {
        "id": "ddYsUeCis-d6"
      }
    },
    {
      "cell_type": "code",
      "source": [
        "#Checking to see if there are any null values in the dataset\n",
        "print(\"Red wine dataset\\n\", red_data.isnull().sum())\n",
        "print(\"\\nWhite wine dataset\\n\", white_data.isnull().sum())"
      ],
      "metadata": {
        "colab": {
          "base_uri": "https://localhost:8080/"
        },
        "id": "ADysvj3ssx6d",
        "outputId": "b714414c-99f3-444e-ef46-8baad28deb38"
      },
      "execution_count": 5,
      "outputs": [
        {
          "output_type": "stream",
          "name": "stdout",
          "text": [
            "Red wine dataset\n",
            " fixed acidity           0\n",
            "volatile acidity        0\n",
            "citric acid             0\n",
            "residual sugar          0\n",
            "chlorides               0\n",
            "free sulfur dioxide     0\n",
            "total sulfur dioxide    0\n",
            "density                 0\n",
            "pH                      0\n",
            "sulphates               0\n",
            "alcohol                 0\n",
            "quality                 0\n",
            "dtype: int64\n",
            "\n",
            "White wine dataset\n",
            " fixed acidity           0\n",
            "volatile acidity        0\n",
            "citric acid             0\n",
            "residual sugar          0\n",
            "chlorides               0\n",
            "free sulfur dioxide     0\n",
            "total sulfur dioxide    0\n",
            "density                 0\n",
            "pH                      0\n",
            "sulphates               0\n",
            "alcohol                 0\n",
            "quality                 0\n",
            "dtype: int64\n"
          ]
        }
      ]
    },
    {
      "cell_type": "markdown",
      "source": [
        "### Fixed Acidity vs Quality for Red and White Wine"
      ],
      "metadata": {
        "id": "BVRT_7lmtEk9"
      }
    },
    {
      "cell_type": "code",
      "source": [
        "red_data.plot(x='fixed acidity', y='quality', style='o')\n",
        "white_data.plot(x='fixed acidity', y='quality', style='o')"
      ],
      "metadata": {
        "colab": {
          "base_uri": "https://localhost:8080/",
          "height": 559
        },
        "id": "7gONliDOsx82",
        "outputId": "00fc50ba-9a06-4188-cf87-93af5c15bf4f"
      },
      "execution_count": 6,
      "outputs": [
        {
          "output_type": "execute_result",
          "data": {
            "text/plain": [
              "<matplotlib.axes._subplots.AxesSubplot at 0x7fb9492ba950>"
            ]
          },
          "metadata": {},
          "execution_count": 6
        },
        {
          "output_type": "display_data",
          "data": {
            "text/plain": [
              "<Figure size 432x288 with 1 Axes>"
            ],
            "image/png": "[encoded data removed]"
          },
          "metadata": {
            "needs_background": "light"
          }
        },
        {
          "output_type": "display_data",
          "data": {
            "text/plain": [
              "<Figure size 432x288 with 1 Axes>"
            ],
            "image/png": "[encoded data removed]"
          },
          "metadata": {
            "needs_background": "light"
          }
        }
      ]
    },
    {
      "cell_type": "markdown",
      "source": [
        "### Citric Acid vs Quality for Red and White Wine"
      ],
      "metadata": {
        "id": "bhKpBiOPtItc"
      }
    },
    {
      "cell_type": "code",
      "source": [
        "red_data.plot(x='citric acid', y='quality', style='o')\n",
        "white_data.plot(x='citric acid', y='quality', style='o')"
      ],
      "metadata": {
        "colab": {
          "base_uri": "https://localhost:8080/",
          "height": 559
        },
        "id": "c-5jp9Ersx_t",
        "outputId": "98abd145-9da5-4526-be4e-4d7901b53221"
      },
      "execution_count": 7,
      "outputs": [
        {
          "output_type": "execute_result",
          "data": {
            "text/plain": [
              "<matplotlib.axes._subplots.AxesSubplot at 0x7fb948c49410>"
            ]
          },
          "metadata": {},
          "execution_count": 7
        },
        {
          "output_type": "display_data",
          "data": {
            "text/plain": [
              "<Figure size 432x288 with 1 Axes>"
            ],
            "image/png": "[encoded data removed]"
          },
          "metadata": {
            "needs_background": "light"
          }
        },
        {
          "output_type": "display_data",
          "data": {
            "text/plain": [
              "<Figure size 432x288 with 1 Axes>"
            ],
            "image/png": "[encoded data removed]"
          },
          "metadata": {
            "needs_background": "light"
          }
        }
      ]
    },
    {
      "cell_type": "markdown",
      "source": [
        "### Volatile Acidity vs Quality for Red and White Wine"
      ],
      "metadata": {
        "id": "tJc8lPLdtMj2"
      }
    },
    {
      "cell_type": "code",
      "source": [
        "red_data.plot(x='volatile acidity', y='quality', style='o')\n",
        "white_data.plot(x='volatile acidity', y='quality', style='o')"
      ],
      "metadata": {
        "colab": {
          "base_uri": "https://localhost:8080/",
          "height": 559
        },
        "id": "JkM-DrdAsyCU",
        "outputId": "bd56919f-9a29-4456-e7a8-a63be82dc9cc"
      },
      "execution_count": 8,
      "outputs": [
        {
          "output_type": "execute_result",
          "data": {
            "text/plain": [
              "<matplotlib.axes._subplots.AxesSubplot at 0x7fb948c18b10>"
            ]
          },
          "metadata": {},
          "execution_count": 8
        },
        {
          "output_type": "display_data",
          "data": {
            "text/plain": [
              "<Figure size 432x288 with 1 Axes>"
            ],
            "image/png": "[encoded data removed]"
          },
          "metadata": {
            "needs_background": "light"
          }
        },
        {
          "output_type": "display_data",
          "data": {
            "text/plain": [
              "<Figure size 432x288 with 1 Axes>"
            ],
            "image/png": "[encoded data removed]"
          },
          "metadata": {
            "needs_background": "light"
          }
        }
      ]
    },
    {
      "cell_type": "markdown",
      "source": [
        "### Alcohol vs Quality for Red and White Wine"
      ],
      "metadata": {
        "id": "toa9TrqQtRTz"
      }
    },
    {
      "cell_type": "code",
      "source": [
        "red_data.plot(x='alcohol', y='quality', style='o')\n",
        "white_data.plot(x='alcohol', y='quality', style='o')"
      ],
      "metadata": {
        "colab": {
          "base_uri": "https://localhost:8080/",
          "height": 559
        },
        "id": "yRS23WuhsyE7",
        "outputId": "2f768c69-9945-44e5-ac09-bf12e87bc91d"
      },
      "execution_count": 9,
      "outputs": [
        {
          "output_type": "execute_result",
          "data": {
            "text/plain": [
              "<matplotlib.axes._subplots.AxesSubplot at 0x7fb948b30f10>"
            ]
          },
          "metadata": {},
          "execution_count": 9
        },
        {
          "output_type": "display_data",
          "data": {
            "text/plain": [
              "<Figure size 432x288 with 1 Axes>"
            ],
            "image/png": "[encoded data removed]"
          },
          "metadata": {
            "needs_background": "light"
          }
        },
        {
          "output_type": "display_data",
          "data": {
            "text/plain": [
              "<Figure size 432x288 with 1 Axes>"
            ],
            "image/png": "[encoded data removed]"
          },
          "metadata": {
            "needs_background": "light"
          }
        }
      ]
    },
    {
      "cell_type": "markdown",
      "source": [
        "##**RED WINE QUALITY**"
      ],
      "metadata": {
        "id": "TOuhhSICtV99"
      }
    },
    {
      "cell_type": "markdown",
      "source": [
        "1. Make Prior Knowledge - is a fucntion that returns the number of columns and the sink varible which is 'quality' in this case in an array format\n",
        "2.  DirectLinGAM estimates a causal ordering of variables and provide a full DAG for the dataset given\n",
        "3. We will get the adjacency matrix from the provided DAG and try to print the graph"
      ],
      "metadata": {
        "id": "ViDfqAWmtZh0"
      }
    },
    {
      "cell_type": "code",
      "source": [
        "pk = make_prior_knowledge(\n",
        "    n_variables=len(red_data.columns),\n",
        "    sink_variables=[11])\n",
        "\n",
        "model = lingam.DirectLiNGAM(prior_knowledge=pk)\n",
        "model.fit(red_data)\n",
        "adjacency_matrix = model.adjacency_matrix_\n",
        "#weights of the edges from one node to the other\n",
        "adjacency_matrix"
      ],
      "metadata": {
        "colab": {
          "base_uri": "https://localhost:8080/"
        },
        "id": "YWJZIurgsyHh",
        "outputId": "ae2631e3-fcf9-44be-b6ed-61172163df26"
      },
      "execution_count": 10,
      "outputs": [
        {
          "output_type": "execute_result",
          "data": {
            "text/plain": [
              "array([[ 0.00000000e+00,  0.00000000e+00,  0.00000000e+00,\n",
              "         0.00000000e+00,  0.00000000e+00,  0.00000000e+00,\n",
              "         0.00000000e+00,  0.00000000e+00,  0.00000000e+00,\n",
              "         0.00000000e+00,  0.00000000e+00,  0.00000000e+00],\n",
              "       [ 8.15985312e-03,  0.00000000e+00, -6.70661173e-01,\n",
              "         0.00000000e+00,  6.01617054e-01, -2.90417151e-03,\n",
              "         1.12708140e-03,  1.91868127e+01,  0.00000000e+00,\n",
              "         0.00000000e+00,  7.41870732e-03,  0.00000000e+00],\n",
              "       [ 9.41859630e-02,  0.00000000e+00,  0.00000000e+00,\n",
              "         1.64684531e-02,  6.96856473e-01, -1.36290770e-03,\n",
              "         9.94611752e-04, -2.96361088e+01,  0.00000000e+00,\n",
              "         0.00000000e+00,  0.00000000e+00,  0.00000000e+00],\n",
              "       [ 9.29454176e-02,  0.00000000e+00,  0.00000000e+00,\n",
              "         0.00000000e+00,  0.00000000e+00,  0.00000000e+00,\n",
              "         0.00000000e+00,  0.00000000e+00,  0.00000000e+00,\n",
              "         0.00000000e+00,  0.00000000e+00,  0.00000000e+00],\n",
              "       [ 0.00000000e+00,  0.00000000e+00,  0.00000000e+00,\n",
              "         0.00000000e+00,  0.00000000e+00,  0.00000000e+00,\n",
              "         0.00000000e+00,  4.11444675e+00,  0.00000000e+00,\n",
              "         0.00000000e+00,  0.00000000e+00,  0.00000000e+00],\n",
              "       [-1.06700164e+00,  0.00000000e+00,  0.00000000e+00,\n",
              "         1.53893569e+00,  0.00000000e+00,  0.00000000e+00,\n",
              "         0.00000000e+00,  0.00000000e+00,  0.00000000e+00,\n",
              "         0.00000000e+00,  0.00000000e+00,  0.00000000e+00],\n",
              "       [ 0.00000000e+00,  0.00000000e+00,  0.00000000e+00,\n",
              "         1.43966269e+00,  0.00000000e+00,  1.99146139e+00,\n",
              "         0.00000000e+00,  0.00000000e+00,  0.00000000e+00,\n",
              "         0.00000000e+00,  0.00000000e+00,  0.00000000e+00],\n",
              "       [ 6.97029636e-04,  0.00000000e+00,  0.00000000e+00,\n",
              "         3.56429971e-04,  0.00000000e+00, -1.07238360e-05,\n",
              "         7.43966566e-06,  0.00000000e+00,  0.00000000e+00,\n",
              "         0.00000000e+00,  0.00000000e+00,  0.00000000e+00],\n",
              "       [-9.73084582e-02,  1.68432447e-02, -2.62998823e-02,\n",
              "        -2.57646218e-02, -5.05628314e-01,  1.56001354e-03,\n",
              "        -7.37488355e-04,  6.46102746e+01,  0.00000000e+00,\n",
              "        -7.67442980e-02,  7.18831673e-02,  0.00000000e+00],\n",
              "       [-1.37673241e-02, -2.29238643e-01,  4.05174239e-02,\n",
              "        -2.11349102e-02,  1.41775345e+00,  7.00088298e-04,\n",
              "         3.75864956e-04,  3.35523326e+01,  0.00000000e+00,\n",
              "         0.00000000e+00,  5.22649765e-02,  0.00000000e+00],\n",
              "       [ 2.29030168e-01,  0.00000000e+00,  9.28345954e-01,\n",
              "         2.46932894e-01, -2.76880365e+00,  5.52764923e-03,\n",
              "        -6.57931623e-03, -4.99121702e+02,  0.00000000e+00,\n",
              "         0.00000000e+00,  0.00000000e+00,  0.00000000e+00],\n",
              "       [ 0.00000000e+00, -1.03436507e+00,  0.00000000e+00,\n",
              "         0.00000000e+00, -1.41304708e+00,  0.00000000e+00,\n",
              "        -1.89720187e-03,  0.00000000e+00, -2.90110393e-01,\n",
              "         7.58814051e-01,  2.81676825e-01,  0.00000000e+00]])"
            ]
          },
          "metadata": {},
          "execution_count": 10
        }
      ]
    },
    {
      "cell_type": "markdown",
      "source": [
        "Here, we can see the two arrays that show the directed edges in the graph. So the edges would be 2 -> 1, 4 -> 1. etc"
      ],
      "metadata": {
        "id": "hNTM5jNDtgdh"
      }
    },
    {
      "cell_type": "code",
      "source": [
        "idx = np.abs(adjacency_matrix) > 0.01\n",
        "dirs = np.where(idx)\n",
        "dirs"
      ],
      "metadata": {
        "colab": {
          "base_uri": "https://localhost:8080/"
        },
        "id": "QNA_5GLrsyKP",
        "outputId": "21e713fa-d6b3-42c0-81c5-864b79795dbd"
      },
      "execution_count": 11,
      "outputs": [
        {
          "output_type": "execute_result",
          "data": {
            "text/plain": [
              "(array([ 1,  1,  1,  2,  2,  2,  2,  3,  4,  5,  5,  6,  6,  8,  8,  8,  8,\n",
              "         8,  8,  8,  8,  9,  9,  9,  9,  9,  9,  9, 10, 10, 10, 10, 10, 11,\n",
              "        11, 11, 11, 11]),\n",
              " array([ 2,  4,  7,  0,  3,  4,  7,  0,  7,  0,  3,  3,  5,  0,  1,  2,  3,\n",
              "         4,  7,  9, 10,  0,  1,  2,  3,  4,  7, 10,  0,  2,  3,  4,  7,  1,\n",
              "         4,  8,  9, 10]))"
            ]
          },
          "metadata": {},
          "execution_count": 11
        }
      ]
    },
    {
      "cell_type": "code",
      "source": [
        "labels = [f'{i}. {col}' for i, col in enumerate(red_data.columns)]\n",
        "print(labels)\n",
        "\n",
        "dag = graphviz.Digraph(engine='dot')\n",
        "names = labels if labels else [f'x{i}' for i in range(len(adjacency_matrix))]\n",
        "for to, from_, coef in zip(dirs[0], dirs[1], adjacency_matrix[idx]):\n",
        "          dirs = np.where(idx)\n",
        "          dag.edge(names[from_], names[to], label=f'{coef:.2f}')\n",
        "    \n",
        "dag"
      ],
      "metadata": {
        "colab": {
          "base_uri": "https://localhost:8080/",
          "height": 814
        },
        "id": "mwzxOxFdsyM_",
        "outputId": "0c5106a7-c319-4c0e-df35-2c1310f68d24"
      },
      "execution_count": 12,
      "outputs": [
        {
          "output_type": "stream",
          "name": "stdout",
          "text": [
            "['0. fixed acidity', '1. volatile acidity', '2. citric acid', '3. residual sugar', '4. chlorides', '5. free sulfur dioxide', '6. total sulfur dioxide', '7. density', '8. pH', '9. sulphates', '10. alcohol', '11. quality']\n"
          ]
        },
        {
          "output_type": "execute_result",
          "data": {
            "text/plain": [
              "<graphviz.dot.Digraph at 0x7fb948ac6710>"
            ],
            "image/svg+xml": "<?xml version=\"1.0\" encoding=\"UTF-8\" standalone=\"no\"?>\n<!DOCTYPE svg PUBLIC \"-//W3C//DTD SVG 1.1//EN\"\n \"http://www.w3.org/Graphics/SVG/1.1/DTD/svg11.dtd\">\n<!-- Generated by graphviz version 2.40.1 (20161225.0304)\n -->\n<!-- Title: %3 Pages: 1 -->\n<svg width=\"1107pt\" height=\"566pt\"\n viewBox=\"0.00 0.00 1107.00 566.00\" xmlns=\"http://www.w3.org/2000/svg\" xmlns:xlink=\"http://www.w3.org/1999/xlink\">\n<g id=\"graph0\" class=\"graph\" transform=\"scale(1 1) rotate(0) translate(4 562)\">\n<title>%3</title>\n<polygon fill=\"#ffffff\" stroke=\"transparent\" points=\"-4,4 -4,-562 1103,-562 1103,4 -4,4\"/>\n<!-- 2. citric acid -->\n<g id=\"node1\" class=\"node\">\n<title>2. citric acid</title>\n<ellipse fill=\"none\" stroke=\"#000000\" cx=\"443\" cy=\"-366\" rx=\"55.7903\" ry=\"18\"/>\n<text text-anchor=\"middle\" x=\"443\" y=\"-362.3\" font-family=\"Times,serif\" font-size=\"14.00\" fill=\"#000000\">2. citric acid</text>\n</g>\n<!-- 1. volatile acidity -->\n<g id=\"node2\" class=\"node\">\n<title>1. volatile acidity</title>\n<ellipse fill=\"none\" stroke=\"#000000\" cx=\"208\" cy=\"-279\" rx=\"75.2868\" ry=\"18\"/>\n<text text-anchor=\"middle\" x=\"208\" y=\"-275.3\" font-family=\"Times,serif\" font-size=\"14.00\" fill=\"#000000\">1. volatile acidity</text>\n</g>\n<!-- 2. citric acid&#45;&gt;1. volatile acidity -->\n<g id=\"edge1\" class=\"edge\">\n<title>2. citric acid&#45;&gt;1. volatile acidity</title>\n<path fill=\"none\" stroke=\"#000000\" d=\"M400.6281,-354.1637C391.5604,-351.8954 382.0008,-349.7009 373,-348 340.6617,-341.8891 251.6591,-350.6087 226,-330 218.8967,-324.2949 214.5922,-315.5877 211.9853,-306.9739\"/>\n<polygon fill=\"#000000\" stroke=\"#000000\" points=\"215.3542,-306.0115 209.6389,-297.0904 208.5435,-307.6285 215.3542,-306.0115\"/>\n<text text-anchor=\"middle\" x=\"241.5\" y=\"-318.8\" font-family=\"Times,serif\" font-size=\"14.00\" fill=\"#000000\">&#45;0.67</text>\n</g>\n<!-- 8. pH -->\n<g id=\"node9\" class=\"node\">\n<title>8. pH</title>\n<ellipse fill=\"none\" stroke=\"#000000\" cx=\"452\" cy=\"-105\" rx=\"32.4942\" ry=\"18\"/>\n<text text-anchor=\"middle\" x=\"452\" y=\"-101.3\" font-family=\"Times,serif\" font-size=\"14.00\" fill=\"#000000\">8. pH</text>\n</g>\n<!-- 2. citric acid&#45;&gt;8. pH -->\n<g id=\"edge16\" class=\"edge\">\n<title>2. citric acid&#45;&gt;8. pH</title>\n<path fill=\"none\" stroke=\"#000000\" d=\"M482.7052,-353.2494C522.7858,-339.4718 580.5059,-316.8249 593,-297 634.8967,-230.5207 536.9253,-156.9552 483.6306,-123.4452\"/>\n<polygon fill=\"#000000\" stroke=\"#000000\" points=\"485.2144,-120.3099 474.8655,-118.0407 481.5405,-126.2684 485.2144,-120.3099\"/>\n<text text-anchor=\"middle\" x=\"615.5\" y=\"-231.8\" font-family=\"Times,serif\" font-size=\"14.00\" fill=\"#000000\">&#45;0.03</text>\n</g>\n<!-- 9. sulphates -->\n<g id=\"node10\" class=\"node\">\n<title>9. sulphates</title>\n<ellipse fill=\"none\" stroke=\"#000000\" cx=\"395\" cy=\"-192\" rx=\"54.6905\" ry=\"18\"/>\n<text text-anchor=\"middle\" x=\"395\" y=\"-188.3\" font-family=\"Times,serif\" font-size=\"14.00\" fill=\"#000000\">9. sulphates</text>\n</g>\n<!-- 2. citric acid&#45;&gt;9. sulphates -->\n<g id=\"edge24\" class=\"edge\">\n<title>2. citric acid&#45;&gt;9. sulphates</title>\n<path fill=\"none\" stroke=\"#000000\" d=\"M432.2221,-348.2164C424.5136,-334.6597 414.5558,-315.2709 409,-297 401.3107,-271.7126 397.8426,-241.725 396.2795,-220.2844\"/>\n<polygon fill=\"#000000\" stroke=\"#000000\" points=\"399.7667,-219.9708 395.6392,-210.213 392.7808,-220.415 399.7667,-219.9708\"/>\n<text text-anchor=\"middle\" x=\"422.5\" y=\"-275.3\" font-family=\"Times,serif\" font-size=\"14.00\" fill=\"#000000\">0.04</text>\n</g>\n<!-- 10. alcohol -->\n<g id=\"node11\" class=\"node\">\n<title>10. alcohol</title>\n<ellipse fill=\"none\" stroke=\"#000000\" cx=\"531\" cy=\"-279\" rx=\"52.7911\" ry=\"18\"/>\n<text text-anchor=\"middle\" x=\"531\" y=\"-275.3\" font-family=\"Times,serif\" font-size=\"14.00\" fill=\"#000000\">10. alcohol</text>\n</g>\n<!-- 2. citric acid&#45;&gt;10. alcohol -->\n<g id=\"edge30\" class=\"edge\">\n<title>2. citric acid&#45;&gt;10. alcohol</title>\n<path fill=\"none\" stroke=\"#000000\" d=\"M460.386,-348.8116C473.5235,-335.8233 491.7316,-317.8221 506.3678,-303.3523\"/>\n<polygon fill=\"#000000\" stroke=\"#000000\" points=\"508.9995,-305.6723 513.6501,-296.1527 504.0781,-300.6943 508.9995,-305.6723\"/>\n<text text-anchor=\"middle\" x=\"506.5\" y=\"-318.8\" font-family=\"Times,serif\" font-size=\"14.00\" fill=\"#000000\">0.93</text>\n</g>\n<!-- 1. volatile acidity&#45;&gt;8. pH -->\n<g id=\"edge15\" class=\"edge\">\n<title>1. volatile acidity&#45;&gt;8. pH</title>\n<path fill=\"none\" stroke=\"#000000\" d=\"M218.5499,-260.693C224.7727,-250.5824 233.1475,-238.0703 242,-228 301.3831,-160.4476 333.6909,-161.4513 415,-123 416.0009,-122.5266 417.0163,-122.0446 418.0407,-121.5567\"/>\n<polygon fill=\"#000000\" stroke=\"#000000\" points=\"419.8585,-124.5665 427.3574,-117.082 416.8278,-118.2566 419.8585,-124.5665\"/>\n<text text-anchor=\"middle\" x=\"315.5\" y=\"-188.3\" font-family=\"Times,serif\" font-size=\"14.00\" fill=\"#000000\">0.02</text>\n</g>\n<!-- 1. volatile acidity&#45;&gt;9. sulphates -->\n<g id=\"edge23\" class=\"edge\">\n<title>1. volatile acidity&#45;&gt;9. sulphates</title>\n<path fill=\"none\" stroke=\"#000000\" d=\"M224.1999,-261.1253C235.053,-250.1341 250.2038,-236.5621 266,-228 287.6352,-216.273 313.4303,-208.0894 336.2477,-202.5236\"/>\n<polygon fill=\"#000000\" stroke=\"#000000\" points=\"337.2098,-205.8934 346.1586,-200.2217 335.626,-199.0749 337.2098,-205.8934\"/>\n<text text-anchor=\"middle\" x=\"281.5\" y=\"-231.8\" font-family=\"Times,serif\" font-size=\"14.00\" fill=\"#000000\">&#45;0.23</text>\n</g>\n<!-- 11. quality -->\n<g id=\"node12\" class=\"node\">\n<title>11. quality</title>\n<ellipse fill=\"none\" stroke=\"#000000\" cx=\"375\" cy=\"-18\" rx=\"50.8918\" ry=\"18\"/>\n<text text-anchor=\"middle\" x=\"375\" y=\"-14.3\" font-family=\"Times,serif\" font-size=\"14.00\" fill=\"#000000\">11. quality</text>\n</g>\n<!-- 1. volatile acidity&#45;&gt;11. quality -->\n<g id=\"edge34\" class=\"edge\">\n<title>1. volatile acidity&#45;&gt;11. quality</title>\n<path fill=\"none\" stroke=\"#000000\" d=\"M179.9263,-262.2651C140.8369,-236.7676 77.9093,-186.3595 107,-141 153.2369,-68.9052 253.4987,-38.5094 317.4263,-26.1011\"/>\n<polygon fill=\"#000000\" stroke=\"#000000\" points=\"318.1655,-29.5238 327.3605,-24.2605 316.8902,-22.641 318.1655,-29.5238\"/>\n<text text-anchor=\"middle\" x=\"122.5\" y=\"-144.8\" font-family=\"Times,serif\" font-size=\"14.00\" fill=\"#000000\">&#45;1.03</text>\n</g>\n<!-- 4. chlorides -->\n<g id=\"node3\" class=\"node\">\n<title>4. chlorides</title>\n<ellipse fill=\"none\" stroke=\"#000000\" cx=\"186\" cy=\"-453\" rx=\"53.8905\" ry=\"18\"/>\n<text text-anchor=\"middle\" x=\"186\" y=\"-449.3\" font-family=\"Times,serif\" font-size=\"14.00\" fill=\"#000000\">4. chlorides</text>\n</g>\n<!-- 4. chlorides&#45;&gt;2. citric acid -->\n<g id=\"edge6\" class=\"edge\">\n<title>4. chlorides&#45;&gt;2. citric acid</title>\n<path fill=\"none\" stroke=\"#000000\" d=\"M234.2945,-444.7554C262.1427,-439.0072 297.3927,-430.0072 327,-417 338.1733,-412.0913 339.1393,-407.5664 350,-402 364.1557,-394.7449 380.1291,-388.0605 394.7924,-382.4716\"/>\n<polygon fill=\"#000000\" stroke=\"#000000\" points=\"396.0592,-385.7348 404.2068,-378.9622 393.6141,-379.1757 396.0592,-385.7348\"/>\n<text text-anchor=\"middle\" x=\"363.5\" y=\"-405.8\" font-family=\"Times,serif\" font-size=\"14.00\" fill=\"#000000\">0.70</text>\n</g>\n<!-- 4. chlorides&#45;&gt;1. volatile acidity -->\n<g id=\"edge2\" class=\"edge\">\n<title>4. chlorides&#45;&gt;1. volatile acidity</title>\n<path fill=\"none\" stroke=\"#000000\" d=\"M182.6185,-434.9885C179.245,-413.9328 175.3152,-378.1281 181,-348 183.6913,-333.7369 189.2555,-318.6422 194.6372,-306.22\"/>\n<polygon fill=\"#000000\" stroke=\"#000000\" points=\"197.9218,-307.4511 198.8558,-296.8975 191.5443,-304.5652 197.9218,-307.4511\"/>\n<text text-anchor=\"middle\" x=\"194.5\" y=\"-362.3\" font-family=\"Times,serif\" font-size=\"14.00\" fill=\"#000000\">0.60</text>\n</g>\n<!-- 4. chlorides&#45;&gt;8. pH -->\n<g id=\"edge18\" class=\"edge\">\n<title>4. chlorides&#45;&gt;8. pH</title>\n<path fill=\"none\" stroke=\"#000000\" d=\"M166.3476,-436.0411C129.2562,-401.9183 55.8511,-322.9372 93,-261 154.9551,-157.7043 221.2037,-177.4726 336,-141 370.3204,-130.0959 381.0313,-134.9549 415,-123 416.3898,-122.5109 417.7958,-121.9837 419.2064,-121.4279\"/>\n<polygon fill=\"#000000\" stroke=\"#000000\" points=\"420.6602,-124.6126 428.459,-117.4412 417.8903,-118.1839 420.6602,-124.6126\"/>\n<text text-anchor=\"middle\" x=\"108.5\" y=\"-275.3\" font-family=\"Times,serif\" font-size=\"14.00\" fill=\"#000000\">&#45;0.51</text>\n</g>\n<!-- 4. chlorides&#45;&gt;9. sulphates -->\n<g id=\"edge26\" class=\"edge\">\n<title>4. chlorides&#45;&gt;9. sulphates</title>\n<path fill=\"none\" stroke=\"#000000\" d=\"M194.679,-435.2014C205.4806,-413.7289 225.0725,-376.9133 246,-348 263.8975,-323.2729 273.6341,-321.3813 292,-297 313.741,-268.1381 309.2346,-253.3342 335,-228 340.9077,-222.1911 347.9263,-216.9222 355.0446,-212.3178\"/>\n<polygon fill=\"#000000\" stroke=\"#000000\" points=\"357.3114,-215.0358 364.0382,-206.8504 353.6751,-209.0544 357.3114,-215.0358\"/>\n<text text-anchor=\"middle\" x=\"290.5\" y=\"-318.8\" font-family=\"Times,serif\" font-size=\"14.00\" fill=\"#000000\">1.42</text>\n</g>\n<!-- 4. chlorides&#45;&gt;10. alcohol -->\n<g id=\"edge32\" class=\"edge\">\n<title>4. chlorides&#45;&gt;10. alcohol</title>\n<path fill=\"none\" stroke=\"#000000\" d=\"M216.1063,-437.8362C241.0079,-424.7955 276.882,-404.8402 306,-384 325.7195,-369.8865 326.1966,-360.4606 347,-348 388.6442,-323.0564 440.8369,-304.525 478.988,-292.9835\"/>\n<polygon fill=\"#000000\" stroke=\"#000000\" points=\"480.2685,-296.2545 488.8617,-290.0572 478.2794,-289.5431 480.2685,-296.2545\"/>\n<text text-anchor=\"middle\" x=\"362.5\" y=\"-362.3\" font-family=\"Times,serif\" font-size=\"14.00\" fill=\"#000000\">&#45;2.77</text>\n</g>\n<!-- 4. chlorides&#45;&gt;11. quality -->\n<g id=\"edge35\" class=\"edge\">\n<title>4. chlorides&#45;&gt;11. quality</title>\n<path fill=\"none\" stroke=\"#000000\" d=\"M156.2296,-437.9152C135.5633,-425.9719 108.9731,-407.4185 93,-384 53.3415,-325.8559 38,-305.8813 38,-235.5 38,-235.5 38,-235.5 38,-105 38,-48.594 217.2363,-28.1885 314.2797,-21.2742\"/>\n<polygon fill=\"#000000\" stroke=\"#000000\" points=\"314.8102,-24.7462 324.5477,-20.5711 314.3319,-17.7626 314.8102,-24.7462\"/>\n<text text-anchor=\"middle\" x=\"54.5\" y=\"-231.8\" font-family=\"Times,serif\" font-size=\"14.00\" fill=\"#000000\">&#45;1.41</text>\n</g>\n<!-- 7. density -->\n<g id=\"node4\" class=\"node\">\n<title>7. density</title>\n<ellipse fill=\"none\" stroke=\"#000000\" cx=\"227\" cy=\"-540\" rx=\"47.3916\" ry=\"18\"/>\n<text text-anchor=\"middle\" x=\"227\" y=\"-536.3\" font-family=\"Times,serif\" font-size=\"14.00\" fill=\"#000000\">7. density</text>\n</g>\n<!-- 7. density&#45;&gt;2. citric acid -->\n<g id=\"edge7\" class=\"edge\">\n<title>7. density&#45;&gt;2. citric acid</title>\n<path fill=\"none\" stroke=\"#000000\" d=\"M252.1062,-524.5343C261.6526,-518.4045 272.5093,-511.1269 282,-504 331.6632,-466.7065 385.7891,-418.6354 416.9284,-390.1872\"/>\n<polygon fill=\"#000000\" stroke=\"#000000\" points=\"419.3291,-392.7346 424.3332,-383.3959 414.5977,-387.5757 419.3291,-392.7346\"/>\n<text text-anchor=\"middle\" x=\"384.5\" y=\"-449.3\" font-family=\"Times,serif\" font-size=\"14.00\" fill=\"#000000\">&#45;29.64</text>\n</g>\n<!-- 7. density&#45;&gt;1. volatile acidity -->\n<g id=\"edge3\" class=\"edge\">\n<title>7. density&#45;&gt;1. volatile acidity</title>\n<path fill=\"none\" stroke=\"#000000\" d=\"M192.6626,-527.4956C168.3849,-516.633 137.651,-498.3027 123,-471 91.8618,-412.9728 146.9969,-341.2321 182.1507,-304.0277\"/>\n<polygon fill=\"#000000\" stroke=\"#000000\" points=\"184.8708,-306.2499 189.3107,-296.6302 179.8409,-301.3816 184.8708,-306.2499\"/>\n<text text-anchor=\"middle\" x=\"136\" y=\"-405.8\" font-family=\"Times,serif\" font-size=\"14.00\" fill=\"#000000\">19.19</text>\n</g>\n<!-- 7. density&#45;&gt;4. chlorides -->\n<g id=\"edge9\" class=\"edge\">\n<title>7. density&#45;&gt;4. chlorides</title>\n<path fill=\"none\" stroke=\"#000000\" d=\"M218.5048,-521.9735C212.8425,-509.9585 205.2936,-493.9401 198.8959,-480.3646\"/>\n<polygon fill=\"#000000\" stroke=\"#000000\" points=\"201.9134,-478.5571 194.4843,-471.0034 195.5813,-481.5413 201.9134,-478.5571\"/>\n<text text-anchor=\"middle\" x=\"222\" y=\"-492.8\" font-family=\"Times,serif\" font-size=\"14.00\" fill=\"#000000\">4.11</text>\n</g>\n<!-- 7. density&#45;&gt;8. pH -->\n<g id=\"edge19\" class=\"edge\">\n<title>7. density&#45;&gt;8. pH</title>\n<path fill=\"none\" stroke=\"#000000\" d=\"M183.7687,-532.5426C117.9067,-519.9373 0,-491.9341 0,-453 0,-453 0,-453 0,-322.5 0,-174.9429 132.7155,-166.7975 278,-141 338.4664,-130.2633 356.1822,-140.6615 415,-123 416.4111,-122.5763 417.835,-122.104 419.2604,-121.5937\"/>\n<polygon fill=\"#000000\" stroke=\"#000000\" points=\"420.6399,-124.811 428.5717,-117.787 417.9909,-118.3316 420.6399,-124.811\"/>\n<text text-anchor=\"middle\" x=\"17\" y=\"-318.8\" font-family=\"Times,serif\" font-size=\"14.00\" fill=\"#000000\">64.61</text>\n</g>\n<!-- 7. density&#45;&gt;9. sulphates -->\n<g id=\"edge27\" class=\"edge\">\n<title>7. density&#45;&gt;9. sulphates</title>\n<path fill=\"none\" stroke=\"#000000\" d=\"M233.0791,-522.0865C235.0061,-516.3227 237.1227,-509.9014 239,-504 243.6458,-489.3959 245.5995,-485.9433 249,-471 261.2736,-417.0638 234.4976,-392.0153 268,-348 279.8074,-332.4876 293.2869,-342.7896 308,-330 343.6822,-298.9825 369.8224,-249.7375 383.6924,-219.2258\"/>\n<polygon fill=\"#000000\" stroke=\"#000000\" points=\"386.9179,-220.5858 387.7611,-210.0246 380.5159,-217.7549 386.9179,-220.5858\"/>\n<text text-anchor=\"middle\" x=\"285\" y=\"-362.3\" font-family=\"Times,serif\" font-size=\"14.00\" fill=\"#000000\">33.55</text>\n</g>\n<!-- 7. density&#45;&gt;10. alcohol -->\n<g id=\"edge33\" class=\"edge\">\n<title>7. density&#45;&gt;10. alcohol</title>\n<path fill=\"none\" stroke=\"#000000\" d=\"M271.4886,-533.5512C336.3813,-523.2423 452.398,-501.1049 481,-471 502.6159,-448.2482 474.083,-424.4618 496,-402 519.6385,-377.774 549.0847,-410.6126 570,-384 588.6211,-360.3064 570.4064,-326.8218 553.1292,-304.0825\"/>\n<polygon fill=\"#000000\" stroke=\"#000000\" points=\"555.8432,-301.8722 546.8763,-296.2291 550.367,-306.2324 555.8432,-301.8722\"/>\n<text text-anchor=\"middle\" x=\"519\" y=\"-405.8\" font-family=\"Times,serif\" font-size=\"14.00\" fill=\"#000000\">&#45;499.12</text>\n</g>\n<!-- 0. fixed acidity -->\n<g id=\"node5\" class=\"node\">\n<title>0. fixed acidity</title>\n<ellipse fill=\"none\" stroke=\"#000000\" cx=\"669\" cy=\"-540\" rx=\"66.8882\" ry=\"18\"/>\n<text text-anchor=\"middle\" x=\"669\" y=\"-536.3\" font-family=\"Times,serif\" font-size=\"14.00\" fill=\"#000000\">0. fixed acidity</text>\n</g>\n<!-- 0. fixed acidity&#45;&gt;2. citric acid -->\n<g id=\"edge4\" class=\"edge\">\n<title>0. fixed acidity&#45;&gt;2. citric acid</title>\n<path fill=\"none\" stroke=\"#000000\" d=\"M609.8091,-531.5892C586.3924,-526.2959 560.0911,-517.7463 539,-504 497.564,-476.9937 468.9184,-425.2677 454.2874,-393.3852\"/>\n<polygon fill=\"#000000\" stroke=\"#000000\" points=\"457.4556,-391.8957 450.1981,-384.177 451.0581,-394.7369 457.4556,-391.8957\"/>\n<text text-anchor=\"middle\" x=\"515.5\" y=\"-449.3\" font-family=\"Times,serif\" font-size=\"14.00\" fill=\"#000000\">0.09</text>\n</g>\n<!-- 3. residual sugar -->\n<g id=\"node6\" class=\"node\">\n<title>3. residual sugar</title>\n<ellipse fill=\"none\" stroke=\"#000000\" cx=\"735\" cy=\"-453\" rx=\"71.4873\" ry=\"18\"/>\n<text text-anchor=\"middle\" x=\"735\" y=\"-449.3\" font-family=\"Times,serif\" font-size=\"14.00\" fill=\"#000000\">3. residual sugar</text>\n</g>\n<!-- 0. fixed acidity&#45;&gt;3. residual sugar -->\n<g id=\"edge8\" class=\"edge\">\n<title>0. fixed acidity&#45;&gt;3. residual sugar</title>\n<path fill=\"none\" stroke=\"#000000\" d=\"M682.6752,-521.9735C692.1181,-509.5261 704.8206,-492.782 715.3451,-478.9087\"/>\n<polygon fill=\"#000000\" stroke=\"#000000\" points=\"718.3126,-480.788 721.5681,-470.7057 712.7358,-476.5573 718.3126,-480.788\"/>\n<text text-anchor=\"middle\" x=\"718.5\" y=\"-492.8\" font-family=\"Times,serif\" font-size=\"14.00\" fill=\"#000000\">0.09</text>\n</g>\n<!-- 5. free sulfur dioxide -->\n<g id=\"node7\" class=\"node\">\n<title>5. free sulfur dioxide</title>\n<ellipse fill=\"none\" stroke=\"#000000\" cx=\"951\" cy=\"-366\" rx=\"89.0842\" ry=\"18\"/>\n<text text-anchor=\"middle\" x=\"951\" y=\"-362.3\" font-family=\"Times,serif\" font-size=\"14.00\" fill=\"#000000\">5. free sulfur dioxide</text>\n</g>\n<!-- 0. fixed acidity&#45;&gt;5. free sulfur dioxide -->\n<g id=\"edge10\" class=\"edge\">\n<title>0. fixed acidity&#45;&gt;5. free sulfur dioxide</title>\n<path fill=\"none\" stroke=\"#000000\" d=\"M706.3313,-524.9132C753.7856,-504.6682 836.8768,-465.573 898,-417 907.8973,-409.1349 918.0659,-399.7258 926.8158,-391.1432\"/>\n<polygon fill=\"#000000\" stroke=\"#000000\" points=\"929.4935,-393.4155 934.0974,-383.8732 924.5477,-388.4618 929.4935,-393.4155\"/>\n<text text-anchor=\"middle\" x=\"887.5\" y=\"-449.3\" font-family=\"Times,serif\" font-size=\"14.00\" fill=\"#000000\">&#45;1.07</text>\n</g>\n<!-- 0. fixed acidity&#45;&gt;8. pH -->\n<g id=\"edge14\" class=\"edge\">\n<title>0. fixed acidity&#45;&gt;8. pH</title>\n<path fill=\"none\" stroke=\"#000000\" d=\"M730.906,-532.8411C842.9776,-519.0362 1068,-487.0755 1068,-453 1068,-453 1068,-453 1068,-192 1068,-134.0393 634.8944,-112.1103 495.0071,-106.5392\"/>\n<polygon fill=\"#000000\" stroke=\"#000000\" points=\"494.8127,-103.0291 484.6839,-106.1367 494.5399,-110.0237 494.8127,-103.0291\"/>\n<text text-anchor=\"middle\" x=\"1083.5\" y=\"-318.8\" font-family=\"Times,serif\" font-size=\"14.00\" fill=\"#000000\">&#45;0.10</text>\n</g>\n<!-- 0. fixed acidity&#45;&gt;9. sulphates -->\n<g id=\"edge22\" class=\"edge\">\n<title>0. fixed acidity&#45;&gt;9. sulphates</title>\n<path fill=\"none\" stroke=\"#000000\" d=\"M654.175,-522.1161C615.8797,-475.9468 516.0729,-355.8049 508,-348 498.6678,-338.9776 493.7749,-339.5653 485,-330 467.9603,-311.4253 431.7235,-253.0151 410.7999,-218.4254\"/>\n<polygon fill=\"#000000\" stroke=\"#000000\" points=\"413.7419,-216.5263 405.582,-209.7685 407.7467,-220.1399 413.7419,-216.5263\"/>\n<text text-anchor=\"middle\" x=\"553.5\" y=\"-362.3\" font-family=\"Times,serif\" font-size=\"14.00\" fill=\"#000000\">&#45;0.01</text>\n</g>\n<!-- 0. fixed acidity&#45;&gt;10. alcohol -->\n<g id=\"edge29\" class=\"edge\">\n<title>0. fixed acidity&#45;&gt;10. alcohol</title>\n<path fill=\"none\" stroke=\"#000000\" d=\"M664.9628,-521.6695C653.6546,-470.9102 621.6087,-331.1863 608,-315 600.8746,-306.525 591.3115,-299.9254 581.3518,-294.83\"/>\n<polygon fill=\"#000000\" stroke=\"#000000\" points=\"582.6964,-291.5955 572.1521,-290.5626 579.7509,-297.9456 582.6964,-291.5955\"/>\n<text text-anchor=\"middle\" x=\"652.5\" y=\"-405.8\" font-family=\"Times,serif\" font-size=\"14.00\" fill=\"#000000\">0.23</text>\n</g>\n<!-- 3. residual sugar&#45;&gt;2. citric acid -->\n<g id=\"edge5\" class=\"edge\">\n<title>3. residual sugar&#45;&gt;2. citric acid</title>\n<path fill=\"none\" stroke=\"#000000\" d=\"M680.8672,-441.2253C652.6933,-434.7467 617.7921,-426.1718 587,-417 568.4131,-411.4636 524.0657,-395.6081 489.4575,-383.0307\"/>\n<polygon fill=\"#000000\" stroke=\"#000000\" points=\"490.5779,-379.7139 479.9839,-379.5815 488.183,-386.2915 490.5779,-379.7139\"/>\n<text text-anchor=\"middle\" x=\"600.5\" y=\"-405.8\" font-family=\"Times,serif\" font-size=\"14.00\" fill=\"#000000\">0.02</text>\n</g>\n<!-- 3. residual sugar&#45;&gt;5. free sulfur dioxide -->\n<g id=\"edge11\" class=\"edge\">\n<title>3. residual sugar&#45;&gt;5. free sulfur dioxide</title>\n<path fill=\"none\" stroke=\"#000000\" d=\"M775.7883,-438.1461C792.9063,-431.7979 812.9843,-424.2024 831,-417 855.2604,-407.301 882.0377,-395.9808 904.1307,-386.4729\"/>\n<polygon fill=\"#000000\" stroke=\"#000000\" points=\"905.8138,-389.5586 913.6078,-382.382 903.0395,-383.1318 905.8138,-389.5586\"/>\n<text text-anchor=\"middle\" x=\"880.5\" y=\"-405.8\" font-family=\"Times,serif\" font-size=\"14.00\" fill=\"#000000\">1.54</text>\n</g>\n<!-- 6. total sulfur dioxide -->\n<g id=\"node8\" class=\"node\">\n<title>6. total sulfur dioxide</title>\n<ellipse fill=\"none\" stroke=\"#000000\" cx=\"930\" cy=\"-279\" rx=\"90.9839\" ry=\"18\"/>\n<text text-anchor=\"middle\" x=\"930\" y=\"-275.3\" font-family=\"Times,serif\" font-size=\"14.00\" fill=\"#000000\">6. total sulfur dioxide</text>\n</g>\n<!-- 3. residual sugar&#45;&gt;6. total sulfur dioxide -->\n<g id=\"edge12\" class=\"edge\">\n<title>3. residual sugar&#45;&gt;6. total sulfur dioxide</title>\n<path fill=\"none\" stroke=\"#000000\" d=\"M762.3452,-436.359C770.208,-430.8024 778.4261,-424.1785 785,-417 809.0916,-390.6925 801.4098,-373.8421 826,-348 843.8254,-329.2671 867.6323,-313.0049 887.9701,-300.9808\"/>\n<polygon fill=\"#000000\" stroke=\"#000000\" points=\"889.8235,-303.9524 896.7404,-295.9269 886.3285,-297.8873 889.8235,-303.9524\"/>\n<text text-anchor=\"middle\" x=\"839.5\" y=\"-362.3\" font-family=\"Times,serif\" font-size=\"14.00\" fill=\"#000000\">1.44</text>\n</g>\n<!-- 3. residual sugar&#45;&gt;8. pH -->\n<g id=\"edge17\" class=\"edge\">\n<title>3. residual sugar&#45;&gt;8. pH</title>\n<path fill=\"none\" stroke=\"#000000\" d=\"M747.188,-435.2188C757.6318,-418.2283 771,-391.5001 771,-366 771,-366 771,-366 771,-192 771,-135.3207 581.1876,-114.3167 494.3968,-107.6752\"/>\n<polygon fill=\"#000000\" stroke=\"#000000\" points=\"494.5729,-104.1788 484.3429,-106.935 494.0589,-111.1599 494.5729,-104.1788\"/>\n<text text-anchor=\"middle\" x=\"786.5\" y=\"-275.3\" font-family=\"Times,serif\" font-size=\"14.00\" fill=\"#000000\">&#45;0.03</text>\n</g>\n<!-- 3. residual sugar&#45;&gt;9. sulphates -->\n<g id=\"edge25\" class=\"edge\">\n<title>3. residual sugar&#45;&gt;9. sulphates</title>\n<path fill=\"none\" stroke=\"#000000\" d=\"M734.727,-434.8852C733.8485,-413.4221 730.5871,-376.9286 719,-348 694.7937,-287.5659 690.8199,-261.5017 635,-228 606.5924,-210.9504 519.7231,-215.1842 487,-210 475.4376,-208.1682 463.1096,-205.9448 451.359,-203.6944\"/>\n<polygon fill=\"#000000\" stroke=\"#000000\" points=\"451.6997,-200.195 441.2151,-201.7189 450.3616,-207.066 451.6997,-200.195\"/>\n<text text-anchor=\"middle\" x=\"726.5\" y=\"-318.8\" font-family=\"Times,serif\" font-size=\"14.00\" fill=\"#000000\">&#45;0.02</text>\n</g>\n<!-- 3. residual sugar&#45;&gt;10. alcohol -->\n<g id=\"edge31\" class=\"edge\">\n<title>3. residual sugar&#45;&gt;10. alcohol</title>\n<path fill=\"none\" stroke=\"#000000\" d=\"M723.8871,-435.0663C701.2786,-398.6807 651.5858,-319.2524 646,-315 629.4815,-302.4247 608.4894,-294.1892 588.9739,-288.8187\"/>\n<polygon fill=\"#000000\" stroke=\"#000000\" points=\"589.7925,-285.4155 579.2377,-286.3348 588.0621,-292.1982 589.7925,-285.4155\"/>\n<text text-anchor=\"middle\" x=\"704.5\" y=\"-362.3\" font-family=\"Times,serif\" font-size=\"14.00\" fill=\"#000000\">0.25</text>\n</g>\n<!-- 5. free sulfur dioxide&#45;&gt;6. total sulfur dioxide -->\n<g id=\"edge13\" class=\"edge\">\n<title>5. free sulfur dioxide&#45;&gt;6. total sulfur dioxide</title>\n<path fill=\"none\" stroke=\"#000000\" d=\"M946.6488,-347.9735C943.7768,-336.0751 939.9571,-320.2508 936.7008,-306.7606\"/>\n<polygon fill=\"#000000\" stroke=\"#000000\" points=\"940.0944,-305.9029 934.3456,-297.0034 933.2898,-307.5455 940.0944,-305.9029\"/>\n<text text-anchor=\"middle\" x=\"954.5\" y=\"-318.8\" font-family=\"Times,serif\" font-size=\"14.00\" fill=\"#000000\">1.99</text>\n</g>\n<!-- 8. pH&#45;&gt;11. quality -->\n<g id=\"edge36\" class=\"edge\">\n<title>8. pH&#45;&gt;11. quality</title>\n<path fill=\"none\" stroke=\"#000000\" d=\"M437.5169,-88.636C426.1221,-75.7613 410.0538,-57.6063 397.061,-42.9261\"/>\n<polygon fill=\"#000000\" stroke=\"#000000\" points=\"399.457,-40.3522 390.2084,-35.1835 394.2151,-44.9915 399.457,-40.3522\"/>\n<text text-anchor=\"middle\" x=\"434.5\" y=\"-57.8\" font-family=\"Times,serif\" font-size=\"14.00\" fill=\"#000000\">&#45;0.29</text>\n</g>\n<!-- 9. sulphates&#45;&gt;8. pH -->\n<g id=\"edge20\" class=\"edge\">\n<title>9. sulphates&#45;&gt;8. pH</title>\n<path fill=\"none\" stroke=\"#000000\" d=\"M406.5348,-174.3943C414.7538,-161.8494 425.9325,-144.7873 435.1484,-130.7209\"/>\n<polygon fill=\"#000000\" stroke=\"#000000\" points=\"438.3176,-132.2702 440.8703,-121.9875 432.4624,-128.434 438.3176,-132.2702\"/>\n<text text-anchor=\"middle\" x=\"442.5\" y=\"-144.8\" font-family=\"Times,serif\" font-size=\"14.00\" fill=\"#000000\">&#45;0.08</text>\n</g>\n<!-- 9. sulphates&#45;&gt;11. quality -->\n<g id=\"edge37\" class=\"edge\">\n<title>9. sulphates&#45;&gt;11. quality</title>\n<path fill=\"none\" stroke=\"#000000\" d=\"M391.7445,-173.8911C389.3375,-160.0032 386.1223,-140.3384 384,-123 380.8388,-97.1738 378.4124,-67.6389 376.88,-46.4854\"/>\n<polygon fill=\"#000000\" stroke=\"#000000\" points=\"380.3533,-45.9817 376.161,-36.2516 373.3705,-46.4723 380.3533,-45.9817\"/>\n<text text-anchor=\"middle\" x=\"397.5\" y=\"-101.3\" font-family=\"Times,serif\" font-size=\"14.00\" fill=\"#000000\">0.76</text>\n</g>\n<!-- 10. alcohol&#45;&gt;8. pH -->\n<g id=\"edge21\" class=\"edge\">\n<title>10. alcohol&#45;&gt;8. pH</title>\n<path fill=\"none\" stroke=\"#000000\" d=\"M526.1032,-260.7984C523.2509,-250.9469 519.3607,-238.6485 515,-228 500.9532,-193.6985 480.9162,-156.002 467.2348,-131.5006\"/>\n<polygon fill=\"#000000\" stroke=\"#000000\" points=\"470.1099,-129.4733 462.1513,-122.4797 464.0116,-132.91 470.1099,-129.4733\"/>\n<text text-anchor=\"middle\" x=\"520.5\" y=\"-188.3\" font-family=\"Times,serif\" font-size=\"14.00\" fill=\"#000000\">0.07</text>\n</g>\n<!-- 10. alcohol&#45;&gt;9. sulphates -->\n<g id=\"edge28\" class=\"edge\">\n<title>10. alcohol&#45;&gt;9. sulphates</title>\n<path fill=\"none\" stroke=\"#000000\" d=\"M510.8288,-262.2113C497.8561,-251.7807 480.413,-238.4223 464,-228 454.924,-222.2368 444.824,-216.5782 435.2133,-211.5161\"/>\n<polygon fill=\"#000000\" stroke=\"#000000\" points=\"436.6895,-208.3394 426.1982,-206.8615 433.4781,-214.5593 436.6895,-208.3394\"/>\n<text text-anchor=\"middle\" x=\"498.5\" y=\"-231.8\" font-family=\"Times,serif\" font-size=\"14.00\" fill=\"#000000\">0.05</text>\n</g>\n<!-- 10. alcohol&#45;&gt;11. quality -->\n<g id=\"edge38\" class=\"edge\">\n<title>10. alcohol&#45;&gt;11. quality</title>\n<path fill=\"none\" stroke=\"#000000\" d=\"M581.0316,-273.3504C612.7755,-267.1709 645.9744,-254.3627 635,-228 592.1153,-124.9823 548.2503,-113.738 454,-54 443.0508,-47.0601 430.5417,-40.7199 418.7567,-35.3598\"/>\n<polygon fill=\"#000000\" stroke=\"#000000\" points=\"420.0662,-32.1121 409.5042,-31.2785 417.2411,-38.5167 420.0662,-32.1121\"/>\n<text text-anchor=\"middle\" x=\"606.5\" y=\"-144.8\" font-family=\"Times,serif\" font-size=\"14.00\" fill=\"#000000\">0.28</text>\n</g>\n</g>\n</svg>\n"
          },
          "metadata": {},
          "execution_count": 12
        }
      ]
    },
    {
      "cell_type": "code",
      "source": [
        "print(dag.source)"
      ],
      "metadata": {
        "colab": {
          "base_uri": "https://localhost:8080/"
        },
        "id": "5v8_KIhYsyPn",
        "outputId": "50b21bbe-3bd2-4aa4-8b60-97a00df572d0"
      },
      "execution_count": 13,
      "outputs": [
        {
          "output_type": "stream",
          "name": "stdout",
          "text": [
            "digraph {\n",
            "\t\"2. citric acid\" -> \"1. volatile acidity\" [label=-0.67]\n",
            "\t\"4. chlorides\" -> \"1. volatile acidity\" [label=0.60]\n",
            "\t\"7. density\" -> \"1. volatile acidity\" [label=19.19]\n",
            "\t\"0. fixed acidity\" -> \"2. citric acid\" [label=0.09]\n",
            "\t\"3. residual sugar\" -> \"2. citric acid\" [label=0.02]\n",
            "\t\"4. chlorides\" -> \"2. citric acid\" [label=0.70]\n",
            "\t\"7. density\" -> \"2. citric acid\" [label=-29.64]\n",
            "\t\"0. fixed acidity\" -> \"3. residual sugar\" [label=0.09]\n",
            "\t\"7. density\" -> \"4. chlorides\" [label=4.11]\n",
            "\t\"0. fixed acidity\" -> \"5. free sulfur dioxide\" [label=-1.07]\n",
            "\t\"3. residual sugar\" -> \"5. free sulfur dioxide\" [label=1.54]\n",
            "\t\"3. residual sugar\" -> \"6. total sulfur dioxide\" [label=1.44]\n",
            "\t\"5. free sulfur dioxide\" -> \"6. total sulfur dioxide\" [label=1.99]\n",
            "\t\"0. fixed acidity\" -> \"8. pH\" [label=-0.10]\n",
            "\t\"1. volatile acidity\" -> \"8. pH\" [label=0.02]\n",
            "\t\"2. citric acid\" -> \"8. pH\" [label=-0.03]\n",
            "\t\"3. residual sugar\" -> \"8. pH\" [label=-0.03]\n",
            "\t\"4. chlorides\" -> \"8. pH\" [label=-0.51]\n",
            "\t\"7. density\" -> \"8. pH\" [label=64.61]\n",
            "\t\"9. sulphates\" -> \"8. pH\" [label=-0.08]\n",
            "\t\"10. alcohol\" -> \"8. pH\" [label=0.07]\n",
            "\t\"0. fixed acidity\" -> \"9. sulphates\" [label=-0.01]\n",
            "\t\"1. volatile acidity\" -> \"9. sulphates\" [label=-0.23]\n",
            "\t\"2. citric acid\" -> \"9. sulphates\" [label=0.04]\n",
            "\t\"3. residual sugar\" -> \"9. sulphates\" [label=-0.02]\n",
            "\t\"4. chlorides\" -> \"9. sulphates\" [label=1.42]\n",
            "\t\"7. density\" -> \"9. sulphates\" [label=33.55]\n",
            "\t\"10. alcohol\" -> \"9. sulphates\" [label=0.05]\n",
            "\t\"0. fixed acidity\" -> \"10. alcohol\" [label=0.23]\n",
            "\t\"2. citric acid\" -> \"10. alcohol\" [label=0.93]\n",
            "\t\"3. residual sugar\" -> \"10. alcohol\" [label=0.25]\n",
            "\t\"4. chlorides\" -> \"10. alcohol\" [label=-2.77]\n",
            "\t\"7. density\" -> \"10. alcohol\" [label=-499.12]\n",
            "\t\"1. volatile acidity\" -> \"11. quality\" [label=-1.03]\n",
            "\t\"4. chlorides\" -> \"11. quality\" [label=-1.41]\n",
            "\t\"8. pH\" -> \"11. quality\" [label=-0.29]\n",
            "\t\"9. sulphates\" -> \"11. quality\" [label=0.76]\n",
            "\t\"10. alcohol\" -> \"11. quality\" [label=0.28]\n",
            "}\n"
          ]
        }
      ]
    },
    {
      "cell_type": "markdown",
      "source": [
        "##**Modeling**"
      ],
      "metadata": {
        "id": "LgmLAR55tpO9"
      }
    },
    {
      "cell_type": "code",
      "source": [
        "model = CausalModel(\n",
        "    data = red_data,\n",
        "    treatment = ['pH'],\n",
        "    outcome = ['quality'],\n",
        "    common_causes = ['fixed acidity', 'volatile acidity', 'citric acid'],\n",
        "    instruments = ['residual sugar'])"
      ],
      "metadata": {
        "colab": {
          "base_uri": "https://localhost:8080/"
        },
        "id": "qaLhbigOsySe",
        "outputId": "62010400-a691-4303-9937-ca4dff253f18"
      },
      "execution_count": 14,
      "outputs": [
        {
          "output_type": "stream",
          "name": "stderr",
          "text": [
            "WARNING:dowhy.causal_model:Causal Graph not provided. DoWhy will construct a graph based on data inputs.\n"
          ]
        }
      ]
    },
    {
      "cell_type": "code",
      "source": [
        "model.view_model()"
      ],
      "metadata": {
        "colab": {
          "base_uri": "https://localhost:8080/",
          "height": 375
        },
        "id": "lS8r1XExsyVE",
        "outputId": "d88fb694-b37a-4ce4-aa1f-cc45be7d6cdf"
      },
      "execution_count": 15,
      "outputs": [
        {
          "output_type": "stream",
          "name": "stderr",
          "text": [
            "WARNING:dowhy.causal_graph:Warning: Pygraphviz cannot be loaded. Check that graphviz and pygraphviz are installed.\n"
          ]
        },
        {
          "output_type": "display_data",
          "data": {
            "text/plain": [
              "<Figure size 576x432 with 1 Axes>"
            ],
            "image/png": "[encoded data removed]"
          },
          "metadata": {}
        }
      ]
    },
    {
      "cell_type": "markdown",
      "source": [
        "##**Identification**"
      ],
      "metadata": {
        "id": "OIwlnT7otvXt"
      }
    },
    {
      "cell_type": "code",
      "source": [
        "#2 Identify\n",
        "identified_estimand = model.identify_effect(proceed_when_unidentifiable=True)\n",
        "print(identified_estimand)"
      ],
      "metadata": {
        "colab": {
          "base_uri": "https://localhost:8080/"
        },
        "id": "b8GA5G0QsyX7",
        "outputId": "853b119c-40d0-491c-ec18-53e94b115642"
      },
      "execution_count": 16,
      "outputs": [
        {
          "output_type": "stream",
          "name": "stdout",
          "text": [
            "Estimand type: nonparametric-ate\n",
            "\n",
            "### Estimand : 1\n",
            "Estimand name: backdoor\n",
            "Estimand expression:\n",
            "  d                                                                   \n",
            "─────(Expectation(quality|volatile acidity,fixed acidity,citric acid))\n",
            "d[pH]                                                                 \n",
            "Estimand assumption 1, Unconfoundedness: If U→{pH} and U→quality then P(quality|pH,volatile acidity,fixed acidity,citric acid,U) = P(quality|pH,volatile acidity,fixed acidity,citric acid)\n",
            "\n",
            "### Estimand : 2\n",
            "Estimand name: iv\n",
            "Estimand expression:\n",
            "Expectation(Derivative(quality, [residual sugar])*Derivative([pH], [residual s\n",
            "ugar])**(-1))\n",
            "Estimand assumption 1, As-if-random: If U→→quality then ¬(U →→{residual sugar})\n",
            "Estimand assumption 2, Exclusion: If we remove {residual sugar}→{pH}, then ¬({residual sugar}→quality)\n",
            "\n",
            "### Estimand : 3\n",
            "Estimand name: frontdoor\n",
            "No such variable(s) found!\n",
            "\n"
          ]
        }
      ]
    },
    {
      "cell_type": "markdown",
      "source": [
        "##**Estimation**"
      ],
      "metadata": {
        "id": "WBUbRuDGt269"
      }
    },
    {
      "cell_type": "markdown",
      "source": [
        "+ This step involves building an estimator and computes the target estimand identified in 'Identification'"
      ],
      "metadata": {
        "id": "Yme2pO0euPrP"
      }
    },
    {
      "cell_type": "code",
      "source": [
        "#Cannot use propensity score\n",
        "estimate = model.estimate_effect(identified_estimand,\n",
        "                                 method_name=\"backdoor.linear_regression\")\n",
        "\n",
        "print(estimate)"
      ],
      "metadata": {
        "colab": {
          "base_uri": "https://localhost:8080/"
        },
        "id": "KZdW8SfYsya1",
        "outputId": "4e84f075-d52e-4539-b118-d0c0ef309277"
      },
      "execution_count": 17,
      "outputs": [
        {
          "output_type": "stream",
          "name": "stdout",
          "text": [
            "linear_regression\n",
            "{'control_value': 0, 'treatment_value': 1, 'test_significance': None, 'evaluate_effect_strength': False, 'confidence_intervals': False, 'target_units': 'ate', 'effect_modifiers': []}\n",
            "*** Causal Estimate ***\n",
            "\n",
            "## Identified estimand\n",
            "Estimand type: nonparametric-ate\n",
            "\n",
            "### Estimand : 1\n",
            "Estimand name: backdoor\n",
            "Estimand expression:\n",
            "  d                                                                   \n",
            "─────(Expectation(quality|volatile acidity,fixed acidity,citric acid))\n",
            "d[pH]                                                                 \n",
            "Estimand assumption 1, Unconfoundedness: If U→{pH} and U→quality then P(quality|pH,volatile acidity,fixed acidity,citric acid,U) = P(quality|pH,volatile acidity,fixed acidity,citric acid)\n",
            "\n",
            "## Realized estimand\n",
            "b: quality~pH+volatile acidity+fixed acidity+citric acid\n",
            "Target units: ate\n",
            "\n",
            "## Estimate\n",
            "Mean value: 0.49785413803665524\n",
            "\n"
          ]
        }
      ]
    },
    {
      "cell_type": "code",
      "source": [
        "dml_estimate = model.estimate_effect(identified_estimand, \n",
        "                                    method_name=\"backdoor.econml.dml.DML\",\n",
        "                                    method_params={\n",
        "                                        'init_params': {'model_y':GradientBoostingRegressor(),\n",
        "                                                        'model_t': GradientBoostingRegressor(),\n",
        "                                                        'model_final':LassoCV(fit_intercept=False), },\n",
        "                                        'fit_params': {}\n",
        "                                     })\n",
        "print(dml_estimate)"
      ],
      "metadata": {
        "colab": {
          "base_uri": "https://localhost:8080/"
        },
        "id": "Yp2_xk9Bsydb",
        "outputId": "9d18e4dc-4fd2-4ee1-bc5b-7d27f5d4ec4d"
      },
      "execution_count": 18,
      "outputs": [
        {
          "output_type": "stream",
          "name": "stdout",
          "text": [
            "*** Causal Estimate ***\n",
            "\n",
            "## Identified estimand\n",
            "Estimand type: nonparametric-ate\n",
            "\n",
            "### Estimand : 1\n",
            "Estimand name: backdoor\n",
            "Estimand expression:\n",
            "  d                                                                   \n",
            "─────(Expectation(quality|volatile acidity,fixed acidity,citric acid))\n",
            "d[pH]                                                                 \n",
            "Estimand assumption 1, Unconfoundedness: If U→{pH} and U→quality then P(quality|pH,volatile acidity,fixed acidity,citric acid,U) = P(quality|pH,volatile acidity,fixed acidity,citric acid)\n",
            "\n",
            "## Realized estimand\n",
            "b: quality~pH+volatile acidity+fixed acidity+citric acid | \n",
            "Target units: ate\n",
            "\n",
            "## Estimate\n",
            "Mean value: 0.0\n",
            "Effect estimates: [0. 0. 0. ... 0. 0. 0.]\n",
            "\n"
          ]
        }
      ]
    },
    {
      "cell_type": "markdown",
      "source": [
        "##**Refute**"
      ],
      "metadata": {
        "id": "0nDrEeust9HQ"
      }
    },
    {
      "cell_type": "markdown",
      "source": [
        "Next we check the robustness of the estimate using a Random Cause and Placebo refutation test. In this test, a random cause is added to check if the estimate is same"
      ],
      "metadata": {
        "id": "dHTf1b7cuMfl"
      }
    },
    {
      "cell_type": "code",
      "source": [
        "random_refute_results = model.refute_estimate(identified_estimand, estimate,\n",
        "                                       method_name=\"random_common_cause\")\n",
        "print(random_refute_results)"
      ],
      "metadata": {
        "colab": {
          "base_uri": "https://localhost:8080/"
        },
        "id": "0UOPZDwwsygW",
        "outputId": "cd4f7290-bd7a-40d5-f9e2-0c95fe425772"
      },
      "execution_count": 19,
      "outputs": [
        {
          "output_type": "stream",
          "name": "stdout",
          "text": [
            "{'control_value': 0, 'treatment_value': 1, 'test_significance': False, 'evaluate_effect_strength': False, 'confidence_intervals': False, 'target_units': 'ate', 'effect_modifiers': []}\n",
            "{'control_value': 0, 'treatment_value': 1, 'test_significance': False, 'evaluate_effect_strength': False, 'confidence_intervals': False, 'target_units': 'ate', 'effect_modifiers': []}\n",
            "{'control_value': 0, 'treatment_value': 1, 'test_significance': False, 'evaluate_effect_strength': False, 'confidence_intervals': False, 'target_units': 'ate', 'effect_modifiers': []}\n",
            "{'control_value': 0, 'treatment_value': 1, 'test_significance': False, 'evaluate_effect_strength': False, 'confidence_intervals': False, 'target_units': 'ate', 'effect_modifiers': []}\n",
            "{'control_value': 0, 'treatment_value': 1, 'test_significance': False, 'evaluate_effect_strength': False, 'confidence_intervals': False, 'target_units': 'ate', 'effect_modifiers': []}\n",
            "{'control_value': 0, 'treatment_value': 1, 'test_significance': False, 'evaluate_effect_strength': False, 'confidence_intervals': False, 'target_units': 'ate', 'effect_modifiers': []}\n",
            "{'control_value': 0, 'treatment_value': 1, 'test_significance': False, 'evaluate_effect_strength': False, 'confidence_intervals': False, 'target_units': 'ate', 'effect_modifiers': []}\n",
            "{'control_value': 0, 'treatment_value': 1, 'test_significance': False, 'evaluate_effect_strength': False, 'confidence_intervals': False, 'target_units': 'ate', 'effect_modifiers': []}\n",
            "{'control_value': 0, 'treatment_value': 1, 'test_significance': False, 'evaluate_effect_strength': False, 'confidence_intervals': False, 'target_units': 'ate', 'effect_modifiers': []}\n",
            "{'control_value': 0, 'treatment_value': 1, 'test_significance': False, 'evaluate_effect_strength': False, 'confidence_intervals': False, 'target_units': 'ate', 'effect_modifiers': []}\n",
            "{'control_value': 0, 'treatment_value': 1, 'test_significance': False, 'evaluate_effect_strength': False, 'confidence_intervals': False, 'target_units': 'ate', 'effect_modifiers': []}\n",
            "{'control_value': 0, 'treatment_value': 1, 'test_significance': False, 'evaluate_effect_strength': False, 'confidence_intervals': False, 'target_units': 'ate', 'effect_modifiers': []}\n",
            "{'control_value': 0, 'treatment_value': 1, 'test_significance': False, 'evaluate_effect_strength': False, 'confidence_intervals': False, 'target_units': 'ate', 'effect_modifiers': []}\n",
            "{'control_value': 0, 'treatment_value': 1, 'test_significance': False, 'evaluate_effect_strength': False, 'confidence_intervals': False, 'target_units': 'ate', 'effect_modifiers': []}\n",
            "{'control_value': 0, 'treatment_value': 1, 'test_significance': False, 'evaluate_effect_strength': False, 'confidence_intervals': False, 'target_units': 'ate', 'effect_modifiers': []}\n",
            "{'control_value': 0, 'treatment_value': 1, 'test_significance': False, 'evaluate_effect_strength': False, 'confidence_intervals': False, 'target_units': 'ate', 'effect_modifiers': []}\n",
            "{'control_value': 0, 'treatment_value': 1, 'test_significance': False, 'evaluate_effect_strength': False, 'confidence_intervals': False, 'target_units': 'ate', 'effect_modifiers': []}\n",
            "{'control_value': 0, 'treatment_value': 1, 'test_significance': False, 'evaluate_effect_strength': False, 'confidence_intervals': False, 'target_units': 'ate', 'effect_modifiers': []}\n",
            "{'control_value': 0, 'treatment_value': 1, 'test_significance': False, 'evaluate_effect_strength': False, 'confidence_intervals': False, 'target_units': 'ate', 'effect_modifiers': []}\n",
            "{'control_value': 0, 'treatment_value': 1, 'test_significance': False, 'evaluate_effect_strength': False, 'confidence_intervals': False, 'target_units': 'ate', 'effect_modifiers': []}\n",
            "{'control_value': 0, 'treatment_value': 1, 'test_significance': False, 'evaluate_effect_strength': False, 'confidence_intervals': False, 'target_units': 'ate', 'effect_modifiers': []}\n",
            "{'control_value': 0, 'treatment_value': 1, 'test_significance': False, 'evaluate_effect_strength': False, 'confidence_intervals': False, 'target_units': 'ate', 'effect_modifiers': []}\n",
            "{'control_value': 0, 'treatment_value': 1, 'test_significance': False, 'evaluate_effect_strength': False, 'confidence_intervals': False, 'target_units': 'ate', 'effect_modifiers': []}\n",
            "{'control_value': 0, 'treatment_value': 1, 'test_significance': False, 'evaluate_effect_strength': False, 'confidence_intervals': False, 'target_units': 'ate', 'effect_modifiers': []}\n",
            "{'control_value': 0, 'treatment_value': 1, 'test_significance': False, 'evaluate_effect_strength': False, 'confidence_intervals': False, 'target_units': 'ate', 'effect_modifiers': []}\n",
            "{'control_value': 0, 'treatment_value': 1, 'test_significance': False, 'evaluate_effect_strength': False, 'confidence_intervals': False, 'target_units': 'ate', 'effect_modifiers': []}\n",
            "{'control_value': 0, 'treatment_value': 1, 'test_significance': False, 'evaluate_effect_strength': False, 'confidence_intervals': False, 'target_units': 'ate', 'effect_modifiers': []}\n",
            "{'control_value': 0, 'treatment_value': 1, 'test_significance': False, 'evaluate_effect_strength': False, 'confidence_intervals': False, 'target_units': 'ate', 'effect_modifiers': []}\n",
            "{'control_value': 0, 'treatment_value': 1, 'test_significance': False, 'evaluate_effect_strength': False, 'confidence_intervals': False, 'target_units': 'ate', 'effect_modifiers': []}\n",
            "{'control_value': 0, 'treatment_value': 1, 'test_significance': False, 'evaluate_effect_strength': False, 'confidence_intervals': False, 'target_units': 'ate', 'effect_modifiers': []}\n",
            "{'control_value': 0, 'treatment_value': 1, 'test_significance': False, 'evaluate_effect_strength': False, 'confidence_intervals': False, 'target_units': 'ate', 'effect_modifiers': []}\n",
            "{'control_value': 0, 'treatment_value': 1, 'test_significance': False, 'evaluate_effect_strength': False, 'confidence_intervals': False, 'target_units': 'ate', 'effect_modifiers': []}\n",
            "{'control_value': 0, 'treatment_value': 1, 'test_significance': False, 'evaluate_effect_strength': False, 'confidence_intervals': False, 'target_units': 'ate', 'effect_modifiers': []}\n",
            "{'control_value': 0, 'treatment_value': 1, 'test_significance': False, 'evaluate_effect_strength': False, 'confidence_intervals': False, 'target_units': 'ate', 'effect_modifiers': []}\n",
            "{'control_value': 0, 'treatment_value': 1, 'test_significance': False, 'evaluate_effect_strength': False, 'confidence_intervals': False, 'target_units': 'ate', 'effect_modifiers': []}\n",
            "{'control_value': 0, 'treatment_value': 1, 'test_significance': False, 'evaluate_effect_strength': False, 'confidence_intervals': False, 'target_units': 'ate', 'effect_modifiers': []}\n",
            "{'control_value': 0, 'treatment_value': 1, 'test_significance': False, 'evaluate_effect_strength': False, 'confidence_intervals': False, 'target_units': 'ate', 'effect_modifiers': []}\n",
            "{'control_value': 0, 'treatment_value': 1, 'test_significance': False, 'evaluate_effect_strength': False, 'confidence_intervals': False, 'target_units': 'ate', 'effect_modifiers': []}\n",
            "{'control_value': 0, 'treatment_value': 1, 'test_significance': False, 'evaluate_effect_strength': False, 'confidence_intervals': False, 'target_units': 'ate', 'effect_modifiers': []}\n",
            "{'control_value': 0, 'treatment_value': 1, 'test_significance': False, 'evaluate_effect_strength': False, 'confidence_intervals': False, 'target_units': 'ate', 'effect_modifiers': []}\n",
            "{'control_value': 0, 'treatment_value': 1, 'test_significance': False, 'evaluate_effect_strength': False, 'confidence_intervals': False, 'target_units': 'ate', 'effect_modifiers': []}\n",
            "{'control_value': 0, 'treatment_value': 1, 'test_significance': False, 'evaluate_effect_strength': False, 'confidence_intervals': False, 'target_units': 'ate', 'effect_modifiers': []}\n",
            "{'control_value': 0, 'treatment_value': 1, 'test_significance': False, 'evaluate_effect_strength': False, 'confidence_intervals': False, 'target_units': 'ate', 'effect_modifiers': []}\n",
            "{'control_value': 0, 'treatment_value': 1, 'test_significance': False, 'evaluate_effect_strength': False, 'confidence_intervals': False, 'target_units': 'ate', 'effect_modifiers': []}\n",
            "{'control_value': 0, 'treatment_value': 1, 'test_significance': False, 'evaluate_effect_strength': False, 'confidence_intervals': False, 'target_units': 'ate', 'effect_modifiers': []}\n",
            "{'control_value': 0, 'treatment_value': 1, 'test_significance': False, 'evaluate_effect_strength': False, 'confidence_intervals': False, 'target_units': 'ate', 'effect_modifiers': []}\n",
            "{'control_value': 0, 'treatment_value': 1, 'test_significance': False, 'evaluate_effect_strength': False, 'confidence_intervals': False, 'target_units': 'ate', 'effect_modifiers': []}\n",
            "{'control_value': 0, 'treatment_value': 1, 'test_significance': False, 'evaluate_effect_strength': False, 'confidence_intervals': False, 'target_units': 'ate', 'effect_modifiers': []}\n",
            "{'control_value': 0, 'treatment_value': 1, 'test_significance': False, 'evaluate_effect_strength': False, 'confidence_intervals': False, 'target_units': 'ate', 'effect_modifiers': []}\n",
            "{'control_value': 0, 'treatment_value': 1, 'test_significance': False, 'evaluate_effect_strength': False, 'confidence_intervals': False, 'target_units': 'ate', 'effect_modifiers': []}\n",
            "{'control_value': 0, 'treatment_value': 1, 'test_significance': False, 'evaluate_effect_strength': False, 'confidence_intervals': False, 'target_units': 'ate', 'effect_modifiers': []}\n",
            "{'control_value': 0, 'treatment_value': 1, 'test_significance': False, 'evaluate_effect_strength': False, 'confidence_intervals': False, 'target_units': 'ate', 'effect_modifiers': []}\n",
            "{'control_value': 0, 'treatment_value': 1, 'test_significance': False, 'evaluate_effect_strength': False, 'confidence_intervals': False, 'target_units': 'ate', 'effect_modifiers': []}\n",
            "{'control_value': 0, 'treatment_value': 1, 'test_significance': False, 'evaluate_effect_strength': False, 'confidence_intervals': False, 'target_units': 'ate', 'effect_modifiers': []}\n",
            "{'control_value': 0, 'treatment_value': 1, 'test_significance': False, 'evaluate_effect_strength': False, 'confidence_intervals': False, 'target_units': 'ate', 'effect_modifiers': []}\n",
            "{'control_value': 0, 'treatment_value': 1, 'test_significance': False, 'evaluate_effect_strength': False, 'confidence_intervals': False, 'target_units': 'ate', 'effect_modifiers': []}\n",
            "{'control_value': 0, 'treatment_value': 1, 'test_significance': False, 'evaluate_effect_strength': False, 'confidence_intervals': False, 'target_units': 'ate', 'effect_modifiers': []}\n",
            "{'control_value': 0, 'treatment_value': 1, 'test_significance': False, 'evaluate_effect_strength': False, 'confidence_intervals': False, 'target_units': 'ate', 'effect_modifiers': []}\n",
            "{'control_value': 0, 'treatment_value': 1, 'test_significance': False, 'evaluate_effect_strength': False, 'confidence_intervals': False, 'target_units': 'ate', 'effect_modifiers': []}\n",
            "{'control_value': 0, 'treatment_value': 1, 'test_significance': False, 'evaluate_effect_strength': False, 'confidence_intervals': False, 'target_units': 'ate', 'effect_modifiers': []}\n",
            "{'control_value': 0, 'treatment_value': 1, 'test_significance': False, 'evaluate_effect_strength': False, 'confidence_intervals': False, 'target_units': 'ate', 'effect_modifiers': []}\n",
            "{'control_value': 0, 'treatment_value': 1, 'test_significance': False, 'evaluate_effect_strength': False, 'confidence_intervals': False, 'target_units': 'ate', 'effect_modifiers': []}\n",
            "{'control_value': 0, 'treatment_value': 1, 'test_significance': False, 'evaluate_effect_strength': False, 'confidence_intervals': False, 'target_units': 'ate', 'effect_modifiers': []}\n",
            "{'control_value': 0, 'treatment_value': 1, 'test_significance': False, 'evaluate_effect_strength': False, 'confidence_intervals': False, 'target_units': 'ate', 'effect_modifiers': []}\n",
            "{'control_value': 0, 'treatment_value': 1, 'test_significance': False, 'evaluate_effect_strength': False, 'confidence_intervals': False, 'target_units': 'ate', 'effect_modifiers': []}\n",
            "{'control_value': 0, 'treatment_value': 1, 'test_significance': False, 'evaluate_effect_strength': False, 'confidence_intervals': False, 'target_units': 'ate', 'effect_modifiers': []}\n",
            "{'control_value': 0, 'treatment_value': 1, 'test_significance': False, 'evaluate_effect_strength': False, 'confidence_intervals': False, 'target_units': 'ate', 'effect_modifiers': []}\n",
            "{'control_value': 0, 'treatment_value': 1, 'test_significance': False, 'evaluate_effect_strength': False, 'confidence_intervals': False, 'target_units': 'ate', 'effect_modifiers': []}\n",
            "{'control_value': 0, 'treatment_value': 1, 'test_significance': False, 'evaluate_effect_strength': False, 'confidence_intervals': False, 'target_units': 'ate', 'effect_modifiers': []}\n",
            "{'control_value': 0, 'treatment_value': 1, 'test_significance': False, 'evaluate_effect_strength': False, 'confidence_intervals': False, 'target_units': 'ate', 'effect_modifiers': []}\n",
            "{'control_value': 0, 'treatment_value': 1, 'test_significance': False, 'evaluate_effect_strength': False, 'confidence_intervals': False, 'target_units': 'ate', 'effect_modifiers': []}\n",
            "{'control_value': 0, 'treatment_value': 1, 'test_significance': False, 'evaluate_effect_strength': False, 'confidence_intervals': False, 'target_units': 'ate', 'effect_modifiers': []}\n",
            "{'control_value': 0, 'treatment_value': 1, 'test_significance': False, 'evaluate_effect_strength': False, 'confidence_intervals': False, 'target_units': 'ate', 'effect_modifiers': []}\n",
            "{'control_value': 0, 'treatment_value': 1, 'test_significance': False, 'evaluate_effect_strength': False, 'confidence_intervals': False, 'target_units': 'ate', 'effect_modifiers': []}\n",
            "{'control_value': 0, 'treatment_value': 1, 'test_significance': False, 'evaluate_effect_strength': False, 'confidence_intervals': False, 'target_units': 'ate', 'effect_modifiers': []}\n",
            "{'control_value': 0, 'treatment_value': 1, 'test_significance': False, 'evaluate_effect_strength': False, 'confidence_intervals': False, 'target_units': 'ate', 'effect_modifiers': []}\n",
            "{'control_value': 0, 'treatment_value': 1, 'test_significance': False, 'evaluate_effect_strength': False, 'confidence_intervals': False, 'target_units': 'ate', 'effect_modifiers': []}\n",
            "{'control_value': 0, 'treatment_value': 1, 'test_significance': False, 'evaluate_effect_strength': False, 'confidence_intervals': False, 'target_units': 'ate', 'effect_modifiers': []}\n",
            "{'control_value': 0, 'treatment_value': 1, 'test_significance': False, 'evaluate_effect_strength': False, 'confidence_intervals': False, 'target_units': 'ate', 'effect_modifiers': []}\n",
            "{'control_value': 0, 'treatment_value': 1, 'test_significance': False, 'evaluate_effect_strength': False, 'confidence_intervals': False, 'target_units': 'ate', 'effect_modifiers': []}\n",
            "{'control_value': 0, 'treatment_value': 1, 'test_significance': False, 'evaluate_effect_strength': False, 'confidence_intervals': False, 'target_units': 'ate', 'effect_modifiers': []}\n",
            "{'control_value': 0, 'treatment_value': 1, 'test_significance': False, 'evaluate_effect_strength': False, 'confidence_intervals': False, 'target_units': 'ate', 'effect_modifiers': []}\n",
            "{'control_value': 0, 'treatment_value': 1, 'test_significance': False, 'evaluate_effect_strength': False, 'confidence_intervals': False, 'target_units': 'ate', 'effect_modifiers': []}\n",
            "{'control_value': 0, 'treatment_value': 1, 'test_significance': False, 'evaluate_effect_strength': False, 'confidence_intervals': False, 'target_units': 'ate', 'effect_modifiers': []}\n",
            "{'control_value': 0, 'treatment_value': 1, 'test_significance': False, 'evaluate_effect_strength': False, 'confidence_intervals': False, 'target_units': 'ate', 'effect_modifiers': []}\n",
            "{'control_value': 0, 'treatment_value': 1, 'test_significance': False, 'evaluate_effect_strength': False, 'confidence_intervals': False, 'target_units': 'ate', 'effect_modifiers': []}\n",
            "{'control_value': 0, 'treatment_value': 1, 'test_significance': False, 'evaluate_effect_strength': False, 'confidence_intervals': False, 'target_units': 'ate', 'effect_modifiers': []}\n",
            "{'control_value': 0, 'treatment_value': 1, 'test_significance': False, 'evaluate_effect_strength': False, 'confidence_intervals': False, 'target_units': 'ate', 'effect_modifiers': []}\n",
            "{'control_value': 0, 'treatment_value': 1, 'test_significance': False, 'evaluate_effect_strength': False, 'confidence_intervals': False, 'target_units': 'ate', 'effect_modifiers': []}\n",
            "{'control_value': 0, 'treatment_value': 1, 'test_significance': False, 'evaluate_effect_strength': False, 'confidence_intervals': False, 'target_units': 'ate', 'effect_modifiers': []}\n",
            "{'control_value': 0, 'treatment_value': 1, 'test_significance': False, 'evaluate_effect_strength': False, 'confidence_intervals': False, 'target_units': 'ate', 'effect_modifiers': []}\n",
            "{'control_value': 0, 'treatment_value': 1, 'test_significance': False, 'evaluate_effect_strength': False, 'confidence_intervals': False, 'target_units': 'ate', 'effect_modifiers': []}\n",
            "{'control_value': 0, 'treatment_value': 1, 'test_significance': False, 'evaluate_effect_strength': False, 'confidence_intervals': False, 'target_units': 'ate', 'effect_modifiers': []}\n",
            "{'control_value': 0, 'treatment_value': 1, 'test_significance': False, 'evaluate_effect_strength': False, 'confidence_intervals': False, 'target_units': 'ate', 'effect_modifiers': []}\n",
            "{'control_value': 0, 'treatment_value': 1, 'test_significance': False, 'evaluate_effect_strength': False, 'confidence_intervals': False, 'target_units': 'ate', 'effect_modifiers': []}\n",
            "{'control_value': 0, 'treatment_value': 1, 'test_significance': False, 'evaluate_effect_strength': False, 'confidence_intervals': False, 'target_units': 'ate', 'effect_modifiers': []}\n",
            "{'control_value': 0, 'treatment_value': 1, 'test_significance': False, 'evaluate_effect_strength': False, 'confidence_intervals': False, 'target_units': 'ate', 'effect_modifiers': []}\n",
            "{'control_value': 0, 'treatment_value': 1, 'test_significance': False, 'evaluate_effect_strength': False, 'confidence_intervals': False, 'target_units': 'ate', 'effect_modifiers': []}\n",
            "{'control_value': 0, 'treatment_value': 1, 'test_significance': False, 'evaluate_effect_strength': False, 'confidence_intervals': False, 'target_units': 'ate', 'effect_modifiers': []}\n",
            "{'control_value': 0, 'treatment_value': 1, 'test_significance': False, 'evaluate_effect_strength': False, 'confidence_intervals': False, 'target_units': 'ate', 'effect_modifiers': []}\n",
            "Refute: Add a random common cause\n",
            "Estimated effect:0.49785413803665524\n",
            "New effect:0.497907446580664\n",
            "p value:0.47\n",
            "\n"
          ]
        }
      ]
    },
    {
      "cell_type": "markdown",
      "source": [
        "+ In this test, the treatment is replaced by an independent random variable (while preserving the correlation with the instrument), so that the true causal effect should be zero. We check if our estimator also provides the correct answer of zero."
      ],
      "metadata": {
        "id": "NZ-9ZZ52uJAu"
      }
    },
    {
      "cell_type": "code",
      "source": [
        "placebo_refute_results = model.refute_estimate(identified_estimand, estimate,\n",
        "                                       method_name=\"placebo_treatment_refuter\")\n",
        "print(placebo_refute_results)"
      ],
      "metadata": {
        "colab": {
          "base_uri": "https://localhost:8080/"
        },
        "id": "x62jyj4hsyjK",
        "outputId": "5ed005b1-da58-41e5-f6af-fd6a918704a6"
      },
      "execution_count": 20,
      "outputs": [
        {
          "output_type": "stream",
          "name": "stdout",
          "text": [
            "{'control_value': 0, 'treatment_value': 1, 'test_significance': False, 'evaluate_effect_strength': False, 'confidence_intervals': False, 'target_units': 'ate', 'effect_modifiers': []}\n",
            "{'control_value': 0, 'treatment_value': 1, 'test_significance': False, 'evaluate_effect_strength': False, 'confidence_intervals': False, 'target_units': 'ate', 'effect_modifiers': []}\n",
            "{'control_value': 0, 'treatment_value': 1, 'test_significance': False, 'evaluate_effect_strength': False, 'confidence_intervals': False, 'target_units': 'ate', 'effect_modifiers': []}\n",
            "{'control_value': 0, 'treatment_value': 1, 'test_significance': False, 'evaluate_effect_strength': False, 'confidence_intervals': False, 'target_units': 'ate', 'effect_modifiers': []}\n",
            "{'control_value': 0, 'treatment_value': 1, 'test_significance': False, 'evaluate_effect_strength': False, 'confidence_intervals': False, 'target_units': 'ate', 'effect_modifiers': []}\n",
            "{'control_value': 0, 'treatment_value': 1, 'test_significance': False, 'evaluate_effect_strength': False, 'confidence_intervals': False, 'target_units': 'ate', 'effect_modifiers': []}\n",
            "{'control_value': 0, 'treatment_value': 1, 'test_significance': False, 'evaluate_effect_strength': False, 'confidence_intervals': False, 'target_units': 'ate', 'effect_modifiers': []}\n",
            "{'control_value': 0, 'treatment_value': 1, 'test_significance': False, 'evaluate_effect_strength': False, 'confidence_intervals': False, 'target_units': 'ate', 'effect_modifiers': []}\n",
            "{'control_value': 0, 'treatment_value': 1, 'test_significance': False, 'evaluate_effect_strength': False, 'confidence_intervals': False, 'target_units': 'ate', 'effect_modifiers': []}\n",
            "{'control_value': 0, 'treatment_value': 1, 'test_significance': False, 'evaluate_effect_strength': False, 'confidence_intervals': False, 'target_units': 'ate', 'effect_modifiers': []}\n",
            "{'control_value': 0, 'treatment_value': 1, 'test_significance': False, 'evaluate_effect_strength': False, 'confidence_intervals': False, 'target_units': 'ate', 'effect_modifiers': []}\n",
            "{'control_value': 0, 'treatment_value': 1, 'test_significance': False, 'evaluate_effect_strength': False, 'confidence_intervals': False, 'target_units': 'ate', 'effect_modifiers': []}\n",
            "{'control_value': 0, 'treatment_value': 1, 'test_significance': False, 'evaluate_effect_strength': False, 'confidence_intervals': False, 'target_units': 'ate', 'effect_modifiers': []}\n",
            "{'control_value': 0, 'treatment_value': 1, 'test_significance': False, 'evaluate_effect_strength': False, 'confidence_intervals': False, 'target_units': 'ate', 'effect_modifiers': []}\n",
            "{'control_value': 0, 'treatment_value': 1, 'test_significance': False, 'evaluate_effect_strength': False, 'confidence_intervals': False, 'target_units': 'ate', 'effect_modifiers': []}\n",
            "{'control_value': 0, 'treatment_value': 1, 'test_significance': False, 'evaluate_effect_strength': False, 'confidence_intervals': False, 'target_units': 'ate', 'effect_modifiers': []}\n",
            "{'control_value': 0, 'treatment_value': 1, 'test_significance': False, 'evaluate_effect_strength': False, 'confidence_intervals': False, 'target_units': 'ate', 'effect_modifiers': []}\n",
            "{'control_value': 0, 'treatment_value': 1, 'test_significance': False, 'evaluate_effect_strength': False, 'confidence_intervals': False, 'target_units': 'ate', 'effect_modifiers': []}\n",
            "{'control_value': 0, 'treatment_value': 1, 'test_significance': False, 'evaluate_effect_strength': False, 'confidence_intervals': False, 'target_units': 'ate', 'effect_modifiers': []}\n",
            "{'control_value': 0, 'treatment_value': 1, 'test_significance': False, 'evaluate_effect_strength': False, 'confidence_intervals': False, 'target_units': 'ate', 'effect_modifiers': []}\n",
            "{'control_value': 0, 'treatment_value': 1, 'test_significance': False, 'evaluate_effect_strength': False, 'confidence_intervals': False, 'target_units': 'ate', 'effect_modifiers': []}\n",
            "{'control_value': 0, 'treatment_value': 1, 'test_significance': False, 'evaluate_effect_strength': False, 'confidence_intervals': False, 'target_units': 'ate', 'effect_modifiers': []}\n",
            "{'control_value': 0, 'treatment_value': 1, 'test_significance': False, 'evaluate_effect_strength': False, 'confidence_intervals': False, 'target_units': 'ate', 'effect_modifiers': []}\n",
            "{'control_value': 0, 'treatment_value': 1, 'test_significance': False, 'evaluate_effect_strength': False, 'confidence_intervals': False, 'target_units': 'ate', 'effect_modifiers': []}\n",
            "{'control_value': 0, 'treatment_value': 1, 'test_significance': False, 'evaluate_effect_strength': False, 'confidence_intervals': False, 'target_units': 'ate', 'effect_modifiers': []}\n",
            "{'control_value': 0, 'treatment_value': 1, 'test_significance': False, 'evaluate_effect_strength': False, 'confidence_intervals': False, 'target_units': 'ate', 'effect_modifiers': []}\n",
            "{'control_value': 0, 'treatment_value': 1, 'test_significance': False, 'evaluate_effect_strength': False, 'confidence_intervals': False, 'target_units': 'ate', 'effect_modifiers': []}\n",
            "{'control_value': 0, 'treatment_value': 1, 'test_significance': False, 'evaluate_effect_strength': False, 'confidence_intervals': False, 'target_units': 'ate', 'effect_modifiers': []}\n",
            "{'control_value': 0, 'treatment_value': 1, 'test_significance': False, 'evaluate_effect_strength': False, 'confidence_intervals': False, 'target_units': 'ate', 'effect_modifiers': []}\n",
            "{'control_value': 0, 'treatment_value': 1, 'test_significance': False, 'evaluate_effect_strength': False, 'confidence_intervals': False, 'target_units': 'ate', 'effect_modifiers': []}\n",
            "{'control_value': 0, 'treatment_value': 1, 'test_significance': False, 'evaluate_effect_strength': False, 'confidence_intervals': False, 'target_units': 'ate', 'effect_modifiers': []}\n",
            "{'control_value': 0, 'treatment_value': 1, 'test_significance': False, 'evaluate_effect_strength': False, 'confidence_intervals': False, 'target_units': 'ate', 'effect_modifiers': []}\n",
            "{'control_value': 0, 'treatment_value': 1, 'test_significance': False, 'evaluate_effect_strength': False, 'confidence_intervals': False, 'target_units': 'ate', 'effect_modifiers': []}\n",
            "{'control_value': 0, 'treatment_value': 1, 'test_significance': False, 'evaluate_effect_strength': False, 'confidence_intervals': False, 'target_units': 'ate', 'effect_modifiers': []}\n",
            "{'control_value': 0, 'treatment_value': 1, 'test_significance': False, 'evaluate_effect_strength': False, 'confidence_intervals': False, 'target_units': 'ate', 'effect_modifiers': []}\n",
            "{'control_value': 0, 'treatment_value': 1, 'test_significance': False, 'evaluate_effect_strength': False, 'confidence_intervals': False, 'target_units': 'ate', 'effect_modifiers': []}\n",
            "{'control_value': 0, 'treatment_value': 1, 'test_significance': False, 'evaluate_effect_strength': False, 'confidence_intervals': False, 'target_units': 'ate', 'effect_modifiers': []}\n",
            "{'control_value': 0, 'treatment_value': 1, 'test_significance': False, 'evaluate_effect_strength': False, 'confidence_intervals': False, 'target_units': 'ate', 'effect_modifiers': []}\n",
            "{'control_value': 0, 'treatment_value': 1, 'test_significance': False, 'evaluate_effect_strength': False, 'confidence_intervals': False, 'target_units': 'ate', 'effect_modifiers': []}\n",
            "{'control_value': 0, 'treatment_value': 1, 'test_significance': False, 'evaluate_effect_strength': False, 'confidence_intervals': False, 'target_units': 'ate', 'effect_modifiers': []}\n",
            "{'control_value': 0, 'treatment_value': 1, 'test_significance': False, 'evaluate_effect_strength': False, 'confidence_intervals': False, 'target_units': 'ate', 'effect_modifiers': []}\n",
            "{'control_value': 0, 'treatment_value': 1, 'test_significance': False, 'evaluate_effect_strength': False, 'confidence_intervals': False, 'target_units': 'ate', 'effect_modifiers': []}\n",
            "{'control_value': 0, 'treatment_value': 1, 'test_significance': False, 'evaluate_effect_strength': False, 'confidence_intervals': False, 'target_units': 'ate', 'effect_modifiers': []}\n",
            "{'control_value': 0, 'treatment_value': 1, 'test_significance': False, 'evaluate_effect_strength': False, 'confidence_intervals': False, 'target_units': 'ate', 'effect_modifiers': []}\n",
            "{'control_value': 0, 'treatment_value': 1, 'test_significance': False, 'evaluate_effect_strength': False, 'confidence_intervals': False, 'target_units': 'ate', 'effect_modifiers': []}\n",
            "{'control_value': 0, 'treatment_value': 1, 'test_significance': False, 'evaluate_effect_strength': False, 'confidence_intervals': False, 'target_units': 'ate', 'effect_modifiers': []}\n",
            "{'control_value': 0, 'treatment_value': 1, 'test_significance': False, 'evaluate_effect_strength': False, 'confidence_intervals': False, 'target_units': 'ate', 'effect_modifiers': []}\n",
            "{'control_value': 0, 'treatment_value': 1, 'test_significance': False, 'evaluate_effect_strength': False, 'confidence_intervals': False, 'target_units': 'ate', 'effect_modifiers': []}\n",
            "{'control_value': 0, 'treatment_value': 1, 'test_significance': False, 'evaluate_effect_strength': False, 'confidence_intervals': False, 'target_units': 'ate', 'effect_modifiers': []}\n",
            "{'control_value': 0, 'treatment_value': 1, 'test_significance': False, 'evaluate_effect_strength': False, 'confidence_intervals': False, 'target_units': 'ate', 'effect_modifiers': []}\n",
            "{'control_value': 0, 'treatment_value': 1, 'test_significance': False, 'evaluate_effect_strength': False, 'confidence_intervals': False, 'target_units': 'ate', 'effect_modifiers': []}\n",
            "{'control_value': 0, 'treatment_value': 1, 'test_significance': False, 'evaluate_effect_strength': False, 'confidence_intervals': False, 'target_units': 'ate', 'effect_modifiers': []}\n",
            "{'control_value': 0, 'treatment_value': 1, 'test_significance': False, 'evaluate_effect_strength': False, 'confidence_intervals': False, 'target_units': 'ate', 'effect_modifiers': []}\n",
            "{'control_value': 0, 'treatment_value': 1, 'test_significance': False, 'evaluate_effect_strength': False, 'confidence_intervals': False, 'target_units': 'ate', 'effect_modifiers': []}\n",
            "{'control_value': 0, 'treatment_value': 1, 'test_significance': False, 'evaluate_effect_strength': False, 'confidence_intervals': False, 'target_units': 'ate', 'effect_modifiers': []}\n",
            "{'control_value': 0, 'treatment_value': 1, 'test_significance': False, 'evaluate_effect_strength': False, 'confidence_intervals': False, 'target_units': 'ate', 'effect_modifiers': []}\n",
            "{'control_value': 0, 'treatment_value': 1, 'test_significance': False, 'evaluate_effect_strength': False, 'confidence_intervals': False, 'target_units': 'ate', 'effect_modifiers': []}\n",
            "{'control_value': 0, 'treatment_value': 1, 'test_significance': False, 'evaluate_effect_strength': False, 'confidence_intervals': False, 'target_units': 'ate', 'effect_modifiers': []}\n",
            "{'control_value': 0, 'treatment_value': 1, 'test_significance': False, 'evaluate_effect_strength': False, 'confidence_intervals': False, 'target_units': 'ate', 'effect_modifiers': []}\n",
            "{'control_value': 0, 'treatment_value': 1, 'test_significance': False, 'evaluate_effect_strength': False, 'confidence_intervals': False, 'target_units': 'ate', 'effect_modifiers': []}\n",
            "{'control_value': 0, 'treatment_value': 1, 'test_significance': False, 'evaluate_effect_strength': False, 'confidence_intervals': False, 'target_units': 'ate', 'effect_modifiers': []}\n",
            "{'control_value': 0, 'treatment_value': 1, 'test_significance': False, 'evaluate_effect_strength': False, 'confidence_intervals': False, 'target_units': 'ate', 'effect_modifiers': []}\n",
            "{'control_value': 0, 'treatment_value': 1, 'test_significance': False, 'evaluate_effect_strength': False, 'confidence_intervals': False, 'target_units': 'ate', 'effect_modifiers': []}\n",
            "{'control_value': 0, 'treatment_value': 1, 'test_significance': False, 'evaluate_effect_strength': False, 'confidence_intervals': False, 'target_units': 'ate', 'effect_modifiers': []}\n",
            "{'control_value': 0, 'treatment_value': 1, 'test_significance': False, 'evaluate_effect_strength': False, 'confidence_intervals': False, 'target_units': 'ate', 'effect_modifiers': []}\n",
            "{'control_value': 0, 'treatment_value': 1, 'test_significance': False, 'evaluate_effect_strength': False, 'confidence_intervals': False, 'target_units': 'ate', 'effect_modifiers': []}\n",
            "{'control_value': 0, 'treatment_value': 1, 'test_significance': False, 'evaluate_effect_strength': False, 'confidence_intervals': False, 'target_units': 'ate', 'effect_modifiers': []}\n",
            "{'control_value': 0, 'treatment_value': 1, 'test_significance': False, 'evaluate_effect_strength': False, 'confidence_intervals': False, 'target_units': 'ate', 'effect_modifiers': []}\n",
            "{'control_value': 0, 'treatment_value': 1, 'test_significance': False, 'evaluate_effect_strength': False, 'confidence_intervals': False, 'target_units': 'ate', 'effect_modifiers': []}\n",
            "{'control_value': 0, 'treatment_value': 1, 'test_significance': False, 'evaluate_effect_strength': False, 'confidence_intervals': False, 'target_units': 'ate', 'effect_modifiers': []}\n",
            "{'control_value': 0, 'treatment_value': 1, 'test_significance': False, 'evaluate_effect_strength': False, 'confidence_intervals': False, 'target_units': 'ate', 'effect_modifiers': []}\n",
            "{'control_value': 0, 'treatment_value': 1, 'test_significance': False, 'evaluate_effect_strength': False, 'confidence_intervals': False, 'target_units': 'ate', 'effect_modifiers': []}\n",
            "{'control_value': 0, 'treatment_value': 1, 'test_significance': False, 'evaluate_effect_strength': False, 'confidence_intervals': False, 'target_units': 'ate', 'effect_modifiers': []}\n",
            "{'control_value': 0, 'treatment_value': 1, 'test_significance': False, 'evaluate_effect_strength': False, 'confidence_intervals': False, 'target_units': 'ate', 'effect_modifiers': []}\n",
            "{'control_value': 0, 'treatment_value': 1, 'test_significance': False, 'evaluate_effect_strength': False, 'confidence_intervals': False, 'target_units': 'ate', 'effect_modifiers': []}\n",
            "{'control_value': 0, 'treatment_value': 1, 'test_significance': False, 'evaluate_effect_strength': False, 'confidence_intervals': False, 'target_units': 'ate', 'effect_modifiers': []}\n",
            "{'control_value': 0, 'treatment_value': 1, 'test_significance': False, 'evaluate_effect_strength': False, 'confidence_intervals': False, 'target_units': 'ate', 'effect_modifiers': []}\n",
            "{'control_value': 0, 'treatment_value': 1, 'test_significance': False, 'evaluate_effect_strength': False, 'confidence_intervals': False, 'target_units': 'ate', 'effect_modifiers': []}\n",
            "{'control_value': 0, 'treatment_value': 1, 'test_significance': False, 'evaluate_effect_strength': False, 'confidence_intervals': False, 'target_units': 'ate', 'effect_modifiers': []}\n",
            "{'control_value': 0, 'treatment_value': 1, 'test_significance': False, 'evaluate_effect_strength': False, 'confidence_intervals': False, 'target_units': 'ate', 'effect_modifiers': []}\n",
            "{'control_value': 0, 'treatment_value': 1, 'test_significance': False, 'evaluate_effect_strength': False, 'confidence_intervals': False, 'target_units': 'ate', 'effect_modifiers': []}\n",
            "{'control_value': 0, 'treatment_value': 1, 'test_significance': False, 'evaluate_effect_strength': False, 'confidence_intervals': False, 'target_units': 'ate', 'effect_modifiers': []}\n",
            "{'control_value': 0, 'treatment_value': 1, 'test_significance': False, 'evaluate_effect_strength': False, 'confidence_intervals': False, 'target_units': 'ate', 'effect_modifiers': []}\n",
            "{'control_value': 0, 'treatment_value': 1, 'test_significance': False, 'evaluate_effect_strength': False, 'confidence_intervals': False, 'target_units': 'ate', 'effect_modifiers': []}\n",
            "{'control_value': 0, 'treatment_value': 1, 'test_significance': False, 'evaluate_effect_strength': False, 'confidence_intervals': False, 'target_units': 'ate', 'effect_modifiers': []}\n",
            "{'control_value': 0, 'treatment_value': 1, 'test_significance': False, 'evaluate_effect_strength': False, 'confidence_intervals': False, 'target_units': 'ate', 'effect_modifiers': []}\n",
            "{'control_value': 0, 'treatment_value': 1, 'test_significance': False, 'evaluate_effect_strength': False, 'confidence_intervals': False, 'target_units': 'ate', 'effect_modifiers': []}\n",
            "{'control_value': 0, 'treatment_value': 1, 'test_significance': False, 'evaluate_effect_strength': False, 'confidence_intervals': False, 'target_units': 'ate', 'effect_modifiers': []}\n",
            "{'control_value': 0, 'treatment_value': 1, 'test_significance': False, 'evaluate_effect_strength': False, 'confidence_intervals': False, 'target_units': 'ate', 'effect_modifiers': []}\n",
            "{'control_value': 0, 'treatment_value': 1, 'test_significance': False, 'evaluate_effect_strength': False, 'confidence_intervals': False, 'target_units': 'ate', 'effect_modifiers': []}\n",
            "{'control_value': 0, 'treatment_value': 1, 'test_significance': False, 'evaluate_effect_strength': False, 'confidence_intervals': False, 'target_units': 'ate', 'effect_modifiers': []}\n",
            "{'control_value': 0, 'treatment_value': 1, 'test_significance': False, 'evaluate_effect_strength': False, 'confidence_intervals': False, 'target_units': 'ate', 'effect_modifiers': []}\n",
            "{'control_value': 0, 'treatment_value': 1, 'test_significance': False, 'evaluate_effect_strength': False, 'confidence_intervals': False, 'target_units': 'ate', 'effect_modifiers': []}\n",
            "{'control_value': 0, 'treatment_value': 1, 'test_significance': False, 'evaluate_effect_strength': False, 'confidence_intervals': False, 'target_units': 'ate', 'effect_modifiers': []}\n",
            "{'control_value': 0, 'treatment_value': 1, 'test_significance': False, 'evaluate_effect_strength': False, 'confidence_intervals': False, 'target_units': 'ate', 'effect_modifiers': []}\n",
            "{'control_value': 0, 'treatment_value': 1, 'test_significance': False, 'evaluate_effect_strength': False, 'confidence_intervals': False, 'target_units': 'ate', 'effect_modifiers': []}\n",
            "{'control_value': 0, 'treatment_value': 1, 'test_significance': False, 'evaluate_effect_strength': False, 'confidence_intervals': False, 'target_units': 'ate', 'effect_modifiers': []}\n",
            "{'control_value': 0, 'treatment_value': 1, 'test_significance': False, 'evaluate_effect_strength': False, 'confidence_intervals': False, 'target_units': 'ate', 'effect_modifiers': []}\n",
            "{'control_value': 0, 'treatment_value': 1, 'test_significance': False, 'evaluate_effect_strength': False, 'confidence_intervals': False, 'target_units': 'ate', 'effect_modifiers': []}\n",
            "{'control_value': 0, 'treatment_value': 1, 'test_significance': False, 'evaluate_effect_strength': False, 'confidence_intervals': False, 'target_units': 'ate', 'effect_modifiers': []}\n",
            "Refute: Use a Placebo Treatment\n",
            "Estimated effect:0.49785413803665524\n",
            "New effect:-6.217248937900877e-15\n",
            "p value:0.0\n",
            "\n"
          ]
        }
      ]
    },
    {
      "cell_type": "markdown",
      "source": [
        "Refutation shows that there is no threat from unaccounted confounders since the effect on treatment is low."
      ],
      "metadata": {
        "id": "p_iPRxSSuFi0"
      }
    },
    {
      "cell_type": "markdown",
      "source": [
        "##**WHITE WINE QUALITY**"
      ],
      "metadata": {
        "id": "Iz5DkRIc2idw"
      }
    },
    {
      "cell_type": "code",
      "source": [
        "pk = make_prior_knowledge(\n",
        "    n_variables=len(white_data.columns),\n",
        "    sink_variables=[11])\n",
        "\n",
        "model = lingam.DirectLiNGAM(prior_knowledge=pk)\n",
        "model.fit(white_data)\n",
        "adjacency_matrix = model.adjacency_matrix_\n",
        "#weights of the edges from one node to the other\n",
        "adjacency_matrix"
      ],
      "metadata": {
        "colab": {
          "base_uri": "https://localhost:8080/"
        },
        "id": "M1qfAZJLsyly",
        "outputId": "234c6eba-5aa8-4485-f013-dc9ef24ef7f6"
      },
      "execution_count": 21,
      "outputs": [
        {
          "output_type": "execute_result",
          "data": {
            "text/plain": [
              "array([[ 0.00000000e+00,  0.00000000e+00,  0.00000000e+00,\n",
              "         1.48109002e-02,  0.00000000e+00,  0.00000000e+00,\n",
              "         0.00000000e+00,  0.00000000e+00,  0.00000000e+00,\n",
              "         0.00000000e+00,  0.00000000e+00,  0.00000000e+00],\n",
              "       [-2.13809978e-02,  0.00000000e+00,  0.00000000e+00,\n",
              "        -3.93922692e-03,  3.98619736e-01, -1.49643003e-03,\n",
              "         6.52825642e-04,  1.63169680e+01, -9.09270724e-02,\n",
              "        -6.60179464e-02,  3.61405607e-02,  0.00000000e+00],\n",
              "       [ 2.67326549e-02, -2.06136377e-01,  0.00000000e+00,\n",
              "        -3.54258976e-03,  6.10115433e-01,  3.22413481e-04,\n",
              "         1.60412176e-04,  1.34721022e+01, -9.08381562e-02,\n",
              "         4.28578974e-02,  2.38015458e-02,  0.00000000e+00],\n",
              "       [ 0.00000000e+00,  0.00000000e+00,  0.00000000e+00,\n",
              "         0.00000000e+00,  0.00000000e+00,  0.00000000e+00,\n",
              "         0.00000000e+00,  0.00000000e+00,  0.00000000e+00,\n",
              "         0.00000000e+00,  0.00000000e+00,  0.00000000e+00],\n",
              "       [-3.74358870e-04,  0.00000000e+00,  0.00000000e+00,\n",
              "        -4.32712964e-04,  0.00000000e+00,  0.00000000e+00,\n",
              "         3.55182625e-05,  0.00000000e+00,  0.00000000e+00,\n",
              "         0.00000000e+00, -6.59514866e-03,  0.00000000e+00],\n",
              "       [-2.16152991e+00,  0.00000000e+00,  0.00000000e+00,\n",
              "         2.78668863e-01,  0.00000000e+00,  0.00000000e+00,\n",
              "         2.47330473e-01,  0.00000000e+00,  0.00000000e+00,\n",
              "        -3.37885551e+00,  7.10617695e-01,  0.00000000e+00],\n",
              "       [ 1.56581738e+00,  0.00000000e+00,  0.00000000e+00,\n",
              "         2.13201592e+00,  0.00000000e+00,  0.00000000e+00,\n",
              "         0.00000000e+00,  0.00000000e+00,  0.00000000e+00,\n",
              "         5.07033282e+01, -1.13304216e+01,  0.00000000e+00],\n",
              "       [ 7.78557276e-04,  0.00000000e+00,  0.00000000e+00,\n",
              "         3.73272423e-04,  5.19605024e-03, -7.72308703e-06,\n",
              "         4.36797720e-06,  0.00000000e+00,  3.43312511e-03,\n",
              "         1.40829940e-03, -1.11286951e-03,  0.00000000e+00],\n",
              "       [-7.52684875e-02,  0.00000000e+00,  0.00000000e+00,\n",
              "        -5.50293698e-03, -5.99130566e-01, -5.14111801e-04,\n",
              "         5.57515184e-04,  0.00000000e+00,  0.00000000e+00,\n",
              "         1.69130302e-01,  1.74816260e-03,  0.00000000e+00],\n",
              "       [ 0.00000000e+00,  0.00000000e+00,  0.00000000e+00,\n",
              "         0.00000000e+00,  0.00000000e+00,  0.00000000e+00,\n",
              "         0.00000000e+00,  0.00000000e+00,  0.00000000e+00,\n",
              "         0.00000000e+00,  0.00000000e+00,  0.00000000e+00],\n",
              "       [-1.18722053e-01,  0.00000000e+00,  0.00000000e+00,\n",
              "        -1.07577135e-01,  0.00000000e+00,  0.00000000e+00,\n",
              "         0.00000000e+00,  0.00000000e+00,  0.00000000e+00,\n",
              "         0.00000000e+00,  0.00000000e+00,  0.00000000e+00],\n",
              "       [ 3.73058785e-02, -1.87347683e+00,  0.00000000e+00,\n",
              "         6.94495266e-02, -3.57293799e-01,  3.60809967e-03,\n",
              "        -2.33780595e-04, -1.20539600e+02,  5.53261220e-01,\n",
              "         5.70229018e-01,  2.24898932e-01,  0.00000000e+00]])"
            ]
          },
          "metadata": {},
          "execution_count": 21
        }
      ]
    },
    {
      "cell_type": "code",
      "source": [
        "idx = np.abs(adjacency_matrix) > 0.01\n",
        "dirs = np.where(idx)\n",
        "dirs"
      ],
      "metadata": {
        "colab": {
          "base_uri": "https://localhost:8080/"
        },
        "id": "NlnOTfv8syoY",
        "outputId": "75da9a6d-b336-490d-a866-c780a8ab3140"
      },
      "execution_count": 22,
      "outputs": [
        {
          "output_type": "execute_result",
          "data": {
            "text/plain": [
              "(array([ 0,  1,  1,  1,  1,  1,  1,  2,  2,  2,  2,  2,  2,  2,  5,  5,  5,\n",
              "         5,  5,  6,  6,  6,  6,  8,  8,  8, 10, 10, 11, 11, 11, 11, 11, 11,\n",
              "        11, 11]),\n",
              " array([ 3,  0,  4,  7,  8,  9, 10,  0,  1,  4,  7,  8,  9, 10,  0,  3,  6,\n",
              "         9, 10,  0,  3,  9, 10,  0,  4,  9,  0,  3,  0,  1,  3,  4,  7,  8,\n",
              "         9, 10]))"
            ]
          },
          "metadata": {},
          "execution_count": 22
        }
      ]
    },
    {
      "cell_type": "code",
      "source": [
        "labels = [f'{i}. {col}' for i, col in enumerate(white_data.columns)]\n",
        "print(labels)\n",
        "\n",
        "dag = graphviz.Digraph(engine='dot')\n",
        "names = labels if labels else [f'x{i}' for i in range(len(adjacency_matrix))]\n",
        "for to, from_, coef in zip(dirs[0], dirs[1], adjacency_matrix[idx]):\n",
        "          dirs = np.where(idx)\n",
        "          dag.edge(names[from_], names[to], label=f'{coef:.2f}')\n",
        "\n",
        "dag"
      ],
      "metadata": {
        "colab": {
          "base_uri": "https://localhost:8080/",
          "height": 582
        },
        "id": "ZNfYCI6QsyrP",
        "outputId": "83841697-aad4-489f-a52a-dac9b6a5fe61"
      },
      "execution_count": 23,
      "outputs": [
        {
          "output_type": "stream",
          "name": "stdout",
          "text": [
            "['0. fixed acidity', '1. volatile acidity', '2. citric acid', '3. residual sugar', '4. chlorides', '5. free sulfur dioxide', '6. total sulfur dioxide', '7. density', '8. pH', '9. sulphates', '10. alcohol', '11. quality']\n"
          ]
        },
        {
          "output_type": "execute_result",
          "data": {
            "text/plain": [
              "<graphviz.dot.Digraph at 0x7fb931da3cd0>"
            ],
            "image/svg+xml": "<?xml version=\"1.0\" encoding=\"UTF-8\" standalone=\"no\"?>\n<!DOCTYPE svg PUBLIC \"-//W3C//DTD SVG 1.1//EN\"\n \"http://www.w3.org/Graphics/SVG/1.1/DTD/svg11.dtd\">\n<!-- Generated by graphviz version 2.40.1 (20161225.0304)\n -->\n<!-- Title: %3 Pages: 1 -->\n<svg width=\"1234pt\" height=\"392pt\"\n viewBox=\"0.00 0.00 1234.00 392.00\" xmlns=\"http://www.w3.org/2000/svg\" xmlns:xlink=\"http://www.w3.org/1999/xlink\">\n<g id=\"graph0\" class=\"graph\" transform=\"scale(1 1) rotate(0) translate(4 388)\">\n<title>%3</title>\n<polygon fill=\"#ffffff\" stroke=\"transparent\" points=\"-4,4 -4,-388 1230,-388 1230,4 -4,4\"/>\n<!-- 3. residual sugar -->\n<g id=\"node1\" class=\"node\">\n<title>3. residual sugar</title>\n<ellipse fill=\"none\" stroke=\"#000000\" cx=\"114\" cy=\"-366\" rx=\"71.4873\" ry=\"18\"/>\n<text text-anchor=\"middle\" x=\"114\" y=\"-362.3\" font-family=\"Times,serif\" font-size=\"14.00\" fill=\"#000000\">3. residual sugar</text>\n</g>\n<!-- 0. fixed acidity -->\n<g id=\"node2\" class=\"node\">\n<title>0. fixed acidity</title>\n<ellipse fill=\"none\" stroke=\"#000000\" cx=\"328\" cy=\"-279\" rx=\"66.8882\" ry=\"18\"/>\n<text text-anchor=\"middle\" x=\"328\" y=\"-275.3\" font-family=\"Times,serif\" font-size=\"14.00\" fill=\"#000000\">0. fixed acidity</text>\n</g>\n<!-- 3. residual sugar&#45;&gt;0. fixed acidity -->\n<g id=\"edge1\" class=\"edge\">\n<title>3. residual sugar&#45;&gt;0. fixed acidity</title>\n<path fill=\"none\" stroke=\"#000000\" d=\"M151.7663,-350.6464C187.9378,-335.9412 242.6081,-313.7154 281.4548,-297.9226\"/>\n<polygon fill=\"#000000\" stroke=\"#000000\" points=\"283.0237,-301.063 290.9693,-294.0545 280.3874,-294.5784 283.0237,-301.063\"/>\n<text text-anchor=\"middle\" x=\"247.5\" y=\"-318.8\" font-family=\"Times,serif\" font-size=\"14.00\" fill=\"#000000\">0.01</text>\n</g>\n<!-- 10. alcohol -->\n<g id=\"node8\" class=\"node\">\n<title>10. alcohol</title>\n<ellipse fill=\"none\" stroke=\"#000000\" cx=\"307\" cy=\"-192\" rx=\"52.7911\" ry=\"18\"/>\n<text text-anchor=\"middle\" x=\"307\" y=\"-188.3\" font-family=\"Times,serif\" font-size=\"14.00\" fill=\"#000000\">10. alcohol</text>\n</g>\n<!-- 3. residual sugar&#45;&gt;10. alcohol -->\n<g id=\"edge28\" class=\"edge\">\n<title>3. residual sugar&#45;&gt;10. alcohol</title>\n<path fill=\"none\" stroke=\"#000000\" d=\"M130.9112,-348.358C151.5853,-327.0396 187.9136,-290.3757 221,-261 239.0406,-244.9826 260.1618,-228.0128 276.9579,-214.9105\"/>\n<polygon fill=\"#000000\" stroke=\"#000000\" points=\"279.5492,-217.3302 285.3077,-208.4369 275.2602,-211.7981 279.5492,-217.3302\"/>\n<text text-anchor=\"middle\" x=\"236.5\" y=\"-275.3\" font-family=\"Times,serif\" font-size=\"14.00\" fill=\"#000000\">&#45;0.11</text>\n</g>\n<!-- 5. free sulfur dioxide -->\n<g id=\"node10\" class=\"node\">\n<title>5. free sulfur dioxide</title>\n<ellipse fill=\"none\" stroke=\"#000000\" cx=\"166\" cy=\"-18\" rx=\"89.0842\" ry=\"18\"/>\n<text text-anchor=\"middle\" x=\"166\" y=\"-14.3\" font-family=\"Times,serif\" font-size=\"14.00\" fill=\"#000000\">5. free sulfur dioxide</text>\n</g>\n<!-- 3. residual sugar&#45;&gt;5. free sulfur dioxide -->\n<g id=\"edge16\" class=\"edge\">\n<title>3. residual sugar&#45;&gt;5. free sulfur dioxide</title>\n<path fill=\"none\" stroke=\"#000000\" d=\"M69.2714,-351.8843C37.3336,-338.6935 0,-315.4737 0,-279 0,-279 0,-279 0,-105 0,-63.7319 40.7461,-42.0004 81.864,-30.5769\"/>\n<polygon fill=\"#000000\" stroke=\"#000000\" points=\"82.9341,-33.9154 91.7395,-28.0234 81.1817,-27.1383 82.9341,-33.9154\"/>\n<text text-anchor=\"middle\" x=\"13.5\" y=\"-188.3\" font-family=\"Times,serif\" font-size=\"14.00\" fill=\"#000000\">0.28</text>\n</g>\n<!-- 6. total sulfur dioxide -->\n<g id=\"node11\" class=\"node\">\n<title>6. total sulfur dioxide</title>\n<ellipse fill=\"none\" stroke=\"#000000\" cx=\"166\" cy=\"-105\" rx=\"90.9839\" ry=\"18\"/>\n<text text-anchor=\"middle\" x=\"166\" y=\"-101.3\" font-family=\"Times,serif\" font-size=\"14.00\" fill=\"#000000\">6. total sulfur dioxide</text>\n</g>\n<!-- 3. residual sugar&#45;&gt;6. total sulfur dioxide -->\n<g id=\"edge21\" class=\"edge\">\n<title>3. residual sugar&#45;&gt;6. total sulfur dioxide</title>\n<path fill=\"none\" stroke=\"#000000\" d=\"M113.692,-347.8727C113.59,-308.8101 116.3803,-214.2995 143,-141 144.1393,-137.863 145.5887,-134.7164 147.204,-131.6607\"/>\n<polygon fill=\"#000000\" stroke=\"#000000\" points=\"150.3271,-133.2553 152.4035,-122.8659 144.3014,-129.6929 150.3271,-133.2553\"/>\n<text text-anchor=\"middle\" x=\"135.5\" y=\"-231.8\" font-family=\"Times,serif\" font-size=\"14.00\" fill=\"#000000\">2.13</text>\n</g>\n<!-- 11. quality -->\n<g id=\"node12\" class=\"node\">\n<title>11. quality</title>\n<ellipse fill=\"none\" stroke=\"#000000\" cx=\"1040\" cy=\"-18\" rx=\"50.8918\" ry=\"18\"/>\n<text text-anchor=\"middle\" x=\"1040\" y=\"-14.3\" font-family=\"Times,serif\" font-size=\"14.00\" fill=\"#000000\">11. quality</text>\n</g>\n<!-- 3. residual sugar&#45;&gt;11. quality -->\n<g id=\"edge31\" class=\"edge\">\n<title>3. residual sugar&#45;&gt;11. quality</title>\n<path fill=\"none\" stroke=\"#000000\" d=\"M185.1899,-364.0287C426.5732,-356.8811 1199,-330.0226 1199,-279 1199,-279 1199,-279 1199,-105 1199,-57.3627 1143.3941,-35.6424 1097.95,-25.8457\"/>\n<polygon fill=\"#000000\" stroke=\"#000000\" points=\"1098.6299,-22.4124 1088.1367,-23.8763 1097.2525,-29.2756 1098.6299,-22.4124\"/>\n<text text-anchor=\"middle\" x=\"1212.5\" y=\"-188.3\" font-family=\"Times,serif\" font-size=\"14.00\" fill=\"#000000\">0.07</text>\n</g>\n<!-- 1. volatile acidity -->\n<g id=\"node3\" class=\"node\">\n<title>1. volatile acidity</title>\n<ellipse fill=\"none\" stroke=\"#000000\" cx=\"721\" cy=\"-105\" rx=\"75.2868\" ry=\"18\"/>\n<text text-anchor=\"middle\" x=\"721\" y=\"-101.3\" font-family=\"Times,serif\" font-size=\"14.00\" fill=\"#000000\">1. volatile acidity</text>\n</g>\n<!-- 0. fixed acidity&#45;&gt;1. volatile acidity -->\n<g id=\"edge2\" class=\"edge\">\n<title>0. fixed acidity&#45;&gt;1. volatile acidity</title>\n<path fill=\"none\" stroke=\"#000000\" d=\"M362.8761,-263.5587C434.1804,-231.9888 596.586,-160.0841 675.8286,-124.9995\"/>\n<polygon fill=\"#000000\" stroke=\"#000000\" points=\"677.3415,-128.1575 685.0684,-120.9087 674.5075,-121.7568 677.3415,-128.1575\"/>\n<text text-anchor=\"middle\" x=\"578.5\" y=\"-188.3\" font-family=\"Times,serif\" font-size=\"14.00\" fill=\"#000000\">&#45;0.02</text>\n</g>\n<!-- 8. pH -->\n<g id=\"node6\" class=\"node\">\n<title>8. pH</title>\n<ellipse fill=\"none\" stroke=\"#000000\" cx=\"639\" cy=\"-192\" rx=\"32.4942\" ry=\"18\"/>\n<text text-anchor=\"middle\" x=\"639\" y=\"-188.3\" font-family=\"Times,serif\" font-size=\"14.00\" fill=\"#000000\">8. pH</text>\n</g>\n<!-- 0. fixed acidity&#45;&gt;8. pH -->\n<g id=\"edge24\" class=\"edge\">\n<title>0. fixed acidity&#45;&gt;8. pH</title>\n<path fill=\"none\" stroke=\"#000000\" d=\"M374.5598,-265.9752C435.9432,-248.8037 542.8412,-218.8997 600.1213,-202.876\"/>\n<polygon fill=\"#000000\" stroke=\"#000000\" points=\"601.1943,-206.2103 609.8817,-200.1456 599.3084,-199.4691 601.1943,-206.2103\"/>\n<text text-anchor=\"middle\" x=\"517.5\" y=\"-231.8\" font-family=\"Times,serif\" font-size=\"14.00\" fill=\"#000000\">&#45;0.08</text>\n</g>\n<!-- 0. fixed acidity&#45;&gt;10. alcohol -->\n<g id=\"edge27\" class=\"edge\">\n<title>0. fixed acidity&#45;&gt;10. alcohol</title>\n<path fill=\"none\" stroke=\"#000000\" d=\"M323.6488,-260.9735C320.7768,-249.0751 316.9571,-233.2508 313.7008,-219.7606\"/>\n<polygon fill=\"#000000\" stroke=\"#000000\" points=\"317.0944,-218.9029 311.3456,-210.0034 310.2898,-220.5455 317.0944,-218.9029\"/>\n<text text-anchor=\"middle\" x=\"334.5\" y=\"-231.8\" font-family=\"Times,serif\" font-size=\"14.00\" fill=\"#000000\">&#45;0.12</text>\n</g>\n<!-- 2. citric acid -->\n<g id=\"node9\" class=\"node\">\n<title>2. citric acid</title>\n<ellipse fill=\"none\" stroke=\"#000000\" cx=\"597\" cy=\"-18\" rx=\"55.7903\" ry=\"18\"/>\n<text text-anchor=\"middle\" x=\"597\" y=\"-14.3\" font-family=\"Times,serif\" font-size=\"14.00\" fill=\"#000000\">2. citric acid</text>\n</g>\n<!-- 0. fixed acidity&#45;&gt;2. citric acid -->\n<g id=\"edge8\" class=\"edge\">\n<title>0. fixed acidity&#45;&gt;2. citric acid</title>\n<path fill=\"none\" stroke=\"#000000\" d=\"M341.9549,-261.1585C346.0789,-255.5084 350.4385,-249.1338 354,-243 362.0896,-229.0675 363.4095,-225.1097 369,-210 380.0795,-180.055 369.3375,-166.1564 389,-141 398.8112,-128.4474 406.2598,-131.0643 420,-123 469.2857,-94.0735 526.0787,-60.3052 561.759,-39.0369\"/>\n<polygon fill=\"#000000\" stroke=\"#000000\" points=\"563.5614,-42.0372 570.358,-33.9096 559.9764,-36.0249 563.5614,-42.0372\"/>\n<text text-anchor=\"middle\" x=\"402.5\" y=\"-144.8\" font-family=\"Times,serif\" font-size=\"14.00\" fill=\"#000000\">0.03</text>\n</g>\n<!-- 0. fixed acidity&#45;&gt;5. free sulfur dioxide -->\n<g id=\"edge15\" class=\"edge\">\n<title>0. fixed acidity&#45;&gt;5. free sulfur dioxide</title>\n<path fill=\"none\" stroke=\"#000000\" d=\"M279.2505,-266.5925C271.4831,-264.6791 263.5285,-262.757 256,-261 219.2413,-252.4215 206.135,-261.0793 173,-243 142.3365,-226.2692 74.3786,-145.7823 66,-123 60.4774,-107.9833 58.5632,-101.1667 66,-87 77.0099,-66.0267 97.6038,-50.1763 117.2545,-38.9902\"/>\n<polygon fill=\"#000000\" stroke=\"#000000\" points=\"119.0388,-42.0045 126.1791,-34.1772 115.716,-35.8434 119.0388,-42.0045\"/>\n<text text-anchor=\"middle\" x=\"103.5\" y=\"-144.8\" font-family=\"Times,serif\" font-size=\"14.00\" fill=\"#000000\">&#45;2.16</text>\n</g>\n<!-- 0. fixed acidity&#45;&gt;6. total sulfur dioxide -->\n<g id=\"edge20\" class=\"edge\">\n<title>0. fixed acidity&#45;&gt;6. total sulfur dioxide</title>\n<path fill=\"none\" stroke=\"#000000\" d=\"M279.6995,-266.5249C233.1954,-253.4213 167.7926,-231.7334 153,-210 137.5148,-187.2489 144.6085,-155.1624 153.156,-132.4609\"/>\n<polygon fill=\"#000000\" stroke=\"#000000\" points=\"156.454,-133.6418 156.9777,-123.0599 149.9694,-131.0056 156.454,-133.6418\"/>\n<text text-anchor=\"middle\" x=\"166.5\" y=\"-188.3\" font-family=\"Times,serif\" font-size=\"14.00\" fill=\"#000000\">1.57</text>\n</g>\n<!-- 0. fixed acidity&#45;&gt;11. quality -->\n<g id=\"edge29\" class=\"edge\">\n<title>0. fixed acidity&#45;&gt;11. quality</title>\n<path fill=\"none\" stroke=\"#000000\" d=\"M389.5128,-271.8276C419.5073,-268.4056 456.1217,-264.3396 489,-261 516.779,-258.1783 965.1325,-224.4905 989,-210 1028.7237,-185.8829 1033.5333,-167.4775 1047,-123 1054.6436,-97.755 1051.4393,-67.5887 1047.1918,-46.0813\"/>\n<polygon fill=\"#000000\" stroke=\"#000000\" points=\"1050.6058,-45.3091 1045.0658,-36.2781 1043.7648,-46.7928 1050.6058,-45.3091\"/>\n<text text-anchor=\"middle\" x=\"1054.5\" y=\"-144.8\" font-family=\"Times,serif\" font-size=\"14.00\" fill=\"#000000\">0.04</text>\n</g>\n<!-- 1. volatile acidity&#45;&gt;2. citric acid -->\n<g id=\"edge9\" class=\"edge\">\n<title>1. volatile acidity&#45;&gt;2. citric acid</title>\n<path fill=\"none\" stroke=\"#000000\" d=\"M696.5016,-87.8116C677.147,-74.2322 649.9824,-55.1731 628.9255,-40.3993\"/>\n<polygon fill=\"#000000\" stroke=\"#000000\" points=\"630.8025,-37.4408 620.6062,-34.5624 626.7821,-43.1711 630.8025,-37.4408\"/>\n<text text-anchor=\"middle\" x=\"681.5\" y=\"-57.8\" font-family=\"Times,serif\" font-size=\"14.00\" fill=\"#000000\">&#45;0.21</text>\n</g>\n<!-- 1. volatile acidity&#45;&gt;11. quality -->\n<g id=\"edge30\" class=\"edge\">\n<title>1. volatile acidity&#45;&gt;11. quality</title>\n<path fill=\"none\" stroke=\"#000000\" d=\"M738.4071,-87.4378C750.8505,-75.9874 768.5912,-61.7748 787,-54 820.8274,-39.7133 916.6915,-28.8505 980.2202,-22.9572\"/>\n<polygon fill=\"#000000\" stroke=\"#000000\" points=\"980.872,-26.4124 990.5132,-22.0194 980.2369,-19.4413 980.872,-26.4124\"/>\n<text text-anchor=\"middle\" x=\"802.5\" y=\"-57.8\" font-family=\"Times,serif\" font-size=\"14.00\" fill=\"#000000\">&#45;1.87</text>\n</g>\n<!-- 4. chlorides -->\n<g id=\"node4\" class=\"node\">\n<title>4. chlorides</title>\n<ellipse fill=\"none\" stroke=\"#000000\" cx=\"813\" cy=\"-279\" rx=\"53.8905\" ry=\"18\"/>\n<text text-anchor=\"middle\" x=\"813\" y=\"-275.3\" font-family=\"Times,serif\" font-size=\"14.00\" fill=\"#000000\">4. chlorides</text>\n</g>\n<!-- 4. chlorides&#45;&gt;1. volatile acidity -->\n<g id=\"edge3\" class=\"edge\">\n<title>4. chlorides&#45;&gt;1. volatile acidity</title>\n<path fill=\"none\" stroke=\"#000000\" d=\"M804.251,-261.0328C793.9446,-240.0189 776.1737,-204.2533 760,-174 752.4826,-159.9386 743.7802,-144.4699 736.5057,-131.7488\"/>\n<polygon fill=\"#000000\" stroke=\"#000000\" points=\"739.5141,-129.9591 731.4985,-123.0308 733.4441,-133.4455 739.5141,-129.9591\"/>\n<text text-anchor=\"middle\" x=\"791.5\" y=\"-188.3\" font-family=\"Times,serif\" font-size=\"14.00\" fill=\"#000000\">0.40</text>\n</g>\n<!-- 4. chlorides&#45;&gt;8. pH -->\n<g id=\"edge25\" class=\"edge\">\n<title>4. chlorides&#45;&gt;8. pH</title>\n<path fill=\"none\" stroke=\"#000000\" d=\"M782.6915,-263.8458C751.8519,-248.4259 704.1787,-224.5893 672.3012,-208.6506\"/>\n<polygon fill=\"#000000\" stroke=\"#000000\" points=\"673.8638,-205.5188 663.3542,-204.1771 670.7333,-211.7798 673.8638,-205.5188\"/>\n<text text-anchor=\"middle\" x=\"751.5\" y=\"-231.8\" font-family=\"Times,serif\" font-size=\"14.00\" fill=\"#000000\">&#45;0.60</text>\n</g>\n<!-- 4. chlorides&#45;&gt;2. citric acid -->\n<g id=\"edge10\" class=\"edge\">\n<title>4. chlorides&#45;&gt;2. citric acid</title>\n<path fill=\"none\" stroke=\"#000000\" d=\"M805.2507,-261.066C796.9325,-238.7943 787.0396,-200.5076 804,-174 814.2889,-157.9195 827.6048,-167.2885 843,-156 858.9847,-144.2792 865.8525,-141.4879 873,-123 878.7695,-108.0765 880.6462,-101.0548 873,-87 860.0981,-63.2844 847.2051,-63.6742 822,-54 793.2292,-42.9572 716.1386,-32.0214 660.2002,-25.1526\"/>\n<polygon fill=\"#000000\" stroke=\"#000000\" points=\"660.3664,-21.6472 650.0178,-23.9183 659.5239,-28.5964 660.3664,-21.6472\"/>\n<text text-anchor=\"middle\" x=\"875.5\" y=\"-144.8\" font-family=\"Times,serif\" font-size=\"14.00\" fill=\"#000000\">0.61</text>\n</g>\n<!-- 4. chlorides&#45;&gt;11. quality -->\n<g id=\"edge32\" class=\"edge\">\n<title>4. chlorides&#45;&gt;11. quality</title>\n<path fill=\"none\" stroke=\"#000000\" d=\"M866.4207,-276.135C948.8092,-271.208 1099.2847,-259.9919 1117,-243 1147.3719,-213.8683 1152.9258,-88.6218 1129,-54 1120.9937,-42.4145 1108.5774,-34.555 1095.5343,-29.224\"/>\n<polygon fill=\"#000000\" stroke=\"#000000\" points=\"1096.5745,-25.8784 1085.9802,-25.772 1094.1958,-32.4619 1096.5745,-25.8784\"/>\n<text text-anchor=\"middle\" x=\"1158.5\" y=\"-144.8\" font-family=\"Times,serif\" font-size=\"14.00\" fill=\"#000000\">&#45;0.36</text>\n</g>\n<!-- 7. density -->\n<g id=\"node5\" class=\"node\">\n<title>7. density</title>\n<ellipse fill=\"none\" stroke=\"#000000\" cx=\"933\" cy=\"-192\" rx=\"47.3916\" ry=\"18\"/>\n<text text-anchor=\"middle\" x=\"933\" y=\"-188.3\" font-family=\"Times,serif\" font-size=\"14.00\" fill=\"#000000\">7. density</text>\n</g>\n<!-- 7. density&#45;&gt;1. volatile acidity -->\n<g id=\"edge4\" class=\"edge\">\n<title>7. density&#45;&gt;1. volatile acidity</title>\n<path fill=\"none\" stroke=\"#000000\" d=\"M894.5063,-181.4763C872.3844,-174.9995 844.2599,-166.0305 820,-156 799.4598,-147.5074 777.403,-136.3576 759.3339,-126.6498\"/>\n<polygon fill=\"#000000\" stroke=\"#000000\" points=\"760.7349,-123.4277 750.2776,-121.7263 757.3915,-129.5776 760.7349,-123.4277\"/>\n<text text-anchor=\"middle\" x=\"837\" y=\"-144.8\" font-family=\"Times,serif\" font-size=\"14.00\" fill=\"#000000\">16.32</text>\n</g>\n<!-- 7. density&#45;&gt;2. citric acid -->\n<g id=\"edge11\" class=\"edge\">\n<title>7. density&#45;&gt;2. citric acid</title>\n<path fill=\"none\" stroke=\"#000000\" d=\"M934.774,-173.5344C936.5276,-143.5397 935.0755,-84.5197 901,-54 883.5894,-38.4063 746.5613,-27.2445 662.5294,-21.787\"/>\n<polygon fill=\"#000000\" stroke=\"#000000\" points=\"662.5066,-18.2785 652.3038,-21.1339 662.0604,-25.2642 662.5066,-18.2785\"/>\n<text text-anchor=\"middle\" x=\"949\" y=\"-101.3\" font-family=\"Times,serif\" font-size=\"14.00\" fill=\"#000000\">13.47</text>\n</g>\n<!-- 7. density&#45;&gt;11. quality -->\n<g id=\"edge33\" class=\"edge\">\n<title>7. density&#45;&gt;11. quality</title>\n<path fill=\"none\" stroke=\"#000000\" d=\"M943.8486,-174.3584C962.6744,-143.7444 1001.4947,-80.6161 1023.618,-44.6399\"/>\n<polygon fill=\"#000000\" stroke=\"#000000\" points=\"1026.8658,-46.04 1029.1227,-35.6883 1020.903,-42.3732 1026.8658,-46.04\"/>\n<text text-anchor=\"middle\" x=\"1020\" y=\"-101.3\" font-family=\"Times,serif\" font-size=\"14.00\" fill=\"#000000\">&#45;120.54</text>\n</g>\n<!-- 8. pH&#45;&gt;1. volatile acidity -->\n<g id=\"edge5\" class=\"edge\">\n<title>8. pH&#45;&gt;1. volatile acidity</title>\n<path fill=\"none\" stroke=\"#000000\" d=\"M651.2396,-175.3187C659.0524,-165.0523 669.629,-151.8315 680,-141 683.6727,-137.1642 687.7031,-133.282 691.7584,-129.5576\"/>\n<polygon fill=\"#000000\" stroke=\"#000000\" points=\"694.3729,-131.9152 699.5001,-122.6436 689.7101,-126.6942 694.3729,-131.9152\"/>\n<text text-anchor=\"middle\" x=\"695.5\" y=\"-144.8\" font-family=\"Times,serif\" font-size=\"14.00\" fill=\"#000000\">&#45;0.09</text>\n</g>\n<!-- 8. pH&#45;&gt;2. citric acid -->\n<g id=\"edge12\" class=\"edge\">\n<title>8. pH&#45;&gt;2. citric acid</title>\n<path fill=\"none\" stroke=\"#000000\" d=\"M628.6204,-174.8108C620.973,-161.2469 611.0578,-141.5779 606,-123 599.0927,-97.6286 597.1044,-67.6513 596.689,-46.2359\"/>\n<polygon fill=\"#000000\" stroke=\"#000000\" points=\"600.1884,-46.1458 596.597,-36.1782 593.1887,-46.2099 600.1884,-46.1458\"/>\n<text text-anchor=\"middle\" x=\"621.5\" y=\"-101.3\" font-family=\"Times,serif\" font-size=\"14.00\" fill=\"#000000\">&#45;0.09</text>\n</g>\n<!-- 8. pH&#45;&gt;11. quality -->\n<g id=\"edge34\" class=\"edge\">\n<title>8. pH&#45;&gt;11. quality</title>\n<path fill=\"none\" stroke=\"#000000\" d=\"M669.2906,-185.3268C685.2507,-181.8569 705.1642,-177.6002 723,-174 765.1239,-165.4973 779.6639,-175.418 818,-156 858.1154,-135.6807 854.7183,-112.1436 892,-87 924.2371,-65.2586 964.4138,-47.0077 994.7691,-34.7478\"/>\n<polygon fill=\"#000000\" stroke=\"#000000\" points=\"996.2543,-37.924 1004.2571,-30.9811 993.6713,-31.418 996.2543,-37.924\"/>\n<text text-anchor=\"middle\" x=\"905.5\" y=\"-101.3\" font-family=\"Times,serif\" font-size=\"14.00\" fill=\"#000000\">0.55</text>\n</g>\n<!-- 9. sulphates -->\n<g id=\"node7\" class=\"node\">\n<title>9. sulphates</title>\n<ellipse fill=\"none\" stroke=\"#000000\" cx=\"553\" cy=\"-279\" rx=\"54.6905\" ry=\"18\"/>\n<text text-anchor=\"middle\" x=\"553\" y=\"-275.3\" font-family=\"Times,serif\" font-size=\"14.00\" fill=\"#000000\">9. sulphates</text>\n</g>\n<!-- 9. sulphates&#45;&gt;1. volatile acidity -->\n<g id=\"edge6\" class=\"edge\">\n<title>9. sulphates&#45;&gt;1. volatile acidity</title>\n<path fill=\"none\" stroke=\"#000000\" d=\"M605.5765,-273.7235C646.0611,-268.4876 697.345,-258.901 711,-243 736.8984,-212.8419 733.4922,-164.0067 727.8461,-133.2441\"/>\n<polygon fill=\"#000000\" stroke=\"#000000\" points=\"731.2217,-132.2795 725.8,-123.177 724.3619,-133.6738 731.2217,-132.2795\"/>\n<text text-anchor=\"middle\" x=\"746.5\" y=\"-188.3\" font-family=\"Times,serif\" font-size=\"14.00\" fill=\"#000000\">&#45;0.07</text>\n</g>\n<!-- 9. sulphates&#45;&gt;8. pH -->\n<g id=\"edge26\" class=\"edge\">\n<title>9. sulphates&#45;&gt;8. pH</title>\n<path fill=\"none\" stroke=\"#000000\" d=\"M566.2014,-261.2738C574.1018,-251.115 584.6018,-238.365 595,-228 600.0723,-222.9439 605.8042,-217.8618 611.4142,-213.1745\"/>\n<polygon fill=\"#000000\" stroke=\"#000000\" points=\"613.9028,-215.6621 619.4554,-206.6389 609.4878,-210.2301 613.9028,-215.6621\"/>\n<text text-anchor=\"middle\" x=\"608.5\" y=\"-231.8\" font-family=\"Times,serif\" font-size=\"14.00\" fill=\"#000000\">0.17</text>\n</g>\n<!-- 9. sulphates&#45;&gt;2. citric acid -->\n<g id=\"edge13\" class=\"edge\">\n<title>9. sulphates&#45;&gt;2. citric acid</title>\n<path fill=\"none\" stroke=\"#000000\" d=\"M542.0929,-261.2858C527.3611,-235.1665 504.0296,-184.6909 514,-141 522.8184,-102.3574 551.0178,-65.7345 572.1165,-42.662\"/>\n<polygon fill=\"#000000\" stroke=\"#000000\" points=\"574.9402,-44.7682 579.2397,-35.085 569.8401,-39.9735 574.9402,-44.7682\"/>\n<text text-anchor=\"middle\" x=\"527.5\" y=\"-144.8\" font-family=\"Times,serif\" font-size=\"14.00\" fill=\"#000000\">0.04</text>\n</g>\n<!-- 9. sulphates&#45;&gt;5. free sulfur dioxide -->\n<g id=\"edge18\" class=\"edge\">\n<title>9. sulphates&#45;&gt;5. free sulfur dioxide</title>\n<path fill=\"none\" stroke=\"#000000\" d=\"M536.9877,-261.5003C531.993,-255.7587 526.5933,-249.2459 522,-243 500.5921,-213.8902 501.0561,-202.6218 479,-174 446.5668,-131.912 442.2258,-114.8915 397,-87 351.1152,-58.7021 292.9283,-41.4127 246.433,-31.2177\"/>\n<polygon fill=\"#000000\" stroke=\"#000000\" points=\"246.9054,-27.74 236.3965,-29.0865 245.4514,-34.5874 246.9054,-27.74\"/>\n<text text-anchor=\"middle\" x=\"480.5\" y=\"-144.8\" font-family=\"Times,serif\" font-size=\"14.00\" fill=\"#000000\">&#45;3.38</text>\n</g>\n<!-- 9. sulphates&#45;&gt;6. total sulfur dioxide -->\n<g id=\"edge22\" class=\"edge\">\n<title>9. sulphates&#45;&gt;6. total sulfur dioxide</title>\n<path fill=\"none\" stroke=\"#000000\" d=\"M503.0946,-271.55C413.7137,-257.8272 233.5029,-228.2902 211,-210 187.5389,-190.931 176.0622,-157.3403 170.6162,-133.2841\"/>\n<polygon fill=\"#000000\" stroke=\"#000000\" points=\"174.0088,-132.4043 168.5754,-123.3088 167.1508,-133.8075 174.0088,-132.4043\"/>\n<text text-anchor=\"middle\" x=\"228\" y=\"-188.3\" font-family=\"Times,serif\" font-size=\"14.00\" fill=\"#000000\">50.70</text>\n</g>\n<!-- 9. sulphates&#45;&gt;11. quality -->\n<g id=\"edge35\" class=\"edge\">\n<title>9. sulphates&#45;&gt;11. quality</title>\n<path fill=\"none\" stroke=\"#000000\" d=\"M605.7696,-274.0114C724.2385,-262.4587 1003.8332,-233.0918 1040,-210 1101.4813,-170.7453 1124.5591,-118.7663 1091,-54 1087.9896,-48.1903 1083.5626,-43.1185 1078.5545,-38.7598\"/>\n<polygon fill=\"#000000\" stroke=\"#000000\" points=\"1080.4026,-35.7679 1070.3264,-32.4938 1076.1616,-41.3369 1080.4026,-35.7679\"/>\n<text text-anchor=\"middle\" x=\"1114.5\" y=\"-144.8\" font-family=\"Times,serif\" font-size=\"14.00\" fill=\"#000000\">0.57</text>\n</g>\n<!-- 10. alcohol&#45;&gt;1. volatile acidity -->\n<g id=\"edge7\" class=\"edge\">\n<title>10. alcohol&#45;&gt;1. volatile acidity</title>\n<path fill=\"none\" stroke=\"#000000\" d=\"M353.7235,-183.6271C371.8924,-180.4665 392.8959,-176.9293 412,-174 470.9609,-164.9592 489.0945,-176.8015 545,-156 556.4379,-151.7441 556.7808,-145.803 568,-141 583.4591,-134.3819 619.4966,-125.7919 652.7145,-118.6627\"/>\n<polygon fill=\"#000000\" stroke=\"#000000\" points=\"653.8509,-121.9996 662.907,-116.5009 652.3984,-115.1519 653.8509,-121.9996\"/>\n<text text-anchor=\"middle\" x=\"581.5\" y=\"-144.8\" font-family=\"Times,serif\" font-size=\"14.00\" fill=\"#000000\">0.04</text>\n</g>\n<!-- 10. alcohol&#45;&gt;2. citric acid -->\n<g id=\"edge14\" class=\"edge\">\n<title>10. alcohol&#45;&gt;2. citric acid</title>\n<path fill=\"none\" stroke=\"#000000\" d=\"M318.3318,-173.9552C338.1281,-144.0257 381.995,-84.4065 435,-54 452.2057,-44.1299 497.7702,-34.4624 536.2088,-27.6352\"/>\n<polygon fill=\"#000000\" stroke=\"#000000\" points=\"537.0664,-31.0386 546.3177,-25.8748 535.8654,-24.1424 537.0664,-31.0386\"/>\n<text text-anchor=\"middle\" x=\"402.5\" y=\"-101.3\" font-family=\"Times,serif\" font-size=\"14.00\" fill=\"#000000\">0.02</text>\n</g>\n<!-- 10. alcohol&#45;&gt;5. free sulfur dioxide -->\n<g id=\"edge19\" class=\"edge\">\n<title>10. alcohol&#45;&gt;5. free sulfur dioxide</title>\n<path fill=\"none\" stroke=\"#000000\" d=\"M303.4014,-174.0289C298.2172,-151.719 286.8901,-113.3928 266,-87 250.6746,-67.6377 228.4531,-51.5545 208.8478,-39.8005\"/>\n<polygon fill=\"#000000\" stroke=\"#000000\" points=\"210.4655,-36.6928 200.0582,-34.7084 206.9565,-42.7498 210.4655,-36.6928\"/>\n<text text-anchor=\"middle\" x=\"300.5\" y=\"-101.3\" font-family=\"Times,serif\" font-size=\"14.00\" fill=\"#000000\">0.71</text>\n</g>\n<!-- 10. alcohol&#45;&gt;6. total sulfur dioxide -->\n<g id=\"edge23\" class=\"edge\">\n<title>10. alcohol&#45;&gt;6. total sulfur dioxide</title>\n<path fill=\"none\" stroke=\"#000000\" d=\"M277.7372,-176.8321C266.1523,-170.6225 252.8074,-163.211 241,-156 226.9151,-147.3981 211.7915,-137.2909 198.8408,-128.3528\"/>\n<polygon fill=\"#000000\" stroke=\"#000000\" points=\"200.4693,-125.2221 190.2615,-122.3846 196.4718,-130.9684 200.4693,-125.2221\"/>\n<text text-anchor=\"middle\" x=\"260\" y=\"-144.8\" font-family=\"Times,serif\" font-size=\"14.00\" fill=\"#000000\">&#45;11.33</text>\n</g>\n<!-- 10. alcohol&#45;&gt;11. quality -->\n<g id=\"edge36\" class=\"edge\">\n<title>10. alcohol&#45;&gt;11. quality</title>\n<path fill=\"none\" stroke=\"#000000\" d=\"M358.7038,-187.8692C412.9397,-182.7365 493.8716,-172.5716 520,-156 551.5471,-135.9917 538.9367,-110.4708 568,-87 597.6034,-63.0931 610.0714,-63.1749 647,-54 708.3669,-38.7534 885.5482,-26.7778 979.6327,-21.2824\"/>\n<polygon fill=\"#000000\" stroke=\"#000000\" points=\"980.0714,-24.763 989.8529,-20.6919 979.6676,-17.7747 980.0714,-24.763\"/>\n<text text-anchor=\"middle\" x=\"581.5\" y=\"-101.3\" font-family=\"Times,serif\" font-size=\"14.00\" fill=\"#000000\">0.22</text>\n</g>\n<!-- 6. total sulfur dioxide&#45;&gt;5. free sulfur dioxide -->\n<g id=\"edge17\" class=\"edge\">\n<title>6. total sulfur dioxide&#45;&gt;5. free sulfur dioxide</title>\n<path fill=\"none\" stroke=\"#000000\" d=\"M166,-86.9735C166,-75.1918 166,-59.5607 166,-46.1581\"/>\n<polygon fill=\"#000000\" stroke=\"#000000\" points=\"169.5001,-46.0033 166,-36.0034 162.5001,-46.0034 169.5001,-46.0033\"/>\n<text text-anchor=\"middle\" x=\"179.5\" y=\"-57.8\" font-family=\"Times,serif\" font-size=\"14.00\" fill=\"#000000\">0.25</text>\n</g>\n</g>\n</svg>\n"
          },
          "metadata": {},
          "execution_count": 23
        }
      ]
    },
    {
      "cell_type": "code",
      "source": [
        "print(dag.source)"
      ],
      "metadata": {
        "colab": {
          "base_uri": "https://localhost:8080/"
        },
        "id": "78eIyHdZsytm",
        "outputId": "bfc78925-a7bd-4e79-c199-abb34999fa9f"
      },
      "execution_count": 24,
      "outputs": [
        {
          "output_type": "stream",
          "name": "stdout",
          "text": [
            "digraph {\n",
            "\t\"3. residual sugar\" -> \"0. fixed acidity\" [label=0.01]\n",
            "\t\"0. fixed acidity\" -> \"1. volatile acidity\" [label=-0.02]\n",
            "\t\"4. chlorides\" -> \"1. volatile acidity\" [label=0.40]\n",
            "\t\"7. density\" -> \"1. volatile acidity\" [label=16.32]\n",
            "\t\"8. pH\" -> \"1. volatile acidity\" [label=-0.09]\n",
            "\t\"9. sulphates\" -> \"1. volatile acidity\" [label=-0.07]\n",
            "\t\"10. alcohol\" -> \"1. volatile acidity\" [label=0.04]\n",
            "\t\"0. fixed acidity\" -> \"2. citric acid\" [label=0.03]\n",
            "\t\"1. volatile acidity\" -> \"2. citric acid\" [label=-0.21]\n",
            "\t\"4. chlorides\" -> \"2. citric acid\" [label=0.61]\n",
            "\t\"7. density\" -> \"2. citric acid\" [label=13.47]\n",
            "\t\"8. pH\" -> \"2. citric acid\" [label=-0.09]\n",
            "\t\"9. sulphates\" -> \"2. citric acid\" [label=0.04]\n",
            "\t\"10. alcohol\" -> \"2. citric acid\" [label=0.02]\n",
            "\t\"0. fixed acidity\" -> \"5. free sulfur dioxide\" [label=-2.16]\n",
            "\t\"3. residual sugar\" -> \"5. free sulfur dioxide\" [label=0.28]\n",
            "\t\"6. total sulfur dioxide\" -> \"5. free sulfur dioxide\" [label=0.25]\n",
            "\t\"9. sulphates\" -> \"5. free sulfur dioxide\" [label=-3.38]\n",
            "\t\"10. alcohol\" -> \"5. free sulfur dioxide\" [label=0.71]\n",
            "\t\"0. fixed acidity\" -> \"6. total sulfur dioxide\" [label=1.57]\n",
            "\t\"3. residual sugar\" -> \"6. total sulfur dioxide\" [label=2.13]\n",
            "\t\"9. sulphates\" -> \"6. total sulfur dioxide\" [label=50.70]\n",
            "\t\"10. alcohol\" -> \"6. total sulfur dioxide\" [label=-11.33]\n",
            "\t\"0. fixed acidity\" -> \"8. pH\" [label=-0.08]\n",
            "\t\"4. chlorides\" -> \"8. pH\" [label=-0.60]\n",
            "\t\"9. sulphates\" -> \"8. pH\" [label=0.17]\n",
            "\t\"0. fixed acidity\" -> \"10. alcohol\" [label=-0.12]\n",
            "\t\"3. residual sugar\" -> \"10. alcohol\" [label=-0.11]\n",
            "\t\"0. fixed acidity\" -> \"11. quality\" [label=0.04]\n",
            "\t\"1. volatile acidity\" -> \"11. quality\" [label=-1.87]\n",
            "\t\"3. residual sugar\" -> \"11. quality\" [label=0.07]\n",
            "\t\"4. chlorides\" -> \"11. quality\" [label=-0.36]\n",
            "\t\"7. density\" -> \"11. quality\" [label=-120.54]\n",
            "\t\"8. pH\" -> \"11. quality\" [label=0.55]\n",
            "\t\"9. sulphates\" -> \"11. quality\" [label=0.57]\n",
            "\t\"10. alcohol\" -> \"11. quality\" [label=0.22]\n",
            "}\n"
          ]
        }
      ]
    },
    {
      "cell_type": "markdown",
      "source": [
        "## **Modeling**"
      ],
      "metadata": {
        "id": "PY3zvcAd2srd"
      }
    },
    {
      "cell_type": "code",
      "source": [
        "model= CausalModel(\n",
        "        data = white_data,\n",
        "        treatment='pH',\n",
        "        outcome='quality',\n",
        "        common_causes=['fixed acidity', 'volatile acidity', 'citric acid'],\n",
        "        instruments=['residual sugar'])\n",
        "model.view_model()"
      ],
      "metadata": {
        "colab": {
          "base_uri": "https://localhost:8080/",
          "height": 393
        },
        "id": "rxu_iRNtsywQ",
        "outputId": "84da30ac-7550-443c-ac48-34440bb4fc1c"
      },
      "execution_count": 25,
      "outputs": [
        {
          "output_type": "stream",
          "name": "stderr",
          "text": [
            "WARNING:dowhy.causal_model:Causal Graph not provided. DoWhy will construct a graph based on data inputs.\n",
            "WARNING:dowhy.causal_graph:Warning: Pygraphviz cannot be loaded. Check that graphviz and pygraphviz are installed.\n"
          ]
        },
        {
          "output_type": "display_data",
          "data": {
            "text/plain": [
              "<Figure size 576x432 with 1 Axes>"
            ],
            "image/png": "[encoded data removed]"
          },
          "metadata": {}
        }
      ]
    },
    {
      "cell_type": "markdown",
      "source": [
        "##**Identification**"
      ],
      "metadata": {
        "id": "OqvCbR0B2217"
      }
    },
    {
      "cell_type": "code",
      "source": [
        "identified_estimand = model.identify_effect(proceed_when_unidentifiable=True)\n",
        "print(identified_estimand)"
      ],
      "metadata": {
        "colab": {
          "base_uri": "https://localhost:8080/"
        },
        "id": "qKcPhqpO21sD",
        "outputId": "55d74c7e-d021-46fc-8db8-3318d412cc47"
      },
      "execution_count": 26,
      "outputs": [
        {
          "output_type": "stream",
          "name": "stdout",
          "text": [
            "Estimand type: nonparametric-ate\n",
            "\n",
            "### Estimand : 1\n",
            "Estimand name: backdoor\n",
            "Estimand expression:\n",
            "  d                                                                   \n",
            "─────(Expectation(quality|volatile acidity,fixed acidity,citric acid))\n",
            "d[pH]                                                                 \n",
            "Estimand assumption 1, Unconfoundedness: If U→{pH} and U→quality then P(quality|pH,volatile acidity,fixed acidity,citric acid,U) = P(quality|pH,volatile acidity,fixed acidity,citric acid)\n",
            "\n",
            "### Estimand : 2\n",
            "Estimand name: iv\n",
            "Estimand expression:\n",
            "Expectation(Derivative(quality, [residual sugar])*Derivative([pH], [residual s\n",
            "ugar])**(-1))\n",
            "Estimand assumption 1, As-if-random: If U→→quality then ¬(U →→{residual sugar})\n",
            "Estimand assumption 2, Exclusion: If we remove {residual sugar}→{pH}, then ¬({residual sugar}→quality)\n",
            "\n",
            "### Estimand : 3\n",
            "Estimand name: frontdoor\n",
            "No such variable(s) found!\n",
            "\n"
          ]
        }
      ]
    },
    {
      "cell_type": "markdown",
      "source": [
        "## **Estimation**"
      ],
      "metadata": {
        "id": "m0vJb1ZP28MD"
      }
    },
    {
      "cell_type": "code",
      "source": [
        "estimate = model.estimate_effect(identified_estimand,\n",
        "                                 method_name=\"backdoor.linear_regression\")\n",
        "\n",
        "print(estimate)"
      ],
      "metadata": {
        "colab": {
          "base_uri": "https://localhost:8080/"
        },
        "id": "DvrWeodn21un",
        "outputId": "ae126c9b-d83c-4deb-9fcd-2f06726c668c"
      },
      "execution_count": 27,
      "outputs": [
        {
          "output_type": "stream",
          "name": "stdout",
          "text": [
            "linear_regression\n",
            "{'control_value': 0, 'treatment_value': 1, 'test_significance': None, 'evaluate_effect_strength': False, 'confidence_intervals': False, 'target_units': 'ate', 'effect_modifiers': []}\n",
            "*** Causal Estimate ***\n",
            "\n",
            "## Identified estimand\n",
            "Estimand type: nonparametric-ate\n",
            "\n",
            "### Estimand : 1\n",
            "Estimand name: backdoor\n",
            "Estimand expression:\n",
            "  d                                                                   \n",
            "─────(Expectation(quality|volatile acidity,fixed acidity,citric acid))\n",
            "d[pH]                                                                 \n",
            "Estimand assumption 1, Unconfoundedness: If U→{pH} and U→quality then P(quality|pH,volatile acidity,fixed acidity,citric acid,U) = P(quality|pH,volatile acidity,fixed acidity,citric acid)\n",
            "\n",
            "## Realized estimand\n",
            "b: quality~pH+volatile acidity+fixed acidity+citric acid\n",
            "Target units: ate\n",
            "\n",
            "## Estimate\n",
            "Mean value: 0.3066029732686948\n",
            "\n"
          ]
        }
      ]
    },
    {
      "cell_type": "code",
      "source": [
        "dml_estimate = model.estimate_effect(identified_estimand, \n",
        "                                    method_name=\"backdoor.econml.dml.DML\",\n",
        "                                    method_params={\n",
        "                                        'init_params': {'model_y':GradientBoostingRegressor(),\n",
        "                                                        'model_t': GradientBoostingRegressor(),\n",
        "                                                        'model_final':LassoCV(fit_intercept=False), },\n",
        "                                        'fit_params': {}\n",
        "                                     })\n",
        "dml_estimate"
      ],
      "metadata": {
        "colab": {
          "base_uri": "https://localhost:8080/"
        },
        "id": "X2IgDDOn21xB",
        "outputId": "27f8bcf0-1026-4f86-d304-4ec126473cd9"
      },
      "execution_count": 28,
      "outputs": [
        {
          "output_type": "execute_result",
          "data": {
            "text/plain": [
              "<dowhy.causal_estimator.CausalEstimate at 0x7fb931c80350>"
            ]
          },
          "metadata": {},
          "execution_count": 28
        }
      ]
    },
    {
      "cell_type": "markdown",
      "source": [
        "## **Refute**"
      ],
      "metadata": {
        "id": "Je7LKYN93CHY"
      }
    },
    {
      "cell_type": "code",
      "source": [
        "random_refute_results = model.refute_estimate(identified_estimand, estimate,\n",
        "                                       method_name=\"random_common_cause\")\n",
        "print(random_refute_results)"
      ],
      "metadata": {
        "colab": {
          "base_uri": "https://localhost:8080/"
        },
        "id": "tY-qLqcX21zp",
        "outputId": "621272a8-0a45-4100-eafe-94dc2fe092d8"
      },
      "execution_count": 29,
      "outputs": [
        {
          "output_type": "stream",
          "name": "stdout",
          "text": [
            "{'control_value': 0, 'treatment_value': 1, 'test_significance': False, 'evaluate_effect_strength': False, 'confidence_intervals': False, 'target_units': 'ate', 'effect_modifiers': []}\n",
            "{'control_value': 0, 'treatment_value': 1, 'test_significance': False, 'evaluate_effect_strength': False, 'confidence_intervals': False, 'target_units': 'ate', 'effect_modifiers': []}\n",
            "{'control_value': 0, 'treatment_value': 1, 'test_significance': False, 'evaluate_effect_strength': False, 'confidence_intervals': False, 'target_units': 'ate', 'effect_modifiers': []}\n",
            "{'control_value': 0, 'treatment_value': 1, 'test_significance': False, 'evaluate_effect_strength': False, 'confidence_intervals': False, 'target_units': 'ate', 'effect_modifiers': []}\n",
            "{'control_value': 0, 'treatment_value': 1, 'test_significance': False, 'evaluate_effect_strength': False, 'confidence_intervals': False, 'target_units': 'ate', 'effect_modifiers': []}\n",
            "{'control_value': 0, 'treatment_value': 1, 'test_significance': False, 'evaluate_effect_strength': False, 'confidence_intervals': False, 'target_units': 'ate', 'effect_modifiers': []}\n",
            "{'control_value': 0, 'treatment_value': 1, 'test_significance': False, 'evaluate_effect_strength': False, 'confidence_intervals': False, 'target_units': 'ate', 'effect_modifiers': []}\n",
            "{'control_value': 0, 'treatment_value': 1, 'test_significance': False, 'evaluate_effect_strength': False, 'confidence_intervals': False, 'target_units': 'ate', 'effect_modifiers': []}\n",
            "{'control_value': 0, 'treatment_value': 1, 'test_significance': False, 'evaluate_effect_strength': False, 'confidence_intervals': False, 'target_units': 'ate', 'effect_modifiers': []}\n",
            "{'control_value': 0, 'treatment_value': 1, 'test_significance': False, 'evaluate_effect_strength': False, 'confidence_intervals': False, 'target_units': 'ate', 'effect_modifiers': []}\n",
            "{'control_value': 0, 'treatment_value': 1, 'test_significance': False, 'evaluate_effect_strength': False, 'confidence_intervals': False, 'target_units': 'ate', 'effect_modifiers': []}\n",
            "{'control_value': 0, 'treatment_value': 1, 'test_significance': False, 'evaluate_effect_strength': False, 'confidence_intervals': False, 'target_units': 'ate', 'effect_modifiers': []}\n",
            "{'control_value': 0, 'treatment_value': 1, 'test_significance': False, 'evaluate_effect_strength': False, 'confidence_intervals': False, 'target_units': 'ate', 'effect_modifiers': []}\n",
            "{'control_value': 0, 'treatment_value': 1, 'test_significance': False, 'evaluate_effect_strength': False, 'confidence_intervals': False, 'target_units': 'ate', 'effect_modifiers': []}\n",
            "{'control_value': 0, 'treatment_value': 1, 'test_significance': False, 'evaluate_effect_strength': False, 'confidence_intervals': False, 'target_units': 'ate', 'effect_modifiers': []}\n",
            "{'control_value': 0, 'treatment_value': 1, 'test_significance': False, 'evaluate_effect_strength': False, 'confidence_intervals': False, 'target_units': 'ate', 'effect_modifiers': []}\n",
            "{'control_value': 0, 'treatment_value': 1, 'test_significance': False, 'evaluate_effect_strength': False, 'confidence_intervals': False, 'target_units': 'ate', 'effect_modifiers': []}\n",
            "{'control_value': 0, 'treatment_value': 1, 'test_significance': False, 'evaluate_effect_strength': False, 'confidence_intervals': False, 'target_units': 'ate', 'effect_modifiers': []}\n",
            "{'control_value': 0, 'treatment_value': 1, 'test_significance': False, 'evaluate_effect_strength': False, 'confidence_intervals': False, 'target_units': 'ate', 'effect_modifiers': []}\n",
            "{'control_value': 0, 'treatment_value': 1, 'test_significance': False, 'evaluate_effect_strength': False, 'confidence_intervals': False, 'target_units': 'ate', 'effect_modifiers': []}\n",
            "{'control_value': 0, 'treatment_value': 1, 'test_significance': False, 'evaluate_effect_strength': False, 'confidence_intervals': False, 'target_units': 'ate', 'effect_modifiers': []}\n",
            "{'control_value': 0, 'treatment_value': 1, 'test_significance': False, 'evaluate_effect_strength': False, 'confidence_intervals': False, 'target_units': 'ate', 'effect_modifiers': []}\n",
            "{'control_value': 0, 'treatment_value': 1, 'test_significance': False, 'evaluate_effect_strength': False, 'confidence_intervals': False, 'target_units': 'ate', 'effect_modifiers': []}\n",
            "{'control_value': 0, 'treatment_value': 1, 'test_significance': False, 'evaluate_effect_strength': False, 'confidence_intervals': False, 'target_units': 'ate', 'effect_modifiers': []}\n",
            "{'control_value': 0, 'treatment_value': 1, 'test_significance': False, 'evaluate_effect_strength': False, 'confidence_intervals': False, 'target_units': 'ate', 'effect_modifiers': []}\n",
            "{'control_value': 0, 'treatment_value': 1, 'test_significance': False, 'evaluate_effect_strength': False, 'confidence_intervals': False, 'target_units': 'ate', 'effect_modifiers': []}\n",
            "{'control_value': 0, 'treatment_value': 1, 'test_significance': False, 'evaluate_effect_strength': False, 'confidence_intervals': False, 'target_units': 'ate', 'effect_modifiers': []}\n",
            "{'control_value': 0, 'treatment_value': 1, 'test_significance': False, 'evaluate_effect_strength': False, 'confidence_intervals': False, 'target_units': 'ate', 'effect_modifiers': []}\n",
            "{'control_value': 0, 'treatment_value': 1, 'test_significance': False, 'evaluate_effect_strength': False, 'confidence_intervals': False, 'target_units': 'ate', 'effect_modifiers': []}\n",
            "{'control_value': 0, 'treatment_value': 1, 'test_significance': False, 'evaluate_effect_strength': False, 'confidence_intervals': False, 'target_units': 'ate', 'effect_modifiers': []}\n",
            "{'control_value': 0, 'treatment_value': 1, 'test_significance': False, 'evaluate_effect_strength': False, 'confidence_intervals': False, 'target_units': 'ate', 'effect_modifiers': []}\n",
            "{'control_value': 0, 'treatment_value': 1, 'test_significance': False, 'evaluate_effect_strength': False, 'confidence_intervals': False, 'target_units': 'ate', 'effect_modifiers': []}\n",
            "{'control_value': 0, 'treatment_value': 1, 'test_significance': False, 'evaluate_effect_strength': False, 'confidence_intervals': False, 'target_units': 'ate', 'effect_modifiers': []}\n",
            "{'control_value': 0, 'treatment_value': 1, 'test_significance': False, 'evaluate_effect_strength': False, 'confidence_intervals': False, 'target_units': 'ate', 'effect_modifiers': []}\n",
            "{'control_value': 0, 'treatment_value': 1, 'test_significance': False, 'evaluate_effect_strength': False, 'confidence_intervals': False, 'target_units': 'ate', 'effect_modifiers': []}\n",
            "{'control_value': 0, 'treatment_value': 1, 'test_significance': False, 'evaluate_effect_strength': False, 'confidence_intervals': False, 'target_units': 'ate', 'effect_modifiers': []}\n",
            "{'control_value': 0, 'treatment_value': 1, 'test_significance': False, 'evaluate_effect_strength': False, 'confidence_intervals': False, 'target_units': 'ate', 'effect_modifiers': []}\n",
            "{'control_value': 0, 'treatment_value': 1, 'test_significance': False, 'evaluate_effect_strength': False, 'confidence_intervals': False, 'target_units': 'ate', 'effect_modifiers': []}\n",
            "{'control_value': 0, 'treatment_value': 1, 'test_significance': False, 'evaluate_effect_strength': False, 'confidence_intervals': False, 'target_units': 'ate', 'effect_modifiers': []}\n",
            "{'control_value': 0, 'treatment_value': 1, 'test_significance': False, 'evaluate_effect_strength': False, 'confidence_intervals': False, 'target_units': 'ate', 'effect_modifiers': []}\n",
            "{'control_value': 0, 'treatment_value': 1, 'test_significance': False, 'evaluate_effect_strength': False, 'confidence_intervals': False, 'target_units': 'ate', 'effect_modifiers': []}\n",
            "{'control_value': 0, 'treatment_value': 1, 'test_significance': False, 'evaluate_effect_strength': False, 'confidence_intervals': False, 'target_units': 'ate', 'effect_modifiers': []}\n",
            "{'control_value': 0, 'treatment_value': 1, 'test_significance': False, 'evaluate_effect_strength': False, 'confidence_intervals': False, 'target_units': 'ate', 'effect_modifiers': []}\n",
            "{'control_value': 0, 'treatment_value': 1, 'test_significance': False, 'evaluate_effect_strength': False, 'confidence_intervals': False, 'target_units': 'ate', 'effect_modifiers': []}\n",
            "{'control_value': 0, 'treatment_value': 1, 'test_significance': False, 'evaluate_effect_strength': False, 'confidence_intervals': False, 'target_units': 'ate', 'effect_modifiers': []}\n",
            "{'control_value': 0, 'treatment_value': 1, 'test_significance': False, 'evaluate_effect_strength': False, 'confidence_intervals': False, 'target_units': 'ate', 'effect_modifiers': []}\n",
            "{'control_value': 0, 'treatment_value': 1, 'test_significance': False, 'evaluate_effect_strength': False, 'confidence_intervals': False, 'target_units': 'ate', 'effect_modifiers': []}\n",
            "{'control_value': 0, 'treatment_value': 1, 'test_significance': False, 'evaluate_effect_strength': False, 'confidence_intervals': False, 'target_units': 'ate', 'effect_modifiers': []}\n",
            "{'control_value': 0, 'treatment_value': 1, 'test_significance': False, 'evaluate_effect_strength': False, 'confidence_intervals': False, 'target_units': 'ate', 'effect_modifiers': []}\n",
            "{'control_value': 0, 'treatment_value': 1, 'test_significance': False, 'evaluate_effect_strength': False, 'confidence_intervals': False, 'target_units': 'ate', 'effect_modifiers': []}\n",
            "{'control_value': 0, 'treatment_value': 1, 'test_significance': False, 'evaluate_effect_strength': False, 'confidence_intervals': False, 'target_units': 'ate', 'effect_modifiers': []}\n",
            "{'control_value': 0, 'treatment_value': 1, 'test_significance': False, 'evaluate_effect_strength': False, 'confidence_intervals': False, 'target_units': 'ate', 'effect_modifiers': []}\n",
            "{'control_value': 0, 'treatment_value': 1, 'test_significance': False, 'evaluate_effect_strength': False, 'confidence_intervals': False, 'target_units': 'ate', 'effect_modifiers': []}\n",
            "{'control_value': 0, 'treatment_value': 1, 'test_significance': False, 'evaluate_effect_strength': False, 'confidence_intervals': False, 'target_units': 'ate', 'effect_modifiers': []}\n",
            "{'control_value': 0, 'treatment_value': 1, 'test_significance': False, 'evaluate_effect_strength': False, 'confidence_intervals': False, 'target_units': 'ate', 'effect_modifiers': []}\n",
            "{'control_value': 0, 'treatment_value': 1, 'test_significance': False, 'evaluate_effect_strength': False, 'confidence_intervals': False, 'target_units': 'ate', 'effect_modifiers': []}\n",
            "{'control_value': 0, 'treatment_value': 1, 'test_significance': False, 'evaluate_effect_strength': False, 'confidence_intervals': False, 'target_units': 'ate', 'effect_modifiers': []}\n",
            "{'control_value': 0, 'treatment_value': 1, 'test_significance': False, 'evaluate_effect_strength': False, 'confidence_intervals': False, 'target_units': 'ate', 'effect_modifiers': []}\n",
            "{'control_value': 0, 'treatment_value': 1, 'test_significance': False, 'evaluate_effect_strength': False, 'confidence_intervals': False, 'target_units': 'ate', 'effect_modifiers': []}\n",
            "{'control_value': 0, 'treatment_value': 1, 'test_significance': False, 'evaluate_effect_strength': False, 'confidence_intervals': False, 'target_units': 'ate', 'effect_modifiers': []}\n",
            "{'control_value': 0, 'treatment_value': 1, 'test_significance': False, 'evaluate_effect_strength': False, 'confidence_intervals': False, 'target_units': 'ate', 'effect_modifiers': []}\n",
            "{'control_value': 0, 'treatment_value': 1, 'test_significance': False, 'evaluate_effect_strength': False, 'confidence_intervals': False, 'target_units': 'ate', 'effect_modifiers': []}\n",
            "{'control_value': 0, 'treatment_value': 1, 'test_significance': False, 'evaluate_effect_strength': False, 'confidence_intervals': False, 'target_units': 'ate', 'effect_modifiers': []}\n",
            "{'control_value': 0, 'treatment_value': 1, 'test_significance': False, 'evaluate_effect_strength': False, 'confidence_intervals': False, 'target_units': 'ate', 'effect_modifiers': []}\n",
            "{'control_value': 0, 'treatment_value': 1, 'test_significance': False, 'evaluate_effect_strength': False, 'confidence_intervals': False, 'target_units': 'ate', 'effect_modifiers': []}\n",
            "{'control_value': 0, 'treatment_value': 1, 'test_significance': False, 'evaluate_effect_strength': False, 'confidence_intervals': False, 'target_units': 'ate', 'effect_modifiers': []}\n",
            "{'control_value': 0, 'treatment_value': 1, 'test_significance': False, 'evaluate_effect_strength': False, 'confidence_intervals': False, 'target_units': 'ate', 'effect_modifiers': []}\n",
            "{'control_value': 0, 'treatment_value': 1, 'test_significance': False, 'evaluate_effect_strength': False, 'confidence_intervals': False, 'target_units': 'ate', 'effect_modifiers': []}\n",
            "{'control_value': 0, 'treatment_value': 1, 'test_significance': False, 'evaluate_effect_strength': False, 'confidence_intervals': False, 'target_units': 'ate', 'effect_modifiers': []}\n",
            "{'control_value': 0, 'treatment_value': 1, 'test_significance': False, 'evaluate_effect_strength': False, 'confidence_intervals': False, 'target_units': 'ate', 'effect_modifiers': []}\n",
            "{'control_value': 0, 'treatment_value': 1, 'test_significance': False, 'evaluate_effect_strength': False, 'confidence_intervals': False, 'target_units': 'ate', 'effect_modifiers': []}\n",
            "{'control_value': 0, 'treatment_value': 1, 'test_significance': False, 'evaluate_effect_strength': False, 'confidence_intervals': False, 'target_units': 'ate', 'effect_modifiers': []}\n",
            "{'control_value': 0, 'treatment_value': 1, 'test_significance': False, 'evaluate_effect_strength': False, 'confidence_intervals': False, 'target_units': 'ate', 'effect_modifiers': []}\n",
            "{'control_value': 0, 'treatment_value': 1, 'test_significance': False, 'evaluate_effect_strength': False, 'confidence_intervals': False, 'target_units': 'ate', 'effect_modifiers': []}\n",
            "{'control_value': 0, 'treatment_value': 1, 'test_significance': False, 'evaluate_effect_strength': False, 'confidence_intervals': False, 'target_units': 'ate', 'effect_modifiers': []}\n",
            "{'control_value': 0, 'treatment_value': 1, 'test_significance': False, 'evaluate_effect_strength': False, 'confidence_intervals': False, 'target_units': 'ate', 'effect_modifiers': []}\n",
            "{'control_value': 0, 'treatment_value': 1, 'test_significance': False, 'evaluate_effect_strength': False, 'confidence_intervals': False, 'target_units': 'ate', 'effect_modifiers': []}\n",
            "{'control_value': 0, 'treatment_value': 1, 'test_significance': False, 'evaluate_effect_strength': False, 'confidence_intervals': False, 'target_units': 'ate', 'effect_modifiers': []}\n",
            "{'control_value': 0, 'treatment_value': 1, 'test_significance': False, 'evaluate_effect_strength': False, 'confidence_intervals': False, 'target_units': 'ate', 'effect_modifiers': []}\n",
            "{'control_value': 0, 'treatment_value': 1, 'test_significance': False, 'evaluate_effect_strength': False, 'confidence_intervals': False, 'target_units': 'ate', 'effect_modifiers': []}\n",
            "{'control_value': 0, 'treatment_value': 1, 'test_significance': False, 'evaluate_effect_strength': False, 'confidence_intervals': False, 'target_units': 'ate', 'effect_modifiers': []}\n",
            "{'control_value': 0, 'treatment_value': 1, 'test_significance': False, 'evaluate_effect_strength': False, 'confidence_intervals': False, 'target_units': 'ate', 'effect_modifiers': []}\n",
            "{'control_value': 0, 'treatment_value': 1, 'test_significance': False, 'evaluate_effect_strength': False, 'confidence_intervals': False, 'target_units': 'ate', 'effect_modifiers': []}\n",
            "{'control_value': 0, 'treatment_value': 1, 'test_significance': False, 'evaluate_effect_strength': False, 'confidence_intervals': False, 'target_units': 'ate', 'effect_modifiers': []}\n",
            "{'control_value': 0, 'treatment_value': 1, 'test_significance': False, 'evaluate_effect_strength': False, 'confidence_intervals': False, 'target_units': 'ate', 'effect_modifiers': []}\n",
            "{'control_value': 0, 'treatment_value': 1, 'test_significance': False, 'evaluate_effect_strength': False, 'confidence_intervals': False, 'target_units': 'ate', 'effect_modifiers': []}\n",
            "{'control_value': 0, 'treatment_value': 1, 'test_significance': False, 'evaluate_effect_strength': False, 'confidence_intervals': False, 'target_units': 'ate', 'effect_modifiers': []}\n",
            "{'control_value': 0, 'treatment_value': 1, 'test_significance': False, 'evaluate_effect_strength': False, 'confidence_intervals': False, 'target_units': 'ate', 'effect_modifiers': []}\n",
            "{'control_value': 0, 'treatment_value': 1, 'test_significance': False, 'evaluate_effect_strength': False, 'confidence_intervals': False, 'target_units': 'ate', 'effect_modifiers': []}\n",
            "{'control_value': 0, 'treatment_value': 1, 'test_significance': False, 'evaluate_effect_strength': False, 'confidence_intervals': False, 'target_units': 'ate', 'effect_modifiers': []}\n",
            "{'control_value': 0, 'treatment_value': 1, 'test_significance': False, 'evaluate_effect_strength': False, 'confidence_intervals': False, 'target_units': 'ate', 'effect_modifiers': []}\n",
            "{'control_value': 0, 'treatment_value': 1, 'test_significance': False, 'evaluate_effect_strength': False, 'confidence_intervals': False, 'target_units': 'ate', 'effect_modifiers': []}\n",
            "{'control_value': 0, 'treatment_value': 1, 'test_significance': False, 'evaluate_effect_strength': False, 'confidence_intervals': False, 'target_units': 'ate', 'effect_modifiers': []}\n",
            "{'control_value': 0, 'treatment_value': 1, 'test_significance': False, 'evaluate_effect_strength': False, 'confidence_intervals': False, 'target_units': 'ate', 'effect_modifiers': []}\n",
            "{'control_value': 0, 'treatment_value': 1, 'test_significance': False, 'evaluate_effect_strength': False, 'confidence_intervals': False, 'target_units': 'ate', 'effect_modifiers': []}\n",
            "{'control_value': 0, 'treatment_value': 1, 'test_significance': False, 'evaluate_effect_strength': False, 'confidence_intervals': False, 'target_units': 'ate', 'effect_modifiers': []}\n",
            "{'control_value': 0, 'treatment_value': 1, 'test_significance': False, 'evaluate_effect_strength': False, 'confidence_intervals': False, 'target_units': 'ate', 'effect_modifiers': []}\n",
            "{'control_value': 0, 'treatment_value': 1, 'test_significance': False, 'evaluate_effect_strength': False, 'confidence_intervals': False, 'target_units': 'ate', 'effect_modifiers': []}\n",
            "{'control_value': 0, 'treatment_value': 1, 'test_significance': False, 'evaluate_effect_strength': False, 'confidence_intervals': False, 'target_units': 'ate', 'effect_modifiers': []}\n",
            "{'control_value': 0, 'treatment_value': 1, 'test_significance': False, 'evaluate_effect_strength': False, 'confidence_intervals': False, 'target_units': 'ate', 'effect_modifiers': []}\n",
            "Refute: Add a random common cause\n",
            "Estimated effect:0.3066029732686948\n",
            "New effect:0.3066194174120036\n",
            "p value:0.49\n",
            "\n"
          ]
        }
      ]
    },
    {
      "cell_type": "code",
      "source": [
        "refute_results_placebo = model.refute_estimate(identified_estimand, estimate,\n",
        "                                       method_name=\"placebo_treatment_refuter\")\n",
        "print(refute_results_placebo)"
      ],
      "metadata": {
        "colab": {
          "base_uri": "https://localhost:8080/"
        },
        "id": "5bTPjLrk212N",
        "outputId": "e743219c-0eaa-45be-f4af-eb05f70a3a18"
      },
      "execution_count": 30,
      "outputs": [
        {
          "output_type": "stream",
          "name": "stdout",
          "text": [
            "{'control_value': 0, 'treatment_value': 1, 'test_significance': False, 'evaluate_effect_strength': False, 'confidence_intervals': False, 'target_units': 'ate', 'effect_modifiers': []}\n",
            "{'control_value': 0, 'treatment_value': 1, 'test_significance': False, 'evaluate_effect_strength': False, 'confidence_intervals': False, 'target_units': 'ate', 'effect_modifiers': []}\n",
            "{'control_value': 0, 'treatment_value': 1, 'test_significance': False, 'evaluate_effect_strength': False, 'confidence_intervals': False, 'target_units': 'ate', 'effect_modifiers': []}\n",
            "{'control_value': 0, 'treatment_value': 1, 'test_significance': False, 'evaluate_effect_strength': False, 'confidence_intervals': False, 'target_units': 'ate', 'effect_modifiers': []}\n",
            "{'control_value': 0, 'treatment_value': 1, 'test_significance': False, 'evaluate_effect_strength': False, 'confidence_intervals': False, 'target_units': 'ate', 'effect_modifiers': []}\n",
            "{'control_value': 0, 'treatment_value': 1, 'test_significance': False, 'evaluate_effect_strength': False, 'confidence_intervals': False, 'target_units': 'ate', 'effect_modifiers': []}\n",
            "{'control_value': 0, 'treatment_value': 1, 'test_significance': False, 'evaluate_effect_strength': False, 'confidence_intervals': False, 'target_units': 'ate', 'effect_modifiers': []}\n",
            "{'control_value': 0, 'treatment_value': 1, 'test_significance': False, 'evaluate_effect_strength': False, 'confidence_intervals': False, 'target_units': 'ate', 'effect_modifiers': []}\n",
            "{'control_value': 0, 'treatment_value': 1, 'test_significance': False, 'evaluate_effect_strength': False, 'confidence_intervals': False, 'target_units': 'ate', 'effect_modifiers': []}\n",
            "{'control_value': 0, 'treatment_value': 1, 'test_significance': False, 'evaluate_effect_strength': False, 'confidence_intervals': False, 'target_units': 'ate', 'effect_modifiers': []}\n",
            "{'control_value': 0, 'treatment_value': 1, 'test_significance': False, 'evaluate_effect_strength': False, 'confidence_intervals': False, 'target_units': 'ate', 'effect_modifiers': []}\n",
            "{'control_value': 0, 'treatment_value': 1, 'test_significance': False, 'evaluate_effect_strength': False, 'confidence_intervals': False, 'target_units': 'ate', 'effect_modifiers': []}\n",
            "{'control_value': 0, 'treatment_value': 1, 'test_significance': False, 'evaluate_effect_strength': False, 'confidence_intervals': False, 'target_units': 'ate', 'effect_modifiers': []}\n",
            "{'control_value': 0, 'treatment_value': 1, 'test_significance': False, 'evaluate_effect_strength': False, 'confidence_intervals': False, 'target_units': 'ate', 'effect_modifiers': []}\n",
            "{'control_value': 0, 'treatment_value': 1, 'test_significance': False, 'evaluate_effect_strength': False, 'confidence_intervals': False, 'target_units': 'ate', 'effect_modifiers': []}\n",
            "{'control_value': 0, 'treatment_value': 1, 'test_significance': False, 'evaluate_effect_strength': False, 'confidence_intervals': False, 'target_units': 'ate', 'effect_modifiers': []}\n",
            "{'control_value': 0, 'treatment_value': 1, 'test_significance': False, 'evaluate_effect_strength': False, 'confidence_intervals': False, 'target_units': 'ate', 'effect_modifiers': []}\n",
            "{'control_value': 0, 'treatment_value': 1, 'test_significance': False, 'evaluate_effect_strength': False, 'confidence_intervals': False, 'target_units': 'ate', 'effect_modifiers': []}\n",
            "{'control_value': 0, 'treatment_value': 1, 'test_significance': False, 'evaluate_effect_strength': False, 'confidence_intervals': False, 'target_units': 'ate', 'effect_modifiers': []}\n",
            "{'control_value': 0, 'treatment_value': 1, 'test_significance': False, 'evaluate_effect_strength': False, 'confidence_intervals': False, 'target_units': 'ate', 'effect_modifiers': []}\n",
            "{'control_value': 0, 'treatment_value': 1, 'test_significance': False, 'evaluate_effect_strength': False, 'confidence_intervals': False, 'target_units': 'ate', 'effect_modifiers': []}\n",
            "{'control_value': 0, 'treatment_value': 1, 'test_significance': False, 'evaluate_effect_strength': False, 'confidence_intervals': False, 'target_units': 'ate', 'effect_modifiers': []}\n",
            "{'control_value': 0, 'treatment_value': 1, 'test_significance': False, 'evaluate_effect_strength': False, 'confidence_intervals': False, 'target_units': 'ate', 'effect_modifiers': []}\n",
            "{'control_value': 0, 'treatment_value': 1, 'test_significance': False, 'evaluate_effect_strength': False, 'confidence_intervals': False, 'target_units': 'ate', 'effect_modifiers': []}\n",
            "{'control_value': 0, 'treatment_value': 1, 'test_significance': False, 'evaluate_effect_strength': False, 'confidence_intervals': False, 'target_units': 'ate', 'effect_modifiers': []}\n",
            "{'control_value': 0, 'treatment_value': 1, 'test_significance': False, 'evaluate_effect_strength': False, 'confidence_intervals': False, 'target_units': 'ate', 'effect_modifiers': []}\n",
            "{'control_value': 0, 'treatment_value': 1, 'test_significance': False, 'evaluate_effect_strength': False, 'confidence_intervals': False, 'target_units': 'ate', 'effect_modifiers': []}\n",
            "{'control_value': 0, 'treatment_value': 1, 'test_significance': False, 'evaluate_effect_strength': False, 'confidence_intervals': False, 'target_units': 'ate', 'effect_modifiers': []}\n",
            "{'control_value': 0, 'treatment_value': 1, 'test_significance': False, 'evaluate_effect_strength': False, 'confidence_intervals': False, 'target_units': 'ate', 'effect_modifiers': []}\n",
            "{'control_value': 0, 'treatment_value': 1, 'test_significance': False, 'evaluate_effect_strength': False, 'confidence_intervals': False, 'target_units': 'ate', 'effect_modifiers': []}\n",
            "{'control_value': 0, 'treatment_value': 1, 'test_significance': False, 'evaluate_effect_strength': False, 'confidence_intervals': False, 'target_units': 'ate', 'effect_modifiers': []}\n",
            "{'control_value': 0, 'treatment_value': 1, 'test_significance': False, 'evaluate_effect_strength': False, 'confidence_intervals': False, 'target_units': 'ate', 'effect_modifiers': []}\n",
            "{'control_value': 0, 'treatment_value': 1, 'test_significance': False, 'evaluate_effect_strength': False, 'confidence_intervals': False, 'target_units': 'ate', 'effect_modifiers': []}\n",
            "{'control_value': 0, 'treatment_value': 1, 'test_significance': False, 'evaluate_effect_strength': False, 'confidence_intervals': False, 'target_units': 'ate', 'effect_modifiers': []}\n",
            "{'control_value': 0, 'treatment_value': 1, 'test_significance': False, 'evaluate_effect_strength': False, 'confidence_intervals': False, 'target_units': 'ate', 'effect_modifiers': []}\n",
            "{'control_value': 0, 'treatment_value': 1, 'test_significance': False, 'evaluate_effect_strength': False, 'confidence_intervals': False, 'target_units': 'ate', 'effect_modifiers': []}\n",
            "{'control_value': 0, 'treatment_value': 1, 'test_significance': False, 'evaluate_effect_strength': False, 'confidence_intervals': False, 'target_units': 'ate', 'effect_modifiers': []}\n",
            "{'control_value': 0, 'treatment_value': 1, 'test_significance': False, 'evaluate_effect_strength': False, 'confidence_intervals': False, 'target_units': 'ate', 'effect_modifiers': []}\n",
            "{'control_value': 0, 'treatment_value': 1, 'test_significance': False, 'evaluate_effect_strength': False, 'confidence_intervals': False, 'target_units': 'ate', 'effect_modifiers': []}\n",
            "{'control_value': 0, 'treatment_value': 1, 'test_significance': False, 'evaluate_effect_strength': False, 'confidence_intervals': False, 'target_units': 'ate', 'effect_modifiers': []}\n",
            "{'control_value': 0, 'treatment_value': 1, 'test_significance': False, 'evaluate_effect_strength': False, 'confidence_intervals': False, 'target_units': 'ate', 'effect_modifiers': []}\n",
            "{'control_value': 0, 'treatment_value': 1, 'test_significance': False, 'evaluate_effect_strength': False, 'confidence_intervals': False, 'target_units': 'ate', 'effect_modifiers': []}\n",
            "{'control_value': 0, 'treatment_value': 1, 'test_significance': False, 'evaluate_effect_strength': False, 'confidence_intervals': False, 'target_units': 'ate', 'effect_modifiers': []}\n",
            "{'control_value': 0, 'treatment_value': 1, 'test_significance': False, 'evaluate_effect_strength': False, 'confidence_intervals': False, 'target_units': 'ate', 'effect_modifiers': []}\n",
            "{'control_value': 0, 'treatment_value': 1, 'test_significance': False, 'evaluate_effect_strength': False, 'confidence_intervals': False, 'target_units': 'ate', 'effect_modifiers': []}\n",
            "{'control_value': 0, 'treatment_value': 1, 'test_significance': False, 'evaluate_effect_strength': False, 'confidence_intervals': False, 'target_units': 'ate', 'effect_modifiers': []}\n",
            "{'control_value': 0, 'treatment_value': 1, 'test_significance': False, 'evaluate_effect_strength': False, 'confidence_intervals': False, 'target_units': 'ate', 'effect_modifiers': []}\n",
            "{'control_value': 0, 'treatment_value': 1, 'test_significance': False, 'evaluate_effect_strength': False, 'confidence_intervals': False, 'target_units': 'ate', 'effect_modifiers': []}\n",
            "{'control_value': 0, 'treatment_value': 1, 'test_significance': False, 'evaluate_effect_strength': False, 'confidence_intervals': False, 'target_units': 'ate', 'effect_modifiers': []}\n",
            "{'control_value': 0, 'treatment_value': 1, 'test_significance': False, 'evaluate_effect_strength': False, 'confidence_intervals': False, 'target_units': 'ate', 'effect_modifiers': []}\n",
            "{'control_value': 0, 'treatment_value': 1, 'test_significance': False, 'evaluate_effect_strength': False, 'confidence_intervals': False, 'target_units': 'ate', 'effect_modifiers': []}\n",
            "{'control_value': 0, 'treatment_value': 1, 'test_significance': False, 'evaluate_effect_strength': False, 'confidence_intervals': False, 'target_units': 'ate', 'effect_modifiers': []}\n",
            "{'control_value': 0, 'treatment_value': 1, 'test_significance': False, 'evaluate_effect_strength': False, 'confidence_intervals': False, 'target_units': 'ate', 'effect_modifiers': []}\n",
            "{'control_value': 0, 'treatment_value': 1, 'test_significance': False, 'evaluate_effect_strength': False, 'confidence_intervals': False, 'target_units': 'ate', 'effect_modifiers': []}\n",
            "{'control_value': 0, 'treatment_value': 1, 'test_significance': False, 'evaluate_effect_strength': False, 'confidence_intervals': False, 'target_units': 'ate', 'effect_modifiers': []}\n",
            "{'control_value': 0, 'treatment_value': 1, 'test_significance': False, 'evaluate_effect_strength': False, 'confidence_intervals': False, 'target_units': 'ate', 'effect_modifiers': []}\n",
            "{'control_value': 0, 'treatment_value': 1, 'test_significance': False, 'evaluate_effect_strength': False, 'confidence_intervals': False, 'target_units': 'ate', 'effect_modifiers': []}\n",
            "{'control_value': 0, 'treatment_value': 1, 'test_significance': False, 'evaluate_effect_strength': False, 'confidence_intervals': False, 'target_units': 'ate', 'effect_modifiers': []}\n",
            "{'control_value': 0, 'treatment_value': 1, 'test_significance': False, 'evaluate_effect_strength': False, 'confidence_intervals': False, 'target_units': 'ate', 'effect_modifiers': []}\n",
            "{'control_value': 0, 'treatment_value': 1, 'test_significance': False, 'evaluate_effect_strength': False, 'confidence_intervals': False, 'target_units': 'ate', 'effect_modifiers': []}\n",
            "{'control_value': 0, 'treatment_value': 1, 'test_significance': False, 'evaluate_effect_strength': False, 'confidence_intervals': False, 'target_units': 'ate', 'effect_modifiers': []}\n",
            "{'control_value': 0, 'treatment_value': 1, 'test_significance': False, 'evaluate_effect_strength': False, 'confidence_intervals': False, 'target_units': 'ate', 'effect_modifiers': []}\n",
            "{'control_value': 0, 'treatment_value': 1, 'test_significance': False, 'evaluate_effect_strength': False, 'confidence_intervals': False, 'target_units': 'ate', 'effect_modifiers': []}\n",
            "{'control_value': 0, 'treatment_value': 1, 'test_significance': False, 'evaluate_effect_strength': False, 'confidence_intervals': False, 'target_units': 'ate', 'effect_modifiers': []}\n",
            "{'control_value': 0, 'treatment_value': 1, 'test_significance': False, 'evaluate_effect_strength': False, 'confidence_intervals': False, 'target_units': 'ate', 'effect_modifiers': []}\n",
            "{'control_value': 0, 'treatment_value': 1, 'test_significance': False, 'evaluate_effect_strength': False, 'confidence_intervals': False, 'target_units': 'ate', 'effect_modifiers': []}\n",
            "{'control_value': 0, 'treatment_value': 1, 'test_significance': False, 'evaluate_effect_strength': False, 'confidence_intervals': False, 'target_units': 'ate', 'effect_modifiers': []}\n",
            "{'control_value': 0, 'treatment_value': 1, 'test_significance': False, 'evaluate_effect_strength': False, 'confidence_intervals': False, 'target_units': 'ate', 'effect_modifiers': []}\n",
            "{'control_value': 0, 'treatment_value': 1, 'test_significance': False, 'evaluate_effect_strength': False, 'confidence_intervals': False, 'target_units': 'ate', 'effect_modifiers': []}\n",
            "{'control_value': 0, 'treatment_value': 1, 'test_significance': False, 'evaluate_effect_strength': False, 'confidence_intervals': False, 'target_units': 'ate', 'effect_modifiers': []}\n",
            "{'control_value': 0, 'treatment_value': 1, 'test_significance': False, 'evaluate_effect_strength': False, 'confidence_intervals': False, 'target_units': 'ate', 'effect_modifiers': []}\n",
            "{'control_value': 0, 'treatment_value': 1, 'test_significance': False, 'evaluate_effect_strength': False, 'confidence_intervals': False, 'target_units': 'ate', 'effect_modifiers': []}\n",
            "{'control_value': 0, 'treatment_value': 1, 'test_significance': False, 'evaluate_effect_strength': False, 'confidence_intervals': False, 'target_units': 'ate', 'effect_modifiers': []}\n",
            "{'control_value': 0, 'treatment_value': 1, 'test_significance': False, 'evaluate_effect_strength': False, 'confidence_intervals': False, 'target_units': 'ate', 'effect_modifiers': []}\n",
            "{'control_value': 0, 'treatment_value': 1, 'test_significance': False, 'evaluate_effect_strength': False, 'confidence_intervals': False, 'target_units': 'ate', 'effect_modifiers': []}\n",
            "{'control_value': 0, 'treatment_value': 1, 'test_significance': False, 'evaluate_effect_strength': False, 'confidence_intervals': False, 'target_units': 'ate', 'effect_modifiers': []}\n",
            "{'control_value': 0, 'treatment_value': 1, 'test_significance': False, 'evaluate_effect_strength': False, 'confidence_intervals': False, 'target_units': 'ate', 'effect_modifiers': []}\n",
            "{'control_value': 0, 'treatment_value': 1, 'test_significance': False, 'evaluate_effect_strength': False, 'confidence_intervals': False, 'target_units': 'ate', 'effect_modifiers': []}\n",
            "{'control_value': 0, 'treatment_value': 1, 'test_significance': False, 'evaluate_effect_strength': False, 'confidence_intervals': False, 'target_units': 'ate', 'effect_modifiers': []}\n",
            "{'control_value': 0, 'treatment_value': 1, 'test_significance': False, 'evaluate_effect_strength': False, 'confidence_intervals': False, 'target_units': 'ate', 'effect_modifiers': []}\n",
            "{'control_value': 0, 'treatment_value': 1, 'test_significance': False, 'evaluate_effect_strength': False, 'confidence_intervals': False, 'target_units': 'ate', 'effect_modifiers': []}\n",
            "{'control_value': 0, 'treatment_value': 1, 'test_significance': False, 'evaluate_effect_strength': False, 'confidence_intervals': False, 'target_units': 'ate', 'effect_modifiers': []}\n",
            "{'control_value': 0, 'treatment_value': 1, 'test_significance': False, 'evaluate_effect_strength': False, 'confidence_intervals': False, 'target_units': 'ate', 'effect_modifiers': []}\n",
            "{'control_value': 0, 'treatment_value': 1, 'test_significance': False, 'evaluate_effect_strength': False, 'confidence_intervals': False, 'target_units': 'ate', 'effect_modifiers': []}\n",
            "{'control_value': 0, 'treatment_value': 1, 'test_significance': False, 'evaluate_effect_strength': False, 'confidence_intervals': False, 'target_units': 'ate', 'effect_modifiers': []}\n",
            "{'control_value': 0, 'treatment_value': 1, 'test_significance': False, 'evaluate_effect_strength': False, 'confidence_intervals': False, 'target_units': 'ate', 'effect_modifiers': []}\n",
            "{'control_value': 0, 'treatment_value': 1, 'test_significance': False, 'evaluate_effect_strength': False, 'confidence_intervals': False, 'target_units': 'ate', 'effect_modifiers': []}\n",
            "{'control_value': 0, 'treatment_value': 1, 'test_significance': False, 'evaluate_effect_strength': False, 'confidence_intervals': False, 'target_units': 'ate', 'effect_modifiers': []}\n",
            "{'control_value': 0, 'treatment_value': 1, 'test_significance': False, 'evaluate_effect_strength': False, 'confidence_intervals': False, 'target_units': 'ate', 'effect_modifiers': []}\n",
            "{'control_value': 0, 'treatment_value': 1, 'test_significance': False, 'evaluate_effect_strength': False, 'confidence_intervals': False, 'target_units': 'ate', 'effect_modifiers': []}\n",
            "{'control_value': 0, 'treatment_value': 1, 'test_significance': False, 'evaluate_effect_strength': False, 'confidence_intervals': False, 'target_units': 'ate', 'effect_modifiers': []}\n",
            "{'control_value': 0, 'treatment_value': 1, 'test_significance': False, 'evaluate_effect_strength': False, 'confidence_intervals': False, 'target_units': 'ate', 'effect_modifiers': []}\n",
            "{'control_value': 0, 'treatment_value': 1, 'test_significance': False, 'evaluate_effect_strength': False, 'confidence_intervals': False, 'target_units': 'ate', 'effect_modifiers': []}\n",
            "{'control_value': 0, 'treatment_value': 1, 'test_significance': False, 'evaluate_effect_strength': False, 'confidence_intervals': False, 'target_units': 'ate', 'effect_modifiers': []}\n",
            "{'control_value': 0, 'treatment_value': 1, 'test_significance': False, 'evaluate_effect_strength': False, 'confidence_intervals': False, 'target_units': 'ate', 'effect_modifiers': []}\n",
            "{'control_value': 0, 'treatment_value': 1, 'test_significance': False, 'evaluate_effect_strength': False, 'confidence_intervals': False, 'target_units': 'ate', 'effect_modifiers': []}\n",
            "{'control_value': 0, 'treatment_value': 1, 'test_significance': False, 'evaluate_effect_strength': False, 'confidence_intervals': False, 'target_units': 'ate', 'effect_modifiers': []}\n",
            "{'control_value': 0, 'treatment_value': 1, 'test_significance': False, 'evaluate_effect_strength': False, 'confidence_intervals': False, 'target_units': 'ate', 'effect_modifiers': []}\n",
            "{'control_value': 0, 'treatment_value': 1, 'test_significance': False, 'evaluate_effect_strength': False, 'confidence_intervals': False, 'target_units': 'ate', 'effect_modifiers': []}\n",
            "{'control_value': 0, 'treatment_value': 1, 'test_significance': False, 'evaluate_effect_strength': False, 'confidence_intervals': False, 'target_units': 'ate', 'effect_modifiers': []}\n",
            "Refute: Use a Placebo Treatment\n",
            "Estimated effect:0.3066029732686948\n",
            "New effect:1.509903313490213e-14\n",
            "p value:0.0\n",
            "\n"
          ]
        }
      ]
    },
    {
      "cell_type": "markdown",
      "source": [
        "We see similar results to that of red wine quality in white wine where, the new effect on treatment is low and close to zero. We were able to successfully check the robustness of an estimate against unverified assumptions. "
      ],
      "metadata": {
        "id": "3Hiscz4jAVTm"
      }
    }
  ]
}